{
  "nbformat": 4,
  "nbformat_minor": 0,
  "metadata": {
    "colab": {
      "name": "PC-2.2.ipynb",
      "provenance": [],
      "collapsed_sections": []
    },
    "kernelspec": {
      "name": "python3",
      "display_name": "Python 3"
    }
  },
  "cells": [
    {
      "cell_type": "markdown",
      "metadata": {
        "id": "Kj5AAf1twTjU"
      },
      "source": [
        "<H1>Lab 2.2</H1>\n",
        "<ul>\n",
        "<li>literals: Boolean, integer, floating-point numbers, scientific notation, \n",
        "strings</li>\n",
        "</ul>"
      ]
    },
    {
      "cell_type": "markdown",
      "metadata": {
        "id": "lakNKXhKwVSi"
      },
      "source": [
        "<H2>Basic CoLab Usage:</H2>\n",
        "<ul>\n",
        "<li>Each little block of code or text will be referred to as a cell</li>\n",
        "<li>Use shift+enter to run a cell</li>\n",
        "<li>Use the buttons at the top to add a cell</li>\n",
        "</ul>"
      ]
    },
    {
      "cell_type": "markdown",
      "metadata": {
        "id": "KxQOcAIewVfJ"
      },
      "source": [
        "<h2 style=\"color: #000000;background-color: #fffffe;font-family: 'monospace', Consolas, 'Courier New', monospace;font-weight: normal;font-size: 14px;line-height: 19px;white-space: pre;\"><span style=\"color: #000000;\">literals: Boolean, integer, floating-point numbers, scientific notation, strings</span></h2>\n",
        "<h3><span style=\"color: #000000;\">Definitions</span></h3>\n",
        "<ul>\n",
        "    <li>\n",
        "        <div style=\"color: #000000;background-color: #fffffe;font-family: 'monospace', Consolas, 'Courier New', monospace;font-weight: normal;font-size: 14px;line-height: 19px;white-space: pre;\"><span style=\"color: #000000;\">Literals: A literal is data whose values are determined by the literal itself</span></div>\n",
        "        <ul>\n",
        "            <li>\n",
        "                <div style=\"color: #000000;background-color: #fffffe;font-family: 'monospace', Consolas, 'Courier New', monospace;font-weight: normal;font-size: 14px;line-height: 19px;white-space: pre;\"><a href=\"https://edube.org/learn/pe-1/python-literals-30\" rel=\"noopener noreferrer\" target=\"_blank\"><span style=\"color: #000000;\">https://edube.org/learn/pe-1/python-literals-30</span></a></div>\n",
        "                <ul>\n",
        "                    <li>\n",
        "                        <div style=\"color: #000000;background-color: #fffffe;font-family: 'monospace', Consolas, 'Courier New', monospace;font-weight: normal;font-size: 14px;line-height: 19px;white-space: pre;\"><span style=\"color: #000000;\">integer: int</span></div>\n",
        "                        <ul>\n",
        "                            <li>\n",
        "                                <div style=\"color: #000000;background-color: #fffffe;font-family: 'monospace', Consolas, 'Courier New', monospace;font-weight: normal;font-size: 14px;line-height: 19px;white-space: pre;\"><span style=\"color: #000000;\"><a href=\"https://edube.org/learn/pe-1/python-literals-32\" rel=\"noopener noreferrer\" target=\"_blank\">https://edube.org/learn/pe-1/python-literals-32</a></span></div>\n",
        "                            </li>\n",
        "                        </ul>\n",
        "                    </li>\n",
        "                    <li>\n",
        "                        <div style=\"color: #000000;background-color: #fffffe;font-family: 'monospace', Consolas, 'Courier New', monospace;font-weight: normal;font-size: 14px;line-height: 19px;white-space: pre;\"><span style=\"color: #000000;\">floating point number (number with decimal): float</span></div>\n",
        "                        <ul>\n",
        "                            <li>\n",
        "                                <div style=\"color: #000000;background-color: #fffffe;font-family: 'monospace', Consolas, 'Courier New', monospace;font-weight: normal;font-size: 14px;line-height: 19px;white-space: pre;\"><span style=\"color: #000000;\"><a href=\"https://edube.org/learn/pe-1/python-literals-34\" rel=\"noopener noreferrer\" target=\"_blank\">https://edube.org/learn/pe-1/python-literals-34</a></span></div>\n",
        "                            </li>\n",
        "                        </ul>\n",
        "                    </li>\n",
        "                    <li>\n",
        "                        <div style=\"color: #000000;background-color: #fffffe;font-family: 'monospace', Consolas, 'Courier New', monospace;font-weight: normal;font-size: 14px;line-height: 19px;white-space: pre;\"><span style=\"color: #000000;\">string (text): str</span></div>\n",
        "                        <ul>\n",
        "                            <li>\n",
        "                                <div style=\"color: #000000;background-color: #fffffe;font-family: 'monospace', Consolas, 'Courier New', monospace;font-weight: normal;font-size: 14px;line-height: 19px;white-space: pre;\"><span style=\"color: #000000;\"><a href=\"https://edube.org/learn/pe-1/python-literals-37\" rel=\"noopener noreferrer\" target=\"_blank\">https://edube.org/learn/pe-1/python-literals-37</a></span></div>\n",
        "                            </li>\n",
        "                        </ul>\n",
        "                    </li>\n",
        "                    <li>\n",
        "                        <div style=\"color: #000000;background-color: #fffffe;font-family: 'monospace', Consolas, 'Courier New', monospace;font-weight: normal;font-size: 14px;line-height: 19px;white-space: pre;\"><span style=\"color: #000000;\">boolean (true/false): bool</span></div>\n",
        "                        <ul>\n",
        "                            <li>\n",
        "                                <div style=\"color: #000000;background-color: #fffffe;font-family: 'monospace', Consolas, 'Courier New', monospace;font-weight: normal;font-size: 14px;line-height: 19px;white-space: pre;\"><span style=\"color: #000000;\"><a href=\"https://edube.org/learn/pe-1/python-literals-39\" rel=\"noopener noreferrer\" target=\"_blank\">https://edube.org/learn/pe-1/python-literals-39</a></span></div>\n",
        "                            </li>\n",
        "                        </ul>\n",
        "                    </li>\n",
        "                </ul>\n",
        "            </li>\n",
        "        </ul>\n",
        "    </li>\n",
        "</ul>"
      ]
    },
    {
      "cell_type": "code",
      "metadata": {
        "id": "kkQezZ2bwWHM"
      },
      "source": [
        ""
      ],
      "execution_count": null,
      "outputs": []
    }
  ]
}