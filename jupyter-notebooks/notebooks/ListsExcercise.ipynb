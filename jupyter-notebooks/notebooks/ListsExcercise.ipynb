{
 "cells": [
  {
   "cell_type": "code",
   "execution_count": 16,
   "id": "2d5f5453",
   "metadata": {},
   "outputs": [
    {
     "name": "stdout",
     "output_type": "stream",
     "text": [
      "7\n"
     ]
    }
   ],
   "source": [
    "# find the length of this list\n",
    "the_list = [2,3,4,2,3,4,5]\n"
   ]
  },
  {
   "cell_type": "code",
   "execution_count": 2,
   "id": "46de0c80",
   "metadata": {},
   "outputs": [
    {
     "name": "stdout",
     "output_type": "stream",
     "text": [
      "23\n"
     ]
    }
   ],
   "source": [
    "# Write a Python program to sum all the items in a list (using the sum function.\n",
    "the_list = [2,3,4,2,3,4,5]\n"
   ]
  },
  {
   "cell_type": "code",
   "execution_count": 3,
   "id": "a0d6a756",
   "metadata": {},
   "outputs": [
    {
     "name": "stdout",
     "output_type": "stream",
     "text": [
      "23\n"
     ]
    }
   ],
   "source": [
    "# Write a Python program to sum all the items in a list (NOT using the sum function).\n",
    "the_list = [2,3,4,2,3,4,5]\n"
   ]
  },
  {
   "cell_type": "code",
   "execution_count": 6,
   "id": "d9588e97",
   "metadata": {},
   "outputs": [
    {
     "name": "stdout",
     "output_type": "stream",
     "text": [
      "2880\n"
     ]
    }
   ],
   "source": [
    "# Write a Python program to multiple all the items in a list.\n",
    "the_list = [2,3,4,2,3,4,5]\n"
   ]
  },
  {
   "cell_type": "code",
   "execution_count": 8,
   "id": "e9eb8729",
   "metadata": {},
   "outputs": [
    {
     "name": "stdout",
     "output_type": "stream",
     "text": [
      "2880\n"
     ]
    }
   ],
   "source": [
    "# Write a Python program to multiple all the items in a list (using the prod function from the math package)\n",
    "import math\n",
    "\n",
    "the_list = [2,3,4,2,3,4,5]\n"
   ]
  },
  {
   "cell_type": "code",
   "execution_count": 10,
   "id": "98c619cc",
   "metadata": {},
   "outputs": [
    {
     "name": "stdout",
     "output_type": "stream",
     "text": [
      "[2, 3, 4, 2, 3, 4, 5, 14]\n"
     ]
    }
   ],
   "source": [
    "# Append the number 14 to the end of a list (you can modify the existing list for this one)\n",
    "the_list = [2,3,4,2,3,4,5]\n",
    "\n"
   ]
  },
  {
   "cell_type": "code",
   "execution_count": 11,
   "id": "48e4e353",
   "metadata": {},
   "outputs": [
    {
     "name": "stdout",
     "output_type": "stream",
     "text": [
      "[2, 3, 4, 2, 3, 4, 5, 14]\n"
     ]
    }
   ],
   "source": [
    "# Append the number 14 to the end of a list (copy the list first)\n",
    "the_list = [2,3,4,2,3,4,5]\n"
   ]
  },
  {
   "cell_type": "code",
   "execution_count": 13,
   "id": "a8109bdf",
   "metadata": {},
   "outputs": [
    {
     "name": "stdout",
     "output_type": "stream",
     "text": [
      "1\n"
     ]
    }
   ],
   "source": [
    "# find the index of the value 'e' in this list\n",
    "the_list = ['a', 'e', 'i', 'o', 'u']\n"
   ]
  },
  {
   "cell_type": "code",
   "execution_count": 15,
   "id": "ae3aed1b",
   "metadata": {},
   "outputs": [
    {
     "name": "stdout",
     "output_type": "stream",
     "text": [
      "['a', 'e', 'i', 'o', 'u']\n"
     ]
    }
   ],
   "source": [
    "# insert 'e' into the list in the right spot ... a,e,i,o,u (copy the list first)\n",
    "the_list = ['a', 'i', 'o', 'u']\n"
   ]
  },
  {
   "cell_type": "code",
   "execution_count": 17,
   "id": "8d6d6059",
   "metadata": {},
   "outputs": [
    {
     "name": "stdout",
     "output_type": "stream",
     "text": [
      "['a', 'i', 'o']\n"
     ]
    }
   ],
   "source": [
    "# remove the last item from thist list (copy the list first)\n",
    "\n",
    "the_list = ['a', 'i', 'o', 'u']\n"
   ]
  },
  {
   "cell_type": "code",
   "execution_count": 18,
   "id": "eb0d3e69",
   "metadata": {},
   "outputs": [
    {
     "name": "stdout",
     "output_type": "stream",
     "text": [
      "['a', 'i', 'o']\n"
     ]
    }
   ],
   "source": [
    "# pop the last item from thist list (copy the list first)\n",
    "\n",
    "the_list = ['a', 'i', 'o', 'u']\n",
    "\n"
   ]
  },
  {
   "cell_type": "code",
   "execution_count": 19,
   "id": "28f30c9b",
   "metadata": {},
   "outputs": [
    {
     "name": "stdout",
     "output_type": "stream",
     "text": [
      "[2, 2, 3, 3, 4, 4, 5]\n"
     ]
    }
   ],
   "source": [
    "# sort this list in ascending order (copy it first)\n",
    "\n",
    "the_list = [2,3,4,2,3,4,5]\n"
   ]
  },
  {
   "cell_type": "code",
   "execution_count": 20,
   "id": "ab62a85c",
   "metadata": {},
   "outputs": [
    {
     "name": "stdout",
     "output_type": "stream",
     "text": [
      "['make', 'soccer']\n"
     ]
    }
   ],
   "source": [
    "# return a list of words that are longer than 3 letters\n",
    "the_list = ['you', 'make', 'soccer', 'one', 'do']\n",
    "\n"
   ]
  },
  {
   "cell_type": "code",
   "execution_count": 21,
   "id": "349c3158",
   "metadata": {},
   "outputs": [
    {
     "name": "stdout",
     "output_type": "stream",
     "text": [
      "['make', 'soccer', 'while', 'your', 'some', 'fine']\n"
     ]
    }
   ],
   "source": [
    "# return a list of words that are longer than 3 letters\n",
    "the_list = [\n",
    "    ['you', 'make', 'soccer', 'one', 'do'],\n",
    "    ['can', 'while', 'your', 'I', 'say'],\n",
    "    ['why', 'he', 'you', 'some', 'fine']\n",
    "]\n"
   ]
  },
  {
   "cell_type": "code",
   "execution_count": null,
   "id": "f2a26c1e",
   "metadata": {},
   "outputs": [],
   "source": []
  }
 ],
 "metadata": {
  "kernelspec": {
   "display_name": "Python 3",
   "language": "python",
   "name": "python3"
  },
  "language_info": {
   "codemirror_mode": {
    "name": "ipython",
    "version": 3
   },
   "file_extension": ".py",
   "mimetype": "text/x-python",
   "name": "python",
   "nbconvert_exporter": "python",
   "pygments_lexer": "ipython3",
   "version": "3.8.2"
  }
 },
 "nbformat": 4,
 "nbformat_minor": 5
}
