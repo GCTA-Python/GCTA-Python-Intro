{
 "cells": [
  {
   "cell_type": "markdown",
   "id": "32dee745",
   "metadata": {},
   "source": [
    "# Default Arguments\n",
    "\n",
    "Python functions can be defined to have default arguments for any parameter.\n",
    "\n",
    "We might define some function (my_function) which takes in two arguments (a and b):\n",
    "```\n",
    "def my_function(a, b):\n",
    "    return a+b\n",
    "```\n",
    "Based on the function definition above, both arguments (a and b) are required to be specified when the function is called.\n",
    "\n",
    "Alternatively, we can define some function (my_function) which takes in two arguments (a and b) with one (b) being optional by specifying a default value for it:\n",
    "```\n",
    "def my_function(a, b=0):\n",
    "    return a+b\n",
    "```\n",
    "Based on this function definition, only one argument (a) is required to be specified when the function is called. ***If argument b is not specified when calling the function, it will take on the value 0***. The user can override the default value by specifying their own value for argument b."
   ]
  },
  {
   "cell_type": "code",
   "execution_count": null,
   "id": "2cc363bf",
   "metadata": {},
   "outputs": [],
   "source": [
    "# here is an example of a function \n",
    "# which has a default value for one of its parameters\n",
    "\n",
    "def my_function(a, b=2):\n",
    "    print(a)\n",
    "    print(b)"
   ]
  },
  {
   "cell_type": "code",
   "execution_count": null,
   "id": "6b48688c",
   "metadata": {},
   "outputs": [],
   "source": [
    "# if I call the function specified above without without specifying b, \n",
    "# b will default to 0\n",
    "\n",
    "my_function(1)"
   ]
  },
  {
   "cell_type": "code",
   "execution_count": null,
   "id": "e56d279a",
   "metadata": {},
   "outputs": [],
   "source": [
    "# we can override the value for b\n",
    "\n",
    "my_function(1, 5)"
   ]
  },
  {
   "cell_type": "code",
   "execution_count": null,
   "id": "a7dfa569",
   "metadata": {},
   "outputs": [],
   "source": [
    "# here is an example of a function\n",
    "# which has a default value for all of its parameters\n",
    "\n",
    "def my_function(a=1, b=2):\n",
    "    print(a)\n",
    "    print(b)"
   ]
  },
  {
   "cell_type": "code",
   "execution_count": null,
   "id": "05cfe279",
   "metadata": {},
   "outputs": [],
   "source": [
    "# if I call the function without specifying any arguments,\n",
    "# they will both take on their default values\n",
    "\n",
    "my_function()"
   ]
  },
  {
   "cell_type": "code",
   "execution_count": null,
   "id": "d0f4d472",
   "metadata": {},
   "outputs": [],
   "source": [
    "# I can override the value for a\n",
    "\n",
    "my_function(5)"
   ]
  },
  {
   "cell_type": "code",
   "execution_count": null,
   "id": "03770746",
   "metadata": {},
   "outputs": [],
   "source": [
    "# I can override the value for a and b\n",
    "\n",
    "my_function(13, 17)"
   ]
  },
  {
   "cell_type": "markdown",
   "id": "df2b85ac",
   "metadata": {},
   "source": [
    "# Positional Arguments and Keyword Arguments\n",
    "\n",
    "So far, we have mostly been working with positional arguments.\n",
    "\n",
    "Whether an argument is \"positional\" or \"keyword\" is dictated by the function call (not the function definition).\n",
    "\n",
    "For instance, lets say I have some function (my_function) with parameters a and b:\n",
    "```\n",
    "def my_function(a, b):\n",
    "    return a+b\n",
    "```\n",
    "\n",
    "I can specify the values I want to pass in for a and b based on their ***POSITION***:\n",
    "```\n",
    "c = my_function(1, 2)\n",
    "```\n",
    "Based on the position in which I passed in the arguments, we know parameter ***a*** will take the value ***1*** and parameter ***b*** will take the value ***2***\n",
    "\n",
    "Alternatively, I can specify the values I want to pass in for a and b based on ***KEYWORD***:\n",
    "```\n",
    "c = my_function(a=1, b=2)\n",
    "```\n",
    "Based on the keywords I provided to my arguments, we know parameter ***a*** will take the value ***1*** and parameter ***b*** will take the value ***2***\n",
    "\n",
    "The ***ORDER*** of arguments ***DOES MATTER*** for ***positional arguments*** (which parameter they are associated with is inferred by the order/position in which they were passed)\n",
    "\n",
    "The ***ORDER*** of arguments ***DOES NOT MATTER*** for ***keyword arguments*** (which parameter they are associated with is dictated by the keyword preceding the value)\n",
    "\n"
   ]
  },
  {
   "cell_type": "code",
   "execution_count": null,
   "id": "72fea165",
   "metadata": {},
   "outputs": [],
   "source": [
    "# lets define a function to demonstrate this\n",
    "def my_function(a, b):\n",
    "    print(a)\n",
    "    print(b)"
   ]
  },
  {
   "cell_type": "code",
   "execution_count": null,
   "id": "339d98f0",
   "metadata": {},
   "outputs": [],
   "source": [
    "# lets pass 1 for a and 2 for b based on position\n",
    "\n",
    "my_function(1, 2)"
   ]
  },
  {
   "cell_type": "code",
   "execution_count": null,
   "id": "0424f7d9",
   "metadata": {},
   "outputs": [],
   "source": [
    "# lets pass 1 for a and 2 for b based on keyword\n",
    "\n",
    "my_function(a=1, b=2)"
   ]
  },
  {
   "cell_type": "code",
   "execution_count": null,
   "id": "c12bcdfe",
   "metadata": {},
   "outputs": [],
   "source": [
    "# lets demonstrate that order does not matter for keyword arguments\n",
    "\n",
    "my_function(b=2, a=1)"
   ]
  },
  {
   "cell_type": "markdown",
   "id": "13fb9089",
   "metadata": {},
   "source": [
    "# keyword arguments CANNOT come after positional arguments"
   ]
  },
  {
   "cell_type": "code",
   "execution_count": null,
   "id": "ac25d63c",
   "metadata": {},
   "outputs": [],
   "source": [
    "def my_function(a, b):\n",
    "    print(a)\n",
    "    print(b)"
   ]
  },
  {
   "cell_type": "code",
   "execution_count": null,
   "id": "14cffdae",
   "metadata": {},
   "outputs": [],
   "source": [
    "my_function(b=1, 2)"
   ]
  },
  {
   "cell_type": "code",
   "execution_count": null,
   "id": "831f4aba",
   "metadata": {},
   "outputs": [],
   "source": []
  }
 ],
 "metadata": {
  "kernelspec": {
   "display_name": "Python 3 (ipykernel)",
   "language": "python",
   "name": "python3"
  },
  "language_info": {
   "codemirror_mode": {
    "name": "ipython",
    "version": 3
   },
   "file_extension": ".py",
   "mimetype": "text/x-python",
   "name": "python",
   "nbconvert_exporter": "python",
   "pygments_lexer": "ipython3",
   "version": "3.8.9"
  }
 },
 "nbformat": 4,
 "nbformat_minor": 5
}
