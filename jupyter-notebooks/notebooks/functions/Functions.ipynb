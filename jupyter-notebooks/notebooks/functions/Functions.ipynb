{
 "cells": [
  {
   "cell_type": "markdown",
   "id": "658589d7",
   "metadata": {},
   "source": [
    "# Functions\n",
    "\n",
    "* A function is a block of code that only runs when it is **called**\n",
    "    * A function is *called* using the name of the function followed by parenthesis **()**\n",
    "    * A function is defined using the **def** keyword\n",
    "<br>\n",
    "<br>\n",
    "* A function can take in parameters\n",
    "    * parameters can have default values\n",
    "* A function can return something as a result\n",
    "<br>\n",
    "<br>\n",
    "<br>\n",
    "* **def** function_name**\\(**param1, param2, ...**\\):**"
   ]
  },
  {
   "cell_type": "code",
   "execution_count": 29,
   "id": "e014c804",
   "metadata": {},
   "outputs": [],
   "source": [
    "def this_is_a_function_that_takes_in_no_parameters():\n",
    "    print(\"Hi, this function doesn't return anything.\")"
   ]
  },
  {
   "cell_type": "code",
   "execution_count": 30,
   "id": "dcccf96f",
   "metadata": {},
   "outputs": [
    {
     "name": "stdout",
     "output_type": "stream",
     "text": [
      "Hi, this function doesn't return anything.\n"
     ]
    }
   ],
   "source": [
    "this_is_a_function_that_takes_in_no_parameters()"
   ]
  },
  {
   "cell_type": "code",
   "execution_count": 31,
   "id": "6b774da3",
   "metadata": {},
   "outputs": [],
   "source": [
    "def this_is_a_function_that_takes_in_one_parameter(text):\n",
    "    print(f\"Hi, this function returns the same text that you passed in as a parameter: {text}\")\n",
    "    return text"
   ]
  },
  {
   "cell_type": "code",
   "execution_count": 33,
   "id": "4bd95a34",
   "metadata": {},
   "outputs": [
    {
     "name": "stdout",
     "output_type": "stream",
     "text": [
      "Hi, this function returns the same text that you passed in as a parameter: what a day\n"
     ]
    }
   ],
   "source": [
    "this_is_a_function_that_takes_in_one_parameter(\"what a day\")"
   ]
  },
  {
   "cell_type": "code",
   "execution_count": 39,
   "id": "34ee1d7e",
   "metadata": {},
   "outputs": [
    {
     "name": "stdout",
     "output_type": "stream",
     "text": [
      "The answer is: 36\n"
     ]
    }
   ],
   "source": [
    "# write a function that takes in a number and squares it and returns the answer\n",
    "\n",
    "def num_sqd(num):\n",
    "    return num**2\n",
    "\n",
    "num_sqd(6)\n",
    "\n",
    "six_sqd = num_sqd(6)\n",
    "print(f\"The answer is: {six_sqd}\")"
   ]
  },
  {
   "cell_type": "code",
   "execution_count": 50,
   "id": "4fe6ba5c",
   "metadata": {},
   "outputs": [
    {
     "data": {
      "text/plain": [
       "8"
      ]
     },
     "execution_count": 50,
     "metadata": {},
     "output_type": "execute_result"
    }
   ],
   "source": [
    "# write a function that \n",
    "# takes in a number and \n",
    "# doubles it and \n",
    "# returns the answer\n",
    "\n",
    "def number_doubled(num):\n",
    "    return num*2\n",
    "\n",
    "number_doubled(4)"
   ]
  },
  {
   "cell_type": "code",
   "execution_count": 51,
   "id": "ae72f431",
   "metadata": {},
   "outputs": [
    {
     "data": {
      "text/plain": [
       "300"
      ]
     },
     "execution_count": 51,
     "metadata": {},
     "output_type": "execute_result"
    }
   ],
   "source": [
    "# write a function \n",
    "# that sums two values and \n",
    "# returns the answer\n",
    "\n",
    "def my_function(num1, num2):\n",
    "    return num1 + num2\n",
    "\n",
    "my_function(100, 200)\n",
    "    "
   ]
  },
  {
   "cell_type": "code",
   "execution_count": 60,
   "id": "65445a8e",
   "metadata": {},
   "outputs": [
    {
     "data": {
      "text/plain": [
       "(161, 13)"
      ]
     },
     "execution_count": 60,
     "metadata": {},
     "output_type": "execute_result"
    }
   ],
   "source": [
    "# write a function \n",
    "# that both sums and subtracts two values \n",
    "# and returns both results\n",
    "\n",
    "def my_function(num1, num2):\n",
    "    num_sum = num1 + num2\n",
    "    num_sub = num1 - num2\n",
    "    return num_sum, num_sub\n",
    "\n",
    "my_function(87, 74)"
   ]
  },
  {
   "cell_type": "code",
   "execution_count": 63,
   "id": "19ab6040",
   "metadata": {},
   "outputs": [
    {
     "data": {
      "text/plain": [
       "3"
      ]
     },
     "execution_count": 63,
     "metadata": {},
     "output_type": "execute_result"
    }
   ],
   "source": [
    "# write a function that returns the max of three values\n",
    "\n",
    "def my_function(num1, num2, num3):\n",
    "    return max(num1, num2, num3)\n",
    "\n",
    "my_function(1,2,3)"
   ]
  },
  {
   "cell_type": "code",
   "execution_count": 67,
   "id": "2e146574",
   "metadata": {},
   "outputs": [
    {
     "data": {
      "text/plain": [
       "6"
      ]
     },
     "execution_count": 67,
     "metadata": {},
     "output_type": "execute_result"
    }
   ],
   "source": [
    "# write a function that returns the sum of two numbers\n",
    "\n",
    "def a_function(num1, num2):\n",
    "    return sum([num1, num2])\n",
    "\n",
    "# def a_function(num1, num2):\n",
    "#     my_list = [num1, num2]\n",
    "#     return sum(my_list)\n",
    "\n",
    "a_function(2, 4)"
   ]
  },
  {
   "cell_type": "code",
   "execution_count": 66,
   "id": "67dd1fc4",
   "metadata": {},
   "outputs": [
    {
     "name": "stdout",
     "output_type": "stream",
     "text": [
      "Help on built-in function max in module builtins:\n",
      "\n",
      "max(...)\n",
      "    max(iterable, *[, default=obj, key=func]) -> value\n",
      "    max(arg1, arg2, *args, *[, key=func]) -> value\n",
      "    \n",
      "    With a single iterable argument, return its biggest item. The\n",
      "    default keyword-only argument specifies an object to return if\n",
      "    the provided iterable is empty.\n",
      "    With two or more arguments, return the largest argument.\n",
      "\n"
     ]
    }
   ],
   "source": [
    "help(max)"
   ]
  },
  {
   "cell_type": "code",
   "execution_count": 65,
   "id": "44f3cc68",
   "metadata": {},
   "outputs": [
    {
     "name": "stdout",
     "output_type": "stream",
     "text": [
      "Help on built-in function sum in module builtins:\n",
      "\n",
      "sum(iterable, /, start=0)\n",
      "    Return the sum of a 'start' value (default: 0) plus an iterable of numbers\n",
      "    \n",
      "    When the iterable is empty, return the start value.\n",
      "    This function is intended specifically for use with numeric values and may\n",
      "    reject non-numeric types.\n",
      "\n"
     ]
    }
   ],
   "source": [
    "help(sum)"
   ]
  },
  {
   "cell_type": "code",
   "execution_count": 68,
   "id": "f4c155e6",
   "metadata": {},
   "outputs": [],
   "source": [
    "# write a function that\n",
    "# takes in a number and (we are going to have 1 parameter)\n",
    "# and returns whether or not that number is divisible by 2\n",
    "\n",
    "def sassy(pink):\n",
    "    answer = pink % 2 == 0\n",
    "    return answer\n",
    "\n",
    "# def sassy(pink):\n",
    "#     return pink % 2 == 0"
   ]
  },
  {
   "cell_type": "code",
   "execution_count": 69,
   "id": "a3ebb26f",
   "metadata": {},
   "outputs": [
    {
     "data": {
      "text/plain": [
       "False"
      ]
     },
     "execution_count": 69,
     "metadata": {},
     "output_type": "execute_result"
    }
   ],
   "source": [
    "sassy(3)\n",
    "# answer = pink % 2 == 0\n",
    "# return answer\n",
    "\n",
    "# answer = 3 % 2 == 0 -> False\n",
    "# return answer -> return False"
   ]
  },
  {
   "cell_type": "code",
   "execution_count": 74,
   "id": "7f6e7a90",
   "metadata": {},
   "outputs": [],
   "source": [
    "answer = 3 % 2 == 0"
   ]
  },
  {
   "cell_type": "code",
   "execution_count": 75,
   "id": "8a27b854",
   "metadata": {},
   "outputs": [
    {
     "data": {
      "text/plain": [
       "False"
      ]
     },
     "execution_count": 75,
     "metadata": {},
     "output_type": "execute_result"
    }
   ],
   "source": [
    "answer"
   ]
  },
  {
   "cell_type": "code",
   "execution_count": null,
   "id": "c638e09e",
   "metadata": {},
   "outputs": [],
   "source": []
  },
  {
   "cell_type": "code",
   "execution_count": 76,
   "id": "b9446cc8",
   "metadata": {},
   "outputs": [],
   "source": [
    "# write a function that\n",
    "# takes in two numbers\n",
    "# multiplies them \n",
    "# and returns the answer\n",
    "\n",
    "def red(purple, blue):\n",
    "    return purple*blue"
   ]
  },
  {
   "cell_type": "code",
   "execution_count": 78,
   "id": "eae37e3d",
   "metadata": {},
   "outputs": [
    {
     "data": {
      "text/plain": [
       "24"
      ]
     },
     "execution_count": 78,
     "metadata": {},
     "output_type": "execute_result"
    }
   ],
   "source": [
    "red(4, 6)"
   ]
  },
  {
   "cell_type": "code",
   "execution_count": 80,
   "id": "31726909",
   "metadata": {},
   "outputs": [],
   "source": [
    "def multiply_two_numbers(number1, number2):\n",
    "    return number1 * number2"
   ]
  },
  {
   "cell_type": "code",
   "execution_count": 81,
   "id": "5e71ec12",
   "metadata": {},
   "outputs": [
    {
     "data": {
      "text/plain": [
       "24"
      ]
     },
     "execution_count": 81,
     "metadata": {},
     "output_type": "execute_result"
    }
   ],
   "source": [
    "multiply_two_numbers(4,6)"
   ]
  },
  {
   "cell_type": "code",
   "execution_count": null,
   "id": "24183439",
   "metadata": {},
   "outputs": [],
   "source": []
  },
  {
   "cell_type": "code",
   "execution_count": null,
   "id": "6a14d230",
   "metadata": {},
   "outputs": [],
   "source": []
  },
  {
   "cell_type": "code",
   "execution_count": null,
   "id": "c7ac75fd",
   "metadata": {},
   "outputs": [],
   "source": []
  },
  {
   "cell_type": "code",
   "execution_count": null,
   "id": "e701d6ce",
   "metadata": {},
   "outputs": [],
   "source": []
  },
  {
   "cell_type": "code",
   "execution_count": 2,
   "id": "84bee7dd",
   "metadata": {},
   "outputs": [
    {
     "name": "stdout",
     "output_type": "stream",
     "text": [
      "1\n",
      "2\n",
      "3\n",
      "1\n",
      "2\n",
      "3\n",
      "1\n",
      "2\n",
      "3\n"
     ]
    }
   ],
   "source": [
    "my_list = [1,2,3]\n",
    "\n",
    "for i in my_list:\n",
    "    print(i)\n",
    "    \n",
    "my_list = [1,2,3]\n",
    "\n",
    "for i in my_list:\n",
    "    print(i)\n",
    "    \n",
    "my_list = [1,2,3]\n",
    "\n",
    "for i in my_list:\n",
    "    print(i)"
   ]
  },
  {
   "cell_type": "code",
   "execution_count": 3,
   "id": "e4ab01d3",
   "metadata": {},
   "outputs": [],
   "source": [
    "def my_function():\n",
    "    my_list = [1,2,3]\n",
    "\n",
    "    for i in my_list:\n",
    "        print(i)"
   ]
  },
  {
   "cell_type": "code",
   "execution_count": 5,
   "id": "c21cc463",
   "metadata": {},
   "outputs": [
    {
     "name": "stdout",
     "output_type": "stream",
     "text": [
      "1\n",
      "2\n",
      "3\n",
      "1\n",
      "2\n",
      "3\n",
      "1\n",
      "2\n",
      "3\n"
     ]
    }
   ],
   "source": [
    "my_function()\n",
    "my_function()\n",
    "my_function()"
   ]
  },
  {
   "cell_type": "code",
   "execution_count": 6,
   "id": "ed84eea6",
   "metadata": {},
   "outputs": [
    {
     "name": "stdout",
     "output_type": "stream",
     "text": [
      "1\n",
      "2\n",
      "3\n"
     ]
    }
   ],
   "source": [
    "my_function()"
   ]
  },
  {
   "cell_type": "code",
   "execution_count": 15,
   "id": "8349e92f",
   "metadata": {},
   "outputs": [],
   "source": [
    "def print_list(my_list):\n",
    "    \"\"\"\n",
    "    use my funtion to print the contents of your list\n",
    "    \n",
    "    :param my_list: this should be a List\n",
    "    \"\"\"\n",
    "    for i in my_list:\n",
    "        print(i)"
   ]
  },
  {
   "cell_type": "code",
   "execution_count": 17,
   "id": "7b3e453a",
   "metadata": {},
   "outputs": [
    {
     "name": "stdout",
     "output_type": "stream",
     "text": [
      "Help on function print_list in module __main__:\n",
      "\n",
      "print_list(my_list)\n",
      "    use my funtion to print the contents of your list\n",
      "    \n",
      "    :param my_list: this should be a List\n",
      "\n"
     ]
    }
   ],
   "source": [
    "help(print_list)"
   ]
  },
  {
   "cell_type": "code",
   "execution_count": 11,
   "id": "455e9d3f",
   "metadata": {},
   "outputs": [
    {
     "data": {
      "text/plain": [
       "str"
      ]
     },
     "execution_count": 11,
     "metadata": {},
     "output_type": "execute_result"
    }
   ],
   "source": [
    "a = 'gage'\n",
    "type(a)"
   ]
  },
  {
   "cell_type": "code",
   "execution_count": 12,
   "id": "e8594cc2",
   "metadata": {},
   "outputs": [
    {
     "data": {
      "text/plain": [
       "True"
      ]
     },
     "execution_count": 12,
     "metadata": {},
     "output_type": "execute_result"
    }
   ],
   "source": [
    "isinstance(a, str)"
   ]
  },
  {
   "cell_type": "code",
   "execution_count": null,
   "id": "45e3c038",
   "metadata": {},
   "outputs": [],
   "source": []
  },
  {
   "cell_type": "code",
   "execution_count": 18,
   "id": "dd9659f0",
   "metadata": {},
   "outputs": [],
   "source": [
    "def my_function():\n",
    "    x = 2\n",
    "    print(x*2)"
   ]
  },
  {
   "cell_type": "code",
   "execution_count": null,
   "id": "cf16038d",
   "metadata": {},
   "outputs": [],
   "source": [
    "my_function()"
   ]
  },
  {
   "cell_type": "code",
   "execution_count": 21,
   "id": "398b3e93",
   "metadata": {},
   "outputs": [],
   "source": [
    "def my_function(x):\n",
    "    print(x*2)"
   ]
  },
  {
   "cell_type": "code",
   "execution_count": 22,
   "id": "0665a94a",
   "metadata": {},
   "outputs": [
    {
     "name": "stdout",
     "output_type": "stream",
     "text": [
      "6\n"
     ]
    }
   ],
   "source": [
    "my_function(3)"
   ]
  },
  {
   "cell_type": "code",
   "execution_count": 23,
   "id": "32dad40c",
   "metadata": {},
   "outputs": [],
   "source": [
    "def my_function(x=2):\n",
    "    print(x*2)"
   ]
  },
  {
   "cell_type": "code",
   "execution_count": 24,
   "id": "4561ccde",
   "metadata": {},
   "outputs": [
    {
     "name": "stdout",
     "output_type": "stream",
     "text": [
      "4\n"
     ]
    }
   ],
   "source": [
    "my_function()"
   ]
  },
  {
   "cell_type": "code",
   "execution_count": 25,
   "id": "b054c5cc",
   "metadata": {},
   "outputs": [
    {
     "name": "stdout",
     "output_type": "stream",
     "text": [
      "16\n"
     ]
    }
   ],
   "source": [
    "my_function(8)"
   ]
  },
  {
   "cell_type": "code",
   "execution_count": 26,
   "id": "68dc4cb5",
   "metadata": {},
   "outputs": [],
   "source": [
    "def my_function(x=2):\n",
    "    return x*2"
   ]
  },
  {
   "cell_type": "code",
   "execution_count": 27,
   "id": "27a772dd",
   "metadata": {},
   "outputs": [],
   "source": [
    "x_doubled = my_function(8)"
   ]
  },
  {
   "cell_type": "code",
   "execution_count": 28,
   "id": "3697b508",
   "metadata": {},
   "outputs": [
    {
     "data": {
      "text/plain": [
       "16"
      ]
     },
     "execution_count": 28,
     "metadata": {},
     "output_type": "execute_result"
    }
   ],
   "source": [
    "x_doubled"
   ]
  },
  {
   "cell_type": "code",
   "execution_count": null,
   "id": "826717b7",
   "metadata": {},
   "outputs": [],
   "source": []
  },
  {
   "cell_type": "code",
   "execution_count": null,
   "id": "707db096",
   "metadata": {},
   "outputs": [],
   "source": []
  },
  {
   "cell_type": "code",
   "execution_count": null,
   "id": "669080a8",
   "metadata": {},
   "outputs": [],
   "source": []
  },
  {
   "cell_type": "code",
   "execution_count": null,
   "id": "0788d735",
   "metadata": {},
   "outputs": [],
   "source": []
  },
  {
   "cell_type": "code",
   "execution_count": null,
   "id": "2172c09c",
   "metadata": {},
   "outputs": [],
   "source": []
  },
  {
   "cell_type": "code",
   "execution_count": null,
   "id": "1cda60c2",
   "metadata": {},
   "outputs": [],
   "source": []
  },
  {
   "cell_type": "code",
   "execution_count": null,
   "id": "703100f3",
   "metadata": {},
   "outputs": [],
   "source": []
  },
  {
   "cell_type": "code",
   "execution_count": 48,
   "id": "d822ef65",
   "metadata": {},
   "outputs": [
    {
     "name": "stdout",
     "output_type": "stream",
     "text": [
      "Hi I am string\n"
     ]
    }
   ],
   "source": [
    "my_string = \"Hi\"\n",
    "my_other_string = \"I am string\"\n",
    "\n",
    "answer = my_string + ' ' + my_other_string\n",
    "print(answer)"
   ]
  },
  {
   "cell_type": "code",
   "execution_count": 44,
   "id": "f30aec0d",
   "metadata": {},
   "outputs": [
    {
     "name": "stdout",
     "output_type": "stream",
     "text": [
      "Hi I am string\n"
     ]
    }
   ],
   "source": [
    "answer = f\"{my_string} {my_other_string}\"\n",
    "print(answer)"
   ]
  },
  {
   "cell_type": "code",
   "execution_count": 45,
   "id": "b2989281",
   "metadata": {},
   "outputs": [
    {
     "name": "stdout",
     "output_type": "stream",
     "text": [
      "[0, 1, 2, 3, 4, 5, 6, 7, 8, 9] is a list\n"
     ]
    }
   ],
   "source": [
    "answer = f\"{[i for i in range(10)]} is a list\"\n",
    "print(answer)"
   ]
  },
  {
   "cell_type": "code",
   "execution_count": 49,
   "id": "04bb23f2",
   "metadata": {},
   "outputs": [
    {
     "name": "stdout",
     "output_type": "stream",
     "text": [
      "Hi I am string\n",
      "Hi I am string\n"
     ]
    }
   ],
   "source": [
    "answer = f\"{my_string} {my_other_string}\"\n",
    "print(answer)\n",
    "\n",
    "answer2 = \"{} {}\".format(my_string, my_other_string)\n",
    "print(answer2)"
   ]
  },
  {
   "cell_type": "code",
   "execution_count": 47,
   "id": "6e206c9d",
   "metadata": {},
   "outputs": [
    {
     "data": {
      "text/plain": [
       "'[0, 1, 2, 3, 4, 5, 6, 7, 8, 9] is a list'"
      ]
     },
     "execution_count": 47,
     "metadata": {},
     "output_type": "execute_result"
    }
   ],
   "source": [
    "my_string"
   ]
  },
  {
   "cell_type": "code",
   "execution_count": null,
   "id": "862920a2",
   "metadata": {},
   "outputs": [],
   "source": []
  },
  {
   "cell_type": "code",
   "execution_count": null,
   "id": "0f5e2c36",
   "metadata": {},
   "outputs": [],
   "source": []
  },
  {
   "cell_type": "code",
   "execution_count": null,
   "id": "600ce4b0",
   "metadata": {},
   "outputs": [],
   "source": []
  },
  {
   "cell_type": "code",
   "execution_count": null,
   "id": "c85af97b",
   "metadata": {},
   "outputs": [],
   "source": []
  },
  {
   "cell_type": "code",
   "execution_count": null,
   "id": "55d9f6b5",
   "metadata": {},
   "outputs": [],
   "source": []
  },
  {
   "cell_type": "code",
   "execution_count": null,
   "id": "d4f9843b",
   "metadata": {},
   "outputs": [],
   "source": []
  },
  {
   "cell_type": "code",
   "execution_count": null,
   "id": "629ad4be",
   "metadata": {},
   "outputs": [],
   "source": []
  },
  {
   "cell_type": "code",
   "execution_count": null,
   "id": "23dd2743",
   "metadata": {},
   "outputs": [],
   "source": []
  },
  {
   "cell_type": "code",
   "execution_count": 52,
   "id": "72c2f6c2",
   "metadata": {},
   "outputs": [],
   "source": [
    "def my_function():\n",
    "    return 1, 2"
   ]
  },
  {
   "cell_type": "code",
   "execution_count": 53,
   "id": "cb8e63b5",
   "metadata": {},
   "outputs": [
    {
     "data": {
      "text/plain": [
       "(1, 2)"
      ]
     },
     "execution_count": 53,
     "metadata": {},
     "output_type": "execute_result"
    }
   ],
   "source": [
    "my_function()"
   ]
  },
  {
   "cell_type": "code",
   "execution_count": 54,
   "id": "2af6562d",
   "metadata": {},
   "outputs": [],
   "source": [
    "a = my_function()"
   ]
  },
  {
   "cell_type": "code",
   "execution_count": 55,
   "id": "893c7eb3",
   "metadata": {},
   "outputs": [
    {
     "data": {
      "text/plain": [
       "(1, 2)"
      ]
     },
     "execution_count": 55,
     "metadata": {},
     "output_type": "execute_result"
    }
   ],
   "source": [
    "a"
   ]
  },
  {
   "cell_type": "code",
   "execution_count": 56,
   "id": "9420631b",
   "metadata": {},
   "outputs": [
    {
     "data": {
      "text/plain": [
       "tuple"
      ]
     },
     "execution_count": 56,
     "metadata": {},
     "output_type": "execute_result"
    }
   ],
   "source": [
    "type(a)"
   ]
  },
  {
   "cell_type": "code",
   "execution_count": 57,
   "id": "11ebf68a",
   "metadata": {},
   "outputs": [],
   "source": [
    "a,b = my_function()"
   ]
  },
  {
   "cell_type": "code",
   "execution_count": 58,
   "id": "33402070",
   "metadata": {},
   "outputs": [
    {
     "data": {
      "text/plain": [
       "1"
      ]
     },
     "execution_count": 58,
     "metadata": {},
     "output_type": "execute_result"
    }
   ],
   "source": [
    "a"
   ]
  },
  {
   "cell_type": "code",
   "execution_count": 59,
   "id": "4c79d784",
   "metadata": {},
   "outputs": [
    {
     "data": {
      "text/plain": [
       "2"
      ]
     },
     "execution_count": 59,
     "metadata": {},
     "output_type": "execute_result"
    }
   ],
   "source": [
    "b"
   ]
  },
  {
   "cell_type": "code",
   "execution_count": null,
   "id": "76e2a5eb",
   "metadata": {},
   "outputs": [],
   "source": []
  }
 ],
 "metadata": {
  "kernelspec": {
   "display_name": "Python 3 (ipykernel)",
   "language": "python",
   "name": "python3"
  },
  "language_info": {
   "codemirror_mode": {
    "name": "ipython",
    "version": 3
   },
   "file_extension": ".py",
   "mimetype": "text/x-python",
   "name": "python",
   "nbconvert_exporter": "python",
   "pygments_lexer": "ipython3",
   "version": "3.8.9"
  }
 },
 "nbformat": 4,
 "nbformat_minor": 5
}
