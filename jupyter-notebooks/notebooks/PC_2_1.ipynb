{
  "nbformat": 4,
  "nbformat_minor": 0,
  "metadata": {
    "colab": {
      "name": "PC-2.1.ipynb",
      "provenance": []
    },
    "kernelspec": {
      "name": "python3",
      "display_name": "Python 3"
    }
  },
  "cells": [
    {
      "cell_type": "markdown",
      "metadata": {
        "id": "AvhKEx6RIz7y"
      },
      "source": [
        "<H1>Lab 2.1</H1>\n",
        "<ul>\n",
        "<li>comments</li>\n",
        "<li>the print() function</li>\n",
        "</ul>"
      ]
    },
    {
      "cell_type": "markdown",
      "metadata": {
        "id": "QrvwlvfgJ95J"
      },
      "source": [
        "<H2>Basic CoLab Usage:</H2>\n",
        "<ul>\n",
        "<li>Each little block of code or text will be referred to as a cell</li>\n",
        "<li>Use shift+enter to run a cell</li>\n",
        "<li>Use the buttons at the top to add a cell</li>\n",
        "</ul>"
      ]
    },
    {
      "cell_type": "markdown",
      "metadata": {
        "id": "QJdhlB9cOuGZ"
      },
      "source": [
        "<h2>Comments</h2>\n",
        "<p>We are starting with comments because these will be sprinkled throughout our lessons.</p>\n",
        "<p><a data-fr-linked=\"true\" href=\"https://www.w3schools.com/python/python_comments.asp​​​\">https://www.w3schools.com/python/python_comments.asp</a></p>\n",
        "<p>Comments are great for in-line documentation, taking notes, and leaving placeholders for future code or action items.</p>\n",
        "<p>Using comments as in-line documentation in Python is especially important because Python is a <em>dynamically typed</em> language. Meaning that you do not have to declare the data types of your variables before using them. Java is an example of a<em>&nbsp;statically typed&nbsp;</em>language where do you have to declare variable types before using them.</p>\n",
        "<p><em>Dynamically typed</em> languages perform type checking at runtime, while <em>statically typed</em> languages perform type checking at compile time. <a href=\"https://docs.oracle.com/cd/E57471_01/bigData.100/extensions_bdd/src/cext_transform_typing.html#:~:text=First%2C%20dynamically%2Dtyped%20languages%20perform,type%20checking%20at%20compile%20time.&text=If%20a%20script%20written%20in,the%20errors%20have%20been%20fixed.\" rel=\"noopener noreferrer\" target=\"_blank\">Oracle Static VS. Dynamic Typing</a></p>\n",
        "<p>Remember, Python is a <em>dynamically typed&nbsp;</em>language.</p>"
      ]
    },
    {
      "cell_type": "markdown",
      "metadata": {
        "id": "sLreSBizSD1L"
      },
      "source": [
        "<div style=\"color: #000000;background-color: #fffffe;font-family: 'monospace', Consolas, 'Courier New', monospace;font-weight: normal;font-size: 14px;line-height: 19px;white-space: pre;\"><span style=\"color: #000000;\">Comments starts with a </span><span style=\"color: rgb(184, 49, 47);\"><em><strong>#</strong></em></span><span style=\"color: #000000;\">, and Python will ignore them</span></div>\n",
        "\n"
      ]
    },
    {
      "cell_type": "code",
      "metadata": {
        "id": "ad7KwgPyR-HD"
      },
      "source": [
        "# This is a comment"
      ],
      "execution_count": null,
      "outputs": []
    },
    {
      "cell_type": "code",
      "metadata": {
        "id": "UQfbn-TkSb22"
      },
      "source": [
        "# This\n",
        "# is\n",
        "# a\n",
        "# multi-line\n",
        "# comment"
      ],
      "execution_count": null,
      "outputs": []
    },
    {
      "cell_type": "code",
      "metadata": {
        "colab": {
          "base_uri": "https://localhost:8080/",
          "height": 35
        },
        "id": "OfUqOXmOScGr",
        "outputId": "39e1c60a-6e0e-4842-a154-567ee863b627"
      },
      "source": [
        "\"\"\"\n",
        "This is also a multi-line comment\n",
        "because Python will ignore string literals that are not assigned to a variable\n",
        "(However, Jupyter Notebooks will print the string if there is no other code to execute)\n",
        "\"\"\""
      ],
      "execution_count": null,
      "outputs": [
        {
          "output_type": "execute_result",
          "data": {
            "application/vnd.google.colaboratory.intrinsic+json": {
              "type": "string"
            },
            "text/plain": [
              "'\\nThis is also a multi-line comment\\nbecause Python will ignore string literals that are not assigned to a variable\\n(However, Jupyter Notebooks will print the string if there is no other code to execute)\\n'"
            ]
          },
          "metadata": {
            "tags": []
          },
          "execution_count": 7
        }
      ]
    },
    {
      "cell_type": "markdown",
      "metadata": {
        "id": "6kwGMjW5OPvW"
      },
      "source": [
        "<h2>The print() Function</h2>\n",
        "<div style=\"color: #000000;background-color: #fffffe;font-family: 'monospace', Consolas, 'Courier New', monospace;font-weight: normal;font-size: 14px;line-height: 19px;white-space: pre;\"><span style=\"color: rgb(0, 0, 0); font-family: Verdana, sans-serif; font-size: 15px; font-style: normal; font-variant-ligatures: normal; font-variant-caps: normal; font-weight: 400; letter-spacing: normal; orphans: 2; text-align: start; text-indent: 0px; text-transform: none; white-space: normal; widows: 2; word-spacing: 0px; -webkit-text-stroke-width: 0px; background-color: rgb(255, 255, 255); text-decoration-style: initial; text-decoration-color: initial; display: inline !important; float: none;\">Prints the specified message to the screen, or other standard output device.</span></div>\n",
        "<p><span style=\"color: rgb(0, 0, 0); font-family: Verdana, sans-serif; font-size: 15px; font-style: normal; font-variant-ligatures: normal; font-variant-caps: normal; font-weight: 400; letter-spacing: normal; orphans: 2; text-align: start; text-indent: 0px; text-transform: none; white-space: normal; widows: 2; word-spacing: 0px; -webkit-text-stroke-width: 0px; background-color: rgb(255, 255, 255); text-decoration-style: initial; text-decoration-color: initial; display: inline !important; float: none;\"><a href=\"https://edube.org/learn/pe-1/your-first-program-43\" rel=\"noopener noreferrer\" target=\"_blank\">https://edube.org/learn/pe-1/your-first-program-43</a></span></p>\n",
        "<p><span style=\"color: rgb(0, 0, 0); font-family: Verdana, sans-serif; font-size: 15px; font-style: normal; font-variant-ligatures: normal; font-variant-caps: normal; font-weight: 400; letter-spacing: normal; orphans: 2; text-align: start; text-indent: 0px; text-transform: none; white-space: normal; widows: 2; word-spacing: 0px; -webkit-text-stroke-width: 0px; background-color: rgb(255, 255, 255); text-decoration-style: initial; text-decoration-color: initial; display: inline !important; float: none;\"><a href=\"https://edube.org/learn/pe-1/section-summary-72\" rel=\"noopener noreferrer\" target=\"_blank\">https://edube.org/learn/pe-1/section-summary-72</a></span></p>\n",
        "<p><span style=\"color: rgb(0, 0, 0); font-family: Verdana, sans-serif; font-size: 15px; font-style: normal; font-variant-ligatures: normal; font-variant-caps: normal; font-weight: 400; letter-spacing: normal; orphans: 2; text-align: start; text-indent: 0px; text-transform: none; white-space: normal; widows: 2; word-spacing: 0px; -webkit-text-stroke-width: 0px; background-color: rgb(255, 255, 255); text-decoration-style: initial; text-decoration-color: initial; display: inline !important; float: none;\"><a href=\"https://www.w3schools.com/python/ref_func_print.asp\" rel=\"noopener noreferrer\" target=\"_blank\">https://www.w3schools.com/python/ref_func_print.asp</a></span></p>\n",
        "<h3 style='box-sizing: inherit; font-size: 32px; font-family: \"Segoe UI\", Arial, sans-serif; font-weight: 400; margin: 10px 0px; color: rgb(0, 0, 0); font-style: normal; font-variant-ligatures: normal; font-variant-caps: normal; letter-spacing: normal; orphans: 2; text-align: start; text-indent: 0px; text-transform: none; white-space: normal; widows: 2; word-spacing: 0px; -webkit-text-stroke-width: 0px; background-color: rgb(255, 255, 255); text-decoration-style: initial; text-decoration-color: initial;'>Parameter Values</h3>\n",
        "<table class=\"w3-table-all notranslate\" style=\"box-sizing: inherit; border-collapse: collapse; border-spacing: 0px; width: 1264px; display: table; border: 1px solid rgb(204, 204, 204); margin: 20px 0px; color: rgb(0, 0, 0); font-family: Verdana, sans-serif; font-size: 15px; font-style: normal; font-variant-ligatures: normal; font-variant-caps: normal; font-weight: 400; letter-spacing: normal; orphans: 2; text-align: start; text-indent: 0px; text-transform: none; white-space: normal; widows: 2; word-spacing: 0px; -webkit-text-stroke-width: 0px; background-color: rgb(255, 255, 255); text-decoration-style: initial; text-decoration-color: initial;\">\n",
        "    <thead>\n",
        "        <tr style=\"box-sizing: inherit; border-bottom: 1px solid rgb(221, 221, 221); background-color: rgb(255, 255, 255);\">\n",
        "            <th style=\"box-sizing: inherit; padding: 8px 8px 8px 16px; display: table-cell; text-align: left; vertical-align: top; width: 252px;\">Parameter</th>\n",
        "            <th style=\"box-sizing: inherit; padding: 8px; display: table-cell; text-align: left; vertical-align: top;\">Description</th>\n",
        "        </tr>\n",
        "    </thead>\n",
        "    <tbody style=\"box-sizing: inherit;\">\n",
        "        <tr style=\"box-sizing: inherit; border-bottom: 1px solid rgb(221, 221, 221); background-color: rgb(241, 241, 241);\">\n",
        "            <td style=\"box-sizing: inherit; padding: 8px 8px 8px 16px; display: table-cell; text-align: left; vertical-align: top;\"><em style=\"box-sizing: inherit;\">object(s)</em></td>\n",
        "            <td style=\"box-sizing: inherit; padding: 8px; display: table-cell; text-align: left; vertical-align: top;\">Any object, and as many as you like. Will be converted to string before printed</td>\n",
        "        </tr>\n",
        "        <tr style=\"box-sizing: inherit; border-bottom: 1px solid rgb(221, 221, 221); background-color: rgb(255, 255, 255);\">\n",
        "            <td style=\"box-sizing: inherit; padding: 8px 8px 8px 16px; display: table-cell; text-align: left; vertical-align: top;\">sep=&apos;<em style=\"box-sizing: inherit;\">separator</em>&apos;</td>\n",
        "            <td style=\"box-sizing: inherit; padding: 8px; display: table-cell; text-align: left; vertical-align: top;\">Optional. Specify how to separate the objects, if there is more than one. Default is &apos; &apos;</td>\n",
        "        </tr>\n",
        "        <tr style=\"box-sizing: inherit; border-bottom: 1px solid rgb(221, 221, 221); background-color: rgb(241, 241, 241);\">\n",
        "            <td style=\"box-sizing: inherit; padding: 8px 8px 8px 16px; display: table-cell; text-align: left; vertical-align: top;\">end=&apos;<em style=\"box-sizing: inherit;\">end</em>&apos;</td>\n",
        "            <td style=\"box-sizing: inherit; padding: 8px; display: table-cell; text-align: left; vertical-align: top;\">Optional. Specify what to print at the end. Default is &apos;\\n&apos; (line feed)</td>\n",
        "        </tr>\n",
        "        <tr style=\"box-sizing: inherit; border-bottom: 1px solid rgb(221, 221, 221); background-color: rgb(255, 255, 255);\">\n",
        "            <td style=\"box-sizing: inherit; padding: 8px 8px 8px 16px; display: table-cell; text-align: left; vertical-align: top;\"><em style=\"box-sizing: inherit;\">file</em></td>\n",
        "            <td style=\"box-sizing: inherit; padding: 8px; display: table-cell; text-align: left; vertical-align: top;\">Optional. An object with a write method. Default is sys.stdout</td>\n",
        "        </tr>\n",
        "        <tr style=\"box-sizing: inherit; border-bottom: 1px solid rgb(221, 221, 221); background-color: rgb(241, 241, 241);\">\n",
        "            <td style=\"box-sizing: inherit; padding: 8px 8px 8px 16px; display: table-cell; text-align: left; vertical-align: top;\"><em style=\"box-sizing: inherit;\">flush</em></td>\n",
        "            <td style=\"box-sizing: inherit; padding: 8px; display: table-cell; text-align: left; vertical-align: top;\">Optional. A Boolean, specifying if the output is flushed (True) or buffered (False). Default is False</td>\n",
        "        </tr>\n",
        "    </tbody>\n",
        "</table>\n",
        "<br>\n",
        "<p>It is also worth mentioning now that the help() function can be used to print documentation.</p>\n",
        "<p><span style=\"color: rgb(0, 0, 0); font-family: Verdana, sans-serif; font-size: 15px; font-style: normal; font-variant-ligatures: normal; font-variant-caps: normal; font-weight: 400; letter-spacing: normal; orphans: 2; text-align: start; text-indent: 0px; text-transform: none; white-space: normal; widows: 2; word-spacing: 0px; -webkit-text-stroke-width: 0px; background-color: rgb(255, 255, 255); text-decoration-style: initial; text-decoration-color: initial; display: inline !important; float: none;\"><a href=\"https://docs.python.org/3/library/functions.html#help\" rel=\"noopener noreferrer\" target=\"_blank\">https://docs.python.org/3/library/functions.html#help</a></span></p>\n",
        "<p>Other built-in Python functions are also documented here:</p>\n",
        "<p><span style=\"color: rgb(0, 0, 0); font-family: Verdana, sans-serif; font-size: 15px; font-style: normal; font-variant-ligatures: normal; font-variant-caps: normal; font-weight: 400; letter-spacing: normal; orphans: 2; text-align: start; text-indent: 0px; text-transform: none; white-space: normal; widows: 2; word-spacing: 0px; -webkit-text-stroke-width: 0px; background-color: rgb(255, 255, 255); text-decoration-style: initial; text-decoration-color: initial; display: inline !important; float: none;\"><a href=\"https://docs.python.org/3/library/functions.html\" rel=\"noopener noreferrer\" target=\"_blank\">https://docs.python.org/3/library/functions.html</a></span></p>\n",
        "<p>Use the next cell to print the documentation of the print() function.</p>\n",
        "<p><br></p>"
      ]
    },
    {
      "cell_type": "code",
      "metadata": {
        "colab": {
          "base_uri": "https://localhost:8080/"
        },
        "id": "Aocmxrc7f0h0",
        "outputId": "fa92de50-9016-4afa-be94-6fc7a921fa88"
      },
      "source": [
        "# executing this cell will print the documentation for the built-in print() function\n",
        "help(print)"
      ],
      "execution_count": null,
      "outputs": [
        {
          "output_type": "stream",
          "text": [
            "Help on built-in function print in module builtins:\n",
            "\n",
            "print(...)\n",
            "    print(value, ..., sep=' ', end='\\n', file=sys.stdout, flush=False)\n",
            "    \n",
            "    Prints the values to a stream, or to sys.stdout by default.\n",
            "    Optional keyword arguments:\n",
            "    file:  a file-like object (stream); defaults to the current sys.stdout.\n",
            "    sep:   string inserted between values, default a space.\n",
            "    end:   string appended after the last value, default a newline.\n",
            "    flush: whether to forcibly flush the stream.\n",
            "\n"
          ],
          "name": "stdout"
        }
      ]
    },
    {
      "cell_type": "code",
      "metadata": {
        "colab": {
          "base_uri": "https://localhost:8080/"
        },
        "id": "FUz0tA8HgqEH",
        "outputId": "74fdd1c1-63a0-4af5-e0e7-07afb91167e0"
      },
      "source": [
        "# now, lets print some things\n",
        "print(\"Hello, World!\")"
      ],
      "execution_count": null,
      "outputs": [
        {
          "output_type": "stream",
          "text": [
            "Hello, World!\n"
          ],
          "name": "stdout"
        }
      ]
    },
    {
      "cell_type": "code",
      "metadata": {
        "colab": {
          "base_uri": "https://localhost:8080/"
        },
        "id": "hrKSDY7PmJaS",
        "outputId": "553776eb-f046-441c-d356-e016207ce7de"
      },
      "source": [
        "# lets execute two print statements\n",
        "print(\"Hello\")\n",
        "print(\"World\")"
      ],
      "execution_count": null,
      "outputs": [
        {
          "output_type": "stream",
          "text": [
            "Hello\n",
            "World\n"
          ],
          "name": "stdout"
        }
      ]
    },
    {
      "cell_type": "code",
      "metadata": {
        "colab": {
          "base_uri": "https://localhost:8080/"
        },
        "id": "Mv7Zyn7CmJtj",
        "outputId": "7f7beb70-279f-485d-a5fc-1c18b8eaafde"
      },
      "source": [
        "# what happens if we put an empty print statement in between\n",
        "print(\"Hello\")\n",
        "print()\n",
        "print(\"World\")"
      ],
      "execution_count": null,
      "outputs": [
        {
          "output_type": "stream",
          "text": [
            "Hello\n",
            "\n",
            "World\n"
          ],
          "name": "stdout"
        }
      ]
    },
    {
      "cell_type": "markdown",
      "metadata": {
        "id": "UT3L6fFJpg7N"
      },
      "source": [
        "The backslash (\\) has a very special meaning when used inside strings - this is called the escape character.\n",
        "\n",
        "The word escape should be understood specifically - it means that the series of characters in the string escapes for the moment (a very short moment) to introduce a special inclusion."
      ]
    },
    {
      "cell_type": "code",
      "metadata": {
        "colab": {
          "base_uri": "https://localhost:8080/"
        },
        "id": "TcYUaqK7mJ9g",
        "outputId": "9a654bde-6443-4b6c-b3fd-009a78e27729"
      },
      "source": [
        "# Are there more than one ways to print a blank line?\n",
        "print(\"Hello\")\n",
        "print(\"\\n\")\n",
        "print(\"Beautiful\")\n",
        "print()\n",
        "print(\"World\")"
      ],
      "execution_count": null,
      "outputs": [
        {
          "output_type": "stream",
          "text": [
            "Hello\n",
            "\n",
            "\n",
            "Beautiful\n",
            "\n",
            "World\n"
          ],
          "name": "stdout"
        }
      ]
    },
    {
      "cell_type": "code",
      "metadata": {
        "colab": {
          "base_uri": "https://localhost:8080/"
        },
        "id": "-KHO6YkkmKFf",
        "outputId": "22600000-4e50-4692-ede8-5f69fd57083e"
      },
      "source": [
        "# what if you actually want a backslash in your string as a character\n",
        "# escaping a backslash will accomplish this ... \\\\\n",
        "print('\\\\')"
      ],
      "execution_count": null,
      "outputs": [
        {
          "output_type": "stream",
          "text": [
            "\\\n"
          ],
          "name": "stdout"
        }
      ]
    },
    {
      "cell_type": "code",
      "metadata": {
        "colab": {
          "base_uri": "https://localhost:8080/"
        },
        "id": "0NcyxjAkqEMl",
        "outputId": "e25d14c5-ff3a-4235-ca3f-021da6d83a07"
      },
      "source": [
        "# what if you want a new line inside of one print statement\n",
        "print(\"Hello \\n World\")"
      ],
      "execution_count": null,
      "outputs": [
        {
          "output_type": "stream",
          "text": [
            "Hello \n",
            " World\n"
          ],
          "name": "stdout"
        }
      ]
    },
    {
      "cell_type": "code",
      "metadata": {
        "colab": {
          "base_uri": "https://localhost:8080/"
        },
        "id": "dkEdYkJLqVxU",
        "outputId": "c233bda3-9533-4174-8521-cc77ff6b42c1"
      },
      "source": [
        "# printing multiple arguments\n",
        "print(\"Hello\", \"World\", \"I love you\") # notice arguments are seperated by commas ... also this is a comment at the end of a line of code"
      ],
      "execution_count": null,
      "outputs": [
        {
          "output_type": "stream",
          "text": [
            "Hello World I love you\n"
          ],
          "name": "stdout"
        }
      ]
    },
    {
      "cell_type": "code",
      "metadata": {
        "colab": {
          "base_uri": "https://localhost:8080/"
        },
        "id": "1JvLIARIqpl1",
        "outputId": "a0c76cea-11df-415f-91bf-1b01ee3ed126"
      },
      "source": [
        "# Did you notice that the arguments were automatically seperated by spaces. That is because the default for the \"sep\" parameter is ' '\n",
        "# what if you didn't want them seperated by a space? Maybe we want them seperated by new lines\n",
        "print(\"Hello\", \"World\", \"I love you\", sep=\"\\n\")"
      ],
      "execution_count": null,
      "outputs": [
        {
          "output_type": "stream",
          "text": [
            "Hello\n",
            "World\n",
            "I love you\n"
          ],
          "name": "stdout"
        }
      ]
    },
    {
      "cell_type": "code",
      "metadata": {
        "colab": {
          "base_uri": "https://localhost:8080/"
        },
        "id": "krTi0ZLerqeB",
        "outputId": "e882eed2-c743-4e01-cdaa-a6c7337e8de1"
      },
      "source": [
        "# Or maybe we want them seperated by hyphens\n",
        "print(\"Hello\", \"World\", \"I love you\", sep=\"-\")"
      ],
      "execution_count": null,
      "outputs": [
        {
          "output_type": "stream",
          "text": [
            "Hello-World-I love you\n"
          ],
          "name": "stdout"
        }
      ]
    },
    {
      "cell_type": "markdown",
      "metadata": {
        "id": "JQnfy4iXsEaa"
      },
      "source": [
        "<p>In this case, <em>sep&nbsp;</em>is a <strong>keyword argument</strong></p>\n",
        "<p>While the strings being printed are <strong>positional arguments</strong></p>\n",
        "<p>Find the definition for argument in this glossary:</p>\n",
        "<p><span style=\"color: rgb(0, 0, 0); font-family: Verdana, sans-serif; font-size: 15px; font-style: normal; font-variant-ligatures: normal; font-variant-caps: normal; font-weight: 400; letter-spacing: normal; orphans: 2; text-align: start; text-indent: 0px; text-transform: none; white-space: normal; widows: 2; word-spacing: 0px; -webkit-text-stroke-width: 0px; background-color: rgb(255, 255, 255); text-decoration-style: initial; text-decoration-color: initial; display: inline !important; float: none;\"><a href=\"https://docs.python.org/3/glossary.html\" rel=\"noopener noreferrer\" target=\"_blank\">https://docs.python.org/3/glossary.html</a></span></p>\n"
      ]
    },
    {
      "cell_type": "markdown",
      "metadata": {
        "id": "3NYavTSXtD1g"
      },
      "source": [
        "<p>Looking back at the docs that we printed earlier, print has 3 other <strong>keyword arguments</strong> in addition to <em>sep:</em></p>\n",
        "<p><em>end, file, flush</em></p>\n",
        "<p>We won&apos;t worry about <em>file </em>or <em>flush </em>for now</p>"
      ]
    },
    {
      "cell_type": "code",
      "metadata": {
        "colab": {
          "base_uri": "https://localhost:8080/"
        },
        "id": "2AMPqT5Zs-qL",
        "outputId": "66692201-d2c4-4a7a-b2ca-86fbba0fa841"
      },
      "source": [
        "# the end keyword argument is pretty self explanatory\n",
        "print(\"hello World\", end=\"!\")"
      ],
      "execution_count": null,
      "outputs": [
        {
          "output_type": "stream",
          "text": [
            "hello World!"
          ],
          "name": "stdout"
        }
      ]
    },
    {
      "cell_type": "code",
      "metadata": {
        "colab": {
          "base_uri": "https://localhost:8080/"
        },
        "id": "ZYRdtMFJuTG2",
        "outputId": "6d38b93b-f512-4b57-ecab-74e0987baaa5"
      },
      "source": [
        "# keyword arguments can be used alongside eachother, and if not used will maintain the default whose behavior is described in the doc\n",
        "print(\"Hello\", \"World\", sep=\"----\", end=\"!!!\")"
      ],
      "execution_count": null,
      "outputs": [
        {
          "output_type": "stream",
          "text": [
            "Hello----World!!!"
          ],
          "name": "stdout"
        }
      ]
    },
    {
      "cell_type": "code",
      "metadata": {
        "colab": {
          "base_uri": "https://localhost:8080/"
        },
        "id": "49rvf7lUulRA",
        "outputId": "c27dbb64-81ed-433a-b8e6-7ab1ddb42397"
      },
      "source": [
        "# change the following code such that it prints:\n",
        "# Programming***Essentials***in...Python\n",
        "# Using the sep and end keywords\n",
        "print(\"Programming\",\"Essentials\",\"in\")\n",
        "print(\"Python\") # hint: don't change anything on this line"
      ],
      "execution_count": null,
      "outputs": [
        {
          "output_type": "stream",
          "text": [
            "Programming Essentials in\n",
            "Python\n"
          ],
          "name": "stdout"
        }
      ]
    },
    {
      "cell_type": "markdown",
      "metadata": {
        "id": "jWWgzH0mKDJj"
      },
      "source": [
        "<h2>Add some new code cells and play around with the print() function below</h2>"
      ]
    },
    {
      "cell_type": "code",
      "metadata": {
        "id": "EhfKsN9VJnrs"
      },
      "source": [
        ""
      ],
      "execution_count": null,
      "outputs": []
    }
  ]
}