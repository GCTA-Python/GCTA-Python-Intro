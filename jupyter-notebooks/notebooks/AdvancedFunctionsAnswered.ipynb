{
 "cells": [
  {
   "cell_type": "code",
   "execution_count": 13,
   "id": "96b78937",
   "metadata": {},
   "outputs": [],
   "source": [
    "# write a function that takes in a string\n",
    "# and outputs lists of all of the alphabetical, numerical, punctuation, and whitespace characters\n",
    "\n",
    "import string\n",
    "\n",
    "def string_parser(a_string):\n",
    "    numeric = []\n",
    "    alpha = []\n",
    "    punc = []\n",
    "    space = []\n",
    "    \n",
    "    for char in a_string:\n",
    "        if char.isnumeric():\n",
    "            numeric.append(char)\n",
    "        elif char.isalpha():\n",
    "            alpha.append(char)\n",
    "        elif char.isspace():\n",
    "            space.append(char)\n",
    "        elif char in string.punctuation:\n",
    "            punc.append(char)\n",
    "    \n",
    "    return numeric, alpha, punc, space"
   ]
  },
  {
   "cell_type": "code",
   "execution_count": 14,
   "id": "ed7ecb6d",
   "metadata": {},
   "outputs": [
    {
     "data": {
      "text/plain": [
       "(['1', '2', '3'],\n",
       " ['a',\n",
       "  'b',\n",
       "  'c',\n",
       "  's',\n",
       "  'p',\n",
       "  'a',\n",
       "  'c',\n",
       "  'e',\n",
       "  's',\n",
       "  'p',\n",
       "  'a',\n",
       "  'c',\n",
       "  'e',\n",
       "  's',\n",
       "  'p',\n",
       "  'a',\n",
       "  'c',\n",
       "  'e'],\n",
       " ['.', '.', '.', '-', '-', '-'],\n",
       " [' ', ' ', ' ', ' ', ' ', ' '])"
      ]
     },
     "execution_count": 14,
     "metadata": {},
     "output_type": "execute_result"
    }
   ],
   "source": [
    "# use the function\n",
    "\n",
    "my_string = \"abc 123 ... --- space space space\"\n",
    "answer = string_parser(my_string)\n",
    "answer"
   ]
  },
  {
   "cell_type": "code",
   "execution_count": 21,
   "id": "fe9b6e93",
   "metadata": {},
   "outputs": [],
   "source": [
    "# write a function that takes in a string\n",
    "# and outputs a dictionary with lists of all of the alphabetical, numerical, punctuation, and whitespace characters\n",
    "\n",
    "import string\n",
    "\n",
    "def string_parser(a_string):\n",
    "    output = {}\n",
    "    output['numeric'] = []\n",
    "    output['alpha'] = []\n",
    "    output['punc'] = []\n",
    "    output['space'] = []\n",
    "    \n",
    "    for char in a_string:\n",
    "        if char.isnumeric():\n",
    "            output['numeric'].append(char)\n",
    "        elif char.isalpha():\n",
    "            output['alpha'].append(char)\n",
    "        elif char.isspace():\n",
    "            output['space'].append(char)\n",
    "        elif char in string.punctuation:\n",
    "            output['punc'].append(char)\n",
    "    \n",
    "    return output"
   ]
  },
  {
   "cell_type": "code",
   "execution_count": 22,
   "id": "78679eff",
   "metadata": {},
   "outputs": [
    {
     "data": {
      "text/plain": [
       "{'numeric': ['1', '2', '3'],\n",
       " 'alpha': ['a',\n",
       "  'b',\n",
       "  'c',\n",
       "  's',\n",
       "  'p',\n",
       "  'a',\n",
       "  'c',\n",
       "  'e',\n",
       "  's',\n",
       "  'p',\n",
       "  'a',\n",
       "  'c',\n",
       "  'e',\n",
       "  's',\n",
       "  'p',\n",
       "  'a',\n",
       "  'c',\n",
       "  'e'],\n",
       " 'punc': ['.', '.', '.', '-', '-', '-'],\n",
       " 'space': [' ', ' ', ' ', ' ', ' ', ' ']}"
      ]
     },
     "execution_count": 22,
     "metadata": {},
     "output_type": "execute_result"
    }
   ],
   "source": [
    "# use the function\n",
    "\n",
    "my_string = \"abc 123 ... --- space space space\"\n",
    "answer = string_parser(my_string)\n",
    "answer"
   ]
  },
  {
   "cell_type": "code",
   "execution_count": 19,
   "id": "aa9dcbe6",
   "metadata": {},
   "outputs": [],
   "source": [
    "# Break the example from question 1 into multiple functions\n",
    "# one outer function to walk the string\n",
    "# multiple inner functions to perform the checks and appends\n",
    "\n",
    "def check_append_numeric(a_string, a_list):\n",
    "    if a_string.isnumeric():\n",
    "        a_list.append(a_string)\n",
    "        \n",
    "    return a_list\n",
    "\n",
    "def check_append_alpha(a_string, a_list):\n",
    "    if a_string.isalpha():\n",
    "        a_list.append(a_string)\n",
    "        \n",
    "    return a_list\n",
    "\n",
    "def check_append_space(a_string, a_list):\n",
    "    if a_string.isspace():\n",
    "        a_list.append(a_string)\n",
    "        \n",
    "    return a_list\n",
    "\n",
    "def check_append_punc(a_string, a_list):\n",
    "    if a_string in string.punctuation:\n",
    "        a_list.append(a_string)\n",
    "        \n",
    "    return a_list\n",
    "\n",
    "def string_parser(a_string):\n",
    "    numeric = []\n",
    "    alpha = []\n",
    "    punc = []\n",
    "    space = []\n",
    "    \n",
    "    for char in a_string:\n",
    "        check_append_numeric(char, numeric)\n",
    "        check_append_alpha(char, alpha)\n",
    "        check_append_space(char, space)\n",
    "        check_append_punc(char, punc)\n",
    "    \n",
    "    return numeric, alpha, punc, space    \n",
    "    "
   ]
  },
  {
   "cell_type": "code",
   "execution_count": 20,
   "id": "128d7b83",
   "metadata": {},
   "outputs": [
    {
     "data": {
      "text/plain": [
       "(['1', '2', '3'],\n",
       " ['a',\n",
       "  'b',\n",
       "  'c',\n",
       "  's',\n",
       "  'p',\n",
       "  'a',\n",
       "  'c',\n",
       "  'e',\n",
       "  's',\n",
       "  'p',\n",
       "  'a',\n",
       "  'c',\n",
       "  'e',\n",
       "  's',\n",
       "  'p',\n",
       "  'a',\n",
       "  'c',\n",
       "  'e'],\n",
       " ['.', '.', '.', '-', '-', '-'],\n",
       " [' ', ' ', ' ', ' ', ' ', ' '])"
      ]
     },
     "execution_count": 20,
     "metadata": {},
     "output_type": "execute_result"
    }
   ],
   "source": [
    "# use the function\n",
    "\n",
    "my_string = \"abc 123 ... --- space space space\"\n",
    "answer = string_parser(my_string)\n",
    "answer"
   ]
  },
  {
   "cell_type": "code",
   "execution_count": null,
   "id": "7fb9b8d2",
   "metadata": {},
   "outputs": [],
   "source": [
    "# write question 1 in the form of a generator"
   ]
  }
 ],
 "metadata": {
  "kernelspec": {
   "display_name": "Python 3",
   "language": "python",
   "name": "python3"
  },
  "language_info": {
   "codemirror_mode": {
    "name": "ipython",
    "version": 3
   },
   "file_extension": ".py",
   "mimetype": "text/x-python",
   "name": "python",
   "nbconvert_exporter": "python",
   "pygments_lexer": "ipython3",
   "version": "3.8.2"
  }
 },
 "nbformat": 4,
 "nbformat_minor": 5
}
