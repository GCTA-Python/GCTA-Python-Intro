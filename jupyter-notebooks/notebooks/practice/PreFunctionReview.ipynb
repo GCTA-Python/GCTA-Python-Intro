{
 "cells": [
  {
   "cell_type": "markdown",
   "id": "0dbcc46a",
   "metadata": {},
   "source": [
    "# This is a review notebook\n",
    "***In order to do this review, you need to have covered:***\n",
    "* Simple Data Types (literals: int, str, float, bool)\n",
    "* The print() function\n",
    "* The input() function\n",
    "* The type() function\n",
    "* the isinstance() function\n",
    "* Arithmetic operators (+, -, /, //, *, \\**, %)\n",
    "* Comparison operators (==, !=, <, >, <=, >=)\n",
    "* Logical operators (and, or, not)\n",
    "* Special operators (is)\n",
    "* Membership operators (in)\n",
    "* The range() function\n",
    "* Lists\n",
    "* Dictionaries\n",
    "* For loops\n",
    "* List comprehension\n",
    "* Conditional expressions (if, elif, else)"
   ]
  },
  {
   "cell_type": "code",
   "execution_count": 1,
   "id": "3ef34779",
   "metadata": {},
   "outputs": [
    {
     "name": "stdout",
     "output_type": "stream",
     "text": [
      "<class 'int'>\n"
     ]
    }
   ],
   "source": [
    "x = '1'\n",
    "# add code to convert the variable from str to int\n",
    "# then print the type of the variable\n"
   ]
  },
  {
   "cell_type": "code",
   "execution_count": 3,
   "id": "58f8a9bf",
   "metadata": {},
   "outputs": [
    {
     "name": "stdout",
     "output_type": "stream",
     "text": [
      "<class 'str'>\n"
     ]
    }
   ],
   "source": [
    "x = 1\n",
    "# add code to convert the variable from int to str\n",
    "# then print the type of the variable\n"
   ]
  },
  {
   "cell_type": "code",
   "execution_count": 4,
   "id": "78e8b57e",
   "metadata": {},
   "outputs": [
    {
     "name": "stdout",
     "output_type": "stream",
     "text": [
      "<class 'float'>\n"
     ]
    }
   ],
   "source": [
    "x = 1\n",
    "# add code to convert the variable from int to float\n",
    "# then print the type of the variable\n"
   ]
  },
  {
   "cell_type": "code",
   "execution_count": 5,
   "id": "963bc960",
   "metadata": {},
   "outputs": [
    {
     "name": "stdout",
     "output_type": "stream",
     "text": [
      "8\n"
     ]
    }
   ],
   "source": [
    "x = 4\n",
    "y = 2\n",
    "\n",
    "# write an expression below which assigns the value 8 to the variable z using \n",
    "# one of the arithmetic operators then print z\n"
   ]
  },
  {
   "cell_type": "code",
   "execution_count": 6,
   "id": "1e77198f",
   "metadata": {},
   "outputs": [
    {
     "name": "stdout",
     "output_type": "stream",
     "text": [
      "3\n"
     ]
    }
   ],
   "source": [
    "x = 8\n",
    "y = 5\n",
    "\n",
    "# write an expression below which assigns the value 3 to the variable z using\n",
    "# one of the arithmetic operators then print z\n"
   ]
  },
  {
   "cell_type": "code",
   "execution_count": 7,
   "id": "853d0b50",
   "metadata": {},
   "outputs": [
    {
     "name": "stdout",
     "output_type": "stream",
     "text": [
      "True\n"
     ]
    }
   ],
   "source": [
    "x = 8\n",
    "y = 6\n",
    "z = x // y\n",
    "\n",
    "# write an expression below which checks the data type of z\n",
    "# and assigns its output as a boolean to a new variable, foo\n",
    "# print foo (it should print True)\n"
   ]
  },
  {
   "cell_type": "code",
   "execution_count": 8,
   "id": "4d843e7a",
   "metadata": {},
   "outputs": [
    {
     "name": "stdout",
     "output_type": "stream",
     "text": [
      "True\n"
     ]
    }
   ],
   "source": [
    "x = 8\n",
    "y = 6\n",
    "z = x / y\n",
    "\n",
    "# write an expression below which checks the data type of z\n",
    "# and assigns its output as a boolean to a new variable, foo\n",
    "# print foo (it should print True)\n"
   ]
  },
  {
   "cell_type": "code",
   "execution_count": 9,
   "id": "f090e90d",
   "metadata": {},
   "outputs": [
    {
     "name": "stdout",
     "output_type": "stream",
     "text": [
      "14, 6, 10, 18, "
     ]
    }
   ],
   "source": [
    "x = [7, 3, 5, 9]\n",
    "\n",
    "# write a for loop which prints \n",
    "# 14, 6, 10, 18,\n",
    "# using one of the arithmetic operators\n"
   ]
  },
  {
   "cell_type": "code",
   "execution_count": 10,
   "id": "25bba3f4",
   "metadata": {},
   "outputs": [
    {
     "name": "stdout",
     "output_type": "stream",
     "text": [
      "0\n",
      "2\n",
      "4\n"
     ]
    }
   ],
   "source": [
    "for i in range(5):\n",
    "    \n",
    "    # write an expression which prints i if it is an even number\n"
   ]
  },
  {
   "cell_type": "code",
   "execution_count": 11,
   "id": "e77fa330",
   "metadata": {},
   "outputs": [
    {
     "name": "stdout",
     "output_type": "stream",
     "text": [
      "True\n"
     ]
    }
   ],
   "source": [
    "x = [i for i in range(3)]\n",
    "# create a new variable y which causes the last expression in this cell to print True\n",
    "\n",
    "print(x == y)"
   ]
  },
  {
   "cell_type": "code",
   "execution_count": 12,
   "id": "392ded48",
   "metadata": {},
   "outputs": [
    {
     "name": "stdout",
     "output_type": "stream",
     "text": [
      "True\n"
     ]
    }
   ],
   "source": [
    "x = [i for i in range(0, 5)]\n",
    "# create a new variable y which causes the last expression in this cell to print True\n",
    "\n",
    "print(x == y)"
   ]
  },
  {
   "cell_type": "code",
   "execution_count": 13,
   "id": "fa22b236",
   "metadata": {},
   "outputs": [
    {
     "name": "stdout",
     "output_type": "stream",
     "text": [
      "True\n"
     ]
    }
   ],
   "source": [
    "x = [i for i in range(1, 3)]\n",
    "# create a new variable y which causes the last expression in this cell to print True\n",
    "\n",
    "print(x == y)"
   ]
  },
  {
   "cell_type": "code",
   "execution_count": 14,
   "id": "924d8672",
   "metadata": {},
   "outputs": [
    {
     "name": "stdout",
     "output_type": "stream",
     "text": [
      "True\n"
     ]
    }
   ],
   "source": [
    "x = [i for i in range(3, 7)]\n",
    "# create a new variable y which causes the last expression in this cell to print True\n",
    "\n",
    "print(x == y)"
   ]
  },
  {
   "cell_type": "code",
   "execution_count": 15,
   "id": "36dcd36f",
   "metadata": {},
   "outputs": [
    {
     "name": "stdout",
     "output_type": "stream",
     "text": [
      "True\n"
     ]
    }
   ],
   "source": [
    "x = [i for i in range(0, 10, 2)]\n",
    "# create a new variable y which causes the last expression in this cell to print True\n",
    "\n",
    "print(x == y)"
   ]
  },
  {
   "cell_type": "code",
   "execution_count": 16,
   "id": "4fb0ca27",
   "metadata": {},
   "outputs": [
    {
     "name": "stdout",
     "output_type": "stream",
     "text": [
      "True\n"
     ]
    }
   ],
   "source": [
    "x = [i for i in range(1, 7, 3)]\n",
    "# create a new variable y which causes the last expression in this cell to print True\n",
    "\n",
    "print(x == y)"
   ]
  },
  {
   "cell_type": "code",
   "execution_count": 1,
   "id": "21317c3f",
   "metadata": {},
   "outputs": [
    {
     "name": "stdout",
     "output_type": "stream",
     "text": [
      "True\n"
     ]
    }
   ],
   "source": [
    "x = [i for i in range(1, 3, 3)]\n",
    "# create a new variable y which causes the last expression in this cell to print True\n",
    "\n",
    "print(x == y)"
   ]
  },
  {
   "cell_type": "code",
   "execution_count": 19,
   "id": "a8a3e150",
   "metadata": {},
   "outputs": [
    {
     "name": "stdout",
     "output_type": "stream",
     "text": [
      "True\n"
     ]
    }
   ],
   "source": [
    "x = [i for i in range(10, 1)]\n",
    "# create a new variable y which causes the last expression in this cell to print True\n",
    "\n",
    "print(x == y)"
   ]
  },
  {
   "cell_type": "code",
   "execution_count": 20,
   "id": "1b10d93d",
   "metadata": {},
   "outputs": [
    {
     "name": "stdout",
     "output_type": "stream",
     "text": [
      "True\n"
     ]
    }
   ],
   "source": [
    "x = [i for i in range(10, 1, -1)]\n",
    "# create a new variable y which causes the last expression in this cell to print True\n",
    "\n",
    "print(x == y)"
   ]
  },
  {
   "cell_type": "code",
   "execution_count": 25,
   "id": "705926d7",
   "metadata": {},
   "outputs": [
    {
     "name": "stdout",
     "output_type": "stream",
     "text": [
      "True\n"
     ]
    }
   ],
   "source": [
    "x = [i for i in range(10, 1, -2)]\n",
    "# create a new variable y which causes the last expression in this cell to print True\n",
    "\n",
    "print(x == y)"
   ]
  },
  {
   "cell_type": "code",
   "execution_count": 26,
   "id": "269a1c35",
   "metadata": {},
   "outputs": [
    {
     "name": "stdout",
     "output_type": "stream",
     "text": [
      "True\n"
     ]
    }
   ],
   "source": [
    "x = [1 for i in range(3)]\n",
    "# create a new variable y which causes the last expression in this cell to print True\n",
    "\n",
    "print(x == y)"
   ]
  },
  {
   "cell_type": "code",
   "execution_count": 27,
   "id": "6718ade4",
   "metadata": {},
   "outputs": [
    {
     "name": "stdout",
     "output_type": "stream",
     "text": [
      "True\n"
     ]
    }
   ],
   "source": [
    "x = ['a' for i in range(3)]\n",
    "# create a new variable y which causes the last expression in this cell to print True\n",
    "\n",
    "print(x == y)"
   ]
  },
  {
   "cell_type": "code",
   "execution_count": 29,
   "id": "61f62c9a",
   "metadata": {},
   "outputs": [
    {
     "name": "stdout",
     "output_type": "stream",
     "text": [
      "True\n"
     ]
    }
   ],
   "source": [
    "x = [[1,2,3] for i in range(2)]\n",
    "# create a new variable y which causes the last expression in this cell to print True\n",
    "\n",
    "print(x == y)"
   ]
  },
  {
   "cell_type": "code",
   "execution_count": 23,
   "id": "6dff7cd3",
   "metadata": {},
   "outputs": [
    {
     "name": "stdout",
     "output_type": "stream",
     "text": [
      "PRINT ME\n"
     ]
    }
   ],
   "source": [
    "x = True\n",
    "# create a variable y which causes this cell to print \"PRINT ME\"\n",
    "\n",
    "\n",
    "if x or y and y:\n",
    "    print(\"PRINT ME\")\n",
    "else:\n",
    "    print(\"DONT PRINT ME\")"
   ]
  },
  {
   "cell_type": "code",
   "execution_count": 24,
   "id": "0a9be0ab",
   "metadata": {},
   "outputs": [
    {
     "name": "stdout",
     "output_type": "stream",
     "text": [
      "PRINT ME\n"
     ]
    }
   ],
   "source": [
    "x = True\n",
    "# create a variable y which causes this cell to print \"PRINT ME\"\n",
    "\n",
    "\n",
    "if x or y and not y:\n",
    "    print(\"PRINT ME\")\n",
    "else:\n",
    "    print(\"DONT PRINT ME\")"
   ]
  },
  {
   "cell_type": "code",
   "execution_count": 30,
   "id": "f5add3a5",
   "metadata": {},
   "outputs": [
    {
     "name": "stdout",
     "output_type": "stream",
     "text": [
      "True\n"
     ]
    }
   ],
   "source": [
    "x = ['b' for i in range(5)]\n",
    "# create a variable y which causes this cell to print True\n",
    "\n",
    "\n",
    "print(y in x)"
   ]
  },
  {
   "cell_type": "code",
   "execution_count": 31,
   "id": "77eb08d2",
   "metadata": {},
   "outputs": [
    {
     "name": "stdout",
     "output_type": "stream",
     "text": [
      "True\n"
     ]
    }
   ],
   "source": [
    "x = [i for i in range(5)]\n",
    "# create a variable y which causes this cell to print True\n",
    "\n",
    "\n",
    "if y in x:\n",
    "    print(True)"
   ]
  },
  {
   "cell_type": "code",
   "execution_count": 32,
   "id": "8029de60",
   "metadata": {},
   "outputs": [
    {
     "name": "stdout",
     "output_type": "stream",
     "text": [
      "True\n"
     ]
    }
   ],
   "source": [
    "x = {'a': 1, 'b': 2}\n",
    "# create a variable y which causes this cell to print True\n",
    "\n",
    "\n",
    "print(x[y] == 2)"
   ]
  },
  {
   "cell_type": "code",
   "execution_count": 35,
   "id": "06a31545",
   "metadata": {},
   "outputs": [
    {
     "name": "stdout",
     "output_type": "stream",
     "text": [
      "3\n"
     ]
    }
   ],
   "source": [
    "x = [{'a': i, 'b': i+2} for i in range(2)]\n",
    "# create a variable y and a variable z which cause this cell to print 3\n",
    "\n",
    "\n",
    "print(x[y][z])"
   ]
  },
  {
   "cell_type": "code",
   "execution_count": null,
   "id": "7b62043a",
   "metadata": {},
   "outputs": [],
   "source": []
  }
 ],
 "metadata": {
  "kernelspec": {
   "display_name": "Python 3 (ipykernel)",
   "language": "python",
   "name": "python3"
  },
  "language_info": {
   "codemirror_mode": {
    "name": "ipython",
    "version": 3
   },
   "file_extension": ".py",
   "mimetype": "text/x-python",
   "name": "python",
   "nbconvert_exporter": "python",
   "pygments_lexer": "ipython3",
   "version": "3.8.9"
  }
 },
 "nbformat": 4,
 "nbformat_minor": 5
}
