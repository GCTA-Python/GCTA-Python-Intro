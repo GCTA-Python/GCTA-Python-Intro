{
 "cells": [
  {
   "cell_type": "code",
   "execution_count": null,
   "id": "122c620a-5c79-4de6-b9cf-8d9ad2fae33b",
   "metadata": {},
   "outputs": [],
   "source": [
    "# questionable design\n",
    "\n",
    "class Mario:\n",
    "    def __init__(self, max_height=11, max_middle=3):\n",
    "        self.max_height = max_height\n",
    "        self.max_middle = max_middle\n",
    "        self.height_inp = -1\n",
    "        self.middle_inp = -1\n",
    "\n",
    "    def run(self):\n",
    "        self._get_inp()\n",
    "        self._render_stairs()\n",
    "\n",
    "    def _get_inp(self):\n",
    "        while not -1 < self.height_inp < (self.max_height + 1):\n",
    "            usr_inp_h = input('stairs height: ')\n",
    "            if not usr_inp_h.isdigit():\n",
    "                continue\n",
    "            self.height_inp =  int(usr_inp_h)\n",
    "\n",
    "        while not -1 < self.middle_inp < (self.max_middle + 1):\n",
    "            usr_inp_m = input('space between: ')\n",
    "            if not usr_inp_m.isdigit():\n",
    "                continue\n",
    "            self.middle_inp =  int(usr_inp_m)\n",
    "            \n",
    "    def _render_stairs(self):\n",
    "        n = self.height_inp\n",
    "        k = self.middle_inp\n",
    "        for i in range(n + 1):\n",
    "            left = ' '*(n - i) + '#'*i\n",
    "            print(left + ' '*k + left[::-1])\n",
    "\n",
    "\n",
    "app = Mario()\n",
    "app.run()\n"
   ]
  }
 ],
 "metadata": {
  "kernelspec": {
   "display_name": "Python 3 (ipykernel)",
   "language": "python",
   "name": "python3"
  },
  "language_info": {
   "codemirror_mode": {
    "name": "ipython",
    "version": 3
   },
   "file_extension": ".py",
   "mimetype": "text/x-python",
   "name": "python",
   "nbconvert_exporter": "python",
   "pygments_lexer": "ipython3",
   "version": "3.11.5"
  }
 },
 "nbformat": 4,
 "nbformat_minor": 5
}
