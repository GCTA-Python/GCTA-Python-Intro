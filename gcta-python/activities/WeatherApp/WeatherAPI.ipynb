{
 "cells": [
  {
   "cell_type": "code",
   "execution_count": 9,
   "id": "4d097c73",
   "metadata": {
    "scrolled": true
   },
   "outputs": [
    {
     "name": "stdout",
     "output_type": "stream",
     "text": [
      "https://api.weather.gov/gridpoints/EWX/156,91/forecast\n"
     ]
    }
   ],
   "source": [
    "# google search weather.gov api\n",
    "office = \"EWX\"\n",
    "grid_x = '156'\n",
    "grid_y =  '91'\n",
    "URL = f\"https://api.weather.gov/gridpoints/{office}/{grid_x},{grid_y}/forecast\"\n",
    "\n",
    "print(URL)"
   ]
  },
  {
   "cell_type": "code",
   "execution_count": 8,
   "id": "78569d81",
   "metadata": {},
   "outputs": [
    {
     "name": "stdout",
     "output_type": "stream",
     "text": [
      "https://api.weather.gov/points/30.2672,-97.7431\n"
     ]
    }
   ],
   "source": [
    "# how to get grid points and/or office\n",
    "latitude = 30.2672\n",
    "longitude = -97.7431\n",
    "location = f\"https://api.weather.gov/points/{latitude},{longitude}\"\n",
    "\n",
    "print(location)"
   ]
  },
  {
   "cell_type": "code",
   "execution_count": null,
   "id": "2db9fe1a",
   "metadata": {},
   "outputs": [],
   "source": [
    "pip install requests"
   ]
  },
  {
   "cell_type": "code",
   "execution_count": 30,
   "id": "a2d6e530",
   "metadata": {},
   "outputs": [
    {
     "name": "stdout",
     "output_type": "stream",
     "text": [
      "Tonight 77\n",
      "\n",
      "Friday 103\n",
      "\n",
      "Friday Night 79\n",
      "\n",
      "Saturday 104\n",
      "\n",
      "Saturday Night 79\n",
      "\n",
      "Sunday 103\n",
      "\n",
      "Sunday Night 78\n",
      "\n",
      "Monday 104\n",
      "\n",
      "Monday Night 79\n",
      "\n",
      "Tuesday 102\n",
      "\n",
      "Tuesday Night 79\n",
      "\n",
      "Wednesday 102\n",
      "\n",
      "Wednesday Night 78\n",
      "\n",
      "Thursday 101\n",
      "\n"
     ]
    }
   ],
   "source": [
    "import requests\n",
    "\n",
    "office = \"EWX\"\n",
    "grid_x = '156'\n",
    "grid_y =  '91'\n",
    "URL = f\"https://api.weather.gov/gridpoints/{office}/{grid_x},{grid_y}/forecast\"\n",
    "\n",
    "my_data = requests.get(URL)\n",
    "my_data = my_data.json()\n",
    "\n",
    "# for key, value in my_data.items():\n",
    "#     print(key, value)\n",
    "#     print()\n",
    "# # print(my_data)\n",
    "\n",
    "for each_list_element in my_data['properties']['periods']:\n",
    "    print(each_list_element['name'], each_list_element['temperature'])\n",
    "    print()"
   ]
  },
  {
   "cell_type": "code",
   "execution_count": null,
   "id": "20a95237",
   "metadata": {},
   "outputs": [],
   "source": []
  }
 ],
 "metadata": {
  "kernelspec": {
   "display_name": "Python 3 (ipykernel)",
   "language": "python",
   "name": "python3"
  },
  "language_info": {
   "codemirror_mode": {
    "name": "ipython",
    "version": 3
   },
   "file_extension": ".py",
   "mimetype": "text/x-python",
   "name": "python",
   "nbconvert_exporter": "python",
   "pygments_lexer": "ipython3",
   "version": "3.10.2"
  }
 },
 "nbformat": 4,
 "nbformat_minor": 5
}
