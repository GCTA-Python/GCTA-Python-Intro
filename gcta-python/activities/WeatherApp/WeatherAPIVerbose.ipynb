{
 "cells": [
  {
   "cell_type": "code",
   "execution_count": null,
   "id": "4d097c73",
   "metadata": {
    "scrolled": true
   },
   "outputs": [],
   "source": [
    "# Google (search) \"weather.gov api\"...\n",
    "# you should find: https://www.weather.gov/documentation/services-web-api\n",
    "# go to the examples tab\n",
    "\n",
    "# How do I get the forecast?\n",
    "# https://api.weather.gov/gridpoints/{office}/{gridX},{gridY}/forecast\n",
    "\n",
    "# How do I find the office/grid?\n",
    "# https://api.weather.gov/points/{latitude},{longitude}\n",
    "\n",
    "# Start by finding the latitude and longitude of Austin\n",
    "# note: N/E is positive, S/W is negative"
   ]
  },
  {
   "cell_type": "code",
   "execution_count": null,
   "id": "78569d81",
   "metadata": {},
   "outputs": [],
   "source": [
    "# Solution:\n",
    "# how to get grid points and/or office\n",
    "latitude = 30.2672\n",
    "longitude = -97.7431\n",
    "location = f\"https://api.weather.gov/points/{latitude},{longitude}\"\n",
    "\n",
    "print(location)"
   ]
  },
  {
   "cell_type": "code",
   "execution_count": null,
   "id": "9c767131-83fd-4e00-ae1b-706c2fee1a36",
   "metadata": {},
   "outputs": [],
   "source": [
    "# We can now construct a solution for the forecast\n",
    "\n",
    "office = \"EWX\"\n",
    "grid_x = '156'\n",
    "grid_y =  '91'\n",
    "URL = f\"https://api.weather.gov/gridpoints/{office}/{grid_x},{grid_y}/forecast\"\n",
    "\n",
    "print(URL)"
   ]
  },
  {
   "cell_type": "code",
   "execution_count": null,
   "id": "a0e25e45-4340-4d42-aba0-f6eff767b2df",
   "metadata": {},
   "outputs": [],
   "source": [
    "# Install a package that allows us to automate web requests...\n",
    "# The requests package allows us to send HTTP requests extremely easily.\n",
    "# Run the cell below to install requests..."
   ]
  },
  {
   "cell_type": "code",
   "execution_count": null,
   "id": "2db9fe1a",
   "metadata": {},
   "outputs": [],
   "source": [
    "pip install requests"
   ]
  },
  {
   "cell_type": "code",
   "execution_count": null,
   "id": "c55082a2-8a2a-4ea1-a017-35d87b0d68e7",
   "metadata": {},
   "outputs": [],
   "source": [
    "# let's extract the data we want by inspecting and traversing the JSON file\n",
    "\n",
    "import requests\n",
    "\n",
    "office = \"EWX\"\n",
    "grid_x = '156'\n",
    "grid_y =  '91'\n",
    "URL = f\"https://api.weather.gov/gridpoints/{office}/{grid_x},{grid_y}/forecast\"\n",
    "\n",
    "my_data = requests.get(URL)\n",
    "my_data = my_data.json()\n",
    "# print(my_data['properties']['periods'])"
   ]
  },
  {
   "cell_type": "code",
   "execution_count": null,
   "id": "5071eb3e-c182-4970-acbe-f0fc3213ed21",
   "metadata": {},
   "outputs": [],
   "source": [
    "# this is a method we can use to figure out what to do next (get sub-solutions)\n",
    "# Do you see a pattern?\n",
    "\n",
    "# data1 = my_data['properties']['periods'][0]['name']\n",
    "# data2 = my_data['properties']['periods'][0]['temperature']\n",
    "# print(data1, data2)\n",
    "\n",
    "# data1 = my_data['properties']['periods'][1]['name']\n",
    "# data2 = my_data['properties']['periods'][1]['temperature']\n",
    "# print(data1, data2)\n",
    "\n",
    "# data1 = my_data['properties']['periods'][2]['name']\n",
    "# data2 = my_data['properties']['periods'][2]['temperature']\n",
    "# print(data1, data2)\n",
    "\n",
    "# data1 = my_data['properties']['periods'][3]['name']\n",
    "# data2 = my_data['properties']['periods'][3]['temperature']\n",
    "# print(data1, data2)\n",
    "\n",
    "# data1 = my_data['properties']['periods'][4]['name']\n",
    "# data2 = my_data['properties']['periods'][4]['temperature']\n",
    "# print(data1, data2)\n",
    "\n",
    "# data1 = my_data['properties']['periods'][5]['name']\n",
    "# data2 = my_data['properties']['periods'][5]['temperature']\n",
    "# print(data1, data2)"
   ]
  },
  {
   "cell_type": "code",
   "execution_count": null,
   "id": "c61503e7-11bc-4b66-8807-655ac8f7654e",
   "metadata": {},
   "outputs": [],
   "source": [
    "# let's extract the data we want by iterating over the JSON file\n",
    "\n",
    "import requests\n",
    "\n",
    "office = \"EWX\"\n",
    "grid_x = '156'\n",
    "grid_y =  '91'\n",
    "URL = f\"https://api.weather.gov/gridpoints/{office}/{grid_x},{grid_y}/forecast\"\n",
    "\n",
    "my_data = requests.get(URL)\n",
    "my_data = my_data.json()\n",
    "# print(my_data['properties']['periods'])\n",
    "\n",
    "# for i in range(7):\n",
    "#     print('iteration', i + 1)\n",
    "#     data1 = my_data['properties']['periods'][i]['name']\n",
    "#     data2 = my_data['properties']['periods'][i]['temperature']\n",
    "#     print(data1, data2, '\\n')\n",
    "\n",
    "# for each_days_data in my_data['properties']['periods']:\n",
    "#     print(each_days_data['name'], each_days_data['temperature'], '\\n')\n",
    "\n",
    "\n",
    "num_of_days = len(my_data['properties']['periods'])\n",
    "for i in range(num_of_days):\n",
    "    print('iteration', i + 1)\n",
    "    data1 = my_data['properties']['periods'][i]['name']\n",
    "    data2 = my_data['properties']['periods'][i]['temperature']\n",
    "    print(data1, data2, '\\n')\n"
   ]
  },
  {
   "cell_type": "code",
   "execution_count": null,
   "id": "a2d6e530",
   "metadata": {},
   "outputs": [],
   "source": [
    "# this is a good start (but we will probably want to get rid of that print!)\n",
    "# we don't want to print our data, we want to store it in a collection for later use!\n",
    "\n",
    "import requests\n",
    "\n",
    "office = \"EWX\"\n",
    "grid_x = '156'\n",
    "grid_y =  '91'\n",
    "URL = f\"https://api.weather.gov/gridpoints/{office}/{grid_x},{grid_y}/forecast\"\n",
    "\n",
    "my_data = requests.get(URL)\n",
    "my_data = my_data.json()\n",
    "\n",
    "# for key, value in my_data.items():\n",
    "#     print(key, value)\n",
    "#     print()\n",
    "# # print(my_data)\n",
    "\n",
    "for each_list_element in my_data['properties']['periods']:\n",
    "    print(each_list_element['name'], each_list_element['temperature'], '\\n')"
   ]
  },
  {
   "cell_type": "code",
   "execution_count": null,
   "id": "b8338bde-cd76-4838-9897-4cf84b686f1c",
   "metadata": {},
   "outputs": [],
   "source": [
    "# That concludes our data extraction\n",
    "# ...well, basically -- we're printing data we probably want to store in a collection\n",
    "# Next, let's create a GUI to display our data!"
   ]
  },
  {
   "cell_type": "code",
   "execution_count": null,
   "id": "20a95237",
   "metadata": {},
   "outputs": [],
   "source": [
    "# FUNCTIONAL (but quick to implement) GUI\n",
    "\n",
    "# PySimpleGUI @ https://www.pysimplegui.org/en/latest/#jump-start\n",
    "\n",
    "# pip installs must be ran in cell like below\n",
    "# run the cell below"
   ]
  },
  {
   "cell_type": "code",
   "execution_count": null,
   "id": "ec0ac60b-5cb4-4299-9d70-e6cfaf2ffe92",
   "metadata": {},
   "outputs": [],
   "source": [
    "pip install pysimplegui"
   ]
  },
  {
   "cell_type": "code",
   "execution_count": null,
   "id": "0ac6e4b6-62e8-41df-9a9a-742d3bb486d1",
   "metadata": {},
   "outputs": [],
   "source": [
    "import PySimpleGUI as sg\n",
    "\n",
    "sg.theme('DarkAmber')   # Add a touch of color\n",
    "# All the stuff inside your window.\n",
    "layout = [  [sg.Text('Some text on Row 1')],\n",
    "            [sg.Text('Enter something on Row 2'), sg.InputText()],\n",
    "            [sg.Button('Ok'), sg.Button('Cancel')] ]\n",
    "\n",
    "# Create the Window\n",
    "window = sg.Window('Window Title', layout)\n",
    "# Event Loop to process \"events\" and get the \"values\" of the inputs\n",
    "while True:\n",
    "    event, values = window.read()\n",
    "    if event == sg.WIN_CLOSED or event == 'Cancel': # if user closes window or clicks cancel\n",
    "        break\n",
    "    print('You entered ', values[0])  # this is buggy and the \"Ok\" button will crash the app without input text.\n",
    "\n",
    "window.close()"
   ]
  },
  {
   "cell_type": "code",
   "execution_count": null,
   "id": "4b5979e3-ba61-42fa-b556-89717b15144b",
   "metadata": {},
   "outputs": [],
   "source": [
    "# (optional) select theme with previewer\n",
    "import PySimpleGUI as sg\n",
    "sg.theme_previewer()"
   ]
  },
  {
   "cell_type": "code",
   "execution_count": null,
   "id": "ea7e04c8-0c28-4987-b9c6-6f0a6c8286f0",
   "metadata": {},
   "outputs": [],
   "source": [
    "# Do we want our data to be a string, or something else?\n",
    "# By using a variable (or f-string), we can dynamically populate the data\n",
    "# You'll need to replace the string...\n",
    "import PySimpleGUI as sg\n",
    "\n",
    "sg.theme('Gray Gray Gray')   # Remove a touch of color ;)\n",
    "\n",
    "# All the stuff inside your window.\n",
    "this_weeks_weather = 'our weather data!'\n",
    "layout = [  [sg.Text('7 Day Forecast')],\n",
    "            [sg.Text(this_weeks_weather)],\n",
    "            [sg.Button('Ok'), sg.Button('Cancel')] ]\n",
    "\n",
    "# Create the Window\n",
    "window = sg.Window('Window Title', layout)\n",
    "# Event Loop to process \"events\" and get the \"values\" of the inputs\n",
    "while True:\n",
    "    event, values = window.read()\n",
    "    if event == sg.WIN_CLOSED or event == 'Cancel': # if user closes window or clicks cancel\n",
    "        break\n",
    "    print('You entered ', values[0])  # this is buggy and the \"Ok\" button will crash the app without input text.\n",
    "\n",
    "window.close()"
   ]
  },
  {
   "cell_type": "code",
   "execution_count": null,
   "id": "d622d616-bf7b-483a-8b77-7c60ac0e117a",
   "metadata": {},
   "outputs": [],
   "source": [
    "# Let's add a button to load our data!\n",
    "\n",
    "import PySimpleGUI as sg\n",
    "\n",
    "sg.theme('Gray Gray Gray')   # Remove a touch of color ;)\n",
    "\n",
    "# All the stuff inside your window.\n",
    "this_weeks_weather = 'our weather data!'\n",
    "layout = [  [sg.Text('7 Day Forecast')],\n",
    "            [sg.Text(this_weeks_weather)],\n",
    "            [],\n",
    "            [sg.Button('Load Data', key='load_button_id')],  # the key is the ID we'll use to find it\n",
    "            [sg.Text('Not Loaded', key='load_text_id')],\n",
    "            [sg.Button('Ok'), sg.Button('Cancel')] ]\n",
    "\n",
    "# Create the Window\n",
    "window = sg.Window('Window Title', layout)\n",
    "# Event Loop to process \"events\" and get the \"values\" of the inputs\n",
    "while True:\n",
    "    # this data structure is a dictionary!\n",
    "    event, values = window.read()\n",
    "    if event == sg.WIN_CLOSED or event == 'Cancel': # if user closes window or clicks cancel\n",
    "        break\n",
    "\n",
    "    # let's do something when we see a key\n",
    "    if event == 'load_button_id':\n",
    "        # put load data code here\n",
    "        # or any code you want to be user driven\n",
    "        window['load_text_id'].update('Load Button Clicked!')\n",
    "\n",
    "    # one of many fixes to the bug below\n",
    "    if len(values) < 1:\n",
    "        continue\n",
    "    print('You entered ', values[0])\n",
    "\n",
    "window.close()"
   ]
  },
  {
   "cell_type": "code",
   "execution_count": null,
   "id": "81308a53-2e74-49fa-9495-20b825948762",
   "metadata": {},
   "outputs": [],
   "source": []
  },
  {
   "cell_type": "code",
   "execution_count": null,
   "id": "fe5a4f02-76c9-4692-bfd0-21a2a2d3cfe2",
   "metadata": {},
   "outputs": [],
   "source": [
    "# Additional information/resources"
   ]
  },
  {
   "cell_type": "code",
   "execution_count": null,
   "id": "785e9229-4a5b-40b9-864a-4d54340d7e61",
   "metadata": {},
   "outputs": [],
   "source": [
    "# f-strings\n",
    "# starts with a lowercase f\n",
    "# is a string\n",
    "# and contains vairables inside curley braces\n",
    "\n",
    "foo = 333333\n",
    "f'{foo} bar'"
   ]
  },
  {
   "cell_type": "code",
   "execution_count": null,
   "id": "726e9831-3f6e-4476-a4c1-ad10195e28e3",
   "metadata": {},
   "outputs": [],
   "source": [
    "# how to create a list of data (1st method)\n",
    "items = [3, 2, 76, 12, 8, 3, 7, 3]\n",
    "new_list = []\n",
    "for each_item in items:\n",
    "    new_list.append(each_item)\n",
    "print(new_list)"
   ]
  },
  {
   "cell_type": "code",
   "execution_count": null,
   "id": "a9d347cb-8314-4953-9092-b8d72f318b95",
   "metadata": {},
   "outputs": [],
   "source": [
    "# how to create a list of data (2nd method)\n",
    "items = [3, 2, 76, 12, 8, 3, 7, 3]\n",
    "new_list = []\n",
    "n = len(items)\n",
    "for i in range(n):\n",
    "    new_list.append(items[i])\n",
    "print(new_list)"
   ]
  },
  {
   "cell_type": "code",
   "execution_count": null,
   "id": "6b207e3b-c081-4e34-b20f-9e08c6175281",
   "metadata": {},
   "outputs": [],
   "source": []
  }
 ],
 "metadata": {
  "kernelspec": {
   "display_name": "Python 3 (ipykernel)",
   "language": "python",
   "name": "python3"
  },
  "language_info": {
   "codemirror_mode": {
    "name": "ipython",
    "version": 3
   },
   "file_extension": ".py",
   "mimetype": "text/x-python",
   "name": "python",
   "nbconvert_exporter": "python",
   "pygments_lexer": "ipython3",
   "version": "3.11.5"
  }
 },
 "nbformat": 4,
 "nbformat_minor": 5
}
