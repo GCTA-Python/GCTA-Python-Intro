{
 "cells": [
  {
   "cell_type": "code",
   "execution_count": null,
   "id": "d8008018-1cf7-422f-9158-b4a9af1e77bc",
   "metadata": {},
   "outputs": [],
   "source": [
    "# Google: \"weather api data\""
   ]
  },
  {
   "cell_type": "code",
   "execution_count": null,
   "id": "ac6bc9fd-de85-4ee9-a0b9-a87949e8f059",
   "metadata": {},
   "outputs": [],
   "source": []
  },
  {
   "cell_type": "code",
   "execution_count": null,
   "id": "235edbd6-1261-48cc-baca-af17a1ab4128",
   "metadata": {},
   "outputs": [],
   "source": [
    "# How do I get the forecast?"
   ]
  },
  {
   "cell_type": "code",
   "execution_count": null,
   "id": "3a31ffcb-b2c7-4dd4-9f36-007d85e1bc66",
   "metadata": {},
   "outputs": [],
   "source": [
    "# How do I find the office/grid?"
   ]
  },
  {
   "cell_type": "code",
   "execution_count": null,
   "id": "9e8e026f-5ac9-46e2-ab1e-1b0669dbe514",
   "metadata": {},
   "outputs": [],
   "source": []
  },
  {
   "cell_type": "code",
   "execution_count": null,
   "id": "4556097c-c463-4aa9-96aa-a9c83dbd234f",
   "metadata": {},
   "outputs": [],
   "source": [
    "# Automation: Find and install a package that allows us to automate web requests..."
   ]
  },
  {
   "cell_type": "code",
   "execution_count": null,
   "id": "4e5e2db8-eb47-490d-9a3d-6c2a8614dc4f",
   "metadata": {},
   "outputs": [],
   "source": [
    "# Google: \"how to get web api data in python\""
   ]
  },
  {
   "cell_type": "code",
   "execution_count": null,
   "id": "0f0059ac-5f97-49ee-9240-bbaec02e6094",
   "metadata": {},
   "outputs": [],
   "source": []
  },
  {
   "cell_type": "code",
   "execution_count": null,
   "id": "6153a989-6321-4f31-99a8-bfffa8e2575f",
   "metadata": {},
   "outputs": [],
   "source": [
    "# display the API response"
   ]
  },
  {
   "cell_type": "code",
   "execution_count": null,
   "id": "7e3c6bfd-1917-409b-ba3d-b7de81de4bae",
   "metadata": {},
   "outputs": [],
   "source": []
  },
  {
   "cell_type": "code",
   "execution_count": null,
   "id": "b6f8d5b9-23cb-40b6-90d7-ed043398e75a",
   "metadata": {},
   "outputs": [],
   "source": [
    "# loop over the response, showing the 7 day forecast"
   ]
  },
  {
   "cell_type": "code",
   "execution_count": null,
   "id": "6b225370-9de1-4089-afe3-c3278025e291",
   "metadata": {},
   "outputs": [],
   "source": []
  }
 ],
 "metadata": {
  "kernelspec": {
   "display_name": "Python 3 (ipykernel)",
   "language": "python",
   "name": "python3"
  },
  "language_info": {
   "codemirror_mode": {
    "name": "ipython",
    "version": 3
   },
   "file_extension": ".py",
   "mimetype": "text/x-python",
   "name": "python",
   "nbconvert_exporter": "python",
   "pygments_lexer": "ipython3",
   "version": "3.11.5"
  }
 },
 "nbformat": 4,
 "nbformat_minor": 5
}
