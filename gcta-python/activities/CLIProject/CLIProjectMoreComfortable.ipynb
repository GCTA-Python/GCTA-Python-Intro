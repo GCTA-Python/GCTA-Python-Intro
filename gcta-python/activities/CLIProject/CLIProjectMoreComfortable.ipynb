{
 "cells": [
  {
   "cell_type": "code",
   "execution_count": null,
   "id": "c22afae3-a1b7-4b3b-8b78-9da21d4f1adf",
   "metadata": {},
   "outputs": [],
   "source": [
    "# READ ME\n",
    "# The hardware team has just finished installing the first few servers in our new cluster.\n",
    "# You're tasked with writing a CLI for our server infrastructure.\n",
    "# project specifications:\n",
    "#     user will run the program by running the cell\n",
    "#     this CLI controls a remote server cluster (pictured below)\n",
    "#     the user must be able to issue a CLI command to start the server cluster: \"start\"\n",
    "#     the user must be able to issue a CLI command to stop the server cluster: \"stop\"\n",
    "#     the user must be able to issue a CLI command to restart the server cluster: \"restart\"\n",
    "#     the CLI must respond to unrecognized commands by notifying the user (e.g. \"unrecognized command\")\n",
    "#     the user must be able to exit the program"
   ]
  },
  {
   "cell_type": "code",
   "execution_count": 1,
   "id": "a6a7bc26-a273-4bd1-a785-79cd5b4fd13b",
   "metadata": {},
   "outputs": [
    {
     "data": {
      "text/html": [
       "<!DOCTYPE html><html lang=\"en\"><head><meta charset=\"UTF-8\"><meta name=\"viewport\" content=\"width=device-width, initial-scale=1.0\"><title>Server Control Panel</title><style>body{font-family:'Arial',sans-serif;background-color:#f4f4f4;margin:0;padding:0;display:flex;justify-content:center;align-items:center;height:100vh;}.panel{background-color:#fff;border-radius:8px;box-shadow:0 4px 8px rgba(0,0,0,0.1);overflow:hidden;width:80%;max-width:800px;}.header{background-color:#3498db;color:#fff;padding:20px;text-align:center;}.server-list{list-style:none;padding:0;margin:0;}.server-item{display:flex;justify-content:space-between;align-items:center;padding:15px;border-bottom:1px solid #ecf0f1;}.server-item:last-child{border-bottom:none;}.server-name{margin-left:10px;}.button{padding:10px 20px;font-size:14px;cursor:pointer;border:none;border-radius:4px;transition:background-color 0.3s;}.start-button{background-color:#2ecc71;color:#fff;}.stop-button{background-color:#e74c3c;color:#fff;}.button:hover{background-color:#34495e;}</style></head><body><div class=\"panel\"><div class=\"header\"><h1>Server Control Panel</h1></div><ul class=\"server-list\"><li class=\"server-item\"><button class=\"button start-button\">Start All</button><button class=\"button stop-button\">Stop All</button></li><li class=\"server-item\"><span class=\"server-name\">Server 1</span><button class=\"button start-button\">Start</button><button class=\"button stop-button\">Stop</button></li><li class=\"server-item\"><span class=\"server-name\">Server 2</span><button class=\"button start-button\">Start</button><button class=\"button stop-button\">Stop</button></li><li class=\"server-item\"><span class=\"server-name\">Server 3</span><button class=\"button start-button\">Start</button><button class=\"button stop-button\">Stop</button></li></ul></div></body></html>\n",
       "\n",
       "<!-- RUN THIS CELL TO VIEW THE SERVER CONTROL PANNEL (input has been disabled) -->\n"
      ],
      "text/plain": [
       "<IPython.core.display.HTML object>"
      ]
     },
     "metadata": {},
     "output_type": "display_data"
    }
   ],
   "source": [
    "%%html\n",
    "<!DOCTYPE html><html lang=\"en\"><head><meta charset=\"UTF-8\"><meta name=\"viewport\" content=\"width=device-width, initial-scale=1.0\"><title>Server Control Panel</title><style>body{font-family:'Arial',sans-serif;background-color:#f4f4f4;margin:0;padding:0;display:flex;justify-content:center;align-items:center;height:100vh;}.panel{background-color:#fff;border-radius:8px;box-shadow:0 4px 8px rgba(0,0,0,0.1);overflow:hidden;width:80%;max-width:800px;}.header{background-color:#3498db;color:#fff;padding:20px;text-align:center;}.server-list{list-style:none;padding:0;margin:0;}.server-item{display:flex;justify-content:space-between;align-items:center;padding:15px;border-bottom:1px solid #ecf0f1;}.server-item:last-child{border-bottom:none;}.server-name{margin-left:10px;}.button{padding:10px 20px;font-size:14px;cursor:pointer;border:none;border-radius:4px;transition:background-color 0.3s;}.start-button{background-color:#2ecc71;color:#fff;}.stop-button{background-color:#e74c3c;color:#fff;}.button:hover{background-color:#34495e;}</style></head><body><div class=\"panel\"><div class=\"header\"><h1>Server Control Panel</h1></div><ul class=\"server-list\"><li class=\"server-item\"><button class=\"button start-button\">Start All</button><button class=\"button stop-button\">Stop All</button></li><li class=\"server-item\"><span class=\"server-name\">Server 1</span><button class=\"button start-button\">Start</button><button class=\"button stop-button\">Stop</button></li><li class=\"server-item\"><span class=\"server-name\">Server 2</span><button class=\"button start-button\">Start</button><button class=\"button stop-button\">Stop</button></li><li class=\"server-item\"><span class=\"server-name\">Server 3</span><button class=\"button start-button\">Start</button><button class=\"button stop-button\">Stop</button></li></ul></div></body></html>\n",
    "\n",
    "<!-- RUN THIS CELL TO VIEW THE SERVER CONTROL PANNEL (input has been disabled) -->\n",
    "<!-- MOVE TO THE NEXT CELL AFTER IT IS LOADED -->"
   ]
  },
  {
   "cell_type": "code",
   "execution_count": null,
   "id": "a3f1b5bf-35c7-40ae-905c-ddf3ed6b376c",
   "metadata": {},
   "outputs": [],
   "source": [
    "# RUN THIS CELL TO LOAD THE NECESSARY SERVER FUNCTIONS\n",
    "# MOVE TO THE NEXT CELL AFTER IT IS LOADED\n",
    "\n",
    "import time as t\n",
    "\n",
    "class ServerCluster:\n",
    "    def __init__(self):\n",
    "        self.online = False\n",
    "\n",
    "    @staticmethod\n",
    "    def process(count, msg):\n",
    "        time = count\n",
    "        while time > 0:\n",
    "            print(f\"... {time} seconds until {msg} completes ...\")\n",
    "            t.sleep(1)\n",
    "            time -= 1\n",
    "    \n",
    "    def run_cluster(self):\n",
    "        if not self.online:\n",
    "            print(\"Booting server cluster...\")\n",
    "            self.process(3, \"startup\")\n",
    "            self.online = True\n",
    "            print(\"Server cluster is up and running!\")\n",
    "        else:\n",
    "            print(\"Server cluster is already online...\")\n",
    "\n",
    "    def shutdown_cluster(self):\n",
    "        if self.online:\n",
    "            print(\"Server shutdown has been initiated...\")\n",
    "            self.process(5, \"shutdown\")\n",
    "            self.online = False\n",
    "            print(\"Server cluster shutdown complete!\")\n",
    "        else:\n",
    "            print(\"Server cluster is already offline...\")\n",
    "    \n",
    "    def restart_cluster(self):\n",
    "        if self.online:\n",
    "            self.shutdown_cluster()\n",
    "            self.run_cluster()\n",
    "        else:\n",
    "            print(\"Cannot restart offline cluster...\")\n",
    "\n",
    "\n",
    "servers = ServerCluster()\n",
    "start = lambda: servers.run_cluster()\n",
    "stop = lambda: servers.shutdown_cluster()\n",
    "restart = lambda: servers.restart_cluster()"
   ]
  },
  {
   "cell_type": "code",
   "execution_count": null,
   "id": "8598e6ab-ee6f-4806-bb94-7d15f0746987",
   "metadata": {},
   "outputs": [],
   "source": [
    "# CODE HERE\n",
    "# This will be the cell you write and run your CLI in\n",
    "\n",
    "# the function call start() runs the server cluster\n",
    "# the function call stop() stops the server cluster\n",
    "# the function call restart() restarts the server cluster\n",
    "\n",
    "# Write code below:\n",
    "\n",
    "# continuously get user input\n",
    "# respond to user input accordingly\n",
    "# don't forget to respond to unrecognized commands\n",
    "# don't forget to provide the ability to exit\n",
    "\n",
    "usr_inp_prompt = '> '\n",
    "bad_cmd = 'unrecognized command'\n",
    "usr_inp = None\n"
   ]
  },
  {
   "cell_type": "code",
   "execution_count": null,
   "id": "f4e739c0-e39e-44e9-b568-e636bf643aa7",
   "metadata": {},
   "outputs": [],
   "source": []
  }
 ],
 "metadata": {
  "kernelspec": {
   "display_name": "Python 3 (ipykernel)",
   "language": "python",
   "name": "python3"
  },
  "language_info": {
   "codemirror_mode": {
    "name": "ipython",
    "version": 3
   },
   "file_extension": ".py",
   "mimetype": "text/x-python",
   "name": "python",
   "nbconvert_exporter": "python",
   "pygments_lexer": "ipython3",
   "version": "3.11.5"
  }
 },
 "nbformat": 4,
 "nbformat_minor": 5
}
