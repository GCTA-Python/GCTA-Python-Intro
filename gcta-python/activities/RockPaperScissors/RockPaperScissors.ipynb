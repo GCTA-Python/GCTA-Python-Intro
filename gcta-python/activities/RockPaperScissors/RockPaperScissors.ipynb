{
 "cells": [
  {
   "cell_type": "code",
   "execution_count": null,
   "id": "25ff2ba9-4d03-4f73-8551-1603dee0f9be",
   "metadata": {},
   "outputs": [],
   "source": [
    "'''\n",
    "specifications:\n",
    "- each game consists of 3 rounds of each player choosing: rock, paper, or scissors\n",
    "    example:\n",
    "        rock v paper - p2 scores 1 point\n",
    "        scissors v scissors - tie\n",
    "        scissors v rock - p2 scores 1 point\n",
    "        p2 (computer) wins with 2 points to 0 points (human)\n",
    "    \n",
    "- games must request user input\n",
    "- the user is competing against the computer\n",
    "- user input must specify the user's choice for each round\n",
    "\n",
    "bonus:\n",
    "    after each game the application should ask the user if they want to exit or continue\n",
    "    user input must specify the number of games to play\n",
    "    implement multi-game play\n",
    "    \n",
    "tutorial https://realpython.com/python-rock-paper-scissors/\n",
    "\n",
    "it is import to try to first do something yourself, and if you get stuck for a few minutes of \n",
    "no progress whatsoever,* or feel completely lost, reference external material, but only to the \n",
    "extent that you know the next step to take\n",
    "\n",
    "*this depends on the context. in some contexts you should seek help after only a few minutes, \n",
    "in others, help may be inaccessible, and you may need to try to work through a problem for \n",
    "hours, days, even weeks or months.\n",
    "'''"
   ]
  },
  {
   "cell_type": "code",
   "execution_count": null,
   "id": "78035705",
   "metadata": {},
   "outputs": [],
   "source": [
    "# do until winner\n",
    "    # get user input\n",
    "    # get computer play\n",
    "    # compare\n",
    "    # record\n",
    "\n",
    "import random\n",
    "from random import choice\n",
    "\n",
    "# you can delete these if you\n",
    "# don't want to use them\n",
    "games = 0\n",
    "score = 0\n",
    "winner = False\n",
    "\n",
    "# write code below\n",
    "\n",
    "\n",
    "\n",
    "    "
   ]
  }
 ],
 "metadata": {
  "kernelspec": {
   "display_name": "Python 3 (ipykernel)",
   "language": "python",
   "name": "python3"
  },
  "language_info": {
   "codemirror_mode": {
    "name": "ipython",
    "version": 3
   },
   "file_extension": ".py",
   "mimetype": "text/x-python",
   "name": "python",
   "nbconvert_exporter": "python",
   "pygments_lexer": "ipython3",
   "version": "3.11.5"
  }
 },
 "nbformat": 4,
 "nbformat_minor": 5
}
