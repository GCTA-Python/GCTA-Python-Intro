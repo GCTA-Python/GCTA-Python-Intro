{
 "cells": [
  {
   "cell_type": "code",
   "execution_count": null,
   "id": "2b5082d8",
   "metadata": {},
   "outputs": [],
   "source": [
    "# necessary knowledge\n",
    "#   functions\n",
    "#   user input\n",
    "#   IO\n",
    "#   modules (built-in)\n",
    "#   random\n",
    "#   strings\n",
    "\n",
    "# optional/bonus\n",
    "#   error handeling\n",
    "\n",
    "# contains hints/guidance\n",
    "\n",
    "# OBJECTIVE:\n",
    "# the objective of this assignement is to create a function that produces a randomized string\n",
    "\n",
    "# SPECIFICATIONS\n",
    "# your script must request user input for the following:\n",
    "#     the size (length) of the string\n",
    "#     whether letters, numbers, and/or other symbols can be used in the creation of the string\n",
    "\n",
    "# Examples:\n",
    "#   Example 1 (letters only of length 7):\n",
    "#     seoensi\n",
    "#   Example 2 (letters with symbols of length 12):\n",
    "#     no*m#wn*m(nm~\n",
    "#   Example 3 (only symbols and numbers of length 5):\n",
    "#     &*37!\n",
    "\n",
    "# Additional Information:\n",
    "# ASCII characters use integers to represent letters, numbers, and symbols.\n",
    "#   in python we can convert an integer to a letter chr(97) -> 'a', \n",
    "#   and letter to integer ord('b') -> 98"
   ]
  },
  {
   "cell_type": "code",
   "execution_count": null,
   "id": "b56be535",
   "metadata": {},
   "outputs": [],
   "source": [
    "# hint on writing the function\n",
    "\n",
    "encoded = 'wkh#gdwd#w|sh#lqw#fdq#uhsuhvhqw#ohqjwk/#\\rzkloh#d#errohdq#fdq#uhsuhvhqw#zkhwkhu#ru#qrw#wr#lqfoxgh#vrphwklqj'\n",
    "print(''.join([chr(ord(letter) - 3) for letter in encoded]))"
   ]
  },
  {
   "cell_type": "code",
   "execution_count": null,
   "id": "e64ae9ef",
   "metadata": {},
   "outputs": [],
   "source": [
    "# hint on randomization\n",
    "\n",
    "encoded = 'wkh#1fkrlfh+,#phwkrg#ri#wkh#udqgrp#prgxoh#slfnv#dq#lwhp#iurp#d#olvw'\n",
    "print(''.join([chr(ord(letter) - 3) for letter in encoded]))"
   ]
  },
  {
   "cell_type": "code",
   "execution_count": null,
   "id": "cf307841",
   "metadata": {},
   "outputs": [],
   "source": [
    "# hint on getting ASCII characters\n",
    "\n",
    "encoded = 'vwulqj1dvfllbohwwhuv#lv#dq#remhfw#wkdw#uhsuhvhqwv#doo#dvfll#ohwwhuv'\n",
    "print(''.join([chr(ord(letter) - 3) for letter in encoded]))"
   ]
  },
  {
   "cell_type": "code",
   "execution_count": null,
   "id": "659b22ba",
   "metadata": {},
   "outputs": [],
   "source": [
    "# run this cell for guidance\n",
    "\n",
    "encoded = 'Fuhdwh#dqg#xvh#qhz#fhoov#iru#hdfk#vroxwlrq1\\r\\rVxesureohp#4=\\r##sulqw#d#udqgrp#ohwwhu\\r\\rVxesureohp#5=\\r##sulqw#d#vwulqj#ri#udqgrp#ohwwhuv#wkdw#kdv#d#ohqjwk#ri#43\\r\\rVxesureohp#6=\\r##sulqw#d#vwulqj#wkdw#kdv#d#ohqjwk#ghilqhg#e|#xbohqjwk\\r##wkhq#fkdqjh#xbohqjwk#wr#sulqw#49#dqg#65#ohqjwk#vwulqjv\\r##+|rx#zloo#qhhg#wr#uxq#wkh#fhoo#iru#hdfk#ohqjwk,\\r\\rVxesureohp#7=\\r##sulqw#d#vwulqj#ri#udqgrp#ohwwhuv/#zlwk#d#ohqjwk#ghilqhg#e|#d#xvhu\\r\\rVxesureohp#8=\\r##sulqw#d#vwulqj#ri#udqgrp#qxpehuv/#zlwk#d#ohqjwk#ghilqhg#e|#d#xvhu\\r\\rVxesureohp#9=\\r##lq#d#qhz#fhoo/#sulqw#d#vwulqj#ri#udqgrp#ohwwhuv#dqg#qxpehuv/#zlwk#d#ohqjwk#ghilqhg#e|#d#xvhu\\r\\rVxesureohp#:=\\r##jhw#xvhu#lqsxw/#dqg#li#wkh#xvhu#hqwhuhg#%\\\\%/#sulqw/#%L#oryh#frglqj$%/#dqg\\r##li#wkh#xvhu#w|shv#%Q%/#sulqw#%L#vwloo#olnh#frglqj$%\\r\\rVxesureohp#;=\\r##jhw#xvhu#lqsxw/#dqg#li#xvhu#lqsxw#lv#%\\\\%/#uhdvvljq#wkdw#xvhu#lqsxw#wr#wkh#errohdq#Wuxh\\r##dqg#li#wkh#xvhu#lqsxw#lv#%Q%/#uhdvvljq#wkdw#xvhu#lqsxw#wr#wkh#errohdq#Idovh#+xvublqs#@#Idovh,\\r\\rVxesureohp#<=\\r##sulqw#d#vwulqj#ri#udqgrp#fkdudfwhuv/#zkhuh#wkh#xvhu#vshflilhv#wkh#ohqjwk/\\r##dqg#zkhwkhu#wkh|#zdqw#wr#lqfoxgh#rqo|#ohwwhuv/#rqo|#qxpehuv/#ru#erwk1\\r\\rVxesureohp#43=\\r##prgli|#wkh#vroxwlrq#wr#vxesureohp#:#wr#doorz#iru#wkh#lqfoxvlrq#ri#v|perov\\r\\rVxesureohp#44=\\r##prgli|#wkh#vroxwlrq#wr#vxesureohp#;/#dqg#pdnh#wklv#udqgrp#vwulqj#jhqhudwru#d#ixqfwlrq\\r##|rxu#ixqfwlrq#zloo#qhhg#d#sdudphwhu#iru#ohqjwk/#ohwwhuv/#qxpehuv/#dqg#v|perov1\\r##pdnh#d#fdoo#wr#|rxu#ixqfwlrq#xvlqj#ohqjwk#65/#lqfoxgh#ohwwhuv/#h{foxgh#qxpehuv/#dqg#v|perov1\\r\\rVxesureohp#45=\\r##pdnh#d#fdoo#wr#|rxu#ixqfwlrq#xvlqj#ohqjwk#49#dqg#rqo|#ohwwhuv1\\r\\rVxesureohp#46=\\r##pdnh#d#fdoo#wr#|rxu#ixqfwlrq#xvlqj#ohqjwk#49#dqg#rqo|#qxpehuv1\\r\\rVxesureohp#47=\\r##pdnh#d#fdoo#wr#|rxu#ixqfwlrq#xvlqj#ohqjwk#49#dqg#rqo|#v|perov1\\r\\rVxesureohp#48=\\r##zulwh#d#ixqfwlrq#wkdw#uhtxhvwv#xvhu#lqsxw#iru#dq|#6/#gliihuhqw#yduldeohv\\r\\rVxesureohp#49=\\r##zulwh#d#ixqfwlrq#wkdw#uhtxhvwv#xvhu#lqsxw#iru#d#ohqjwk/#\\r##dqg#zhdwkhu#ru#qrw#wkh|#olnh#ohwwhuv/#qxpehuv/#dqg#v|perov1\\r##h1j1#Mxg|#grhv#qrw#olnh#ohwwhuv#ru#qxpehuv/#exw#olnhv#v|perov1\\r\\rVxesureohp#4:=\\r##lqwhjudwh#vxesureohp#<#lqwr#d#ixqfwlrq#vlplodu#wr#vxesureohp#47\\r##wkh#uhvxow#vkrxog#eh#d#fdoodeoh#ixqfwlrq#wkdw#wdnhv#7#dujxphqwv=\\r##ohqjwk/#ohwwhuv/#qxpehuv/#dqg#v|perov#+lqw/#erro/#erro/#erro,1\\r'\n",
    "print(''.join([chr(ord(letter) - 3) for letter in encoded]))"
   ]
  }
 ],
 "metadata": {
  "kernelspec": {
   "display_name": "Python 3 (ipykernel)",
   "language": "python",
   "name": "python3"
  },
  "language_info": {
   "codemirror_mode": {
    "name": "ipython",
    "version": 3
   },
   "file_extension": ".py",
   "mimetype": "text/x-python",
   "name": "python",
   "nbconvert_exporter": "python",
   "pygments_lexer": "ipython3",
   "version": "3.10.2"
  }
 },
 "nbformat": 4,
 "nbformat_minor": 5
}
