{
 "cells": [
  {
   "cell_type": "code",
   "execution_count": null,
   "id": "b095692e",
   "metadata": {},
   "outputs": [],
   "source": [
    "# Create a list containing the values 1,2,3 and check its type using the type function\n"
   ]
  },
  {
   "cell_type": "code",
   "execution_count": null,
   "id": "940f1c59",
   "metadata": {},
   "outputs": [],
   "source": [
    "# Create a list containing the values 1,2,3 and check that it is a list using the isinstance function\n"
   ]
  },
  {
   "cell_type": "code",
   "execution_count": null,
   "id": "e6e1b9d3",
   "metadata": {},
   "outputs": [],
   "source": [
    "# Create a list containing values 1,2,3 and then print the first item in the list\n"
   ]
  },
  {
   "cell_type": "code",
   "execution_count": null,
   "id": "04c6724b",
   "metadata": {},
   "outputs": [],
   "source": [
    "# Create a list containing values 1,2,3 and then print the first two items in the list\n"
   ]
  },
  {
   "cell_type": "code",
   "execution_count": null,
   "id": "f1631690",
   "metadata": {},
   "outputs": [],
   "source": [
    "# Create a list containing values 1,2,3,4 and then print the the two middle numbers in the list\n"
   ]
  },
  {
   "cell_type": "code",
   "execution_count": null,
   "id": "17917ef0",
   "metadata": {},
   "outputs": [],
   "source": [
    "# Create a list containing values 1,2,3,4 and then print the last item\n"
   ]
  },
  {
   "cell_type": "code",
   "execution_count": null,
   "id": "a7fb353c",
   "metadata": {},
   "outputs": [],
   "source": [
    "# Create a list containing values 1,2,3,4 and then print the last two items\n"
   ]
  },
  {
   "cell_type": "code",
   "execution_count": null,
   "id": "b7cf43a5",
   "metadata": {},
   "outputs": [],
   "source": [
    "# Create a list containing values 1,2,3,4 and then change the value of of the second item in the list (2) to be 9. \n",
    "# Use the indexing we learned above and the assignment operator (=) to do this\n"
   ]
  },
  {
   "cell_type": "code",
   "execution_count": null,
   "id": "adc90748",
   "metadata": {},
   "outputs": [],
   "source": [
    "# create a list containing values 1,2,3,4 then print the length of it using the len function\n"
   ]
  },
  {
   "cell_type": "code",
   "execution_count": null,
   "id": "b35788a7",
   "metadata": {},
   "outputs": [],
   "source": [
    "# create a list with the values 'cat', 'dog', 'bird' and print it\n"
   ]
  },
  {
   "cell_type": "code",
   "execution_count": null,
   "id": "833d4d1b",
   "metadata": {},
   "outputs": [],
   "source": [
    "# create a list with the values 'cat', 2, 'dog' and print it\n"
   ]
  },
  {
   "cell_type": "code",
   "execution_count": null,
   "id": "d47f11bb",
   "metadata": {},
   "outputs": [],
   "source": [
    "# create two lists. Add them together. Print the result.\n"
   ]
  },
  {
   "cell_type": "code",
   "execution_count": null,
   "id": "1b1309a9",
   "metadata": {},
   "outputs": [],
   "source": [
    "# create a list containing the values 5,9,8,5 then use the sort method to sort it ascendingly\n"
   ]
  },
  {
   "cell_type": "code",
   "execution_count": null,
   "id": "a2385b9e",
   "metadata": {},
   "outputs": [],
   "source": [
    "# create a list containing the values 'cat','dog' then use the reverse method to reverse its order\n"
   ]
  }
 ],
 "metadata": {
  "kernelspec": {
   "display_name": "Python 3 (ipykernel)",
   "language": "python",
   "name": "python3"
  },
  "language_info": {
   "codemirror_mode": {
    "name": "ipython",
    "version": 3
   },
   "file_extension": ".py",
   "mimetype": "text/x-python",
   "name": "python",
   "nbconvert_exporter": "python",
   "pygments_lexer": "ipython3",
   "version": "3.11.5"
  }
 },
 "nbformat": 4,
 "nbformat_minor": 5
}
