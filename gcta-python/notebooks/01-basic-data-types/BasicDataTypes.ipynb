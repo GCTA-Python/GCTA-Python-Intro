{
 "cells": [
  {
   "cell_type": "markdown",
   "metadata": {
    "id": "Kj5AAf1twTjU"
   },
   "source": [
    "<span style=\"font-size: 16px; font-family: Geneva, Tahoma, Verdana, sans-serif;\">\n",
    "\n",
    "<h1>Basic Data Types</h1>\n",
    "    \n",
    "<h3>Motivation</h3>\n",
    "We need to be able to translate real world stuff (phenomena) into things the computer understands (computational representations).\n",
    "<br>\n",
    "\n",
    "<br>\n",
    "<b>Basic built-in data types:</b>\n",
    "<br><br>\n",
    "Individual Types:<br>\n",
    "<ul style=\"list-style: square; margin-top: 0;\">\n",
    "    <li>integer</li>\n",
    "    <li>float</li>\n",
    "    <li>boolean</li>\n",
    "    <li>none</li>\n",
    "</ul>\n",
    "Collection Types:<br>\n",
    "<ul style=\"list-style: square; margin-top: 0;\">\n",
    "    <li>string (collection of chars)</li>\n",
    "    <li>list</li>\n",
    "    <li>dictionary</li>\n",
    "    <li>set</li>\n",
    "</ul>\n",
    "</span>"
   ]
  },
  {
   "cell_type": "markdown",
   "metadata": {},
   "source": [
    "<span style=\"font-size: 16px; font-family: Geneva, Tahoma, Verdana, sans-serif;\">\n",
    "\n",
    "<h1>Definitions</h1>\n",
    "\n",
    "<b>Literals</b> are fixed source code values (constant values of built-in types).<br>\n",
    "\n",
    "Text Type: string (```str```)\n",
    "    \n",
    "* <b>strings</b> represent text data and are text enclosed in quotations (eg ```\"data\"```)\n",
    "\n",
    "Numeric Types: integer (```int```); float (```float```)<br>\n",
    "\n",
    "* <b>integers</b> represent integral numerical data (whole numbers, eg ```0, 4, 1, -4```)<br>\n",
    "    \n",
    "* <b>floats</b> (floating-point numbers) represent fractional numerical data (decimal numbers, eg ```0.0, 4.0, 4.1, -3.2```)\n",
    "\n",
    "Boolean Type (```bool```):\n",
    "\n",
    "* <b>boolean</b> values represent a boolean logic values of either ```True``` or ```False```.\n",
    "\n",
    "None Type (```NoneType```):\n",
    "\n",
    "* the <b>none type</b> generally represents the absense of value and is always ```None```.\n",
    "\n",
    "List Type (```list```):\n",
    "\n",
    "* <b>lists</b> are a basic collection of objects, of any type (eg ```[\"dog\", \"cat\", 3, False]```).\n",
    "    \n",
    "</span>"
   ]
  },
  {
   "cell_type": "markdown",
   "metadata": {},
   "source": [
    "<span style=\"font-size: 16px; font-family: Geneva, Tahoma, Verdana, sans-serif;\">\n",
    "\n",
    "<h1>Related Built-In Functions</h1>\n",
    "\n",
    "The two built-in functions we will be utilizing are:\n",
    "```python\n",
    "type()        # returns the data type of the object inside the parenthesis\n",
    "isinstance()  # returns whether or not the object is of the specified data type\n",
    "```\n",
    "<code>type()</code> accepts only one argument, while <code>isinstance()</code> accepts two. <code>isinstance()</code> compares the first object to the second object, and returns True if they match, and False if they do not match.\n",
    "```python\n",
    "# given:\n",
    "# \"obj\" (object) - the object we are inspecting\n",
    "# \"data_type\" - the data type we believe the object to be\n",
    "    \n",
    "isinstance(obj, data_type)  # will return True or False\n",
    "```"
   ]
  },
  {
   "cell_type": "code",
   "execution_count": 1,
   "metadata": {},
   "outputs": [
    {
     "data": {
      "text/plain": [
       "True"
      ]
     },
     "execution_count": 1,
     "metadata": {},
     "output_type": "execute_result"
    }
   ],
   "source": [
    "isinstance('text', str)"
   ]
  },
  {
   "cell_type": "markdown",
   "metadata": {},
   "source": [
    "<span style=\"font-size: 16px; font-family: Geneva, Tahoma, Verdana, sans-serif;\">\n",
    "<h3>Examples</h3>"
   ]
  },
  {
   "cell_type": "code",
   "execution_count": null,
   "metadata": {
    "id": "kkQezZ2bwWHM"
   },
   "outputs": [],
   "source": [
    "x = 5\n",
    "type(x)"
   ]
  },
  {
   "cell_type": "code",
   "execution_count": null,
   "metadata": {},
   "outputs": [],
   "source": [
    "x = 5.5\n",
    "type(x)"
   ]
  },
  {
   "cell_type": "code",
   "execution_count": null,
   "metadata": {},
   "outputs": [],
   "source": [
    "x = '5'\n",
    "type(x)"
   ]
  },
  {
   "cell_type": "code",
   "execution_count": null,
   "metadata": {},
   "outputs": [],
   "source": [
    "x = True\n",
    "type(x)"
   ]
  },
  {
   "cell_type": "markdown",
   "metadata": {},
   "source": [
    "<span style=\"font-size: 16px; font-family: Geneva, Tahoma, Verdana, sans-serif;\">\n",
    "<h3>Checking Type</h3>"
   ]
  },
  {
   "cell_type": "code",
   "execution_count": null,
   "metadata": {},
   "outputs": [],
   "source": [
    "x = 5\n",
    "isinstance(x, int)"
   ]
  },
  {
   "cell_type": "code",
   "execution_count": null,
   "metadata": {},
   "outputs": [],
   "source": [
    "x = 5.5\n",
    "isinstance(x, float)"
   ]
  },
  {
   "cell_type": "code",
   "execution_count": null,
   "metadata": {},
   "outputs": [],
   "source": [
    "x = '5'\n",
    "isinstance(x, str)"
   ]
  },
  {
   "cell_type": "code",
   "execution_count": null,
   "metadata": {},
   "outputs": [],
   "source": [
    "x = True\n",
    "isinstance(x, bool)"
   ]
  }
 ],
 "metadata": {
  "colab": {
   "collapsed_sections": [],
   "name": "PC-2.2.ipynb",
   "provenance": []
  },
  "kernelspec": {
   "display_name": "Python 3 (ipykernel)",
   "language": "python",
   "name": "python3"
  },
  "language_info": {
   "codemirror_mode": {
    "name": "ipython",
    "version": 3
   },
   "file_extension": ".py",
   "mimetype": "text/x-python",
   "name": "python",
   "nbconvert_exporter": "python",
   "pygments_lexer": "ipython3",
   "version": "3.10.2"
  }
 },
 "nbformat": 4,
 "nbformat_minor": 1
}
