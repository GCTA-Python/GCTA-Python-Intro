{
 "cells": [
  {
   "cell_type": "code",
   "execution_count": null,
   "id": "306b0483",
   "metadata": {},
   "outputs": [],
   "source": [
    "# We can cast from one data type to another by using the\n",
    "# basic data type classes:\n",
    "#   str()\n",
    "#   int()\n",
    "#   float()\n",
    "#   bool()\n",
    "\n",
    "# notice above that I am calling the data types as if they were functions"
   ]
  },
  {
   "cell_type": "code",
   "execution_count": null,
   "id": "2c854c8c",
   "metadata": {},
   "outputs": [],
   "source": [
    "# for instance, if I have a string, \"2\", and I want to cast\n",
    "# it to an integer, I would use:\n",
    "\n",
    "int(\"2\")\n",
    "\n",
    "# run this cell to observe"
   ]
  },
  {
   "cell_type": "code",
   "execution_count": null,
   "id": "25f26348",
   "metadata": {},
   "outputs": [],
   "source": [
    "# similarly if some object has been assigned to a varaible:\n",
    "\n",
    "x = \"2\"\n",
    "\n",
    "# we can type cast the variable name itself:\n",
    "\n",
    "int(x)\n",
    "\n",
    "# run this cell to observe"
   ]
  },
  {
   "cell_type": "code",
   "execution_count": null,
   "id": "35b41b9f",
   "metadata": {},
   "outputs": [],
   "source": [
    "# type cast the object to an float\n",
    "\n",
    "'1.3'\n"
   ]
  },
  {
   "cell_type": "code",
   "execution_count": null,
   "id": "f6d9a272",
   "metadata": {},
   "outputs": [],
   "source": [
    "# type cast the object to an int\n",
    "\n",
    "'1'\n"
   ]
  },
  {
   "cell_type": "code",
   "execution_count": null,
   "id": "b4ad2cc8",
   "metadata": {},
   "outputs": [],
   "source": [
    "# type cast the object to a string\n",
    "\n",
    "2\n"
   ]
  },
  {
   "cell_type": "code",
   "execution_count": null,
   "id": "9752cd53",
   "metadata": {},
   "outputs": [],
   "source": [
    "# type cast the object to a string\n",
    "\n",
    "2.0\n"
   ]
  },
  {
   "cell_type": "code",
   "execution_count": null,
   "id": "371e245d",
   "metadata": {},
   "outputs": [],
   "source": [
    "# type cast the object to a string\n",
    "\n",
    "2.2\n"
   ]
  },
  {
   "cell_type": "code",
   "execution_count": null,
   "id": "84dbe512",
   "metadata": {},
   "outputs": [],
   "source": [
    "# type cast the object to an integer\n",
    "\n",
    "True\n"
   ]
  },
  {
   "cell_type": "code",
   "execution_count": null,
   "id": "b30676ec",
   "metadata": {},
   "outputs": [],
   "source": [
    "# type cast the object to a float\n",
    "\n",
    "True\n"
   ]
  },
  {
   "cell_type": "code",
   "execution_count": null,
   "id": "7ff4e2d4",
   "metadata": {},
   "outputs": [],
   "source": [
    "# type cast the object to an integer\n",
    "\n",
    "False\n"
   ]
  },
  {
   "cell_type": "code",
   "execution_count": null,
   "id": "ff73da09",
   "metadata": {},
   "outputs": [],
   "source": [
    "# type cast the object to a float\n",
    "\n",
    "False\n"
   ]
  },
  {
   "cell_type": "code",
   "execution_count": null,
   "id": "f7dc7b8b",
   "metadata": {},
   "outputs": [],
   "source": [
    "# type cast the object to a boolean\n",
    "\n",
    "1\n"
   ]
  },
  {
   "cell_type": "code",
   "execution_count": null,
   "id": "fbc62625",
   "metadata": {},
   "outputs": [],
   "source": [
    "# type cast the object to a boolean\n",
    "\n",
    "0\n"
   ]
  },
  {
   "cell_type": "code",
   "execution_count": null,
   "id": "ae92e6c0",
   "metadata": {},
   "outputs": [],
   "source": [
    "# type cast the variable x to a float\n",
    "\n",
    "x = 2\n",
    "\n"
   ]
  },
  {
   "cell_type": "code",
   "execution_count": null,
   "id": "05fdbf9a",
   "metadata": {},
   "outputs": [],
   "source": [
    "# type cast the variable x to a string\n",
    "\n",
    "x = 2.0\n",
    "\n"
   ]
  },
  {
   "cell_type": "code",
   "execution_count": null,
   "id": "d84ee76b",
   "metadata": {},
   "outputs": [],
   "source": [
    "# type cast the variable x to an int\n",
    "\n",
    "x = 2.0\n",
    "\n"
   ]
  },
  {
   "cell_type": "code",
   "execution_count": null,
   "id": "ee662acd",
   "metadata": {},
   "outputs": [],
   "source": [
    "# type cast the variable x to a string\n",
    "\n",
    "x = 2\n",
    "\n"
   ]
  },
  {
   "cell_type": "code",
   "execution_count": null,
   "id": "d601caf3",
   "metadata": {},
   "outputs": [],
   "source": [
    "# type cast the variable x to a bool\n",
    "\n",
    "x = 1\n",
    "\n"
   ]
  },
  {
   "cell_type": "code",
   "execution_count": null,
   "id": "dafae0fe",
   "metadata": {},
   "outputs": [],
   "source": [
    "# type cast the variable x to an int\n",
    "\n",
    "x = True\n",
    "\n"
   ]
  },
  {
   "cell_type": "code",
   "execution_count": null,
   "id": "219e53cf",
   "metadata": {},
   "outputs": [],
   "source": [
    "# type cast the variable x to a bool\n",
    "\n",
    "x = 2\n",
    "\n"
   ]
  },
  {
   "cell_type": "code",
   "execution_count": null,
   "id": "c471a9f4",
   "metadata": {},
   "outputs": [],
   "source": [
    "# type cast the variable x to a bool\n",
    "\n",
    "x = 0\n",
    "\n"
   ]
  },
  {
   "cell_type": "code",
   "execution_count": null,
   "id": "79fd9e7d",
   "metadata": {},
   "outputs": [],
   "source": [
    "# type cast the variable x to a bool\n",
    "\n",
    "x = -1\n",
    "\n"
   ]
  },
  {
   "cell_type": "code",
   "execution_count": null,
   "id": "1f60c6ed",
   "metadata": {},
   "outputs": [],
   "source": [
    "# type cast the variable x to a bool\n",
    "\n",
    "x = 2.0\n",
    "\n"
   ]
  },
  {
   "cell_type": "code",
   "execution_count": null,
   "id": "a4a768ad",
   "metadata": {},
   "outputs": [],
   "source": [
    "# type cast the variable x to a bool\n",
    "\n",
    "x = '1'\n",
    "\n"
   ]
  },
  {
   "cell_type": "code",
   "execution_count": null,
   "id": "1cbe48f2",
   "metadata": {},
   "outputs": [],
   "source": [
    "# type cast the variable x to a bool\n",
    "\n",
    "x = '0'\n",
    "\n"
   ]
  },
  {
   "cell_type": "code",
   "execution_count": null,
   "id": "25c22c16",
   "metadata": {},
   "outputs": [],
   "source": [
    "# type cast the variable to a bool\n",
    "\n",
    "z = '0'\n",
    "\n"
   ]
  },
  {
   "cell_type": "code",
   "execution_count": null,
   "id": "05d03857",
   "metadata": {},
   "outputs": [],
   "source": [
    "# type cast the variable to a bool\n",
    "\n",
    "val = '0'\n",
    "\n"
   ]
  },
  {
   "cell_type": "code",
   "execution_count": null,
   "id": "4a948b2b",
   "metadata": {},
   "outputs": [],
   "source": [
    "# type cast the variable to a string\n",
    "\n",
    "answer = True\n",
    "\n"
   ]
  },
  {
   "cell_type": "code",
   "execution_count": null,
   "id": "f332db86",
   "metadata": {},
   "outputs": [],
   "source": [
    "# type cast the variable to an int\n",
    "\n",
    "number = 1_000_000\n",
    "\n"
   ]
  },
  {
   "cell_type": "code",
   "execution_count": null,
   "id": "42f48c81",
   "metadata": {},
   "outputs": [],
   "source": [
    "# type cast the variable to an int\n",
    "\n",
    "pi = 3.14159265358979323846264338327950\n",
    "\n"
   ]
  }
 ],
 "metadata": {
  "kernelspec": {
   "display_name": "Python 3 (ipykernel)",
   "language": "python",
   "name": "python3"
  },
  "language_info": {
   "codemirror_mode": {
    "name": "ipython",
    "version": 3
   },
   "file_extension": ".py",
   "mimetype": "text/x-python",
   "name": "python",
   "nbconvert_exporter": "python",
   "pygments_lexer": "ipython3",
   "version": "3.10.2"
  }
 },
 "nbformat": 4,
 "nbformat_minor": 5
}
