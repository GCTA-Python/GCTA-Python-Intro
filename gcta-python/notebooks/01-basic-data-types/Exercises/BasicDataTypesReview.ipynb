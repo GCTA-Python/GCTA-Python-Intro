{
 "cells": [
  {
   "cell_type": "code",
   "execution_count": null,
   "id": "5ef65313",
   "metadata": {},
   "outputs": [],
   "source": [
    "# In a comment below, answer the following:\n",
    "# What is the representation for the \"floating point number\" data type in Python?\n"
   ]
  },
  {
   "cell_type": "code",
   "execution_count": null,
   "id": "462adb20",
   "metadata": {},
   "outputs": [],
   "source": [
    "# In a comment below, answer the following:\n",
    "# What is the representation for the \"integer\" data type in Python?\n"
   ]
  },
  {
   "cell_type": "code",
   "execution_count": null,
   "id": "b7abdf8c",
   "metadata": {},
   "outputs": [],
   "source": [
    "# In a comment below, answer the following:\n",
    "# What is the representation for the \"string\" data type in Python?\n"
   ]
  },
  {
   "cell_type": "code",
   "execution_count": null,
   "id": "aa024f29",
   "metadata": {},
   "outputs": [],
   "source": [
    "# In a comment below, answer the following:\n",
    "# What is the representation for the \"boolean\" data type in Python?\n"
   ]
  },
  {
   "cell_type": "code",
   "execution_count": null,
   "id": "240b55a0",
   "metadata": {},
   "outputs": [],
   "source": [
    "# In a comment below, describe the difference between a float and int.\n"
   ]
  },
  {
   "cell_type": "code",
   "execution_count": null,
   "id": "97f8233c",
   "metadata": {},
   "outputs": [],
   "source": [
    "# In a comment below, explain how you create a string in Python.\n"
   ]
  },
  {
   "cell_type": "code",
   "execution_count": null,
   "id": "6d845904",
   "metadata": {},
   "outputs": [],
   "source": [
    "# In a comment below, and with valid Python syntax, provide all the possible values of a boolean.\n"
   ]
  },
  {
   "cell_type": "code",
   "execution_count": null,
   "id": "9576aebd",
   "metadata": {},
   "outputs": [],
   "source": [
    "# fill in the value of x such that this expression returns True\n",
    "x = \n",
    "y = 1\n",
    "expression = x > y\n",
    "print(expression)"
   ]
  },
  {
   "cell_type": "code",
   "execution_count": null,
   "id": "d477ebbb",
   "metadata": {},
   "outputs": [],
   "source": [
    "# fill in the value of x such that this expression returns True\n",
    "# print the data type of expression\n",
    "x = \n",
    "y = 1\n",
    "expression = x > y\n",
    "print(expression)\n",
    "\n"
   ]
  },
  {
   "cell_type": "code",
   "execution_count": null,
   "id": "25a5a21b",
   "metadata": {},
   "outputs": [],
   "source": [
    "# In a comment below, answer 'what is the datatype of 4.5'\n",
    "# prove it using the type function\n",
    "\n"
   ]
  },
  {
   "cell_type": "code",
   "execution_count": null,
   "id": "4001722b",
   "metadata": {},
   "outputs": [],
   "source": [
    "# In a comment below, answer 'what is the datatype of 4'\n",
    "# prove it using the type function\n",
    "\n"
   ]
  },
  {
   "cell_type": "code",
   "execution_count": null,
   "id": "a3c8a369",
   "metadata": {},
   "outputs": [],
   "source": [
    "# In a comment below, answer 'what is the datatype of \"hello world\"'\n",
    "# prove it using the type function\n",
    "\n"
   ]
  },
  {
   "cell_type": "code",
   "execution_count": null,
   "id": "65983603",
   "metadata": {},
   "outputs": [],
   "source": [
    "# In a comment below, answer 'what is the datatype of True'\n",
    "# prove it using the type function\n",
    "\n"
   ]
  },
  {
   "cell_type": "code",
   "execution_count": null,
   "id": "39431ec2",
   "metadata": {},
   "outputs": [],
   "source": [
    "# In a comment below, answer 'what is the datatype of 4.5'\n",
    "# prove it using the isinstance function\n",
    "\n"
   ]
  },
  {
   "cell_type": "code",
   "execution_count": null,
   "id": "f111a7eb",
   "metadata": {},
   "outputs": [],
   "source": [
    "# In a comment below, answer 'what is the datatype of 4'\n",
    "# prove it using the isinstance function\n",
    "\n"
   ]
  },
  {
   "cell_type": "code",
   "execution_count": null,
   "id": "c0e7f5bb",
   "metadata": {},
   "outputs": [],
   "source": [
    "# In a comment below, answer 'what is the datatype of \"hello world\"'\n",
    "# prove it using the isinstance function\n",
    "\n"
   ]
  },
  {
   "cell_type": "code",
   "execution_count": null,
   "id": "42d1b0cf",
   "metadata": {},
   "outputs": [],
   "source": [
    "# In a comment below, answer 'what is the datatype of True'\n",
    "# prove it using the isinstance function\n",
    "\n"
   ]
  },
  {
   "cell_type": "code",
   "execution_count": null,
   "id": "8cd892b1",
   "metadata": {},
   "outputs": [],
   "source": [
    "# In a comment below, answer 'can integers be negative'\n",
    "# prove it using the type function\n",
    "\n"
   ]
  },
  {
   "cell_type": "code",
   "execution_count": null,
   "id": "b9d29ec3",
   "metadata": {},
   "outputs": [],
   "source": [
    "# In a comment below, answer 'can integers be negative'\n",
    "# prove it using the isinstance function\n",
    "\n"
   ]
  },
  {
   "cell_type": "code",
   "execution_count": null,
   "id": "fd2c9062",
   "metadata": {},
   "outputs": [],
   "source": []
  }
 ],
 "metadata": {
  "kernelspec": {
   "display_name": "Python 3 (ipykernel)",
   "language": "python",
   "name": "python3"
  },
  "language_info": {
   "codemirror_mode": {
    "name": "ipython",
    "version": 3
   },
   "file_extension": ".py",
   "mimetype": "text/x-python",
   "name": "python",
   "nbconvert_exporter": "python",
   "pygments_lexer": "ipython3",
   "version": "3.10.2"
  }
 },
 "nbformat": 4,
 "nbformat_minor": 5
}
