{
 "cells": [
  {
   "cell_type": "code",
   "execution_count": 1,
   "id": "306b0483",
   "metadata": {},
   "outputs": [],
   "source": [
    "# We can cast from one data type to another by using the\n",
    "# basic data type classes:\n",
    "#   str()\n",
    "#   int()\n",
    "#   float()\n",
    "#   bool()\n",
    "\n",
    "# notice above that I am calling the data types as if they were functions"
   ]
  },
  {
   "cell_type": "code",
   "execution_count": 2,
   "id": "2c854c8c",
   "metadata": {},
   "outputs": [
    {
     "data": {
      "text/plain": [
       "2"
      ]
     },
     "execution_count": 2,
     "metadata": {},
     "output_type": "execute_result"
    }
   ],
   "source": [
    "# for instance, if I have a string, \"2\", and I want to cast\n",
    "# it to an integer, I would use:\n",
    "\n",
    "int(\"2\")\n",
    "\n",
    "# run this cell to observe"
   ]
  },
  {
   "cell_type": "code",
   "execution_count": 3,
   "id": "cc71273d",
   "metadata": {},
   "outputs": [
    {
     "data": {
      "text/plain": [
       "2"
      ]
     },
     "execution_count": 3,
     "metadata": {},
     "output_type": "execute_result"
    }
   ],
   "source": [
    "# similarly if some object has been assigned to a varaible:\n",
    "\n",
    "x = \"2\"\n",
    "\n",
    "# we can type cast the variable name itself:\n",
    "\n",
    "int(x)\n",
    "\n",
    "# run this cell to observe"
   ]
  },
  {
   "cell_type": "code",
   "execution_count": 4,
   "id": "021e693f",
   "metadata": {},
   "outputs": [
    {
     "data": {
      "text/plain": [
       "1.3"
      ]
     },
     "execution_count": 4,
     "metadata": {},
     "output_type": "execute_result"
    }
   ],
   "source": [
    "# type cast the object to an float\n",
    "\n",
    "float('1.3')\n"
   ]
  },
  {
   "cell_type": "code",
   "execution_count": 5,
   "id": "2cea34c5",
   "metadata": {},
   "outputs": [
    {
     "data": {
      "text/plain": [
       "1"
      ]
     },
     "execution_count": 5,
     "metadata": {},
     "output_type": "execute_result"
    }
   ],
   "source": [
    "# type cast the object to an int\n",
    "\n",
    "int('1')\n"
   ]
  },
  {
   "cell_type": "code",
   "execution_count": 6,
   "id": "75b3a8fd",
   "metadata": {},
   "outputs": [
    {
     "data": {
      "text/plain": [
       "'2'"
      ]
     },
     "execution_count": 6,
     "metadata": {},
     "output_type": "execute_result"
    }
   ],
   "source": [
    "# type cast the object to a string\n",
    "\n",
    "str(2)\n"
   ]
  },
  {
   "cell_type": "code",
   "execution_count": 7,
   "id": "3017fb6e",
   "metadata": {},
   "outputs": [
    {
     "data": {
      "text/plain": [
       "'2.0'"
      ]
     },
     "execution_count": 7,
     "metadata": {},
     "output_type": "execute_result"
    }
   ],
   "source": [
    "# type cast the object to a string\n",
    "\n",
    "str(2.0)\n"
   ]
  },
  {
   "cell_type": "code",
   "execution_count": 8,
   "id": "21d65370",
   "metadata": {},
   "outputs": [
    {
     "data": {
      "text/plain": [
       "'2.2'"
      ]
     },
     "execution_count": 8,
     "metadata": {},
     "output_type": "execute_result"
    }
   ],
   "source": [
    "# type cast the object to a string\n",
    "\n",
    "str(2.2)\n"
   ]
  },
  {
   "cell_type": "code",
   "execution_count": 9,
   "id": "831d3033",
   "metadata": {},
   "outputs": [
    {
     "data": {
      "text/plain": [
       "1"
      ]
     },
     "execution_count": 9,
     "metadata": {},
     "output_type": "execute_result"
    }
   ],
   "source": [
    "# type cast the object to an integer\n",
    "\n",
    "int(True)\n"
   ]
  },
  {
   "cell_type": "code",
   "execution_count": 10,
   "id": "62900ff2",
   "metadata": {},
   "outputs": [
    {
     "data": {
      "text/plain": [
       "1.0"
      ]
     },
     "execution_count": 10,
     "metadata": {},
     "output_type": "execute_result"
    }
   ],
   "source": [
    "# type cast the object to a float\n",
    "\n",
    "float(True)\n"
   ]
  },
  {
   "cell_type": "code",
   "execution_count": 11,
   "id": "657e1a22",
   "metadata": {},
   "outputs": [
    {
     "data": {
      "text/plain": [
       "0"
      ]
     },
     "execution_count": 11,
     "metadata": {},
     "output_type": "execute_result"
    }
   ],
   "source": [
    "# type cast the object to an integer\n",
    "\n",
    "int(False)\n"
   ]
  },
  {
   "cell_type": "code",
   "execution_count": 12,
   "id": "fb085297",
   "metadata": {},
   "outputs": [
    {
     "data": {
      "text/plain": [
       "0.0"
      ]
     },
     "execution_count": 12,
     "metadata": {},
     "output_type": "execute_result"
    }
   ],
   "source": [
    "# type cast the object to a float\n",
    "\n",
    "float(False)\n"
   ]
  },
  {
   "cell_type": "code",
   "execution_count": 13,
   "id": "360b7014",
   "metadata": {},
   "outputs": [
    {
     "data": {
      "text/plain": [
       "True"
      ]
     },
     "execution_count": 13,
     "metadata": {},
     "output_type": "execute_result"
    }
   ],
   "source": [
    "# type cast the object to a boolean\n",
    "\n",
    "bool(1)\n"
   ]
  },
  {
   "cell_type": "code",
   "execution_count": 14,
   "id": "a010b3a4",
   "metadata": {},
   "outputs": [
    {
     "data": {
      "text/plain": [
       "False"
      ]
     },
     "execution_count": 14,
     "metadata": {},
     "output_type": "execute_result"
    }
   ],
   "source": [
    "# type cast the object to a boolean\n",
    "\n",
    "bool(0)\n"
   ]
  },
  {
   "cell_type": "code",
   "execution_count": 15,
   "id": "ae92e6c0",
   "metadata": {},
   "outputs": [
    {
     "data": {
      "text/plain": [
       "2.0"
      ]
     },
     "execution_count": 15,
     "metadata": {},
     "output_type": "execute_result"
    }
   ],
   "source": [
    "# type cast the variable x to a float\n",
    "\n",
    "x = 2\n",
    "float(x)\n"
   ]
  },
  {
   "cell_type": "code",
   "execution_count": 16,
   "id": "05fdbf9a",
   "metadata": {},
   "outputs": [
    {
     "data": {
      "text/plain": [
       "'2.0'"
      ]
     },
     "execution_count": 16,
     "metadata": {},
     "output_type": "execute_result"
    }
   ],
   "source": [
    "# type cast the variable x to a string\n",
    "\n",
    "x = 2.0\n",
    "str(x)\n"
   ]
  },
  {
   "cell_type": "code",
   "execution_count": 17,
   "id": "d84ee76b",
   "metadata": {},
   "outputs": [
    {
     "data": {
      "text/plain": [
       "2"
      ]
     },
     "execution_count": 17,
     "metadata": {},
     "output_type": "execute_result"
    }
   ],
   "source": [
    "# type cast the variable x to an int\n",
    "\n",
    "x = 2.0\n",
    "int(x)\n"
   ]
  },
  {
   "cell_type": "code",
   "execution_count": 18,
   "id": "ee662acd",
   "metadata": {},
   "outputs": [
    {
     "data": {
      "text/plain": [
       "'2'"
      ]
     },
     "execution_count": 18,
     "metadata": {},
     "output_type": "execute_result"
    }
   ],
   "source": [
    "# type cast the variable x to a string\n",
    "\n",
    "x = 2\n",
    "str(x)\n"
   ]
  },
  {
   "cell_type": "code",
   "execution_count": 19,
   "id": "d601caf3",
   "metadata": {},
   "outputs": [
    {
     "data": {
      "text/plain": [
       "True"
      ]
     },
     "execution_count": 19,
     "metadata": {},
     "output_type": "execute_result"
    }
   ],
   "source": [
    "# type cast the variable x to a bool\n",
    "\n",
    "x = 1\n",
    "bool(x)\n"
   ]
  },
  {
   "cell_type": "code",
   "execution_count": 20,
   "id": "dafae0fe",
   "metadata": {},
   "outputs": [
    {
     "data": {
      "text/plain": [
       "1"
      ]
     },
     "execution_count": 20,
     "metadata": {},
     "output_type": "execute_result"
    }
   ],
   "source": [
    "# type cast the variable x to an int\n",
    "\n",
    "x = True\n",
    "int(x)\n"
   ]
  },
  {
   "cell_type": "code",
   "execution_count": 21,
   "id": "219e53cf",
   "metadata": {},
   "outputs": [
    {
     "data": {
      "text/plain": [
       "True"
      ]
     },
     "execution_count": 21,
     "metadata": {},
     "output_type": "execute_result"
    }
   ],
   "source": [
    "# type cast the variable x to a bool\n",
    "\n",
    "x = 2\n",
    "bool(x)\n"
   ]
  },
  {
   "cell_type": "code",
   "execution_count": 22,
   "id": "c471a9f4",
   "metadata": {},
   "outputs": [
    {
     "data": {
      "text/plain": [
       "False"
      ]
     },
     "execution_count": 22,
     "metadata": {},
     "output_type": "execute_result"
    }
   ],
   "source": [
    "# type cast the variable x to a bool\n",
    "\n",
    "x = 0\n",
    "bool(x)\n"
   ]
  },
  {
   "cell_type": "code",
   "execution_count": 23,
   "id": "79fd9e7d",
   "metadata": {},
   "outputs": [
    {
     "data": {
      "text/plain": [
       "True"
      ]
     },
     "execution_count": 23,
     "metadata": {},
     "output_type": "execute_result"
    }
   ],
   "source": [
    "# type cast the variable x to a bool\n",
    "\n",
    "x = -1\n",
    "bool(x)\n"
   ]
  },
  {
   "cell_type": "code",
   "execution_count": 24,
   "id": "1f60c6ed",
   "metadata": {},
   "outputs": [
    {
     "data": {
      "text/plain": [
       "True"
      ]
     },
     "execution_count": 24,
     "metadata": {},
     "output_type": "execute_result"
    }
   ],
   "source": [
    "# type cast the variable x to a bool\n",
    "\n",
    "x = 2.0\n",
    "bool(x)\n"
   ]
  },
  {
   "cell_type": "code",
   "execution_count": 25,
   "id": "a4a768ad",
   "metadata": {},
   "outputs": [
    {
     "data": {
      "text/plain": [
       "True"
      ]
     },
     "execution_count": 25,
     "metadata": {},
     "output_type": "execute_result"
    }
   ],
   "source": [
    "# type cast the variable x to a bool\n",
    "\n",
    "x = '1'\n",
    "bool(x)\n"
   ]
  },
  {
   "cell_type": "code",
   "execution_count": 26,
   "id": "1cbe48f2",
   "metadata": {},
   "outputs": [
    {
     "data": {
      "text/plain": [
       "True"
      ]
     },
     "execution_count": 26,
     "metadata": {},
     "output_type": "execute_result"
    }
   ],
   "source": [
    "# type cast the variable x to a bool\n",
    "\n",
    "x = '0'\n",
    "bool(x)\n"
   ]
  },
  {
   "cell_type": "code",
   "execution_count": 27,
   "id": "bfdf71fd",
   "metadata": {},
   "outputs": [
    {
     "data": {
      "text/plain": [
       "True"
      ]
     },
     "execution_count": 27,
     "metadata": {},
     "output_type": "execute_result"
    }
   ],
   "source": [
    "# type cast the variable to a bool\n",
    "\n",
    "z = '0'\n",
    "bool(z)\n"
   ]
  },
  {
   "cell_type": "code",
   "execution_count": 28,
   "id": "d962717d",
   "metadata": {},
   "outputs": [
    {
     "data": {
      "text/plain": [
       "True"
      ]
     },
     "execution_count": 28,
     "metadata": {},
     "output_type": "execute_result"
    }
   ],
   "source": [
    "# type cast the variable to a bool\n",
    "\n",
    "val = '0'\n",
    "bool(val)\n"
   ]
  },
  {
   "cell_type": "code",
   "execution_count": 29,
   "id": "658b3e9a",
   "metadata": {},
   "outputs": [
    {
     "data": {
      "text/plain": [
       "'True'"
      ]
     },
     "execution_count": 29,
     "metadata": {},
     "output_type": "execute_result"
    }
   ],
   "source": [
    "# type cast the variable to a string\n",
    "\n",
    "answer = True\n",
    "str(answer)\n"
   ]
  },
  {
   "cell_type": "code",
   "execution_count": 30,
   "id": "fb59f865",
   "metadata": {},
   "outputs": [
    {
     "data": {
      "text/plain": [
       "1000000"
      ]
     },
     "execution_count": 30,
     "metadata": {},
     "output_type": "execute_result"
    }
   ],
   "source": [
    "# type cast the variable to an int\n",
    "\n",
    "number = 1_000_000\n",
    "int(number)\n"
   ]
  },
  {
   "cell_type": "code",
   "execution_count": 31,
   "id": "0242a3b7",
   "metadata": {},
   "outputs": [
    {
     "data": {
      "text/plain": [
       "3"
      ]
     },
     "execution_count": 31,
     "metadata": {},
     "output_type": "execute_result"
    }
   ],
   "source": [
    "# type cast the variable to an int\n",
    "\n",
    "pi = 3.14159265358979323846264338327950\n",
    "int(pi)\n"
   ]
  }
 ],
 "metadata": {
  "kernelspec": {
   "display_name": "Python 3 (ipykernel)",
   "language": "python",
   "name": "python3"
  },
  "language_info": {
   "codemirror_mode": {
    "name": "ipython",
    "version": 3
   },
   "file_extension": ".py",
   "mimetype": "text/x-python",
   "name": "python",
   "nbconvert_exporter": "python",
   "pygments_lexer": "ipython3",
   "version": "3.10.2"
  }
 },
 "nbformat": 4,
 "nbformat_minor": 5
}
