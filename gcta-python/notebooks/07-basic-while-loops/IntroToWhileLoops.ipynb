{
 "cells": [
  {
   "cell_type": "markdown",
   "id": "ea4cf0cd",
   "metadata": {},
   "source": [
    "# While Loops\n",
    "\n",
    "While loops execute a set of statements for as long as a condition is true.\n",
    "\n",
    "While loops follow this syntax --\n",
    "\n",
    "```\n",
    "while condition:\n",
    "    expression\n",
    "    expression\n",
    "    ...\n",
    "```\n",
    "where condition must evaluate to a boolean.\n",
    "\n",
    "While loops can include `break` statements which will stop the execution of the loop.\n",
    "\n",
    "While loops can include an `else` statement which will execute after the loop completes only if it does not hit a `break` statement.\n",
    "\n",
    "While loops can include `continue` statements which will stop the current iteration and continue on to the next."
   ]
  },
  {
   "cell_type": "code",
   "execution_count": 6,
   "id": "6351fbd6",
   "metadata": {},
   "outputs": [
    {
     "name": "stdout",
     "output_type": "stream",
     "text": [
      "foo\n",
      "foo\n",
      "foo\n"
     ]
    }
   ],
   "source": [
    "bool_condition = True\n",
    "i = 0\n",
    "\n",
    "while bool_condition:\n",
    "    print('foo')\n",
    "    i += 1\n",
    "    if i == 3:\n",
    "        bool_condition = False\n",
    "    "
   ]
  },
  {
   "cell_type": "code",
   "execution_count": 1,
   "id": "756d7cdd",
   "metadata": {},
   "outputs": [
    {
     "name": "stdout",
     "output_type": "stream",
     "text": [
      "1\n",
      "3\n",
      "4\n"
     ]
    }
   ],
   "source": [
    "counter = 0\n",
    "\n",
    "while True:\n",
    "    counter = counter + 1\n",
    "    if counter == 2:\n",
    "        continue # below this is skipped\n",
    "    print(counter)\n",
    "    if counter == 4:\n",
    "        break  # this stops the loop\n",
    "    "
   ]
  },
  {
   "cell_type": "code",
   "execution_count": null,
   "id": "696c69bb",
   "metadata": {},
   "outputs": [],
   "source": []
  },
  {
   "cell_type": "code",
   "execution_count": null,
   "id": "6abf33dd",
   "metadata": {},
   "outputs": [],
   "source": []
  },
  {
   "cell_type": "code",
   "execution_count": null,
   "id": "05d64b35",
   "metadata": {},
   "outputs": [],
   "source": []
  },
  {
   "cell_type": "code",
   "execution_count": null,
   "id": "3283aa00",
   "metadata": {},
   "outputs": [],
   "source": []
  },
  {
   "cell_type": "code",
   "execution_count": null,
   "id": "56d7f5ef",
   "metadata": {},
   "outputs": [],
   "source": []
  },
  {
   "cell_type": "code",
   "execution_count": null,
   "id": "ac1b848a",
   "metadata": {},
   "outputs": [],
   "source": []
  },
  {
   "cell_type": "code",
   "execution_count": 7,
   "id": "1fe419e4",
   "metadata": {},
   "outputs": [
    {
     "name": "stdout",
     "output_type": "stream",
     "text": [
      "5\n",
      "4\n"
     ]
    }
   ],
   "source": [
    "# here is an example of a simple while loop\n",
    "\n",
    "i = 5\n",
    "\n",
    "while i > 3:\n",
    "    print(i)\n",
    "    i -= 1"
   ]
  },
  {
   "cell_type": "code",
   "execution_count": 3,
   "id": "7a872f6d",
   "metadata": {},
   "outputs": [
    {
     "name": "stdout",
     "output_type": "stream",
     "text": [
      "1\n",
      "2\n"
     ]
    }
   ],
   "source": [
    "# here is an example of a simple while loop with a break statement\n",
    "\n",
    "i = 0\n",
    "\n",
    "while i < 4:\n",
    "    i += 1\n",
    "    if i==3:\n",
    "        break\n",
    "        \n",
    "    print(i)"
   ]
  },
  {
   "cell_type": "code",
   "execution_count": 4,
   "id": "2bf52659",
   "metadata": {},
   "outputs": [
    {
     "name": "stdout",
     "output_type": "stream",
     "text": [
      "1\n",
      "2\n",
      "4\n"
     ]
    }
   ],
   "source": [
    "# here is an example of a simple while loop with a continue statement\n",
    "\n",
    "i = 0\n",
    "\n",
    "while i < 4:\n",
    "    i += 1\n",
    "    if i==3:\n",
    "        continue\n",
    "        \n",
    "    print(i)"
   ]
  },
  {
   "cell_type": "code",
   "execution_count": 5,
   "id": "3897cc76",
   "metadata": {},
   "outputs": [
    {
     "name": "stdout",
     "output_type": "stream",
     "text": [
      "1\n",
      "2\n",
      "3\n",
      "4\n",
      "hello\n"
     ]
    }
   ],
   "source": [
    "# here is an example of a simple while loop with an else statement\n",
    "\n",
    "i = 0\n",
    "\n",
    "while i < 4:\n",
    "    i += 1\n",
    "        \n",
    "    print(i)\n",
    "else:\n",
    "    print('hello')"
   ]
  },
  {
   "cell_type": "code",
   "execution_count": 6,
   "id": "4ee47efb",
   "metadata": {},
   "outputs": [
    {
     "name": "stdout",
     "output_type": "stream",
     "text": [
      "1\n",
      "2\n"
     ]
    }
   ],
   "source": [
    "# here is an example of a simple while loop with an else statement and a break statement\n",
    "\n",
    "i = 0\n",
    "\n",
    "while i < 4:\n",
    "    i += 1\n",
    "    if i == 3:\n",
    "        break\n",
    "        \n",
    "    print(i)\n",
    "else:\n",
    "    print('hello')"
   ]
  },
  {
   "cell_type": "code",
   "execution_count": null,
   "id": "a94e4068",
   "metadata": {},
   "outputs": [],
   "source": []
  }
 ],
 "metadata": {
  "kernelspec": {
   "display_name": "Python 3 (ipykernel)",
   "language": "python",
   "name": "python3"
  },
  "language_info": {
   "codemirror_mode": {
    "name": "ipython",
    "version": 3
   },
   "file_extension": ".py",
   "mimetype": "text/x-python",
   "name": "python",
   "nbconvert_exporter": "python",
   "pygments_lexer": "ipython3",
   "version": "3.10.2"
  }
 },
 "nbformat": 4,
 "nbformat_minor": 5
}
