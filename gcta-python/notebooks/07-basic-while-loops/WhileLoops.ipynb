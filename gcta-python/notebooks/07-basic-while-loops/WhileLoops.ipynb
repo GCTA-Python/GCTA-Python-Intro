{
 "cells": [
  {
   "cell_type": "markdown",
   "id": "ef813c0e",
   "metadata": {},
   "source": [
    "<span style=\"font-size: 16px; font-family: Geneva, Tahoma, Verdana, sans-serif;\">\n",
    "\n",
    "<h1>Objectives and Outcome</h1>\n",
    "<div style=\"margin-left: 2em;\">\n",
    "By the end of this lesson, you should:\n",
    "    \n",
    "- Be able to identify a valid while-loop, and whether a given while-loop will terminate.\n",
    "    \n",
    "- Understand the effect of executing <code>continue</code> and <code>break</code> statements.\n",
    "\n",
    "- Be able to write a basic while-loops.\n",
    "  \n",
    "- Be able to identify whether a dangling else will execute. \n",
    "\n",
    "</div>\n",
    " \n",
    "</span>"
   ]
  },
  {
   "cell_type": "markdown",
   "id": "82b641c4",
   "metadata": {
    "jp-MarkdownHeadingCollapsed": true
   },
   "source": [
    "<span style=\"font-size: 16px; font-family: Geneva, Tahoma, Verdana, sans-serif;\">\n",
    "<h1>Motivation</h1>\n",
    "<div style=\"margin-left: 2em;\">\n",
    "While-loops are a particularly useful type of loop that will allow us to better control the execution (flow) of our code.\n",
    "</div>\n",
    "\n",
    "</span>"
   ]
  },
  {
   "cell_type": "markdown",
   "id": "9615d69e",
   "metadata": {},
   "source": [
    "<span style=\"font-size: 16px; font-family: Geneva, Tahoma, Verdana, sans-serif;\">\n",
    "\n",
    "<h1>Topics Covered</h1>\n",
    "\n",
    "<ol style=\"padding-left: 3.2em\">\n",
    "    <li>Introduction and Syntax</li>\n",
    "    <li>Conditional Execution</li>\n",
    "    <li>Continue and Break</li>\n",
    "    <li>Dangling Else</li>\n",
    "</ol>\n",
    "    \n",
    "</span>"
   ]
  },
  {
   "cell_type": "markdown",
   "id": "bb3e6e7d-8662-470e-a8be-1ac2ca76c69c",
   "metadata": {},
   "source": [
    "<span style=\"font-size: 16px; font-family: Geneva, Tahoma, Verdana, sans-serif;\">\n",
    " \n",
    "<h1>1. Introduction and Syntax</h1>\n",
    "<div style=\"margin-left: 2em;\">\n",
    "A loop, or iteration, can be thought of as the process of repeating a block of code.\n",
    "    \n",
    "```\n",
    "\n",
    "loop 2:\n",
    "    do thing 1\n",
    "    do thing 2\n",
    "    do thing 3\n",
    "```\n",
    "\n",
    "<br>\n",
    "In this generic example (\"loop\" is not valid Python syntax), we have a loop statement \"loop 2:\", and \"do thing 1\", \"do thing 2\", and \"do thing 3\", which are executed each time we loop (each time we iterate). We start at the line immediately below the loop statement at \"do thing 1\", then we execute \"do thing 2\", then \"do thing 3\", but after we execute \"do thing 3\", we immediately go back to \"do thing 1\" and repeat the process, until the loop has completed. This generic example loop only repeats twice, so, after the second time we've reached \"do thing 3\" we move to the next line of code, below \"do thing 3\".\n",
    "\n",
    "<h2>While-Loop Introduction</h2>\n",
    "While-loops execute their corresponding code-block as long as (or <b>while</b>) the specified condition is true. Unlike for-loops, while-loops require the author to both define the condition, and also ensure that condition eventually becomes false (or the loop terminates, unless the author intends for there to be an infinite loop). Be sure to always first define any variables being used in any conditional expression(s) the while loop uses.\n",
    "\n",
    "<h2>While Loop Syntax</h2>\n",
    "While loops contain the <code>while</code> keyword, followed by a boolean (or expression that evaluates to a boolean), colon, and the loop's code-block.\n",
    "<br><br>\n",
    "\n",
    "```python\n",
    "# this loop iterates once\n",
    "# printing \"I'm looping!\"\n",
    "condition = True\n",
    "while condition:\n",
    "    # do things\n",
    "    print(\"I'm looping!\")\n",
    "    condition = False\n",
    "\n",
    "\n",
    "# this loop iterates 4 times\n",
    "# and prints 0, 1, 2, and 3\n",
    "x = 0\n",
    "while x < 4:\n",
    "    # do things\n",
    "    print(x)\n",
    "    x = x + 1  # increment\n",
    "\n",
    "```\n",
    "\n",
    "</div>\n",
    "</span>"
   ]
  },
  {
   "cell_type": "markdown",
   "id": "1b5bfc3f-1431-42f0-94d4-1b237d234662",
   "metadata": {},
   "source": [
    "<span style=\"font-size: 16px; font-family: Geneva, Tahoma, Verdana, sans-serif;\">\n",
    " \n",
    "<h1>2. Conditional Execution</h1>\n",
    "<div style=\"margin-left: 2em;\">\n",
    "While-loops should be used when you want to execute some set of instructions until a specific condition has been met.\n",
    "<br><br>\n",
    "\n",
    "```python\n",
    "# iterate a specified number of times\n",
    "# decrementing a conditional operand\n",
    "x = 4\n",
    "while x > 0:\n",
    "    print(x)\n",
    "    x = x - 1  # decrement\n",
    "\n",
    "\n",
    "# iterate a specified number of times\n",
    "# incrementing a conditional operand\n",
    "loops = 0\n",
    "while loops < 3:\n",
    "    print(\"I'm looping... \")\n",
    "    print(\"I've looped\", loops, \"times!\")\n",
    "    loops = loops + 1  # increment\n",
    "\n",
    "\n",
    "# make a list of a specific size\n",
    "# filled with None values, then print it\n",
    "size = 5\n",
    "my_list = list()  # an empty list, []\n",
    "while size > 0:\n",
    "    my_list.append(None)  # We can append\n",
    "    size = size - 1       # any data type\n",
    "print(my_list)\n",
    "\n",
    "```\n",
    "\n",
    "</div>\n",
    "</span>"
   ]
  },
  {
   "cell_type": "markdown",
   "id": "a4b695d3-4f31-42b5-9a3b-ea2f4f500e49",
   "metadata": {},
   "source": [
    "<span style=\"font-size: 16px; font-family: Geneva, Tahoma, Verdana, sans-serif;\">\n",
    " \n",
    "<h1>3. Continue and Break</h1>\n",
    "<div style=\"margin-left: 2em;\">\n",
    "We can introduce even more control over the execution of our code by using the <code>continue</code> and <code>break</code> statements (keywords). Reaching a <code>continue</code> statement will stop the current iteration, and skip to the next iteration. Reaching a <code>break</code> statement will immediately break out of (end) your loop.\n",
    "<br><br>\n",
    "\n",
    "```python\n",
    "# print even numbers, 1-10\n",
    "stop = 11\n",
    "number = 0\n",
    "while number < stop:\n",
    "    number += 1\n",
    "    if number % 2 == 1:  # odd test\n",
    "        continue\n",
    "    print(number)\n",
    "    \n",
    "\n",
    "# print names, and stop execution\n",
    "# at an invalid name (i.e. type)\n",
    "names = ['jane', 'bob', 'judy', None, 'frank']\n",
    "\n",
    "length = len(names)\n",
    "i = 0\n",
    "while i < length:\n",
    "    next_name = names[i]\n",
    "    next_type = type(next_name)\n",
    "    if next_type is not str:\n",
    "        break\n",
    "    print(names[i], 'is a valid name!')\n",
    "    i += 1\n",
    "\n",
    "\n",
    "```\n",
    "\n",
    "</div>\n",
    "</span>"
   ]
  },
  {
   "cell_type": "markdown",
   "id": "86db92ef-acab-4440-9501-059bcd2cbc63",
   "metadata": {},
   "source": [
    "<span style=\"font-size: 16px; font-family: Geneva, Tahoma, Verdana, sans-serif;\">\n",
    " \n",
    "<h1>4. Dangling Else</h1>\n",
    "<div style=\"margin-left: 2em;\">\n",
    "The code path of a dangling else always executes <i>after the while-loop completes</i>, unless a <code>break</code> statement <i>executes</i> within the while-loop.\n",
    "<br><br>\n",
    "\n",
    "```python\n",
    "# example of else path taken\n",
    "y = 3\n",
    "while y > 0:\n",
    "    print(y)\n",
    "    y = y - 1\n",
    "else:\n",
    "    print('dangle')\n",
    "\n",
    "\n",
    "# example of no else path taken\n",
    "while True:\n",
    "    print('foo')\n",
    "    break\n",
    "else:\n",
    "    print('bar')\n",
    "\n",
    "\n",
    "# example of else path taken\n",
    "i = 0\n",
    "while i < 3:\n",
    "    i = i + 1\n",
    "    if i > 6:\n",
    "        break\n",
    "else:\n",
    "    print('do things')\n",
    "\n",
    "\n",
    "# example of else path taken\n",
    "i = 0\n",
    "while i < 3:\n",
    "    i = i + 1\n",
    "    continue\n",
    "    print(i)\n",
    "else:\n",
    "    print('path taken')\n",
    "\n",
    "```\n",
    "\n",
    "</div>\n",
    "</span>"
   ]
  },
  {
   "cell_type": "markdown",
   "id": "6b1fbb85-f58f-4006-8eac-69d900d06bac",
   "metadata": {},
   "source": [
    "<span style=\"font-size: 16px; font-family: Geneva, Tahoma, Verdana, sans-serif;\">\n",
    "<div style=\"margin-left: 2em;\">\n",
    "<h2>Code Examples:</h2>\n",
    "    \n",
    "Run the cells below and observe their outputs. Modify the code to test your knowledge and try any ideas you have about how they work.\n",
    "</div>"
   ]
  },
  {
   "cell_type": "code",
   "execution_count": null,
   "id": "ee7c1c7b",
   "metadata": {},
   "outputs": [],
   "source": [
    "x = 3\n",
    "\n",
    "while x > 7:\n",
    "    print('foo')"
   ]
  },
  {
   "cell_type": "code",
   "execution_count": null,
   "id": "018b49e3",
   "metadata": {},
   "outputs": [],
   "source": [
    "while True:\n",
    "    print('foo')"
   ]
  },
  {
   "cell_type": "code",
   "execution_count": null,
   "id": "5922f544",
   "metadata": {},
   "outputs": [],
   "source": [
    "while True:\n",
    "    print('a')\n",
    "    break\n",
    "    print('b')"
   ]
  },
  {
   "cell_type": "code",
   "execution_count": null,
   "id": "137d2023",
   "metadata": {},
   "outputs": [],
   "source": [
    "while True:\n",
    "    print('a')\n",
    "    break\n",
    "print('b')"
   ]
  },
  {
   "cell_type": "code",
   "execution_count": null,
   "id": "ebc958c2",
   "metadata": {},
   "outputs": [],
   "source": [
    "x = 6\n",
    "\n",
    "while x > 0:\n",
    "    print('a')\n",
    "    x = x - 1"
   ]
  },
  {
   "cell_type": "code",
   "execution_count": null,
   "id": "d32db556",
   "metadata": {},
   "outputs": [],
   "source": [
    "x = 0\n",
    "\n",
    "while x < 3:\n",
    "    print(x)\n",
    "    x = x + 1"
   ]
  },
  {
   "cell_type": "code",
   "execution_count": null,
   "id": "1fe419e4",
   "metadata": {},
   "outputs": [],
   "source": [
    "i = 0\n",
    "\n",
    "while i < 3:\n",
    "    i += 1\n",
    "    print(i)"
   ]
  },
  {
   "cell_type": "code",
   "execution_count": null,
   "id": "26beb0b8",
   "metadata": {},
   "outputs": [],
   "source": [
    "condition = True\n",
    "\n",
    "while condition:\n",
    "    condition = False\n",
    "    print('8')"
   ]
  },
  {
   "cell_type": "code",
   "execution_count": null,
   "id": "fa63be94",
   "metadata": {},
   "outputs": [],
   "source": [
    "condition = True\n",
    "\n",
    "while condition:\n",
    "    print('8')\n",
    "    condition = False"
   ]
  },
  {
   "cell_type": "code",
   "execution_count": null,
   "id": "395e7121",
   "metadata": {},
   "outputs": [],
   "source": [
    "condition = True\n",
    "x = 0\n",
    "\n",
    "while condition:\n",
    "    print(x)\n",
    "    if x == 3:\n",
    "        condition = False\n",
    "    print('x')\n",
    "    x = x + 1"
   ]
  },
  {
   "cell_type": "code",
   "execution_count": null,
   "id": "7a872f6d",
   "metadata": {},
   "outputs": [],
   "source": [
    "i = 0\n",
    "\n",
    "while i < 4:\n",
    "    i += 1\n",
    "    if i == 3:\n",
    "        break\n",
    "    print(i)"
   ]
  },
  {
   "cell_type": "code",
   "execution_count": null,
   "id": "2bf52659",
   "metadata": {},
   "outputs": [],
   "source": [
    "i = 0\n",
    "\n",
    "while i < 4:\n",
    "    i += 1\n",
    "    if i == 3:\n",
    "        continue\n",
    "    print(i)"
   ]
  },
  {
   "cell_type": "code",
   "execution_count": null,
   "id": "3897cc76",
   "metadata": {},
   "outputs": [],
   "source": [
    "i = 0\n",
    "\n",
    "while i < 4:\n",
    "    i += 1\n",
    "    print(i)\n",
    "else:\n",
    "    print('hello')"
   ]
  },
  {
   "cell_type": "code",
   "execution_count": null,
   "id": "4ee47efb",
   "metadata": {},
   "outputs": [],
   "source": [
    "i = 0\n",
    "\n",
    "while i < 4:\n",
    "    i += 1\n",
    "    if i == 3:\n",
    "        break\n",
    "    print(i)\n",
    "else:\n",
    "    print('hello')"
   ]
  },
  {
   "cell_type": "code",
   "execution_count": null,
   "id": "a94e4068",
   "metadata": {},
   "outputs": [],
   "source": [
    "i = 0\n",
    "\n",
    "while i < 1:\n",
    "    i = i + 1\n",
    "    print(i)\n",
    "    break\n",
    "else:\n",
    "    print('foo')"
   ]
  }
 ],
 "metadata": {
  "kernelspec": {
   "display_name": "Python 3 (ipykernel)",
   "language": "python",
   "name": "python3"
  },
  "language_info": {
   "codemirror_mode": {
    "name": "ipython",
    "version": 3
   },
   "file_extension": ".py",
   "mimetype": "text/x-python",
   "name": "python",
   "nbconvert_exporter": "python",
   "pygments_lexer": "ipython3",
   "version": "3.11.5"
  }
 },
 "nbformat": 4,
 "nbformat_minor": 5
}
