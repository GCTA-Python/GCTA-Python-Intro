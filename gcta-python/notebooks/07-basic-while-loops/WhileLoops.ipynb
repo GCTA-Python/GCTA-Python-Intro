{
 "cells": [
  {
   "cell_type": "markdown",
   "id": "ef813c0e",
   "metadata": {},
   "source": [
    "<span style=\"font-size: 16px; font-family: Geneva, Tahoma, Verdana, sans-serif;\">\n",
    "\n",
    "<h1>Objectives and Outcome</h1>\n",
    "<div style=\"margin-left: 2em;\">\n",
    "<br>\n",
    "By the end of this lesson, you should:\n",
    "    \n",
    "- Be able to \n",
    "    \n",
    "- Be able to \n",
    "\n",
    "</div>\n",
    " \n",
    "</span>"
   ]
  },
  {
   "cell_type": "markdown",
   "id": "82b641c4",
   "metadata": {},
   "source": [
    "<span style=\"font-size: 16px; font-family: Geneva, Tahoma, Verdana, sans-serif;\">\n",
    "<h1>Motivation</h1>\n",
    "<div style=\"margin-left: 2em;\"><br>\n",
    "We need to be able to \n",
    "</div>\n",
    "\n",
    "</span>"
   ]
  },
  {
   "cell_type": "markdown",
   "id": "9615d69e",
   "metadata": {},
   "source": [
    "<span style=\"font-size: 16px; font-family: Geneva, Tahoma, Verdana, sans-serif;\">\n",
    "\n",
    "<h1>Topics Covered</h1>\n",
    "\n",
    "<ol style=\"padding-left: 3.2em\">\n",
    "<li>asdf</li>\n",
    "<li>asdf</li>\n",
    "<li>asdf</li>\n",
    "</ol>\n",
    "    \n",
    "</span>\n"
   ]
  },
  {
   "cell_type": "markdown",
   "id": "ea4cf0cd",
   "metadata": {},
   "source": [
    "# While Loops\n",
    "\n",
    "While loops execute a set of statements for as long as a condition is true.\n",
    "\n",
    "While loops follow this syntax --\n",
    "\n",
    "```\n",
    "while condition:\n",
    "    expression\n",
    "    expression\n",
    "    ...\n",
    "```\n",
    "where condition must evaluate to a boolean.\n",
    "\n",
    "While loops can include `break` statements which will stop the execution of the loop.\n",
    "\n",
    "While loops can include an `else` statement which will execute after the loop completes only if it does not hit a `break` statement.\n",
    "\n",
    "While loops can include `continue` statements which will stop the current iteration and continue on to the next."
   ]
  },
  {
   "cell_type": "code",
   "execution_count": null,
   "id": "ee7c1c7b",
   "metadata": {},
   "outputs": [],
   "source": [
    "while False:\n",
    "    print('foo')"
   ]
  },
  {
   "cell_type": "code",
   "execution_count": null,
   "id": "018b49e3",
   "metadata": {},
   "outputs": [],
   "source": [
    "while True:\n",
    "    print('foo')"
   ]
  },
  {
   "cell_type": "code",
   "execution_count": null,
   "id": "5922f544",
   "metadata": {},
   "outputs": [],
   "source": [
    "while True:\n",
    "    print('a')\n",
    "    break\n",
    "    print('b')"
   ]
  },
  {
   "cell_type": "code",
   "execution_count": null,
   "id": "137d2023",
   "metadata": {},
   "outputs": [],
   "source": [
    "while True:\n",
    "    print('a')\n",
    "    break\n",
    "print('b')"
   ]
  },
  {
   "cell_type": "code",
   "execution_count": null,
   "id": "ebc958c2",
   "metadata": {},
   "outputs": [],
   "source": [
    "x = 0\n",
    "while x < 3:\n",
    "    print('a')"
   ]
  },
  {
   "cell_type": "code",
   "execution_count": null,
   "id": "d32db556",
   "metadata": {},
   "outputs": [],
   "source": [
    "x = 0\n",
    "while x < 3:\n",
    "    print(x)"
   ]
  },
  {
   "cell_type": "code",
   "execution_count": null,
   "id": "1fe419e4",
   "metadata": {},
   "outputs": [],
   "source": [
    "# here is an example of a simple while loop\n",
    "\n",
    "i = 0\n",
    "\n",
    "while i < 3:\n",
    "    i += 1\n",
    "    print(i)"
   ]
  },
  {
   "cell_type": "code",
   "execution_count": null,
   "id": "26beb0b8",
   "metadata": {},
   "outputs": [],
   "source": [
    "condition = True\n",
    "\n",
    "while condition:\n",
    "    condition = False\n",
    "    print('8')"
   ]
  },
  {
   "cell_type": "code",
   "execution_count": null,
   "id": "fa63be94",
   "metadata": {},
   "outputs": [],
   "source": [
    "condition = True\n",
    "\n",
    "while condition:\n",
    "    print('8')\n",
    "    condition = False"
   ]
  },
  {
   "cell_type": "code",
   "execution_count": null,
   "id": "395e7121",
   "metadata": {},
   "outputs": [],
   "source": [
    "condition = True\n",
    "x = 0\n",
    "\n",
    "while condition:\n",
    "    print(x)\n",
    "    if x == 3\n",
    "        condition = False\n",
    "    print('x')"
   ]
  },
  {
   "cell_type": "code",
   "execution_count": null,
   "id": "4d2a3da5",
   "metadata": {},
   "outputs": [],
   "source": []
  },
  {
   "cell_type": "code",
   "execution_count": null,
   "id": "7a872f6d",
   "metadata": {},
   "outputs": [],
   "source": [
    "# here is an example of a simple while loop with a break statement\n",
    "\n",
    "i = 0\n",
    "while i < 4:\n",
    "    i += 1\n",
    "    if i == 3:\n",
    "        break\n",
    "    print(i)"
   ]
  },
  {
   "cell_type": "code",
   "execution_count": null,
   "id": "2bf52659",
   "metadata": {},
   "outputs": [],
   "source": [
    "# here is an example of a simple while loop with a continue statement\n",
    "\n",
    "i = 0\n",
    "while i < 4:\n",
    "    i += 1\n",
    "    if i == 3:\n",
    "        continue\n",
    "    print(i)"
   ]
  },
  {
   "cell_type": "code",
   "execution_count": null,
   "id": "3897cc76",
   "metadata": {},
   "outputs": [],
   "source": [
    "# here is an example of a simple while loop with an else statement\n",
    "\n",
    "i = 0\n",
    "while i < 4:\n",
    "    i += 1\n",
    "    print(i)\n",
    "else:\n",
    "    print('hello')"
   ]
  },
  {
   "cell_type": "code",
   "execution_count": null,
   "id": "4ee47efb",
   "metadata": {},
   "outputs": [],
   "source": [
    "# here is an example of a simple while loop with an else statement and a break statement\n",
    "\n",
    "i = 0\n",
    "while i < 4:\n",
    "    i += 1\n",
    "    if i == 3:\n",
    "        break\n",
    "    print(i)\n",
    "else:\n",
    "    print('hello')"
   ]
  },
  {
   "cell_type": "code",
   "execution_count": null,
   "id": "a94e4068",
   "metadata": {},
   "outputs": [],
   "source": []
  }
 ],
 "metadata": {
  "kernelspec": {
   "display_name": "Python 3 (ipykernel)",
   "language": "python",
   "name": "python3"
  },
  "language_info": {
   "codemirror_mode": {
    "name": "ipython",
    "version": 3
   },
   "file_extension": ".py",
   "mimetype": "text/x-python",
   "name": "python",
   "nbconvert_exporter": "python",
   "pygments_lexer": "ipython3",
   "version": "3.10.2"
  }
 },
 "nbformat": 4,
 "nbformat_minor": 5
}
