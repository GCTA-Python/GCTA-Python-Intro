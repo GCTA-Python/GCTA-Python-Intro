{
 "cells": [
  {
   "cell_type": "markdown",
   "metadata": {
    "id": "AvhKEx6RIz7y"
   },
   "source": [
    "<span style=\"font-size: 16px; font-family: Geneva, Tahoma, Verdana, sans-serif;\">\n",
    "\n",
    "<h1>Print and Input Functions</h1>\n",
    "\n",
    "<h1>Objectives and Outcome</h1>\n",
    "<div style=\"margin-left: 2em;\">\n",
    "<br>\n",
    "By the end of this lesson, you should:\n",
    "    \n",
    "- Be able to use the <code>print</code> function with one or more arguments.\n",
    "    \n",
    "- Know what the <code>print</code> function arguments <code>sep</code> and <code>end</code> do.\n",
    "    \n",
    "- Know what the default values of <code>sep</code> and <code>end</code> are.\n",
    "    \n",
    "- Be able to use the <code>input</code> function with and without the <code>prompt</code> argument.\n",
    "\n",
    "</div>\n",
    " \n",
    "<h1>Motivation</h1>\n",
    "Continue integrating knowledge necessary for an enhanced learning experience, while providing students the tools necessary to more interactively write scripts.\n",
    "<br>\n",
    "\n",
    "\n",
    "</span>\n"
   ]
  },
  {
   "cell_type": "markdown",
   "metadata": {},
   "source": [
    "<span style=\"font-size: 16px; font-family: Geneva, Tahoma, Verdana, sans-serif;\">\n",
    "\n",
    "<h2>2. Review: Basic <code>print</code> Function Usage</h2>\n",
    "\n",
    "<div style=\"margin-left: 2em;\">\n",
    "<br>\n",
    "If we wish to display specific data on our screen, we would supply the <code>print</code> function with the data we wish to display.\n",
    "\n",
    "For example, if we want to display <code>\"Hello, World!\"</code> to the screen, we would code:\n",
    "\n",
    "```python\n",
    "print(\"Hello, World!\")\n",
    "```\n",
    "and when we run (or execute) our code, we see\n",
    "    \n",
    "```python\n",
    "\"Hello, World!\"\n",
    "```\n",
    "    \n",
    "displayed on the screen (it may be formatted differently, without quotation marks).\n",
    "\n",
    "<br>\n",
    "</div>"
   ]
  },
  {
   "cell_type": "markdown",
   "metadata": {
    "id": "6kwGMjW5OPvW"
   },
   "source": [
    "<span style=\"font-size: 16px; font-family: Geneva, Tahoma, Verdana, sans-serif;\">\n",
    "\n",
    "<h1>The <code>print</code> Function</h1>\n",
    "\n",
    "\n",
    "    \n",
    "    \n",
    "    \n",
    "    \n",
    "<div style=\"color: #000000;background-color: #fffffe;font-family: 'monospace', Consolas, 'Courier New', monospace;font-weight: normal;font-size: 14px;line-height: 19px;white-space: pre;\"><span style=\"color: rgb(0, 0, 0); font-family: Verdana, sans-serif; font-size: 15px; font-style: normal; font-variant-ligatures: normal; font-variant-caps: normal; font-weight: 400; letter-spacing: normal; orphans: 2; text-align: start; text-indent: 0px; text-transform: none; white-space: normal; widows: 2; word-spacing: 0px; -webkit-text-stroke-width: 0px; background-color: rgb(255, 255, 255); text-decoration-style: initial; text-decoration-color: initial; display: inline !important; float: none;\">Prints the specified message to the screen, or other standard output device.</span></div>\n",
    "<p><span style=\"color: rgb(0, 0, 0); font-family: Verdana, sans-serif; font-size: 15px; font-style: normal; font-variant-ligatures: normal; font-variant-caps: normal; font-weight: 400; letter-spacing: normal; orphans: 2; text-align: start; text-indent: 0px; text-transform: none; white-space: normal; widows: 2; word-spacing: 0px; -webkit-text-stroke-width: 0px; background-color: rgb(255, 255, 255); text-decoration-style: initial; text-decoration-color: initial; display: inline !important; float: none;\"><a href=\"https://edube.org/learn/pe-1/your-first-program-43\" rel=\"noopener noreferrer\" target=\"_blank\">https://edube.org/learn/pe-1/your-first-program-43</a></span></p>\n",
    "<p><span style=\"color: rgb(0, 0, 0); font-family: Verdana, sans-serif; font-size: 15px; font-style: normal; font-variant-ligatures: normal; font-variant-caps: normal; font-weight: 400; letter-spacing: normal; orphans: 2; text-align: start; text-indent: 0px; text-transform: none; white-space: normal; widows: 2; word-spacing: 0px; -webkit-text-stroke-width: 0px; background-color: rgb(255, 255, 255); text-decoration-style: initial; text-decoration-color: initial; display: inline !important; float: none;\"><a href=\"https://edube.org/learn/pe-1/section-summary-72\" rel=\"noopener noreferrer\" target=\"_blank\">https://edube.org/learn/pe-1/section-summary-72</a></span></p>\n",
    "<p><span style=\"color: rgb(0, 0, 0); font-family: Verdana, sans-serif; font-size: 15px; font-style: normal; font-variant-ligatures: normal; font-variant-caps: normal; font-weight: 400; letter-spacing: normal; orphans: 2; text-align: start; text-indent: 0px; text-transform: none; white-space: normal; widows: 2; word-spacing: 0px; -webkit-text-stroke-width: 0px; background-color: rgb(255, 255, 255); text-decoration-style: initial; text-decoration-color: initial; display: inline !important; float: none;\"><a href=\"https://www.w3schools.com/python/ref_func_print.asp\" rel=\"noopener noreferrer\" target=\"_blank\">https://www.w3schools.com/python/ref_func_print.asp</a></span></p>\n",
    "<h3 style='box-sizing: inherit; font-size: 32px; font-family: \"Segoe UI\", Arial, sans-serif; font-weight: 400; margin: 10px 0px; color: rgb(0, 0, 0); font-style: normal; font-variant-ligatures: normal; font-variant-caps: normal; letter-spacing: normal; orphans: 2; text-align: start; text-indent: 0px; text-transform: none; white-space: normal; widows: 2; word-spacing: 0px; -webkit-text-stroke-width: 0px; background-color: rgb(255, 255, 255); text-decoration-style: initial; text-decoration-color: initial;'>Parameter Values</h3>\n",
    "<table class=\"w3-table-all notranslate\" style=\"box-sizing: inherit; border-collapse: collapse; border-spacing: 0px; width: 1264px; display: table; border: 1px solid rgb(204, 204, 204); margin: 20px 0px; color: rgb(0, 0, 0); font-family: Verdana, sans-serif; font-size: 15px; font-style: normal; font-variant-ligatures: normal; font-variant-caps: normal; font-weight: 400; letter-spacing: normal; orphans: 2; text-align: start; text-indent: 0px; text-transform: none; white-space: normal; widows: 2; word-spacing: 0px; -webkit-text-stroke-width: 0px; background-color: rgb(255, 255, 255); text-decoration-style: initial; text-decoration-color: initial;\">\n",
    "    <thead>\n",
    "        <tr style=\"box-sizing: inherit; border-bottom: 1px solid rgb(221, 221, 221); background-color: rgb(255, 255, 255);\">\n",
    "            <th style=\"box-sizing: inherit; padding: 8px 8px 8px 16px; display: table-cell; text-align: left; vertical-align: top; width: 252px;\">Parameter</th>\n",
    "            <th style=\"box-sizing: inherit; padding: 8px; display: table-cell; text-align: left; vertical-align: top;\">Description</th>\n",
    "        </tr>\n",
    "    </thead>\n",
    "    <tbody style=\"box-sizing: inherit;\">\n",
    "        <tr style=\"box-sizing: inherit; border-bottom: 1px solid rgb(221, 221, 221); background-color: rgb(241, 241, 241);\">\n",
    "            <td style=\"box-sizing: inherit; padding: 8px 8px 8px 16px; display: table-cell; text-align: left; vertical-align: top;\"><em style=\"box-sizing: inherit;\">object(s)</em></td>\n",
    "            <td style=\"box-sizing: inherit; padding: 8px; display: table-cell; text-align: left; vertical-align: top;\">Any object, and as many as you like. Will be converted to string before printed</td>\n",
    "        </tr>\n",
    "        <tr style=\"box-sizing: inherit; border-bottom: 1px solid rgb(221, 221, 221); background-color: rgb(255, 255, 255);\">\n",
    "            <td style=\"box-sizing: inherit; padding: 8px 8px 8px 16px; display: table-cell; text-align: left; vertical-align: top;\">sep=&apos;<em style=\"box-sizing: inherit;\">separator</em>&apos;</td>\n",
    "            <td style=\"box-sizing: inherit; padding: 8px; display: table-cell; text-align: left; vertical-align: top;\">Optional. Specify how to separate the objects, if there is more than one. Default is &apos; &apos;</td>\n",
    "        </tr>\n",
    "        <tr style=\"box-sizing: inherit; border-bottom: 1px solid rgb(221, 221, 221); background-color: rgb(241, 241, 241);\">\n",
    "            <td style=\"box-sizing: inherit; padding: 8px 8px 8px 16px; display: table-cell; text-align: left; vertical-align: top;\">end=&apos;<em style=\"box-sizing: inherit;\">end</em>&apos;</td>\n",
    "            <td style=\"box-sizing: inherit; padding: 8px; display: table-cell; text-align: left; vertical-align: top;\">Optional. Specify what to print at the end. Default is &apos;\\n&apos; (line feed)</td>\n",
    "        </tr>\n",
    "        <tr style=\"box-sizing: inherit; border-bottom: 1px solid rgb(221, 221, 221); background-color: rgb(255, 255, 255);\">\n",
    "            <td style=\"box-sizing: inherit; padding: 8px 8px 8px 16px; display: table-cell; text-align: left; vertical-align: top;\"><em style=\"box-sizing: inherit;\">file</em></td>\n",
    "            <td style=\"box-sizing: inherit; padding: 8px; display: table-cell; text-align: left; vertical-align: top;\">Optional. An object with a write method. Default is sys.stdout</td>\n",
    "        </tr>\n",
    "        <tr style=\"box-sizing: inherit; border-bottom: 1px solid rgb(221, 221, 221); background-color: rgb(241, 241, 241);\">\n",
    "            <td style=\"box-sizing: inherit; padding: 8px 8px 8px 16px; display: table-cell; text-align: left; vertical-align: top;\"><em style=\"box-sizing: inherit;\">flush</em></td>\n",
    "            <td style=\"box-sizing: inherit; padding: 8px; display: table-cell; text-align: left; vertical-align: top;\">Optional. A Boolean, specifying if the output is flushed (True) or buffered (False). Default is False</td>\n",
    "        </tr>\n",
    "    </tbody>\n",
    "</table>\n",
    "<br>\n",
    "<p>It is also worth mentioning now that the help() function can be used to print documentation.</p>\n",
    "<p><span style=\"color: rgb(0, 0, 0); font-family: Verdana, sans-serif; font-size: 15px; font-style: normal; font-variant-ligatures: normal; font-variant-caps: normal; font-weight: 400; letter-spacing: normal; orphans: 2; text-align: start; text-indent: 0px; text-transform: none; white-space: normal; widows: 2; word-spacing: 0px; -webkit-text-stroke-width: 0px; background-color: rgb(255, 255, 255); text-decoration-style: initial; text-decoration-color: initial; display: inline !important; float: none;\"><a href=\"https://docs.python.org/3/library/functions.html#help\" rel=\"noopener noreferrer\" target=\"_blank\">https://docs.python.org/3/library/functions.html#help</a></span></p>\n",
    "<p>Other built-in Python functions are also documented here:</p>\n",
    "<p><span style=\"color: rgb(0, 0, 0); font-family: Verdana, sans-serif; font-size: 15px; font-style: normal; font-variant-ligatures: normal; font-variant-caps: normal; font-weight: 400; letter-spacing: normal; orphans: 2; text-align: start; text-indent: 0px; text-transform: none; white-space: normal; widows: 2; word-spacing: 0px; -webkit-text-stroke-width: 0px; background-color: rgb(255, 255, 255); text-decoration-style: initial; text-decoration-color: initial; display: inline !important; float: none;\"><a href=\"https://docs.python.org/3/library/functions.html\" rel=\"noopener noreferrer\" target=\"_blank\">https://docs.python.org/3/library/functions.html</a></span></p>\n",
    "<p>Use the next cell to print the documentation of the print() function.</p>\n",
    "<p><br></p>\n",
    "    \n",
    "    \n",
    "</span>\n"
   ]
  },
  {
   "cell_type": "code",
   "execution_count": null,
   "metadata": {
    "colab": {
     "base_uri": "https://localhost:8080/"
    },
    "id": "Aocmxrc7f0h0",
    "outputId": "fa92de50-9016-4afa-be94-6fc7a921fa88"
   },
   "outputs": [],
   "source": [
    "# executing this cell will print the documentation for the built-in print() function\n",
    "help(print)"
   ]
  },
  {
   "cell_type": "code",
   "execution_count": null,
   "metadata": {
    "colab": {
     "base_uri": "https://localhost:8080/"
    },
    "id": "FUz0tA8HgqEH",
    "outputId": "74fdd1c1-63a0-4af5-e0e7-07afb91167e0"
   },
   "outputs": [],
   "source": [
    "# now, lets print some things\n",
    "print(\"Hello, World!\")"
   ]
  },
  {
   "cell_type": "code",
   "execution_count": null,
   "metadata": {
    "colab": {
     "base_uri": "https://localhost:8080/"
    },
    "id": "hrKSDY7PmJaS",
    "outputId": "553776eb-f046-441c-d356-e016207ce7de"
   },
   "outputs": [],
   "source": [
    "# lets execute two print statements\n",
    "print(\"Hello\")\n",
    "print(\"World\")"
   ]
  },
  {
   "cell_type": "code",
   "execution_count": null,
   "metadata": {
    "colab": {
     "base_uri": "https://localhost:8080/"
    },
    "id": "Mv7Zyn7CmJtj",
    "outputId": "7f7beb70-279f-485d-a5fc-1c18b8eaafde"
   },
   "outputs": [],
   "source": [
    "# what happens if we put an empty print statement in between\n",
    "print(\"Hello\")\n",
    "print()\n",
    "print(\"World\")"
   ]
  },
  {
   "cell_type": "markdown",
   "metadata": {
    "id": "UT3L6fFJpg7N"
   },
   "source": [
    "The backslash (\\) has a very special meaning when used inside strings - this is called the escape character.\n",
    "\n",
    "The word escape should be understood specifically - it means that the series of characters in the string escapes for the moment (a very short moment) to introduce a special inclusion."
   ]
  },
  {
   "cell_type": "code",
   "execution_count": null,
   "metadata": {
    "colab": {
     "base_uri": "https://localhost:8080/"
    },
    "id": "TcYUaqK7mJ9g",
    "outputId": "9a654bde-6443-4b6c-b3fd-009a78e27729"
   },
   "outputs": [],
   "source": [
    "# Are there more than one ways to print a blank line?\n",
    "print(\"Hello\")\n",
    "print(\"\\n\")\n",
    "print(\"Beautiful\")\n",
    "print()\n",
    "print(\"World\")"
   ]
  },
  {
   "cell_type": "code",
   "execution_count": null,
   "metadata": {
    "colab": {
     "base_uri": "https://localhost:8080/"
    },
    "id": "-KHO6YkkmKFf",
    "outputId": "22600000-4e50-4692-ede8-5f69fd57083e"
   },
   "outputs": [],
   "source": [
    "# what if you actually want a backslash in your string as a character\n",
    "# escaping a backslash will accomplish this ... \\\\\n",
    "print('\\\\')"
   ]
  },
  {
   "cell_type": "code",
   "execution_count": null,
   "metadata": {
    "colab": {
     "base_uri": "https://localhost:8080/"
    },
    "id": "0NcyxjAkqEMl",
    "outputId": "e25d14c5-ff3a-4235-ca3f-021da6d83a07"
   },
   "outputs": [],
   "source": [
    "# what if you want a new line inside of one print statement\n",
    "print(\"Hello \\n World\")"
   ]
  },
  {
   "cell_type": "code",
   "execution_count": null,
   "metadata": {
    "colab": {
     "base_uri": "https://localhost:8080/"
    },
    "id": "dkEdYkJLqVxU",
    "outputId": "c233bda3-9533-4174-8521-cc77ff6b42c1"
   },
   "outputs": [],
   "source": [
    "# printing multiple arguments\n",
    "print(\"Hello\", \"World\", \"I love you\") # notice arguments are seperated by commas ... also this is a comment at the end of a line of code"
   ]
  },
  {
   "cell_type": "code",
   "execution_count": null,
   "metadata": {
    "colab": {
     "base_uri": "https://localhost:8080/"
    },
    "id": "1JvLIARIqpl1",
    "outputId": "a0c76cea-11df-415f-91bf-1b01ee3ed126"
   },
   "outputs": [],
   "source": [
    "# Did you notice that the arguments were automatically seperated by spaces. That is because the default for the \"sep\" parameter is ' '\n",
    "# what if you didn't want them seperated by a space? Maybe we want them seperated by new lines\n",
    "print(\"Hello\", \"World\", \"I love you\", sep=\"\\n\")"
   ]
  },
  {
   "cell_type": "code",
   "execution_count": null,
   "metadata": {
    "colab": {
     "base_uri": "https://localhost:8080/"
    },
    "id": "krTi0ZLerqeB",
    "outputId": "e882eed2-c743-4e01-cdaa-a6c7337e8de1"
   },
   "outputs": [],
   "source": [
    "# Or maybe we want them seperated by hyphens\n",
    "print(\"Hello\", \"World\", \"I love you\", sep=\"-\")"
   ]
  },
  {
   "cell_type": "markdown",
   "metadata": {
    "id": "JQnfy4iXsEaa"
   },
   "source": [
    "<p>In this case, <em>sep&nbsp;</em>is a <strong>keyword argument</strong></p>\n",
    "<p>While the strings being printed are <strong>positional arguments</strong></p>\n",
    "<p>Find the definition for argument in this glossary:</p>\n",
    "<p><span style=\"color: rgb(0, 0, 0); font-family: Verdana, sans-serif; font-size: 15px; font-style: normal; font-variant-ligatures: normal; font-variant-caps: normal; font-weight: 400; letter-spacing: normal; orphans: 2; text-align: start; text-indent: 0px; text-transform: none; white-space: normal; widows: 2; word-spacing: 0px; -webkit-text-stroke-width: 0px; background-color: rgb(255, 255, 255); text-decoration-style: initial; text-decoration-color: initial; display: inline !important; float: none;\"><a href=\"https://docs.python.org/3/glossary.html\" rel=\"noopener noreferrer\" target=\"_blank\">https://docs.python.org/3/glossary.html</a></span></p>\n"
   ]
  },
  {
   "cell_type": "markdown",
   "metadata": {
    "id": "3NYavTSXtD1g"
   },
   "source": [
    "<p>Looking back at the docs that we printed earlier, print has 3 other <strong>keyword arguments</strong> in addition to <em>sep:</em></p>\n",
    "<p><em>end, file, flush</em></p>\n",
    "<p>We won&apos;t worry about <em>file </em>or <em>flush </em>for now</p>"
   ]
  },
  {
   "cell_type": "code",
   "execution_count": null,
   "metadata": {
    "colab": {
     "base_uri": "https://localhost:8080/"
    },
    "id": "2AMPqT5Zs-qL",
    "outputId": "66692201-d2c4-4a7a-b2ca-86fbba0fa841"
   },
   "outputs": [],
   "source": [
    "# the end keyword argument is pretty self explanatory\n",
    "print(\"hello World\", end=\"!\")"
   ]
  },
  {
   "cell_type": "code",
   "execution_count": null,
   "metadata": {
    "colab": {
     "base_uri": "https://localhost:8080/"
    },
    "id": "ZYRdtMFJuTG2",
    "outputId": "6d38b93b-f512-4b57-ecab-74e0987baaa5"
   },
   "outputs": [],
   "source": [
    "# keyword arguments can be used alongside eachother, and if not used will maintain the default whose behavior is described in the doc\n",
    "print(\"Hello\", \"World\", sep=\"----\", end=\"!!!\")"
   ]
  },
  {
   "cell_type": "code",
   "execution_count": null,
   "metadata": {
    "colab": {
     "base_uri": "https://localhost:8080/"
    },
    "id": "49rvf7lUulRA",
    "outputId": "c27dbb64-81ed-433a-b8e6-7ab1ddb42397"
   },
   "outputs": [],
   "source": [
    "# change the following code such that it prints:\n",
    "# Programming***Essentials***in...Python\n",
    "# Using the sep and end keywords\n",
    "print(\"Programming\",\"Essentials\",\"in\")\n",
    "print(\"Python\") # hint: don't change anything on this line"
   ]
  },
  {
   "cell_type": "markdown",
   "metadata": {
    "id": "EhfKsN9VJnrs"
   },
   "source": [
    "# Input"
   ]
  },
  {
   "cell_type": "code",
   "execution_count": null,
   "metadata": {},
   "outputs": [],
   "source": [
    "x = input(\"enter some text: \")"
   ]
  },
  {
   "cell_type": "code",
   "execution_count": null,
   "metadata": {},
   "outputs": [],
   "source": [
    "x = input(\"enter a number: \")"
   ]
  },
  {
   "cell_type": "code",
   "execution_count": null,
   "metadata": {},
   "outputs": [],
   "source": [
    "x = input(\"enter a number: \")\n",
    "print(x+2)"
   ]
  },
  {
   "cell_type": "code",
   "execution_count": null,
   "metadata": {},
   "outputs": [],
   "source": [
    "x = input(\"enter a number: \")\n",
    "print(int(x)+2)"
   ]
  },
  {
   "cell_type": "code",
   "execution_count": null,
   "metadata": {},
   "outputs": [],
   "source": [
    "x = input(\"enter a number: \")\n",
    "print(x+2)"
   ]
  }
 ],
 "metadata": {
  "colab": {
   "name": "PC-2.1.ipynb",
   "provenance": []
  },
  "kernelspec": {
   "display_name": "Python 3 (ipykernel)",
   "language": "python",
   "name": "python3"
  },
  "language_info": {
   "codemirror_mode": {
    "name": "ipython",
    "version": 3
   },
   "file_extension": ".py",
   "mimetype": "text/x-python",
   "name": "python",
   "nbconvert_exporter": "python",
   "pygments_lexer": "ipython3",
   "version": "3.10.2"
  }
 },
 "nbformat": 4,
 "nbformat_minor": 1
}
