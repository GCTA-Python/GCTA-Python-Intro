{
 "cells": [
  {
   "cell_type": "markdown",
   "metadata": {
    "id": "AvhKEx6RIz7y"
   },
   "source": [
    "<span style=\"font-size: 16px; font-family: Geneva, Tahoma, Verdana, sans-serif;\">\n",
    "\n",
    "<h1>Objectives and Outcome</h1>\n",
    "<div style=\"margin-left: 2em;\">\n",
    "<br>\n",
    "By the end of this lesson, you should:\n",
    "    \n",
    "- Be able to use the <code>print</code> function with one or more arguments.\n",
    "    \n",
    "- Know what the <code>print</code> function arguments <code>sep</code> and <code>end</code> do.\n",
    "    \n",
    "- Know what the default values of <code>sep</code> and <code>end</code> are.\n",
    "    \n",
    "- Be able to use the <code>input</code> function with and without a <code>prompt</code> argument.\n",
    "\n",
    "</div>\n",
    "</span>"
   ]
  },
  {
   "cell_type": "markdown",
   "metadata": {},
   "source": [
    "<span style=\"font-size: 16px; font-family: Geneva, Tahoma, Verdana, sans-serif;\">\n",
    " \n",
    "<h1>Motivation</h1>\n",
    "<div style=\"margin-left: 2em;\">\n",
    "<br>\n",
    "Continue acquiring knowledge necessary for an enhanced learning experience through learning to write more interactive scripts.\n",
    "<br>\n",
    "</div>\n",
    "</span>"
   ]
  },
  {
   "cell_type": "markdown",
   "metadata": {},
   "source": [
    "<span style=\"font-size: 16px; font-family: Geneva, Tahoma, Verdana, sans-serif;\">\n",
    "\n",
    "<h1>Topics Covered</h1>\n",
    "\n",
    "<ol style=\"padding-left: 3.2em\">\n",
    "<li>Basic <code>print</code> Function Usage</li>\n",
    "<li>Advanced <code>print</code> Function Usage</li>\n",
    "<li>Advanced <code>input</code> Function Usage</li>\n",
    "</ol>\n",
    "    \n",
    "</span>\n"
   ]
  },
  {
   "cell_type": "markdown",
   "metadata": {},
   "source": [
    "<span style=\"font-size: 16px; font-family: Geneva, Tahoma, Verdana, sans-serif;\">\n",
    "\n",
    "<h1>1. Basic <code>print</code> Function Usage (review)</h1>\n",
    "\n",
    "<div style=\"margin-left: 2em;\">\n",
    "<br>\n",
    "If we wish to display specific data on our screen, we would supply the <code>print</code> function with the data we wish to display.\n",
    "\n",
    "For example, if we want to display <code>\"Hello, World!\"</code> to the screen, we would code:\n",
    "\n",
    "```python\n",
    "print(\"Hello, World!\")\n",
    "```\n",
    "and when we run (or execute) our code, we see\n",
    "    \n",
    "```python\n",
    "\"Hello, World!\"\n",
    "```\n",
    "    \n",
    "displayed on the screen (it may be formatted differently, without quotation marks).\n",
    "\n",
    "</div>"
   ]
  },
  {
   "cell_type": "markdown",
   "metadata": {},
   "source": [
    "<span style=\"font-size: 16px; font-family: Geneva, Tahoma, Verdana, sans-serif;\">\n",
    "\n",
    "<h1>2. Advanced <code>print</code> Function Usage</h1>\n",
    "\n",
    "<div style=\"margin-left: 2em;\">\n",
    "<br>\n",
    "We can provide the <code>print</code> function with multiple arguments:\n",
    "\n",
    "```python\n",
    "print(\"arg1\", \"arg2\", \"arg3\")\n",
    "```\n",
    "\n",
    "The arguments we provide to the <code>print</code> function can be the objects themselves (e.g. strings, integers), variables which have been assigned some data (e.g. strings, integers), or a mixture of the two. In fact, we can provide the <code>print</code> function any valid Python object.\n",
    "\n",
    "```python\n",
    "arg1 = \"abc\"\n",
    "arg2 = 123\n",
    "arg3 = False\n",
    "\n",
    "print(arg1)  # prints \"abc\"\n",
    "    \n",
    "print(arg1, arg2, arg3)  # prints \"abc 123 False\"\n",
    "    \n",
    "print(arg1, arg2, \"foo\")  # prints \"abc 123 foo\"\n",
    "```\n",
    "\n",
    "We can also specify the <code>sep</code> and <code>end</code> arguments to change the spacing between the objects we provide (technically, their string representations), and the last character that is appended to the output string.\n",
    "    \n",
    "```python\n",
    "print(\"1\", \"2\", \"3\", sep=\"_space_between_\", end=\"_end_of_string_\")\n",
    "# the above print statement prints:\n",
    "# 1_space_between_2_space_between_3_end_of_string_\n",
    "\n",
    "```\n",
    "\n",
    "The default <code>sep</code> and <code>end</code> arguments are a space <code>\" \"</code> and a new line <code>\"\\n\"</code>, respectively, and can be though of something like the code below.\n",
    "\n",
    "```python\n",
    "print(*args, sep=\" \", end=\"\\n\")\n",
    "```\n",
    "\n",
    "The <code>print</code> function additionally contains two other arguments we will not be covering, <code>file</code> and <code>flush</code>.\n",
    "    \n",
    "</div>"
   ]
  },
  {
   "cell_type": "markdown",
   "metadata": {},
   "source": [
    "<span style=\"font-size: 16px; font-family: Geneva, Tahoma, Verdana, sans-serif;\">\n",
    "\n",
    "<h1>Code Examples:</h1>\n",
    "    \n",
    "<div style=\"margin-left: 2em;\">\n",
    "\n",
    "<br>\n",
    "Run the cells below, paying close attention to their outputs. Modify their inputs to test your knowledge of how they work, and take this opportunity to test any ideas you have about how they work.\n",
    "</div>"
   ]
  },
  {
   "cell_type": "code",
   "execution_count": null,
   "metadata": {},
   "outputs": [],
   "source": [
    "# this cell contains:\n",
    "# an argument using the object itself\n",
    "print(\"abc\")"
   ]
  },
  {
   "cell_type": "code",
   "execution_count": null,
   "metadata": {},
   "outputs": [],
   "source": [
    "# this cell contains:\n",
    "# an argument using a variable name\n",
    "# that has been assigned an object\n",
    "arg1 = \"abc\"\n",
    "\n",
    "print(arg1)"
   ]
  },
  {
   "cell_type": "code",
   "execution_count": null,
   "metadata": {},
   "outputs": [],
   "source": [
    "# this cell contains:\n",
    "# multiple arguments of the \n",
    "# objects themselves and \n",
    "# names we've assigned to them\n",
    "arg1 = \"ab\"\n",
    "arg2 = \"cd\"\n",
    "\n",
    "print(arg1, arg2, \"foo\")"
   ]
  },
  {
   "cell_type": "code",
   "execution_count": null,
   "metadata": {},
   "outputs": [],
   "source": [
    "# this cell contains:\n",
    "# mixed data types of \n",
    "# arbitraily many arguments\n",
    "arg1 = \"abc\"\n",
    "arg2 = 123\n",
    "arg3 = False\n",
    "\n",
    "print(arg1, arg2, arg3)"
   ]
  },
  {
   "cell_type": "code",
   "execution_count": null,
   "metadata": {},
   "outputs": [],
   "source": [
    "# this cell contains:\n",
    "# print with its default sep and end arguments\n",
    "print(\"1\", \"2\", \"3\", sep=\" \", end=\"\\n\")"
   ]
  },
  {
   "cell_type": "code",
   "execution_count": null,
   "metadata": {},
   "outputs": [],
   "source": [
    "# compare this output to the above cell\n",
    "print(\"1\", \"2\", \"3\")"
   ]
  },
  {
   "cell_type": "code",
   "execution_count": null,
   "metadata": {},
   "outputs": [],
   "source": [
    "# this cell contains:\n",
    "# modified sep and end arguments\n",
    "print(\"1\", \"2\", \"3\", sep=\"_space_between_\", end=\"_end_of_string_\")"
   ]
  },
  {
   "cell_type": "code",
   "execution_count": null,
   "metadata": {},
   "outputs": [],
   "source": [
    "# this cell contains:\n",
    "# an example of a sep argument\n",
    "print(\"a\", \"b\", \"c\", sep=\"-\")"
   ]
  },
  {
   "cell_type": "code",
   "execution_count": null,
   "metadata": {},
   "outputs": [],
   "source": [
    "# this cell contains:\n",
    "# an example of an end argument\n",
    "print(\"abc\", end='')\n",
    "print(\"abc\")"
   ]
  },
  {
   "cell_type": "code",
   "execution_count": null,
   "metadata": {},
   "outputs": [],
   "source": [
    "# this cell contains:\n",
    "# an example of an end argument\n",
    "print(\"abc\", end='\\n\\n')\n",
    "print(\"abc\")"
   ]
  },
  {
   "cell_type": "markdown",
   "metadata": {},
   "source": [
    "<span style=\"font-size: 16px; font-family: Geneva, Tahoma, Verdana, sans-serif;\">\n",
    "\n",
    "<h1>2. Advanced <code>input</code> Function Usage</h1>\n",
    "    \n",
    "<div style=\"margin-left: 2em;\">\n",
    "<br>\n",
    "The <code>input</code> function prompts the user for input.\n",
    "\n",
    "```python\n",
    "input()\n",
    "```\n",
    "\n",
    "We'll often want to assign this function call to a variable, so that we may use it later.\n",
    "    \n",
    "```python\n",
    "usr_input = input()\n",
    "print(usr_input)\n",
    "```\n",
    "  \n",
    "The <code>input</code> function takes an argument <code>prompt</code>, which displays a message (the supplied text) to the user.\n",
    "    \n",
    "```python\n",
    "number = input(\"Enter a number: \")\n",
    "print(\"The user entered\", number)\n",
    "```\n",
    "\n",
    "Another variation:\n",
    "\n",
    "```python\n",
    "usr_prompt = \"Enter a number: \"\n",
    "number = input(usr_prompt)\n",
    "print(\"The user entered\", number)\n",
    "```\n",
    "</div>"
   ]
  },
  {
   "cell_type": "markdown",
   "metadata": {},
   "source": [
    "<span style=\"font-size: 16px; font-family: Geneva, Tahoma, Verdana, sans-serif;\">\n",
    "\n",
    "<h1>Code Examples:</h1>\n",
    "\n",
    "<div style=\"margin-left: 2em;\">\n",
    "\n",
    "<br>\n",
    "Run the cells below, paying close attention to their outputs. Modify the code to test your knowledge and try any ideas you have about how they work.\n",
    "\n",
    "<b>NOTE</b>: if you're having problems, please reread the following before asking for help: [previous notebook](http://localhost:8888/notebooks/gcta-python/notebooks/00-intro/Intro2JupyterNotebookUsage.ipynb#2.-Jupyter-Notebook-Execution-Details).\n",
    "</div>"
   ]
  },
  {
   "cell_type": "code",
   "execution_count": null,
   "metadata": {},
   "outputs": [],
   "source": [
    "# a bare input function call\n",
    "input()"
   ]
  },
  {
   "cell_type": "code",
   "execution_count": null,
   "metadata": {},
   "outputs": [],
   "source": [
    "# doing something with the input function call\n",
    "usr_input = input()\n",
    "print(usr_input)"
   ]
  },
  {
   "cell_type": "code",
   "execution_count": null,
   "metadata": {},
   "outputs": [],
   "source": [
    "# using a prompt\n",
    "number = input(\"Enter a number: \")\n",
    "print(\"The user entered\", number)"
   ]
  },
  {
   "cell_type": "code",
   "execution_count": null,
   "metadata": {},
   "outputs": [],
   "source": [
    "# variation on using a prompt\n",
    "usr_prompt = \"Enter a number: \"\n",
    "number = input(usr_prompt)\n",
    "print(\"The user entered\", number)"
   ]
  },
  {
   "cell_type": "code",
   "execution_count": null,
   "metadata": {},
   "outputs": [],
   "source": [
    "# arithmetic example\n",
    "number1 = input(\"Provide a number: \")\n",
    "number1 = int(number1)\n",
    "print(\"Squared (exponentiation):\", number1 * number1)"
   ]
  },
  {
   "cell_type": "code",
   "execution_count": null,
   "metadata": {},
   "outputs": [],
   "source": [
    "# arithmetic example\n",
    "number1 = input(\"Provide 1st number: \")\n",
    "number2 = input(\"Provide 2nd number: \")\n",
    "number1 = int(number1)\n",
    "number2 = int(number2)\n",
    "print(\"Addition:\", number1 + number2)\n",
    "print(\"Multiplication:\", number1 * number2)"
   ]
  }
 ],
 "metadata": {
  "colab": {
   "name": "PC-2.1.ipynb",
   "provenance": []
  },
  "kernelspec": {
   "display_name": "Python 3 (ipykernel)",
   "language": "python",
   "name": "python3"
  },
  "language_info": {
   "codemirror_mode": {
    "name": "ipython",
    "version": 3
   },
   "file_extension": ".py",
   "mimetype": "text/x-python",
   "name": "python",
   "nbconvert_exporter": "python",
   "pygments_lexer": "ipython3",
   "version": "3.10.2"
  }
 },
 "nbformat": 4,
 "nbformat_minor": 1
}
