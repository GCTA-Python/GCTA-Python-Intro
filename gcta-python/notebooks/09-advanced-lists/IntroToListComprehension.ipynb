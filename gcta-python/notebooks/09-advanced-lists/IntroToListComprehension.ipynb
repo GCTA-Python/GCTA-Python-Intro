{
 "cells": [
  {
   "cell_type": "markdown",
   "id": "b603a183",
   "metadata": {},
   "source": [
    "# List Comprehension\n",
    "\n",
    "List comprehension is the use of a for loop inside of a list.\n",
    "\n",
    "List comprehension offers a shorter syntax when you want to create a new list based on the values of an existing list.\n",
    "\n",
    "List comprehension is written like this:\n",
    "\n",
    "`[iterator for iterator in iterable]` <br>\n",
    "\n",
    "`[thing for thing in things]` <br>\n",
    "\n",
    "`[i for i in my_list]` <br>\n",
    "\n"
   ]
  },
  {
   "cell_type": "code",
   "execution_count": null,
   "id": "78950eb3",
   "metadata": {},
   "outputs": [],
   "source": [
    "[expression for iterator_variable in iterator]"
   ]
  },
  {
   "cell_type": "code",
   "execution_count": null,
   "id": "a8f0af3b",
   "metadata": {},
   "outputs": [],
   "source": [
    "\n",
    "for iterator_variable in iterator:\n",
    "    # do stuff here w/ iterator_variable"
   ]
  },
  {
   "cell_type": "code",
   "execution_count": null,
   "id": "00e36a5e",
   "metadata": {},
   "outputs": [],
   "source": [
    "for i in range(3):\n",
    "    'a'"
   ]
  },
  {
   "cell_type": "code",
   "execution_count": null,
   "id": "28e78b13",
   "metadata": {},
   "outputs": [],
   "source": [
    "[None for i in range(3)]"
   ]
  },
  {
   "cell_type": "code",
   "execution_count": null,
   "id": "4786e706",
   "metadata": {},
   "outputs": [],
   "source": []
  },
  {
   "cell_type": "code",
   "execution_count": null,
   "id": "46ba3d18",
   "metadata": {},
   "outputs": [],
   "source": [
    "# list comprehension - to create a list\n",
    "\n",
    "# my_list = [expression for iterator_variable in iterator]\n",
    "\n",
    "\n",
    "[i == 3 for i in range(10)]"
   ]
  },
  {
   "cell_type": "code",
   "execution_count": null,
   "id": "11d7efc1",
   "metadata": {},
   "outputs": [],
   "source": []
  },
  {
   "cell_type": "code",
   "execution_count": null,
   "id": "f8f91246",
   "metadata": {},
   "outputs": [],
   "source": [
    "# [i for i in range(100)]\n",
    "# [0, 1, 2...]"
   ]
  },
  {
   "cell_type": "code",
   "execution_count": null,
   "id": "2e6626df",
   "metadata": {},
   "outputs": [],
   "source": [
    "[[1, 2, 3, 4], [1, 2, 3, 4]][2][0]"
   ]
  },
  {
   "cell_type": "code",
   "execution_count": null,
   "id": "cc4dadd9",
   "metadata": {},
   "outputs": [],
   "source": []
  },
  {
   "cell_type": "code",
   "execution_count": null,
   "id": "eaba1562",
   "metadata": {},
   "outputs": [],
   "source": [
    "# A list from 0 to 2 can be created using list comprehension as shown below\n",
    "my_list = [i for i in range(3)]\n",
    "\n",
    "print(my_list)"
   ]
  },
  {
   "cell_type": "code",
   "execution_count": 3,
   "id": "7774d294",
   "metadata": {
    "scrolled": true
   },
   "outputs": [
    {
     "name": "stdout",
     "output_type": "stream",
     "text": [
      "[[0, 0, 0], [1, 2, 3], [2, 4, 6]]\n",
      "9\n"
     ]
    }
   ],
   "source": [
    "# a list of lists could be created from list comprehension as follows\n",
    "my_list = [[1*i, 2*i, 3*i] for i in range(3)]\n",
    "\n",
    "print(my_list)\n",
    "\n",
    "counter = 0\n",
    "\n",
    "for each_list in my_list:\n",
    "#     print(each_list)\n",
    "    for each_number in each_list:\n",
    "#         print(each_number)\n",
    "        counter += 1\n",
    "\n",
    "# ~ multiplication\n",
    "\n",
    "print(counter)"
   ]
  },
  {
   "cell_type": "code",
   "execution_count": null,
   "id": "49ee4c91",
   "metadata": {},
   "outputs": [],
   "source": [
    "[1*i, 2*i, 3*i]"
   ]
  },
  {
   "cell_type": "code",
   "execution_count": null,
   "id": "dda1e77c",
   "metadata": {},
   "outputs": [],
   "source": [
    "# a list of dictionaries could be created from list comprehension as follows\n",
    "my_list = [{'a':i} for i in range(3)]\n",
    "print(my_list)\n",
    "\n",
    "print(my_list.value(2))\n"
   ]
  },
  {
   "cell_type": "code",
   "execution_count": null,
   "id": "8daa82ac",
   "metadata": {},
   "outputs": [],
   "source": [
    "# off by one error\n",
    "\n",
    "\n",
    "foo = [{'a': 0}, {'a': 1, 'g': 3}, {'a': 2}]\n",
    "\n",
    "foo[2]"
   ]
  },
  {
   "cell_type": "code",
   "execution_count": null,
   "id": "7735e32e",
   "metadata": {},
   "outputs": [],
   "source": []
  }
 ],
 "metadata": {
  "kernelspec": {
   "display_name": "Python 3 (ipykernel)",
   "language": "python",
   "name": "python3"
  },
  "language_info": {
   "codemirror_mode": {
    "name": "ipython",
    "version": 3
   },
   "file_extension": ".py",
   "mimetype": "text/x-python",
   "name": "python",
   "nbconvert_exporter": "python",
   "pygments_lexer": "ipython3",
   "version": "3.11.5"
  }
 },
 "nbformat": 4,
 "nbformat_minor": 5
}
