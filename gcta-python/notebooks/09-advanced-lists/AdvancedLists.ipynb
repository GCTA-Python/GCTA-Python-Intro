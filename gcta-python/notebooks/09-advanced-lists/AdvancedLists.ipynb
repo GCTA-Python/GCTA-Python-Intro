{
 "cells": [
  {
   "cell_type": "markdown",
   "id": "030d668b-ab13-42d2-9bad-2d1a6b2bb9d3",
   "metadata": {},
   "source": [
    "<span style=\"font-size: 16px; font-family: Geneva, Tahoma, Verdana, sans-serif;\">\n",
    "\n",
    "<h1>Objectives and Outcome</h1>\n",
    "<div style=\"margin-left: 2em;\">\n",
    "By the end of this lesson, you should:\n",
    "    \n",
    "- Be able to identify list comprehension, and understand what is occurring.\n",
    "\n",
    "- Be able to create basic lists using list comprehension.\n",
    "\n",
    "</div>\n",
    "</span>"
   ]
  },
  {
   "cell_type": "markdown",
   "id": "efaa62b7-5337-40db-b59d-dda97bbba503",
   "metadata": {},
   "source": [
    "<span style=\"font-size: 16px; font-family: Geneva, Tahoma, Verdana, sans-serif;\">\n",
    "<h1>Motivation</h1>\n",
    "<div style=\"margin-left: 2em;\">\n",
    "List comprehension is arguably one of the coolest features of Python! List comprehension is a very powerful tool that can, among other things, dramatically decrease the time it takes to create certain types of lists.\n",
    "</div>\n",
    "\n",
    "</span>"
   ]
  },
  {
   "cell_type": "markdown",
   "id": "98dc4788-4e47-43ca-999a-458354b6e79b",
   "metadata": {},
   "source": [
    "<span style=\"font-size: 16px; font-family: Geneva, Tahoma, Verdana, sans-serif;\">\n",
    "\n",
    "<h1>Topics Covered</h1>\n",
    "\n",
    "<ol style=\"padding-left: 3.2em\">\n",
    "    <li>Introduction and Syntax</li>\n",
    "</ol>\n",
    "    \n",
    "</span>"
   ]
  },
  {
   "cell_type": "markdown",
   "id": "82e5112b-3ffa-438c-a5b3-4ea3a87f72dc",
   "metadata": {},
   "source": [
    "<span style=\"font-size: 16px; font-family: Geneva, Tahoma, Verdana, sans-serif;\">\n",
    " \n",
    "<h1>1. Introduction and Syntax</h1>\n",
    "<div style=\"margin-left: 2em;\">\n",
    "List comprehension is a way of using iteration, inside list notation, to create a list! List comprehension takes the following form:\n",
    "\n",
    "```python\n",
    "\n",
    "[ expression for iterator_variable in iterator ]\n",
    "\n",
    "```\n",
    "\n",
    "<br>\n",
    "Where <code>expression</code> is any valid Python expression. The string <code>'a'</code> is a valid Python expression, as is <code>i</code> (a variable representing the iterator variable), or <code> iter_var * 3</code>. The <b>iterator variable</b> and <b>iterator</b> are behave exactly as they would in a normal for-loop.\n",
    "\n",
    "```python\n",
    "\n",
    "# create a list of [0, 1, 2]\n",
    "# and assigns it to my_list\n",
    "my_list = [i for i in range(3)]\n",
    "print(my_list)\n",
    "\n",
    "# output:\n",
    "[0, 1, 2]\n",
    "\n",
    "```\n",
    "\n",
    "<br>\n",
    "Let's compare the above example with creating that same list without list comprehension.\n",
    "\n",
    "```python\n",
    "\n",
    "my_list = []\n",
    "for i in range(3):\n",
    "    my_list.append(i)\n",
    "print(my_list)\n",
    "\n",
    "# output:\n",
    "[0, 1, 2]\n",
    "\n",
    "```\n",
    "\n",
    "<br>\n",
    "As we can see, even on this basic example, we've cut our lines by two-thirds, while arguably making it much more readable!\n",
    "\n",
    "Let's look at some more examples:\n",
    "\n",
    "```python\n",
    "# a list of the first 50 even numbers\n",
    "even = [i for i in range(0, 51, 2)]\n",
    "\n",
    "\n",
    "\n",
    "\n",
    "```\n",
    "\n",
    "</div>\n",
    "</div>\n",
    "</span>"
   ]
  },
  {
   "cell_type": "markdown",
   "id": "8e98526a-9520-4294-9151-982daf0353ee",
   "metadata": {},
   "source": []
  },
  {
   "cell_type": "markdown",
   "id": "495dd039-bfa5-4dcd-8a45-400e495de5f1",
   "metadata": {},
   "source": []
  },
  {
   "cell_type": "markdown",
   "id": "9416572b-4461-4cb6-ba98-a0385154a3a9",
   "metadata": {},
   "source": []
  }
 ],
 "metadata": {
  "kernelspec": {
   "display_name": "Python 3 (ipykernel)",
   "language": "python",
   "name": "python3"
  },
  "language_info": {
   "codemirror_mode": {
    "name": "ipython",
    "version": 3
   },
   "file_extension": ".py",
   "mimetype": "text/x-python",
   "name": "python",
   "nbconvert_exporter": "python",
   "pygments_lexer": "ipython3",
   "version": "3.11.5"
  }
 },
 "nbformat": 4,
 "nbformat_minor": 5
}
