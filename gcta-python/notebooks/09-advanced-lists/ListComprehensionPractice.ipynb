{
 "cells": [
  {
   "cell_type": "code",
   "execution_count": null,
   "id": "46dbb05c-11de-4c84-bf84-73fe82fdb97d",
   "metadata": {},
   "outputs": [],
   "source": [
    "# example problem\n",
    "list_comprehension = [i for i in range(1)]\n",
    "\n",
    "# assign resulting_list the list assigned to list_comprehension\n",
    "resulting_list = [0]  # change this value\n",
    "\n",
    "print(my_list ==  resulting_list)"
   ]
  },
  {
   "cell_type": "code",
   "execution_count": null,
   "id": "353727c9",
   "metadata": {},
   "outputs": [],
   "source": [
    "list_comprehension = [i for i in range(3)]\n",
    "\n",
    "# assign resulting_list the list assigned to list_comprehension\n",
    "resulting_list = None  # change this value\n",
    "\n",
    "print(my_list ==  resulting_list)"
   ]
  },
  {
   "cell_type": "code",
   "execution_count": null,
   "id": "0c16776a",
   "metadata": {},
   "outputs": [],
   "source": [
    "list_comprehension = [i*2 for i in range(3)]\n",
    "\n",
    "# assign resulting_list the list assigned to list_comprehension\n",
    "resulting_list = None  # change this value\n",
    "\n",
    "print(my_list ==  resulting_list)"
   ]
  },
  {
   "cell_type": "code",
   "execution_count": null,
   "id": "a0a67d2b",
   "metadata": {},
   "outputs": [],
   "source": [
    "list_comprehension = [[1,2,3] for i in range(3)]\n",
    "\n",
    "# assign resulting_list the list assigned to list_comprehension\n",
    "resulting_list = None  # change this value\n",
    "\n",
    "print(my_list ==  resulting_list)"
   ]
  },
  {
   "cell_type": "code",
   "execution_count": null,
   "id": "5c0433f4",
   "metadata": {},
   "outputs": [],
   "source": [
    "list_comprehension = [[i, i**2] for i in range(3)]\n",
    "\n",
    "# assign resulting_list the list assigned to list_comprehension\n",
    "resulting_list = None  # change this value\n",
    "\n",
    "print(my_list ==  resulting_list)"
   ]
  },
  {
   "cell_type": "code",
   "execution_count": null,
   "id": "66504929",
   "metadata": {},
   "outputs": [],
   "source": [
    "list_comprehension = [{'a': i} for i in range(3)]\n",
    "\n",
    "# assign resulting_list the list assigned to list_comprehension\n",
    "resulting_list = None  # change this value\n",
    "\n",
    "print(my_list ==  resulting_list)"
   ]
  },
  {
   "cell_type": "code",
   "execution_count": null,
   "id": "6e9bd670",
   "metadata": {},
   "outputs": [],
   "source": [
    "list_comprehension = [{'a': i, 'b': i**2} for i in range(3)]\n",
    "\n",
    "# assign resulting_list the list assigned to list_comprehension\n",
    "resulting_list = None  # change this value\n",
    "\n",
    "print(my_list ==  resulting_list)"
   ]
  },
  {
   "cell_type": "code",
   "execution_count": null,
   "id": "9a02c1db",
   "metadata": {},
   "outputs": [],
   "source": [
    "list_comprehension = [i for i in range(2,6)]\n",
    "\n",
    "# assign resulting_list the list assigned to list_comprehension\n",
    "resulting_list = None  # change this value\n",
    "\n",
    "print(my_list ==  resulting_list)"
   ]
  },
  {
   "cell_type": "code",
   "execution_count": null,
   "id": "7dd03ca3",
   "metadata": {},
   "outputs": [],
   "source": [
    "list_comprehension = [i for i in range(2,6,2)]\n",
    "\n",
    "# assign resulting_list the list assigned to list_comprehension\n",
    "resulting_list = None  # change this value\n",
    "\n",
    "print(my_list ==  resulting_list)"
   ]
  },
  {
   "cell_type": "code",
   "execution_count": null,
   "id": "64a35b59",
   "metadata": {},
   "outputs": [],
   "source": [
    "list_comprehension = [i for i in range(4,2,-1)]\n",
    "\n",
    "# assign resulting_list the list assigned to list_comprehension\n",
    "resulting_list = None  # change this value\n",
    "\n",
    "print(my_list ==  resulting_list)"
   ]
  },
  {
   "cell_type": "code",
   "execution_count": null,
   "id": "7400ff0f-c13f-432f-bfab-d31e414003f5",
   "metadata": {},
   "outputs": [],
   "source": [
    "list_comprehension = [i for i in [2, False, 4, 6.6]]\n",
    "\n",
    "# assign resulting_list the list assigned to list_comprehension\n",
    "resulting_list = None  # change this value\n",
    "\n",
    "print(my_list ==  resulting_list)"
   ]
  },
  {
   "cell_type": "code",
   "execution_count": null,
   "id": "74410ea4-3078-46a5-bab1-fc33b8141eed",
   "metadata": {},
   "outputs": [],
   "source": [
    "foo = [1.1, 3, True, 'bar']\n",
    "list_comprehension = [i for i in foo]\n",
    "\n",
    "# assign resulting_list the list assigned to list_comprehension\n",
    "resulting_list = None  # change this value\n",
    "\n",
    "print(my_list ==  resulting_list)"
   ]
  },
  {
   "cell_type": "code",
   "execution_count": null,
   "id": "0ad84141-4f37-4300-9b7b-d4255c15a416",
   "metadata": {},
   "outputs": [],
   "source": [
    "# bonus\n",
    "bar = ['po', 'ta', 'to', 'sal', 'ad', 'is', 'ju', 'dy']\n",
    "list_comprehension = [i[0] for i in bar]\n",
    "\n",
    "# assign resulting_list the list assigned to list_comprehension\n",
    "resulting_list = None  # change this value\n",
    "\n",
    "print(my_list ==  resulting_list)"
   ]
  }
 ],
 "metadata": {
  "kernelspec": {
   "display_name": "Python 3 (ipykernel)",
   "language": "python",
   "name": "python3"
  },
  "language_info": {
   "codemirror_mode": {
    "name": "ipython",
    "version": 3
   },
   "file_extension": ".py",
   "mimetype": "text/x-python",
   "name": "python",
   "nbconvert_exporter": "python",
   "pygments_lexer": "ipython3",
   "version": "3.11.5"
  }
 },
 "nbformat": 4,
 "nbformat_minor": 5
}
