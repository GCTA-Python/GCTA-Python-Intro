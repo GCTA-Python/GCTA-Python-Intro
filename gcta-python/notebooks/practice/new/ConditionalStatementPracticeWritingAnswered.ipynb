{
 "cells": [
  {
   "cell_type": "code",
   "execution_count": null,
   "id": "20ea694f",
   "metadata": {},
   "outputs": [],
   "source": [
    "# conditional statements (writing)"
   ]
  },
  {
   "cell_type": "code",
   "execution_count": null,
   "id": "2e5a4d77",
   "metadata": {},
   "outputs": [],
   "source": [
    "# initialization cell\n",
    "\n"
   ]
  },
  {
   "cell_type": "code",
   "execution_count": null,
   "id": "6e4817c1",
   "metadata": {},
   "outputs": [],
   "source": [
    "# editing only the if line (line 4)\n",
    "# edit the code to take the print('foo') code path\n",
    "\n",
    "if False:\n",
    "    print('foo')\n",
    "else:\n",
    "    print('bar')\n",
    "    "
   ]
  }
 ],
 "metadata": {
  "kernelspec": {
   "display_name": "Python 3 (ipykernel)",
   "language": "python",
   "name": "python3"
  },
  "language_info": {
   "codemirror_mode": {
    "name": "ipython",
    "version": 3
   },
   "file_extension": ".py",
   "mimetype": "text/x-python",
   "name": "python",
   "nbconvert_exporter": "python",
   "pygments_lexer": "ipython3",
   "version": "3.10.2"
  }
 },
 "nbformat": 4,
 "nbformat_minor": 5
}
