{
 "cells": [
  {
   "cell_type": "code",
   "execution_count": null,
   "id": "6954ed72",
   "metadata": {},
   "outputs": [],
   "source": [
    "# conditional statements (reading)"
   ]
  },
  {
   "cell_type": "code",
   "execution_count": 35,
   "id": "83deeb8e",
   "metadata": {},
   "outputs": [],
   "source": [
    "'''\n",
    "recall:\n",
    "\n",
    "{keyword > for <} {expression_that_evaluates_to_a_boolean}{semicolon}\n",
    "    {indented code}\n",
    "\n",
    "for some_bool:\n",
    "    # your code\n",
    "\n",
    "for (2 > 0):\n",
    "    print('foo')\n",
    "\n",
    "''';"
   ]
  },
  {
   "cell_type": "code",
   "execution_count": 36,
   "id": "17a0a0bb",
   "metadata": {},
   "outputs": [
    {
     "name": "stdout",
     "output_type": "stream",
     "text": [
      "foo\n"
     ]
    }
   ],
   "source": [
    "# make a prediction about the output\n",
    "# and run the cell to test your prediction\n",
    "\n",
    "if True:\n",
    "    print('foo')"
   ]
  },
  {
   "cell_type": "code",
   "execution_count": 37,
   "id": "527b6123",
   "metadata": {},
   "outputs": [
    {
     "name": "stdout",
     "output_type": "stream",
     "text": [
      "baz\n"
     ]
    }
   ],
   "source": [
    "# make a prediction about the output\n",
    "# and run the cell to test your prediction\n",
    "\n",
    "if False:\n",
    "    print('bar')\n",
    "\n",
    "if True:\n",
    "    print('baz')"
   ]
  },
  {
   "cell_type": "code",
   "execution_count": 38,
   "id": "8a18c1ee",
   "metadata": {},
   "outputs": [
    {
     "name": "stdout",
     "output_type": "stream",
     "text": [
      "this will print if: three is greater than one\n"
     ]
    }
   ],
   "source": [
    "# make a prediction about the output\n",
    "# and run the cell to test your prediction\n",
    "\n",
    "if 3 > 1:\n",
    "    print('this will print if: three is greater than one')"
   ]
  },
  {
   "cell_type": "code",
   "execution_count": 39,
   "id": "b08fe5fb",
   "metadata": {},
   "outputs": [
    {
     "name": "stdout",
     "output_type": "stream",
     "text": [
      "this will print if: six is greater than five\n"
     ]
    }
   ],
   "source": [
    "# make a prediction about the output\n",
    "# and run the cell to test your prediction\n",
    "\n",
    "variable_of_boolean_type = 6 > 5\n",
    "\n",
    "if variable_of_boolean_type:\n",
    "    print('this will print if: six is greater than five')"
   ]
  },
  {
   "cell_type": "code",
   "execution_count": 40,
   "id": "d5ea4807",
   "metadata": {},
   "outputs": [
    {
     "name": "stdout",
     "output_type": "stream",
     "text": [
      "this will print if: seven is less than 12\n"
     ]
    }
   ],
   "source": [
    "# make a prediction about the output\n",
    "# and run the cell to test your prediction\n",
    "\n",
    "var = 7 < 12\n",
    "\n",
    "if var:\n",
    "    print('this will print if: seven is less than 12')"
   ]
  },
  {
   "cell_type": "code",
   "execution_count": 41,
   "id": "4eeb21ae",
   "metadata": {},
   "outputs": [
    {
     "name": "stdout",
     "output_type": "stream",
     "text": [
      "this will print if: x is greater than y\n"
     ]
    }
   ],
   "source": [
    "# make a prediction about the output\n",
    "# and run the cell to test your prediction\n",
    "\n",
    "x = 2\n",
    "y = 1\n",
    "\n",
    "if x > y:\n",
    "    print('this will print if: x is greater than y')"
   ]
  },
  {
   "cell_type": "code",
   "execution_count": 42,
   "id": "d5f50e9a",
   "metadata": {},
   "outputs": [
    {
     "name": "stdout",
     "output_type": "stream",
     "text": [
      "output_two; this will print if: y is greater than x\n",
      "this will print in either case; notice indentation\n"
     ]
    }
   ],
   "source": [
    "# make a prediction about the output\n",
    "# and run the cell to test your prediction\n",
    "\n",
    "x = 0\n",
    "y = 4\n",
    "\n",
    "if x > y:\n",
    "    print('output_one; this will print if: x is greater than y')\n",
    "\n",
    "if y > x:\n",
    "    print('output_two; this will print if: y is greater than x')\n",
    "\n",
    "print('this will print in either case; notice indentation')"
   ]
  },
  {
   "cell_type": "code",
   "execution_count": 43,
   "id": "73dbf0cd",
   "metadata": {},
   "outputs": [
    {
     "name": "stdout",
     "output_type": "stream",
     "text": [
      "x is not greater than y\n"
     ]
    }
   ],
   "source": [
    "# make a prediction about the output\n",
    "# and run the cell to test your prediction\n",
    "\n",
    "x = 1\n",
    "y = 2\n",
    "z = 3\n",
    "\n",
    "if x > y:\n",
    "    print('x > y')\n",
    "else:\n",
    "    print('x is not greater than y')"
   ]
  },
  {
   "cell_type": "code",
   "execution_count": 44,
   "id": "03e0e8dd",
   "metadata": {},
   "outputs": [
    {
     "name": "stdout",
     "output_type": "stream",
     "text": [
      "x < y\n"
     ]
    }
   ],
   "source": [
    "# make a prediction about the output\n",
    "# and run the cell to test your prediction\n",
    "\n",
    "x = 4\n",
    "y = 9\n",
    "z = 0\n",
    "\n",
    "if y < z:\n",
    "    print('y < z')\n",
    "elif x < y:\n",
    "    print('x < y')\n",
    "else:\n",
    "    print('neither preceeding statement is true')"
   ]
  },
  {
   "cell_type": "code",
   "execution_count": 45,
   "id": "d33eb654",
   "metadata": {},
   "outputs": [
    {
     "name": "stdout",
     "output_type": "stream",
     "text": [
      "neither preceeding statement is true\n"
     ]
    }
   ],
   "source": [
    "# make a prediction about the output\n",
    "# and run the cell to test your prediction\n",
    "\n",
    "x = 3\n",
    "y = 2\n",
    "z = 7\n",
    "\n",
    "if x == y:\n",
    "    print('x == y')\n",
    "elif y == z:\n",
    "    print('y == z')\n",
    "else:\n",
    "    print('neither preceeding statement is true')"
   ]
  },
  {
   "cell_type": "code",
   "execution_count": 46,
   "id": "2430c6c0",
   "metadata": {},
   "outputs": [
    {
     "name": "stdout",
     "output_type": "stream",
     "text": [
      "z > w\n"
     ]
    }
   ],
   "source": [
    "# make a prediction about the output\n",
    "# and run the cell to test your prediction\n",
    "\n",
    "w = 0\n",
    "x = 0\n",
    "y = 5\n",
    "z = 11\n",
    "\n",
    "if w != x:\n",
    "    print('w != x')\n",
    "elif w > x:\n",
    "    print('w > x')\n",
    "elif w < x:\n",
    "    print('w < x')\n",
    "elif y > z:\n",
    "    print('y > z')\n",
    "elif z > w:\n",
    "    print('z > w')\n",
    "else:\n",
    "    print('no preceeding statement is true')"
   ]
  },
  {
   "cell_type": "code",
   "execution_count": 49,
   "id": "b92b611f",
   "metadata": {},
   "outputs": [
    {
     "name": "stdout",
     "output_type": "stream",
     "text": [
      "students > cars\n"
     ]
    }
   ],
   "source": [
    "# make a prediction about the output\n",
    "# and run the cell to test your prediction\n",
    "\n",
    "men = 4\n",
    "women = 4\n",
    "students = 8\n",
    "cars = 6\n",
    "\n",
    "if men != women:\n",
    "    print('men != women')\n",
    "elif men > women:\n",
    "    print('men > women')\n",
    "elif men < women:\n",
    "    print('men < women')\n",
    "elif students > cars:\n",
    "    print('students > cars')\n",
    "elif cars > students:\n",
    "    print('cars > students')\n",
    "else:\n",
    "    print('no preceeding statement is true')"
   ]
  },
  {
   "cell_type": "code",
   "execution_count": 51,
   "id": "442444a6",
   "metadata": {},
   "outputs": [
    {
     "name": "stdout",
     "output_type": "stream",
     "text": [
      "students > cars\n",
      "bleep boop\n"
     ]
    }
   ],
   "source": [
    "# make a prediction about the output\n",
    "# and run the cell to test your prediction\n",
    "\n",
    "men = 6\n",
    "women = 6\n",
    "students = men + women\n",
    "cars = 7\n",
    "\n",
    "if men != women:\n",
    "    print('men != women')\n",
    "elif men > women:\n",
    "    print('men > women')\n",
    "elif men < women:\n",
    "    print('men < women')\n",
    "elif cars > students:\n",
    "    print('students > cars')\n",
    "elif students > cars:\n",
    "    print('students > cars')\n",
    "else:\n",
    "    print('no preceeding statement is true')\n",
    "\n",
    "print('bleep boop')"
   ]
  }
 ],
 "metadata": {
  "kernelspec": {
   "display_name": "Python 3 (ipykernel)",
   "language": "python",
   "name": "python3"
  },
  "language_info": {
   "codemirror_mode": {
    "name": "ipython",
    "version": 3
   },
   "file_extension": ".py",
   "mimetype": "text/x-python",
   "name": "python",
   "nbconvert_exporter": "python",
   "pygments_lexer": "ipython3",
   "version": "3.10.2"
  }
 },
 "nbformat": 4,
 "nbformat_minor": 5
}
