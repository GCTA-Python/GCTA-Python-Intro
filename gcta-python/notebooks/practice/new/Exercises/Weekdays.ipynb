{
 "cells": [
  {
   "cell_type": "code",
   "execution_count": null,
   "id": "504ed3d9",
   "metadata": {},
   "outputs": [],
   "source": [
    "# solution may use:\n",
    "#   algorithm design\n",
    "#   functions\n",
    "#   user input\n",
    "#   user input checks\n",
    "#   control flow (if elif else)\n",
    "#   special operators\n",
    "#   equality operators\n",
    "#   logical operators\n",
    "\n",
    "# input: day of week\n",
    "# the days of the week are: 'Monday', 'Tuesday', 'Wednesday', 'Thursday', 'Friday', 'Saturday', 'Sunday'\n",
    "# output: work status\n",
    "# work status can be either: 'Holiday' or 'Workday'\n",
    "\n"
   ]
  }
 ],
 "metadata": {
  "kernelspec": {
   "display_name": "Python 3 (ipykernel)",
   "language": "python",
   "name": "python3"
  },
  "language_info": {
   "codemirror_mode": {
    "name": "ipython",
    "version": 3
   },
   "file_extension": ".py",
   "mimetype": "text/x-python",
   "name": "python",
   "nbconvert_exporter": "python",
   "pygments_lexer": "ipython3",
   "version": "3.10.2"
  }
 },
 "nbformat": 4,
 "nbformat_minor": 5
}
