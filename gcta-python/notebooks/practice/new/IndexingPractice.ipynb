{
 "cells": [
  {
   "cell_type": "code",
   "execution_count": null,
   "metadata": {},
   "outputs": [],
   "source": [
    "# Problem Count: 17\n",
    "# Part 1: Basic Lists\n",
    "# Part 2: Nested Lists\n",
    "\n",
    "# Read the instructions carefully and after you've completed the assignment,\n",
    "# record the approximate time taken to complete assignment and its difficulty below:\n",
    "time_to_complete = None  # with granularity of 15min or less\n",
    "difficulty = None  # 1 - too easy; 2 - about right; 3 - too hard"
   ]
  },
  {
   "cell_type": "code",
   "execution_count": null,
   "metadata": {},
   "outputs": [],
   "source": [
    "# Part 1: Basic Lists"
   ]
  },
  {
   "cell_type": "code",
   "execution_count": null,
   "metadata": {},
   "outputs": [],
   "source": [
    "# Problem 0.1: Review\n",
    "\n",
    "# A list in Python is a data structure that represents a collection of objects.\n",
    "# Each object is separated by a comma, and the entire collection is surrounded by square brackets.\n",
    "# [ , , ] -> [<object>, <object>, <object>] -> [2, 5, 3] or [\"d\", \"f\", \"m\"] or [True, 0, \"foo\"]\n",
    "# Python lists are data structures of mixed data types, meaning the same list can contain different data types.\n",
    "\n",
    "# Lists are an ordered data structure, which means their oder remains consistent from one access to the next, \n",
    "# unless it is specifically changed by, for example, a list method such as .append() or the del keyword.\n",
    "# In other words, if you put something at the front of your list, it remains there until modification.\n",
    "\n",
    "# Lists elements (the contents of a list) are accessed via \"indexing\". To do so, we follow the list object,\n",
    "# or object representing a list, by a set of square brackets that contain an integer. That integer is the index of\n",
    "# the object you are accessing. When a list object is indexed, the resulting object is the element being indexed.\n",
    "# NOTE: Python lists are 0-indexed, meaning that when numbering list indices, we always start at 0.\n",
    "\n",
    "# Advanced (optional): list objects in Python are \"subscriptable\", meaning they are objects with a __getitem__ method.\n",
    "\n",
    "ex_lst = [4, 3, 6, 7]  # here we are assigning the list \"[4, 3, 6, 7]\" to the variable \"ex_lst\"\n",
    "ex_lst[0]  # ex_lst[0] is an example of indexing, and it evaluates to 4 by accessing the 0th index\n",
    "ex_lst[2]  # evaluates to 6\n",
    "ex_lst[1]  # evaluates to 3\n",
    "ex_lst[3]  # evaluates to 7\n",
    "ex_lst[4]  # fails to evaluate, and produces an index error\n",
    "ex_lst[8]  # fails to evaluate, and produces an index error, as will any number larger than the largest index of the list\n",
    "\n",
    "print(ex_lst[0])  # will print 4, and will produce the same output as print(4)\n",
    "4 == ex_lst[0]  # will evaluate to True\n",
    "print(4 == ex_lst[0])  # will print True\n",
    "(4 == ex_lst[0]) == True  # will evaluate to True\n",
    "\n",
    "# Recall that in Python, everything can more or less be though of as an object.\n",
    "# Above, we're using the object \"ex_lst\", but we can also use the list itself.\n",
    "\n",
    "[5, 7, 2][0]  # evaluates to 5\n",
    "[5, 7, 2][2]  # evaluates to 2\n",
    "print([5, 7, 2][1])  # prints 7\n",
    "[5, 7, 2][1] == 7  # evaluates to True\n",
    "\n",
    "# When we're using positive integers to index a list, we're numbering from left to right, starting at 0.\n",
    "# However, it is common to want to access the last element of a list.\n",
    "# We can index using negative integers, starting at 1 (not 0).\n",
    "# To do so, we number from right to left, starting at -1 to access elements of a list.\n",
    "\n",
    "ex_lst = [4, 3, 6, 7]\n",
    "ex_lst[-1]  # evaluates to 7\n",
    "ex_lst[-2]  # evaluates to 6\n",
    "ex_lst[-3]  # evaluates to 3\n",
    "ex_lst[-4]  # evaluates to 4"
   ]
  },
  {
   "cell_type": "code",
   "execution_count": null,
   "metadata": {},
   "outputs": [],
   "source": [
    "# Problem 0.2: Example\n",
    "# Task: Assign 3 to my_num by indexing the nums variable.\n",
    "# Verification: Execute (run) the cell to check your answer. True is correct; False is incorrect.\n",
    "\n",
    "nums = [7, 3, 1, 9]\n",
    "my_num = nums[1]  # change the assigned value\n",
    "\n",
    "print(my_num == 3)  # do not edit this line"
   ]
  },
  {
   "cell_type": "code",
   "execution_count": null,
   "metadata": {},
   "outputs": [],
   "source": [
    "# Problem 1\n",
    "# Task: Assign 9 to my_num (replace None) by indexing the nums variable.\n",
    "# Verification: Execute (run) the cell to check your answer. True is correct; False is incorrect.\n",
    "\n",
    "nums = [7, 3, 1, 9]\n",
    "my_num = None  # change the assigned value\n",
    "\n",
    "print(my_num == 9)  # do not edit this line"
   ]
  },
  {
   "cell_type": "code",
   "execution_count": null,
   "metadata": {},
   "outputs": [],
   "source": [
    "# Problem 2\n",
    "# Task: Assign 3 to my_num (replace None) by indexing the nums variable.\n",
    "# Verification: Execute (run) the cell to check your answer. True is correct; False is incorrect.\n",
    "\n",
    "nums = [7, 3, 1, 9]\n",
    "my_num = None  # change the assigned value\n",
    "\n",
    "print(my_num == 3)  # do not edit this line"
   ]
  },
  {
   "cell_type": "code",
   "execution_count": null,
   "metadata": {},
   "outputs": [],
   "source": [
    "# Problem 3\n",
    "# Task: Assign 7 to my_num (replace None) by indexing the nums variable.\n",
    "# Verification: Execute (run) the cell to check your answer. True is correct; False is incorrect.\n",
    "\n",
    "nums = [7, 3, 1, 9]\n",
    "my_num = None  # change the assigned value\n",
    "\n",
    "print(my_num == 7)  # do not edit this line"
   ]
  },
  {
   "cell_type": "code",
   "execution_count": null,
   "metadata": {},
   "outputs": [],
   "source": [
    "# Problem 4\n",
    "# Task: Assign \"foo\" to my_object (replace None) by indexing the collection variable.\n",
    "# Verification: Execute (run) the cell to check your answer. True is correct; False is incorrect.\n",
    "\n",
    "collection = [False, 6.1, \"foo\", 0]\n",
    "my_object = None  # change the assigned value\n",
    "\n",
    "print(my_object == \"foo\")  # do not edit this line"
   ]
  },
  {
   "cell_type": "code",
   "execution_count": null,
   "metadata": {},
   "outputs": [],
   "source": [
    "# Problem 5\n",
    "# Task: Assign the bool False to my_object (replace None) by indexing the collection variable.\n",
    "# Verification: Execute (run) the cell to check your answer. True is correct; False is incorrect.\n",
    "\n",
    "collection = [False, 6.1, \"foo\", 0]\n",
    "my_object = None  # change the assigned value\n",
    "\n",
    "print(my_object == False)  # do not edit this line"
   ]
  },
  {
   "cell_type": "code",
   "execution_count": null,
   "metadata": {},
   "outputs": [],
   "source": [
    "# Problem 6\n",
    "# Task: Assign 0 to my_object (replace None) by indexing the collection variable.\n",
    "# Verification: Execute (run) the cell to check your answer. True is correct; False is incorrect.\n",
    "\n",
    "collection = [False, 6.1, \"foo\", 0]\n",
    "my_object = None  # change the assigned value\n",
    "\n",
    "print(my_object == 0)  # do not edit this line"
   ]
  },
  {
   "cell_type": "code",
   "execution_count": null,
   "metadata": {},
   "outputs": [],
   "source": [
    "# Problem 7\n",
    "# Task: Assign 6.1 to my_object (replace None) by indexing the collection variable.\n",
    "# Verification: Execute (run) the cell to check your answer. True is correct; False is incorrect.\n",
    "\n",
    "collection = [False, 6.1, \"foo\", 0]\n",
    "my_object = None  # change the assigned value\n",
    "\n",
    "print(my_object == 6.1)  # do not edit this line"
   ]
  },
  {
   "cell_type": "code",
   "execution_count": null,
   "metadata": {},
   "outputs": [],
   "source": [
    "# Problems 8-10: Example\n",
    "# Using the provided lists, index the list directly to produce the requested output.\n",
    "\n",
    "# Example: # Index this to produce the object (int), 0.\n",
    "# we start with this list: [\"Python\", True, 0, 7.9]\n",
    "# we append [1] to our expression\n",
    "[\"Python\", True, 0, -7.9][2]  # evaluates to True\n",
    "\n",
    "# The output of this cell should be: 0"
   ]
  },
  {
   "cell_type": "code",
   "execution_count": null,
   "metadata": {},
   "outputs": [],
   "source": [
    "\n",
    "# Problem 8\n",
    "# Index this to produce the object (float), -7.9.\n",
    "[\"Python\", True, 0, -7.9]\n",
    "\n",
    "# The output of this cell should be: -7.9"
   ]
  },
  {
   "cell_type": "code",
   "execution_count": null,
   "metadata": {},
   "outputs": [],
   "source": [
    "# Problem 9\n",
    "# Index this to produce the object (bool), True.\n",
    "[\"Python\", True, 0, -7.9]\n",
    "\n",
    "# The output of this cell should be: True"
   ]
  },
  {
   "cell_type": "code",
   "execution_count": null,
   "metadata": {},
   "outputs": [],
   "source": [
    "# Problem 10\n",
    "# Index this to produce the object (str), \"Python\".\n",
    "[\"Python\", True, 0, -7.9]\n",
    "\n",
    "# The output of this cell should be: \"Python\" or 'Python'"
   ]
  },
  {
   "cell_type": "code",
   "execution_count": null,
   "metadata": {},
   "outputs": [],
   "source": [
    "# Problems 11-15: Example\n",
    "# Task: Assign the correct negative index to my_index, such that collection[my_index] == False.\n",
    "# Verification: Execute (run) the cell to check your answer. True is correct; False is incorrect.\n",
    "\n",
    "collection = [\"bar\", True, 3.14159265358979323846264338327950, -6, \"banana\", False]\n",
    "my_index = -1  # change the assigned value\n",
    "\n",
    "print(collection[my_index] == False and my_index < 0)  # do not edit this line"
   ]
  },
  {
   "cell_type": "code",
   "execution_count": null,
   "metadata": {},
   "outputs": [],
   "source": [
    "# Problems 11\n",
    "# Task: Assign the correct negative index to my_index, such that collection[my_index] == -6.\n",
    "# Verification: Execute (run) the cell to check your answer. True is correct; False is incorrect.\n",
    "\n",
    "collection = [\"bar\", True, 3.14159265358979323846264338327950, -6, \"banana\", False]\n",
    "my_index = None\n",
    "\n",
    "print(collection[my_index] == -6 and my_index < 0)  # do not edit this line"
   ]
  },
  {
   "cell_type": "code",
   "execution_count": null,
   "metadata": {},
   "outputs": [],
   "source": [
    "# Problems 12\n",
    "# Task: Assign the correct negative index to my_index, such that collection[my_index] == -6.\n",
    "# Verification: Execute (run) the cell to check your answer. True is correct; False is incorrect.\n",
    "\n",
    "collection = [\"bar\", True, 3.14159265358979323846264338327950, -6, \"banana\", False]\n",
    "my_index = None  # change the assigned value\n",
    "\n",
    "print(collection[my_index] == -6 and my_index < 0)  # do not edit this line"
   ]
  },
  {
   "cell_type": "code",
   "execution_count": null,
   "metadata": {},
   "outputs": [],
   "source": [
    "# Problems 13\n",
    "# Task: Assign the correct negative index to my_index, such that collection[my_index] == \"bar\".\n",
    "# Verification: Execute (run) the cell to check your answer. True is correct; False is incorrect.\n",
    "\n",
    "collection = [\"bar\", True, 3.14159265358979323846264338327950, -6, \"banana\", False]\n",
    "my_index = None  # change the assigned value\n",
    "\n",
    "print(collection[my_index] == \"bar\" and my_index < 0)  # do not edit this line"
   ]
  },
  {
   "cell_type": "code",
   "execution_count": null,
   "metadata": {},
   "outputs": [],
   "source": [
    "# Part 2: Nested Lists"
   ]
  },
  {
   "cell_type": "code",
   "execution_count": null,
   "metadata": {},
   "outputs": [],
   "source": [
    "# If you find yourself having trouble, you can use the print function to better see what is happening.\n",
    "# Example: Say we're trying to access the integer 7 from the nested list below.\n",
    "# We need to double index, or index an indexed object, so we print each step.\n",
    "example_list = [[8, 2, 7], [4, 3, 1]]\n",
    "print(example_list[0])  # indexing at [0] prints [8, 2, 7]\n",
    "print(example_list[0][2])  # indexing example[0] at [2] prints 7"
   ]
  },
  {
   "cell_type": "code",
   "execution_count": null,
   "metadata": {},
   "outputs": [],
   "source": [
    "# Problem 14\n",
    "# Task: Using the variable \"nested_list\", assign the list [3, 4, \"go\"] to \"requested_object\".\n",
    "# Verification: Execute (run) the cell to check your answer. True is correct; False is incorrect.\n",
    "nested_list = [[3, 4, \"go\"], [6, True, 1], [9, 7.2, 0]]\n",
    "requested_object = None\n",
    "\n",
    "print(requested_object == [3, 4, \"go\"])  # do not edit this line"
   ]
  },
  {
   "cell_type": "code",
   "execution_count": null,
   "metadata": {},
   "outputs": [],
   "source": [
    "# Problem 15\n",
    "# Task: Using the variable \"nested_list\", assign the list [9, 7.2, 0] to \"requested_object\".\n",
    "# Verification: Execute (run) the cell to check your answer. True is correct; False is incorrect.\n",
    "nested_list = [[3, 4, \"go\"], [6, True, 1], [9, 7.2, 0]]\n",
    "requested_object = None\n",
    "\n",
    "print(requested_object == [9, 7.2, 0])  # do not edit this line"
   ]
  },
  {
   "cell_type": "code",
   "execution_count": null,
   "metadata": {},
   "outputs": [],
   "source": [
    "# Problem 16\n",
    "# Task: Using the variable \"nested_list\", assign the string \"go\" to \"requested_object\".\n",
    "# Verification: Execute (run) the cell to check your answer. True is correct; False is incorrect.\n",
    "nested_list = [[3, 4, \"go\"], [6, True, 1], [9, 7.2, 0]]\n",
    "requested_object = None\n",
    "\n",
    "print(requested_object == \"go\")  # do not edit this line"
   ]
  },
  {
   "cell_type": "code",
   "execution_count": null,
   "metadata": {},
   "outputs": [],
   "source": [
    "# Problem 17\n",
    "# Task: Using the variable \"nested_list\", assign the float 7.2 to \"requested_object\".\n",
    "# Verification: Execute (run) the cell to check your answer. True is correct; False is incorrect.\n",
    "nested_list = [[3, 4, \"go\"], [6, True, 1], [9, 7.2, 0]]\n",
    "requested_object = None\n",
    "\n",
    "print(requested_object == 7.2)  # do not edit this line"
   ]
  }
 ],
 "metadata": {
  "kernelspec": {
   "display_name": "Python 3.10.2 ('venv')",
   "language": "python",
   "name": "python3"
  },
  "language_info": {
   "codemirror_mode": {
    "name": "ipython",
    "version": 3
   },
   "file_extension": ".py",
   "mimetype": "text/x-python",
   "name": "python",
   "nbconvert_exporter": "python",
   "pygments_lexer": "ipython3",
   "version": "3.10.2"
  },
  "orig_nbformat": 4,
  "vscode": {
   "interpreter": {
    "hash": "c73ad9a459d60eb8004bd53d882edb0e376d411074d952b1cdaa2b7df9ec626e"
   }
  }
 },
 "nbformat": 4,
 "nbformat_minor": 2
}
