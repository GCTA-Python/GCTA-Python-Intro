{
 "cells": [
  {
   "cell_type": "code",
   "execution_count": null,
   "id": "9e1d9e1c",
   "metadata": {},
   "outputs": [],
   "source": [
    "# basic for loops\n",
    "\n",
    "# requires range() and list()"
   ]
  },
  {
   "cell_type": "code",
   "execution_count": null,
   "id": "7fa693b0",
   "metadata": {},
   "outputs": [],
   "source": [
    "# using the function range() write a for loop"
   ]
  }
 ],
 "metadata": {
  "kernelspec": {
   "display_name": "Python 3.10.2 ('venv')",
   "language": "python",
   "name": "python3"
  },
  "language_info": {
   "codemirror_mode": {
    "name": "ipython",
    "version": 3
   },
   "file_extension": ".py",
   "mimetype": "text/x-python",
   "name": "python",
   "nbconvert_exporter": "python",
   "pygments_lexer": "ipython3",
   "version": "3.10.2"
  }
 },
 "nbformat": 4,
 "nbformat_minor": 5
}
