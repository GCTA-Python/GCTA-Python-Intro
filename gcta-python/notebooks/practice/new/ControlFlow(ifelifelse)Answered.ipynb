{
 "cells": [
  {
   "cell_type": "code",
   "execution_count": null,
   "id": "5b4d81d4",
   "metadata": {},
   "outputs": [],
   "source": [
    "# Control Flow Practice Writing (if elif else)\n",
    "\n",
    "# Read the instructions carefully."
   ]
  },
  {
   "cell_type": "code",
   "execution_count": 4,
   "id": "ae0cb2f9",
   "metadata": {},
   "outputs": [
    {
     "name": "stdout",
     "output_type": "stream",
     "text": [
      "True\n"
     ]
    }
   ],
   "source": [
    "# problem 0.1a example\n",
    "\n",
    "# fix the code by changing\n",
    "# only the if statement\n",
    "\n",
    "x = 0\n",
    "\n",
    "if False:  # <-- change line to <if True:> to fix\n",
    "    x = x + 2\n",
    "\n",
    "# run the cell to check your answer\n",
    "print(x == 2)\n"
   ]
  },
  {
   "cell_type": "code",
   "execution_count": 3,
   "id": "7986d598",
   "metadata": {},
   "outputs": [
    {
     "name": "stdout",
     "output_type": "stream",
     "text": [
      "False\n"
     ]
    }
   ],
   "source": [
    "# problem 0.1b\n",
    "\n",
    "# fix the code (print True) by\n",
    "# changing only the if statements\n",
    "\n",
    "x = 0\n",
    "\n",
    "if True:  # answer: change one of these to False\n",
    "    x = x + 2\n",
    "\n",
    "if True:  # answer: change one of these to False\n",
    "    x = x + 2\n",
    "\n",
    "# run the cell to check your answer\n",
    "print(x == 2)\n"
   ]
  },
  {
   "cell_type": "code",
   "execution_count": 12,
   "id": "426dc322",
   "metadata": {},
   "outputs": [
    {
     "name": "stdout",
     "output_type": "stream",
     "text": [
      "True\n"
     ]
    }
   ],
   "source": [
    "# problem 0.2b\n",
    "\n",
    "# fix the code (print True) by\n",
    "# changing only the assignment to x\n",
    "\n",
    "x = 0  # answer: change to x = 4\n",
    "\n",
    "if True:\n",
    "    x = x - 2\n",
    "\n",
    "# run the cell to check your answer\n",
    "print(x == 2)\n"
   ]
  },
  {
   "cell_type": "code",
   "execution_count": 11,
   "id": "53de2554",
   "metadata": {
    "scrolled": true
   },
   "outputs": [
    {
     "name": "stdout",
     "output_type": "stream",
     "text": [
      "False\n"
     ]
    }
   ],
   "source": [
    "# problem 0.3b\n",
    "\n",
    "# fix the code (print True) by\n",
    "# changing only the assignment to x\n",
    "\n",
    "x = 2  # answer: change to anything other than 2\n",
    "\n",
    "if x == 2:\n",
    "    x = 4\n",
    "else:\n",
    "    x = 2\n",
    "\n",
    "# run the cell to check your answer\n",
    "print(x == 2)\n"
   ]
  },
  {
   "cell_type": "code",
   "execution_count": null,
   "id": "f1e0f40c",
   "metadata": {},
   "outputs": [],
   "source": [
    "# problem 0.4b\n",
    "\n",
    "# fix the code (print True) by\n",
    "# changing only the assignment to x\n",
    "\n",
    "x = 2  # \n",
    "\n",
    "if True:\n",
    "    x = x + 3\n",
    "elif x == 2:\n",
    "    x = 7\n",
    "else:\n",
    "    x = 2\n",
    "\n",
    "# run the cell to check your answer\n",
    "print(x == 7)\n"
   ]
  },
  {
   "cell_type": "code",
   "execution_count": null,
   "id": "c56aa4bf",
   "metadata": {},
   "outputs": [],
   "source": []
  },
  {
   "cell_type": "code",
   "execution_count": null,
   "id": "128c0339",
   "metadata": {},
   "outputs": [],
   "source": []
  },
  {
   "cell_type": "code",
   "execution_count": null,
   "id": "5642ad94",
   "metadata": {},
   "outputs": [],
   "source": []
  }
 ],
 "metadata": {
  "kernelspec": {
   "display_name": "Python 3 (ipykernel)",
   "language": "python",
   "name": "python3"
  },
  "language_info": {
   "codemirror_mode": {
    "name": "ipython",
    "version": 3
   },
   "file_extension": ".py",
   "mimetype": "text/x-python",
   "name": "python",
   "nbconvert_exporter": "python",
   "pygments_lexer": "ipython3",
   "version": "3.10.2"
  }
 },
 "nbformat": 4,
 "nbformat_minor": 5
}
