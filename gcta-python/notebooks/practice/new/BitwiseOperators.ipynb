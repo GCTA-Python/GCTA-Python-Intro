{
 "cells": [
  {
   "cell_type": "code",
   "execution_count": null,
   "id": "74da6c1d-6d14-4ec4-89e3-bdd1ff6583bc",
   "metadata": {},
   "outputs": [],
   "source": [
    "# requires:\n",
    "#     bitwise operators\n",
    "#     functions (writing)"
   ]
  },
  {
   "cell_type": "code",
   "execution_count": null,
   "id": "f3061547-2010-4178-b094-907a31d34f23",
   "metadata": {},
   "outputs": [],
   "source": [
    "# Problem 1\n",
    "'''\n",
    "What type of data do bitwise operators operate on?\n",
    "    (a) booleans\n",
    "    (c) binary\n",
    "    (b) integers\n",
    "'''"
   ]
  },
  {
   "cell_type": "code",
   "execution_count": null,
   "id": "6f475221-d799-4b7a-a430-549f0bc373af",
   "metadata": {},
   "outputs": [],
   "source": [
    "# Problem 2\n",
    "'''\n",
    "What type of data do binary expressions evaluate to?\n",
    "    (a) booleans\n",
    "    (c) binary\n",
    "    (b) integers\n",
    "'''"
   ]
  },
  {
   "cell_type": "code",
   "execution_count": null,
   "id": "a43e9db9-b875-461d-89c8-f5b7c95826c5",
   "metadata": {},
   "outputs": [],
   "source": [
    "# Problem 3\n",
    "'''\n",
    "What is the result of the following bitwise operations:\n",
    "1.10 The bitwise expression: 0 ^ 0 evaluates to: \n",
    "1.20 The bitwise expression: 1 & 0 evaluates to: \n",
    "1.30 The bitwise expression: 0 & 1 evaluates to: \n",
    "1.40 The bitwise expression: 0 | 1 evaluates to: \n",
    "1.50 The bitwise expression: 0 | 0 evaluates to: \n",
    "1.60 The bitwise expression: 1 ^ 1 evaluates to: \n",
    "1.70 The bitwise expression: 0 & 0 evaluates to: \n",
    "1.80 The bitwise expression: 1 | 1 evaluates to: \n",
    "1.90 The bitwise expression: 1 | 0 evaluates to: \n",
    "1.10 The bitwise expression: 1 & 1 evaluates to: \n",
    "1.11 The bitwise expression: 1 ^ 0 evaluates to: \n",
    "1.12 The bitwise expression: 0 ^ 1 evaluates to: \n",
    "'''"
   ]
  },
  {
   "cell_type": "code",
   "execution_count": null,
   "id": "3b9cec44-a3aa-454c-981c-598dce63474b",
   "metadata": {},
   "outputs": [],
   "source": [
    "# Problem 4\n",
    "'''\n",
    "In a comment below this comment, write a natural language description of what each of the \n",
    "following operators do, their names, how to use them, and give an example of their usage:\n",
    "    ^\n",
    "    &\n",
    "    |\n",
    "    <<\n",
    "    >>\n",
    "'''\n",
    "# answer below here"
   ]
  },
  {
   "cell_type": "code",
   "execution_count": null,
   "id": "a7760649-3eb1-4534-a642-766359713f37",
   "metadata": {},
   "outputs": [],
   "source": [
    "# Problem 5\n",
    "'''\n",
    "Given a binary number 101, what would be the result of a left shift operation by 1 place in Python?\n",
    "Explain your answer.\n",
    "'''\n",
    "# answer below here"
   ]
  },
  {
   "cell_type": "code",
   "execution_count": null,
   "id": "7684ed21-5a36-4253-abac-13c825e6f01e",
   "metadata": {},
   "outputs": [],
   "source": [
    "# Problem 6\n",
    "'''\n",
    "Given a binary number 11, what would be the result of a right shift operation by 1 place in Python?\n",
    "Explain your answer.\n",
    "'''\n",
    "# answer below here"
   ]
  },
  {
   "cell_type": "code",
   "execution_count": null,
   "id": "2af243ba-fb81-4b6b-9fd4-4d58fe024ab1",
   "metadata": {},
   "outputs": [],
   "source": [
    "# Problem 7\n",
    "'''\n",
    "Write a Python function that takes two integers as input and returns their bitwise OR result.\n",
    "Test this function with the inputs: 1 and 0; 0 and 1; 0 and 0; and 1 and 1.\n",
    "'''"
   ]
  },
  {
   "cell_type": "code",
   "execution_count": null,
   "id": "f8407d04-58a9-4805-9126-4f6eb6ced515",
   "metadata": {},
   "outputs": [],
   "source": [
    "# Problem 8\n",
    "'''\n",
    "Write a Python function that takes an integer as input and returns the result of shifting all bits one place to the right.\n",
    "Test this function with the inputs: 1, 2, 3, 4.\n",
    "'''"
   ]
  }
 ],
 "metadata": {
  "kernelspec": {
   "display_name": "Python 3 (ipykernel)",
   "language": "python",
   "name": "python3"
  },
  "language_info": {
   "codemirror_mode": {
    "name": "ipython",
    "version": 3
   },
   "file_extension": ".py",
   "mimetype": "text/x-python",
   "name": "python",
   "nbconvert_exporter": "python",
   "pygments_lexer": "ipython3",
   "version": "3.11.5"
  }
 },
 "nbformat": 4,
 "nbformat_minor": 5
}
