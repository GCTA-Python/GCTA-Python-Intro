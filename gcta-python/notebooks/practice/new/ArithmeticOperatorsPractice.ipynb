{
 "cells": [
  {
   "cell_type": "code",
   "execution_count": 1,
   "id": "93886d41",
   "metadata": {},
   "outputs": [],
   "source": [
    "# Arithmetic Operators\n",
    "\n",
    "# part 1: basic (+ - / *)\n",
    "# part 2: advanced (** // %)\n",
    "# part 3: special cases (concatenation; replication)\n",
    "\n",
    "# + addition\n",
    "# - subtraction\n",
    "# * multiplication\n",
    "# / division\n",
    "# ** exponentiation\n",
    "# // floor division\n",
    "# % modulo"
   ]
  },
  {
   "cell_type": "code",
   "execution_count": 2,
   "id": "248f912d",
   "metadata": {},
   "outputs": [
    {
     "name": "stdout",
     "output_type": "stream",
     "text": [
      "False\n"
     ]
    }
   ],
   "source": [
    "# problem 0.1\n",
    "\n",
    "# calculate this arithmetic operation\n",
    "var_one = 1 + 1\n",
    "\n",
    "# assign that answer to this variable\n",
    "var_two = None  # this would be 2\n",
    "\n",
    "# run the cell to check your answer\n",
    "print(var_one == var_two)"
   ]
  },
  {
   "cell_type": "code",
   "execution_count": 3,
   "id": "96f8bcd3",
   "metadata": {},
   "outputs": [],
   "source": [
    "# part 1: basic (+ - / *)"
   ]
  },
  {
   "cell_type": "code",
   "execution_count": 4,
   "id": "b592307b",
   "metadata": {},
   "outputs": [
    {
     "name": "stdout",
     "output_type": "stream",
     "text": [
      "False\n"
     ]
    }
   ],
   "source": [
    "# problem 1\n",
    "\n",
    "# calculate this arithmetic operation\n",
    "var_one = 8 + 2\n",
    "\n",
    "# assign that answer to this variable\n",
    "var_two = None\n",
    "\n",
    "# run the cell to check your answer\n",
    "print(var_one == var_two)"
   ]
  },
  {
   "cell_type": "code",
   "execution_count": 5,
   "id": "e1373247",
   "metadata": {},
   "outputs": [
    {
     "name": "stdout",
     "output_type": "stream",
     "text": [
      "False\n"
     ]
    }
   ],
   "source": [
    "# problem 2\n",
    "\n",
    "# calculate this arithmetic operation\n",
    "var_one = 1.9 + 1\n",
    "\n",
    "# assign that answer to this variable\n",
    "var_two = None\n",
    "\n",
    "# run the cell to check your answer\n",
    "print(var_one == var_two)"
   ]
  },
  {
   "cell_type": "code",
   "execution_count": 6,
   "id": "8b3940ae",
   "metadata": {},
   "outputs": [
    {
     "name": "stdout",
     "output_type": "stream",
     "text": [
      "False\n"
     ]
    }
   ],
   "source": [
    "# problem 3\n",
    "\n",
    "# calculate this arithmetic operation\n",
    "var_one = 4 - 1\n",
    "\n",
    "# assign that answer to this variable\n",
    "var_two = None\n",
    "\n",
    "# run the cell to check your answer\n",
    "print(var_one == var_two)"
   ]
  },
  {
   "cell_type": "code",
   "execution_count": 7,
   "id": "a8eb052a",
   "metadata": {},
   "outputs": [
    {
     "name": "stdout",
     "output_type": "stream",
     "text": [
      "False\n"
     ]
    }
   ],
   "source": [
    "# problem 4\n",
    "\n",
    "# calculate this arithmetic operation\n",
    "var_one = 9.4 - 0.6\n",
    "\n",
    "# assign that answer to this variable\n",
    "var_two = None\n",
    "\n",
    "# run the cell to check your answer\n",
    "print(var_one == var_two)"
   ]
  },
  {
   "cell_type": "code",
   "execution_count": 8,
   "id": "7ba3b35a",
   "metadata": {},
   "outputs": [
    {
     "name": "stdout",
     "output_type": "stream",
     "text": [
      "False\n"
     ]
    }
   ],
   "source": [
    "# problem 5\n",
    "\n",
    "# calculate this arithmetic operation\n",
    "var_one = -7.2 + .7\n",
    "\n",
    "# assign that answer to this variable\n",
    "var_two = None\n",
    "\n",
    "# run the cell to check your answer\n",
    "print(var_one == var_two)"
   ]
  },
  {
   "cell_type": "code",
   "execution_count": 9,
   "id": "a71a10df",
   "metadata": {},
   "outputs": [
    {
     "name": "stdout",
     "output_type": "stream",
     "text": [
      "False\n"
     ]
    }
   ],
   "source": [
    "# problem 6\n",
    "\n",
    "# calculate this arithmetic operation\n",
    "var_one = -3 + -4\n",
    "\n",
    "# assign that answer to this variable\n",
    "var_two = None\n",
    "\n",
    "# run the cell to check your answer\n",
    "print(var_one == var_two)"
   ]
  },
  {
   "cell_type": "code",
   "execution_count": 10,
   "id": "ae3dc576",
   "metadata": {},
   "outputs": [
    {
     "name": "stdout",
     "output_type": "stream",
     "text": [
      "False\n"
     ]
    }
   ],
   "source": [
    "# problem 7\n",
    "\n",
    "# calculate this arithmetic operation\n",
    "var_one = 2.0 + -5.5\n",
    "\n",
    "# assign that answer to this variable\n",
    "var_two = None\n",
    "\n",
    "# run the cell to check your answer\n",
    "print(var_one == var_two)"
   ]
  },
  {
   "cell_type": "code",
   "execution_count": 11,
   "id": "71f6b057",
   "metadata": {},
   "outputs": [
    {
     "name": "stdout",
     "output_type": "stream",
     "text": [
      "False\n"
     ]
    }
   ],
   "source": [
    "# problem 8\n",
    "\n",
    "# calculate this arithmetic operation\n",
    "var_one = -7 - -11\n",
    "\n",
    "# assign that answer to this variable\n",
    "var_two = None\n",
    "\n",
    "# run the cell to check your answer\n",
    "print(var_one == var_two)"
   ]
  },
  {
   "cell_type": "code",
   "execution_count": 12,
   "id": "101cd097",
   "metadata": {},
   "outputs": [
    {
     "name": "stdout",
     "output_type": "stream",
     "text": [
      "False\n"
     ]
    }
   ],
   "source": [
    "# problem 9\n",
    "\n",
    "# calculate this arithmetic operation\n",
    "var_one = -0.41 - 1.1\n",
    "\n",
    "# assign that answer to this variable\n",
    "var_two = None\n",
    "\n",
    "# run the cell to check your answer\n",
    "print(var_one == var_two)"
   ]
  },
  {
   "cell_type": "code",
   "execution_count": 13,
   "id": "fc03f30b",
   "metadata": {},
   "outputs": [
    {
     "name": "stdout",
     "output_type": "stream",
     "text": [
      "False\n"
     ]
    }
   ],
   "source": [
    "# problem 10\n",
    "\n",
    "# calculate this arithmetic operation\n",
    "var_one = 3 * 2\n",
    "\n",
    "# assign that answer to this variable\n",
    "var_two = None\n",
    "\n",
    "# run the cell to check your answer\n",
    "print(var_one == var_two)"
   ]
  },
  {
   "cell_type": "code",
   "execution_count": 14,
   "id": "f74fc589",
   "metadata": {},
   "outputs": [
    {
     "name": "stdout",
     "output_type": "stream",
     "text": [
      "False\n"
     ]
    }
   ],
   "source": [
    "# problem 11\n",
    "\n",
    "# calculate this arithmetic operation\n",
    "var_one = 4 * -4\n",
    "\n",
    "# assign that answer to this variable\n",
    "var_two = None\n",
    "\n",
    "# run the cell to check your answer\n",
    "print(var_one == var_two)"
   ]
  },
  {
   "cell_type": "code",
   "execution_count": 15,
   "id": "137468ac",
   "metadata": {},
   "outputs": [
    {
     "name": "stdout",
     "output_type": "stream",
     "text": [
      "False\n"
     ]
    }
   ],
   "source": [
    "# problem 12\n",
    "\n",
    "# calculate this arithmetic operation\n",
    "var_one = -3.5 * -3\n",
    "\n",
    "# assign that answer to this variable\n",
    "var_two = None\n",
    "\n",
    "# run the cell to check your answer\n",
    "print(var_one == var_two)"
   ]
  },
  {
   "cell_type": "code",
   "execution_count": 16,
   "id": "237ce43a",
   "metadata": {},
   "outputs": [
    {
     "name": "stdout",
     "output_type": "stream",
     "text": [
      "False\n"
     ]
    }
   ],
   "source": [
    "# problem 13\n",
    "\n",
    "# calculate this arithmetic operation\n",
    "var_one = 12 / 3\n",
    "\n",
    "# assign that answer to this variable\n",
    "var_two = None\n",
    "\n",
    "# run the cell to check your answer\n",
    "print(var_one == var_two)"
   ]
  },
  {
   "cell_type": "code",
   "execution_count": 17,
   "id": "468fa98a",
   "metadata": {},
   "outputs": [
    {
     "name": "stdout",
     "output_type": "stream",
     "text": [
      "False\n"
     ]
    }
   ],
   "source": [
    "# problem 14\n",
    "\n",
    "# calculate this arithmetic operation\n",
    "var_one = -15 / 5\n",
    "\n",
    "# assign that answer to this variable\n",
    "var_two = None\n",
    "\n",
    "# run the cell to check your answer\n",
    "print(var_one == var_two)"
   ]
  },
  {
   "cell_type": "code",
   "execution_count": 18,
   "id": "db03ed41",
   "metadata": {},
   "outputs": [
    {
     "name": "stdout",
     "output_type": "stream",
     "text": [
      "False\n"
     ]
    }
   ],
   "source": [
    "# problem 15\n",
    "\n",
    "# calculate this arithmetic operation\n",
    "var_one = -7 / -2\n",
    "\n",
    "# assign that answer to this variable\n",
    "var_two = None\n",
    "\n",
    "# run the cell to check your answer\n",
    "print(var_one == var_two)"
   ]
  },
  {
   "cell_type": "code",
   "execution_count": 19,
   "id": "88d060c0",
   "metadata": {},
   "outputs": [
    {
     "name": "stdout",
     "output_type": "stream",
     "text": [
      "False\n"
     ]
    }
   ],
   "source": [
    "# problem 16\n",
    "\n",
    "# calculate this arithmetic operation\n",
    "var_one = 11.25 / -4.5\n",
    "\n",
    "# assign that answer to this variable\n",
    "var_two = None\n",
    "\n",
    "# run the cell to check your answer\n",
    "print(var_one == var_two)"
   ]
  },
  {
   "cell_type": "code",
   "execution_count": 20,
   "id": "0bb27e15",
   "metadata": {},
   "outputs": [
    {
     "name": "stdout",
     "output_type": "stream",
     "text": [
      "False\n"
     ]
    }
   ],
   "source": [
    "# problem 17\n",
    "\n",
    "# calculate this arithmetic operation\n",
    "var_one = 1 + 2 - 4 / 2 * 3\n",
    "\n",
    "# assign that answer to this variable\n",
    "var_two = None\n",
    "\n",
    "# run the cell to check your answer\n",
    "print(var_one == var_two)"
   ]
  },
  {
   "cell_type": "code",
   "execution_count": 21,
   "id": "6a65a4d9",
   "metadata": {},
   "outputs": [
    {
     "name": "stdout",
     "output_type": "stream",
     "text": [
      "False\n"
     ]
    }
   ],
   "source": [
    "# problem 18\n",
    "\n",
    "# calculate this arithmetic operation\n",
    "var_one = -8 + 6 / 3 * 4 + 2\n",
    "\n",
    "# assign that answer to this variable\n",
    "var_two = None\n",
    "\n",
    "# run the cell to check your answer\n",
    "print(var_one == var_two)"
   ]
  },
  {
   "cell_type": "code",
   "execution_count": 22,
   "id": "99f8502d",
   "metadata": {},
   "outputs": [
    {
     "name": "stdout",
     "output_type": "stream",
     "text": [
      "False\n"
     ]
    }
   ],
   "source": [
    "# problem 19\n",
    "\n",
    "# calculate this arithmetic operation\n",
    "var_one = -6 * 2 / -2 / -2 * 4 + 2\n",
    "\n",
    "# assign that answer to this variable\n",
    "var_two = None\n",
    "\n",
    "# run the cell to check your answer\n",
    "print(var_one == var_two)"
   ]
  },
  {
   "cell_type": "code",
   "execution_count": 23,
   "id": "1de71875",
   "metadata": {},
   "outputs": [],
   "source": [
    "# part 2: advanced (** // %)"
   ]
  },
  {
   "cell_type": "code",
   "execution_count": 24,
   "id": "65d94825",
   "metadata": {},
   "outputs": [
    {
     "name": "stdout",
     "output_type": "stream",
     "text": [
      "False\n"
     ]
    }
   ],
   "source": [
    "# problem 20\n",
    "\n",
    "# calculate this arithmetic operation\n",
    "var_one = 2 ** 2\n",
    "\n",
    "# assign that answer to this variable\n",
    "var_two = None\n",
    "\n",
    "# run the cell to check your answer\n",
    "print(var_one == var_two)"
   ]
  },
  {
   "cell_type": "code",
   "execution_count": 25,
   "id": "86a62d98",
   "metadata": {},
   "outputs": [
    {
     "name": "stdout",
     "output_type": "stream",
     "text": [
      "False\n"
     ]
    }
   ],
   "source": [
    "# problem 21\n",
    "\n",
    "# calculate this arithmetic operation\n",
    "var_one = 8 ** 2\n",
    "\n",
    "# assign that answer to this variable\n",
    "var_two = None\n",
    "\n",
    "# run the cell to check your answer\n",
    "print(var_one == var_two)"
   ]
  },
  {
   "cell_type": "code",
   "execution_count": 26,
   "id": "58404b7a",
   "metadata": {},
   "outputs": [
    {
     "name": "stdout",
     "output_type": "stream",
     "text": [
      "False\n"
     ]
    }
   ],
   "source": [
    "# problem 22\n",
    "\n",
    "# calculate this arithmetic operation\n",
    "var_one = -2 ** 8\n",
    "\n",
    "# assign that answer to this variable\n",
    "var_two = None\n",
    "\n",
    "# run the cell to check your answer\n",
    "print(var_one == var_two)"
   ]
  },
  {
   "cell_type": "code",
   "execution_count": 27,
   "id": "846cc111",
   "metadata": {},
   "outputs": [
    {
     "name": "stdout",
     "output_type": "stream",
     "text": [
      "False\n"
     ]
    }
   ],
   "source": [
    "# problem 23\n",
    "\n",
    "# calculate this arithmetic operation\n",
    "var_one = 1.5 ** 2\n",
    "\n",
    "# assign that answer to this variable\n",
    "var_two = None\n",
    "\n",
    "# run the cell to check your answer\n",
    "print(var_one == var_two)"
   ]
  },
  {
   "cell_type": "code",
   "execution_count": 28,
   "id": "d0488b97",
   "metadata": {},
   "outputs": [
    {
     "name": "stdout",
     "output_type": "stream",
     "text": [
      "False\n"
     ]
    }
   ],
   "source": [
    "# problem 24\n",
    "\n",
    "# calculate this arithmetic operation\n",
    "var_one = 6 // 2\n",
    "\n",
    "# assign that answer to this variable\n",
    "var_two = None\n",
    "\n",
    "# run the cell to check your answer\n",
    "print(var_one == var_two)"
   ]
  },
  {
   "cell_type": "code",
   "execution_count": 29,
   "id": "1935d8e4",
   "metadata": {},
   "outputs": [
    {
     "name": "stdout",
     "output_type": "stream",
     "text": [
      "False\n"
     ]
    }
   ],
   "source": [
    "# problem 25\n",
    "\n",
    "# calculate this arithmetic operation\n",
    "var_one = 3 // 2\n",
    "\n",
    "# assign that answer to this variable\n",
    "var_two = None\n",
    "\n",
    "# run the cell to check your answer\n",
    "print(var_one == var_two)"
   ]
  },
  {
   "cell_type": "code",
   "execution_count": 30,
   "id": "4aee3b0f",
   "metadata": {},
   "outputs": [
    {
     "name": "stdout",
     "output_type": "stream",
     "text": [
      "False\n"
     ]
    }
   ],
   "source": [
    "# problem 26\n",
    "\n",
    "# calculate this arithmetic operation\n",
    "var_one = -3 // 2\n",
    "\n",
    "# assign that answer to this variable\n",
    "var_two = None\n",
    "\n",
    "# run the cell to check your answer\n",
    "print(var_one == var_two)"
   ]
  },
  {
   "cell_type": "code",
   "execution_count": 31,
   "id": "51ab69e9",
   "metadata": {},
   "outputs": [
    {
     "name": "stdout",
     "output_type": "stream",
     "text": [
      "False\n"
     ]
    }
   ],
   "source": [
    "# problem 27\n",
    "\n",
    "# calculate this arithmetic operation\n",
    "var_one = 8 % 2\n",
    "\n",
    "# assign that answer to this variable\n",
    "var_two = None\n",
    "\n",
    "# run the cell to check your answer\n",
    "print(var_one == var_two)"
   ]
  },
  {
   "cell_type": "code",
   "execution_count": 32,
   "id": "eb3ef681",
   "metadata": {},
   "outputs": [
    {
     "name": "stdout",
     "output_type": "stream",
     "text": [
      "False\n"
     ]
    }
   ],
   "source": [
    "# problem 28\n",
    "\n",
    "# calculate this arithmetic operation\n",
    "var_one = 12 % 5\n",
    "\n",
    "# assign that answer to this variable\n",
    "var_two = None\n",
    "\n",
    "# run the cell to check your answer\n",
    "print(var_one == var_two)"
   ]
  },
  {
   "cell_type": "code",
   "execution_count": 33,
   "id": "97fbae3d",
   "metadata": {},
   "outputs": [
    {
     "name": "stdout",
     "output_type": "stream",
     "text": [
      "False\n"
     ]
    }
   ],
   "source": [
    "# problem 29\n",
    "\n",
    "# calculate this arithmetic operation\n",
    "var_one = 3 % 4\n",
    "\n",
    "# assign that answer to this variable\n",
    "var_two = None\n",
    "\n",
    "# run the cell to check your answer\n",
    "print(var_one == var_two)"
   ]
  },
  {
   "cell_type": "code",
   "execution_count": 34,
   "id": "291b5e0d",
   "metadata": {},
   "outputs": [
    {
     "name": "stdout",
     "output_type": "stream",
     "text": [
      "False\n"
     ]
    }
   ],
   "source": [
    "# problem 30\n",
    "\n",
    "# calculate this arithmetic operation\n",
    "var_one = 99 % 14_563\n",
    "\n",
    "# assign that answer to this variable\n",
    "var_two = None\n",
    "\n",
    "# run the cell to check your answer\n",
    "print(var_one == var_two)"
   ]
  },
  {
   "cell_type": "code",
   "execution_count": 35,
   "id": "a799faa9",
   "metadata": {},
   "outputs": [
    {
     "name": "stdout",
     "output_type": "stream",
     "text": [
      "False\n"
     ]
    }
   ],
   "source": [
    "# problem 31\n",
    "\n",
    "# calculate this arithmetic operation\n",
    "var_one = 0 % 1\n",
    "\n",
    "# assign that answer to this variable\n",
    "var_two = None\n",
    "\n",
    "# run the cell to check your answer\n",
    "print(var_one == var_two)"
   ]
  },
  {
   "cell_type": "code",
   "execution_count": 36,
   "id": "08d07b29",
   "metadata": {},
   "outputs": [
    {
     "name": "stdout",
     "output_type": "stream",
     "text": [
      "False\n"
     ]
    }
   ],
   "source": [
    "# problem 32\n",
    "\n",
    "# calculate this arithmetic operation\n",
    "var_one = 33 % 11\n",
    "\n",
    "# assign that answer to this variable\n",
    "var_two = None\n",
    "\n",
    "# run the cell to check your answer\n",
    "print(var_one == var_two)"
   ]
  },
  {
   "cell_type": "code",
   "execution_count": 37,
   "id": "736ba711",
   "metadata": {},
   "outputs": [
    {
     "name": "stdout",
     "output_type": "stream",
     "text": [
      "False\n"
     ]
    }
   ],
   "source": [
    "# problem 33\n",
    "\n",
    "# calculate this arithmetic operation\n",
    "var_one = 12 % 5\n",
    "\n",
    "# assign that answer to this variable\n",
    "var_two = None\n",
    "\n",
    "# run the cell to check your answer\n",
    "print(var_one == var_two)"
   ]
  },
  {
   "cell_type": "code",
   "execution_count": 38,
   "id": "883eaca4",
   "metadata": {},
   "outputs": [
    {
     "name": "stdout",
     "output_type": "stream",
     "text": [
      "False\n"
     ]
    }
   ],
   "source": [
    "# problem 34\n",
    "\n",
    "# calculate this arithmetic operation\n",
    "var_one = 21 % 6\n",
    "\n",
    "# assign that answer to this variable\n",
    "var_two = None\n",
    "\n",
    "# run the cell to check your answer\n",
    "print(var_one == var_two)"
   ]
  },
  {
   "cell_type": "code",
   "execution_count": 39,
   "id": "1c57d637",
   "metadata": {},
   "outputs": [
    {
     "name": "stdout",
     "output_type": "stream",
     "text": [
      "False\n"
     ]
    }
   ],
   "source": [
    "# problem 35\n",
    "\n",
    "# calculate this arithmetic operation\n",
    "var_one = 12 % 5\n",
    "\n",
    "# assign that answer to this variable\n",
    "var_two = None\n",
    "\n",
    "# run the cell to check your answer\n",
    "print(var_one == var_two)"
   ]
  },
  {
   "cell_type": "code",
   "execution_count": 40,
   "id": "bf2a407a",
   "metadata": {},
   "outputs": [
    {
     "name": "stdout",
     "output_type": "stream",
     "text": [
      "False\n"
     ]
    }
   ],
   "source": [
    "# problem 36\n",
    "\n",
    "# calculate this arithmetic operation\n",
    "var_one = 22 % 10\n",
    "\n",
    "# assign that answer to this variable\n",
    "var_two = None\n",
    "\n",
    "# run the cell to check your answer\n",
    "print(var_one == var_two)"
   ]
  },
  {
   "cell_type": "code",
   "execution_count": 41,
   "id": "25094d08",
   "metadata": {},
   "outputs": [
    {
     "name": "stdout",
     "output_type": "stream",
     "text": [
      "False\n"
     ]
    }
   ],
   "source": [
    "# problem 37\n",
    "\n",
    "# calculate this arithmetic operation\n",
    "var_one = 4 % 100\n",
    "\n",
    "# assign that answer to this variable\n",
    "var_two = None\n",
    "\n",
    "# run the cell to check your answer\n",
    "print(var_one == var_two)"
   ]
  },
  {
   "cell_type": "code",
   "execution_count": 42,
   "id": "32891ed4",
   "metadata": {},
   "outputs": [
    {
     "name": "stdout",
     "output_type": "stream",
     "text": [
      "False\n"
     ]
    }
   ],
   "source": [
    "# problem 38\n",
    "\n",
    "# calculate this arithmetic operation\n",
    "var_one = 7 % 77\n",
    "\n",
    "# assign that answer to this variable\n",
    "var_two = None\n",
    "\n",
    "# run the cell to check your answer\n",
    "print(var_one == var_two)"
   ]
  },
  {
   "cell_type": "code",
   "execution_count": 43,
   "id": "8b84517f",
   "metadata": {},
   "outputs": [
    {
     "name": "stdout",
     "output_type": "stream",
     "text": [
      "False\n"
     ]
    }
   ],
   "source": [
    "# problem 39\n",
    "\n",
    "# calculate this arithmetic operation\n",
    "var_one = 0 % 1024\n",
    "\n",
    "# assign that answer to this variable\n",
    "var_two = None\n",
    "\n",
    "# run the cell to check your answer\n",
    "print(var_one == var_two)"
   ]
  },
  {
   "cell_type": "code",
   "execution_count": 44,
   "id": "e329cb25",
   "metadata": {},
   "outputs": [
    {
     "name": "stdout",
     "output_type": "stream",
     "text": [
      "False\n"
     ]
    }
   ],
   "source": [
    "# problem 40\n",
    "\n",
    "# calculate this arithmetic operation\n",
    "var_one = 11 % 2\n",
    "\n",
    "# assign that answer to this variable\n",
    "var_two = None\n",
    "\n",
    "# run the cell to check your answer\n",
    "print(var_one == var_two)"
   ]
  },
  {
   "cell_type": "code",
   "execution_count": 45,
   "id": "c8136397",
   "metadata": {},
   "outputs": [
    {
     "name": "stdout",
     "output_type": "stream",
     "text": [
      "False\n"
     ]
    }
   ],
   "source": [
    "# problem 41\n",
    "\n",
    "# calculate this arithmetic operation\n",
    "var_one = 100 % 2\n",
    "\n",
    "# assign that answer to this variable\n",
    "var_two = None\n",
    "\n",
    "# run the cell to check your answer\n",
    "print(var_one == var_two)"
   ]
  },
  {
   "cell_type": "code",
   "execution_count": 46,
   "id": "92465ebf",
   "metadata": {},
   "outputs": [],
   "source": [
    "# part 3: special cases (concatenation; replication)"
   ]
  },
  {
   "cell_type": "code",
   "execution_count": 47,
   "id": "2b86052d",
   "metadata": {},
   "outputs": [
    {
     "name": "stdout",
     "output_type": "stream",
     "text": [
      "False\n"
     ]
    }
   ],
   "source": [
    "# problem \n",
    "\n",
    "# calculate this arithmetic operation\n",
    "var_one = 'foo' + 'd'\n",
    "\n",
    "# assign that answer to this variable\n",
    "var_two = None\n",
    "\n",
    "# run the cell to check your answer\n",
    "print(var_one == var_two)"
   ]
  },
  {
   "cell_type": "code",
   "execution_count": 48,
   "id": "72bf407e",
   "metadata": {},
   "outputs": [
    {
     "name": "stdout",
     "output_type": "stream",
     "text": [
      "False\n"
     ]
    }
   ],
   "source": [
    "# problem \n",
    "\n",
    "# calculate this arithmetic operation\n",
    "first_name = 'cat'\n",
    "last_name = 'burglar'\n",
    "var_one = first_name + ' ' + last_name\n",
    "\n",
    "# assign that answer to this variable\n",
    "var_two = None\n",
    "\n",
    "# run the cell to check your answer\n",
    "print(var_one == var_two)"
   ]
  },
  {
   "cell_type": "code",
   "execution_count": 49,
   "id": "3345cca9",
   "metadata": {},
   "outputs": [
    {
     "name": "stdout",
     "output_type": "stream",
     "text": [
      "False\n"
     ]
    }
   ],
   "source": [
    "# problem \n",
    "\n",
    "# calculate this arithmetic operation\n",
    "var_one = ' foo' + ' bar'\n",
    "\n",
    "# assign that answer to this variable\n",
    "var_two = None\n",
    "\n",
    "# run the cell to check your answer\n",
    "print(var_one == var_two)"
   ]
  },
  {
   "cell_type": "code",
   "execution_count": 50,
   "id": "b3295646",
   "metadata": {},
   "outputs": [
    {
     "name": "stdout",
     "output_type": "stream",
     "text": [
      "False\n"
     ]
    }
   ],
   "source": [
    "# problem \n",
    "\n",
    "# calculate this arithmetic operation\n",
    "var_one = 'foo' * 3\n",
    "\n",
    "# assign that answer to this variable\n",
    "var_two = None\n",
    "\n",
    "# run the cell to check your answer\n",
    "print(var_one == var_two)"
   ]
  },
  {
   "cell_type": "code",
   "execution_count": 51,
   "id": "7283f629",
   "metadata": {},
   "outputs": [
    {
     "name": "stdout",
     "output_type": "stream",
     "text": [
      "False\n"
     ]
    }
   ],
   "source": [
    "# problem \n",
    "\n",
    "# calculate this arithmetic operation\n",
    "var_one = '2' * 2\n",
    "\n",
    "# assign that answer to this variable\n",
    "var_two = None\n",
    "\n",
    "# run the cell to check your answer\n",
    "print(var_one == var_two)"
   ]
  },
  {
   "cell_type": "code",
   "execution_count": 52,
   "id": "0331c9ed",
   "metadata": {},
   "outputs": [
    {
     "name": "stdout",
     "output_type": "stream",
     "text": [
      "False\n"
     ]
    }
   ],
   "source": [
    "# problem \n",
    "\n",
    "# calculate this arithmetic operation\n",
    "var_one = '4.4' * 3\n",
    "\n",
    "# assign that answer to this variable\n",
    "var_two = None\n",
    "\n",
    "# run the cell to check your answer\n",
    "print(var_one == var_two)"
   ]
  },
  {
   "cell_type": "code",
   "execution_count": 53,
   "id": "62cc431f",
   "metadata": {},
   "outputs": [
    {
     "name": "stdout",
     "output_type": "stream",
     "text": [
      "False\n"
     ]
    }
   ],
   "source": [
    "# problem \n",
    "\n",
    "# calculate this arithmetic operation\n",
    "var_one = 'dog' * 1\n",
    "\n",
    "# assign that answer to this variable\n",
    "var_two = None\n",
    "\n",
    "# run the cell to check your answer\n",
    "print(var_one == var_two)"
   ]
  },
  {
   "cell_type": "code",
   "execution_count": 54,
   "id": "3d55e52a",
   "metadata": {},
   "outputs": [
    {
     "name": "stdout",
     "output_type": "stream",
     "text": [
      "False\n"
     ]
    }
   ],
   "source": [
    "# problem \n",
    "\n",
    "# calculate this arithmetic operation\n",
    "var_one = 'color ' * 2 + 'blue'\n",
    "\n",
    "# assign that answer to this variable\n",
    "var_two = None\n",
    "\n",
    "# run the cell to check your answer\n",
    "print(var_one == var_two)"
   ]
  },
  {
   "cell_type": "code",
   "execution_count": 55,
   "id": "ef4feb8d",
   "metadata": {},
   "outputs": [
    {
     "name": "stdout",
     "output_type": "stream",
     "text": [
      "False\n"
     ]
    }
   ],
   "source": [
    "# problem \n",
    "\n",
    "# calculate this arithmetic operation\n",
    "var_one = 'ice ' + 'cream ' * 2 + 'yum'\n",
    "\n",
    "# assign that answer to this variable\n",
    "var_two = None\n",
    "\n",
    "# run the cell to check your answer\n",
    "print(var_one == var_two)"
   ]
  },
  {
   "cell_type": "code",
   "execution_count": 56,
   "id": "40adb5be",
   "metadata": {},
   "outputs": [],
   "source": [
    "# part 4: extended"
   ]
  },
  {
   "cell_type": "code",
   "execution_count": 57,
   "id": "2f972b85",
   "metadata": {},
   "outputs": [
    {
     "name": "stdout",
     "output_type": "stream",
     "text": [
      "False\n"
     ]
    }
   ],
   "source": [
    "# problem 1: extended\n",
    "\n",
    "# calculate this arithmetic operation\n",
    "var_one = 3 % -2\n",
    "\n",
    "# assign that answer to this variable\n",
    "var_two = None\n",
    "\n",
    "# run the cell to check your answer\n",
    "print(var_one == var_two)"
   ]
  },
  {
   "cell_type": "code",
   "execution_count": 58,
   "id": "176ca4f9",
   "metadata": {},
   "outputs": [
    {
     "name": "stdout",
     "output_type": "stream",
     "text": [
      "False\n"
     ]
    }
   ],
   "source": [
    "# problem \n",
    "\n",
    "# calculate this arithmetic operation\n",
    "var_one = -5 % 3\n",
    "\n",
    "# assign that answer to this variable\n",
    "var_two = None\n",
    "\n",
    "# run the cell to check your answer\n",
    "print(var_one == var_two)"
   ]
  }
 ],
 "metadata": {
  "kernelspec": {
   "display_name": "Python 3 (ipykernel)",
   "language": "python",
   "name": "python3"
  },
  "language_info": {
   "codemirror_mode": {
    "name": "ipython",
    "version": 3
   },
   "file_extension": ".py",
   "mimetype": "text/x-python",
   "name": "python",
   "nbconvert_exporter": "python",
   "pygments_lexer": "ipython3",
   "version": "3.10.2"
  }
 },
 "nbformat": 4,
 "nbformat_minor": 5
}
