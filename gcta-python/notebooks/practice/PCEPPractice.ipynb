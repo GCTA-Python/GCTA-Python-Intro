{
 "cells": [
  {
   "cell_type": "code",
   "execution_count": null,
   "id": "28fed996",
   "metadata": {},
   "outputs": [],
   "source": [
    "# 1\n",
    "# What will be printed?\n",
    "\n",
    "my_dict = {'a': 1, 'b': 2, 'c': 3}\n",
    "\n",
    "my_str = 'abc'\n",
    "\n",
    "for char in my_str:\n",
    "    val = my_dict[char]\n",
    "    \n",
    "print(val)"
   ]
  },
  {
   "cell_type": "code",
   "execution_count": null,
   "id": "08d87b9d",
   "metadata": {},
   "outputs": [],
   "source": [
    "# 2\n",
    "# What will be printed?\n",
    "\n",
    "x = 0\n",
    "y = 1\n",
    "z = 2\n",
    "\n",
    "comp = x > y and x < z\n",
    "\n",
    "print(comp)"
   ]
  },
  {
   "cell_type": "code",
   "execution_count": null,
   "id": "fffcff95",
   "metadata": {},
   "outputs": [],
   "source": [
    "# 3\n",
    "# What will be printed?\n",
    "\n",
    "val = 0\n",
    "\n",
    "for x in range(3):\n",
    "    \n",
    "    for y in range(2):\n",
    "        \n",
    "        val += 1\n",
    "        \n",
    "print(val)"
   ]
  },
  {
   "cell_type": "code",
   "execution_count": null,
   "id": "01cfffe6",
   "metadata": {},
   "outputs": [],
   "source": [
    "# 4\n",
    "# What will be printed?\n",
    "\n",
    "my_list = [x*x for x in range(3)]\n",
    "\n",
    "def sum_list(a_list: list) -> int:\n",
    "    \n",
    "    the_sum = 0\n",
    "    \n",
    "    for val in a_list:\n",
    "        the_sum += val\n",
    "        \n",
    "    return the_sum\n",
    "\n",
    "print(sum_list(my_list))"
   ]
  },
  {
   "cell_type": "code",
   "execution_count": null,
   "id": "b76c0cbc",
   "metadata": {},
   "outputs": [],
   "source": [
    "# 5\n",
    "# What will be printed\n",
    "\n",
    "nums = [4,5,6]\n",
    "vals = nums\n",
    "del vals[:]\n",
    "\n",
    "print(nums)"
   ]
  },
  {
   "cell_type": "code",
   "execution_count": null,
   "id": "ef34f53f",
   "metadata": {},
   "outputs": [],
   "source": [
    "# 6\n",
    "# What will be printed\n",
    "\n",
    "nums = [1,2,3]\n",
    "vals = nums.copy()\n",
    "del nums[:]\n",
    "\n",
    "print(vals)"
   ]
  },
  {
   "cell_type": "code",
   "execution_count": null,
   "id": "01a89c9a",
   "metadata": {},
   "outputs": [],
   "source": [
    "# 7\n",
    "# What will be printed\n",
    "\n",
    "my_list = [1,3,2]\n",
    "\n",
    "my_list.append(4)\n",
    "\n",
    "print(my_list)"
   ]
  },
  {
   "cell_type": "code",
   "execution_count": null,
   "id": "f31ec75e",
   "metadata": {},
   "outputs": [],
   "source": [
    "# 8\n",
    "# What will be printed\n",
    "\n",
    "my_list = [7, 4]\n",
    "\n",
    "for i in range(2):\n",
    "    \n",
    "    my_list.append(i)\n",
    "    \n",
    "print(my_list)"
   ]
  },
  {
   "cell_type": "code",
   "execution_count": null,
   "id": "fb6819e6",
   "metadata": {},
   "outputs": [],
   "source": [
    "# 9\n",
    "# What will be printed\n",
    "\n",
    "my_list = [7, 4]\n",
    "\n",
    "for i in range(2):\n",
    "    \n",
    "    my_list.append(my_list[i])\n",
    "    \n",
    "print(my_list)"
   ]
  },
  {
   "cell_type": "code",
   "execution_count": null,
   "id": "ffb25779",
   "metadata": {},
   "outputs": [],
   "source": [
    "# 10\n",
    "# What will be printed\n",
    "\n",
    "my_list = [9, 4]\n",
    "\n",
    "my_list.insert(0, 5)\n",
    "\n",
    "print(my_list)"
   ]
  },
  {
   "cell_type": "code",
   "execution_count": null,
   "id": "71ac6647",
   "metadata": {},
   "outputs": [],
   "source": [
    "# 11\n",
    "# What will be printed\n",
    "\n",
    "my_list = [2, 0]\n",
    "\n",
    "my_list.insert(1, 7)\n",
    "\n",
    "print(my_list)"
   ]
  },
  {
   "cell_type": "code",
   "execution_count": null,
   "id": "063fa24e",
   "metadata": {},
   "outputs": [],
   "source": [
    "# 12\n",
    "# What will be printed\n",
    "\n",
    "my_list = [1,2,3]\n",
    "\n",
    "my_list.insert(-1, 4)\n",
    "\n",
    "print(my_list)"
   ]
  },
  {
   "cell_type": "code",
   "execution_count": null,
   "id": "027790a4",
   "metadata": {},
   "outputs": [],
   "source": [
    "# 13\n",
    "# What will be printed\n",
    "\n",
    "my_list = [1,2,3]\n",
    "\n",
    "my_list.insert(2, 4)\n",
    "\n",
    "print(my_list)"
   ]
  },
  {
   "cell_type": "code",
   "execution_count": null,
   "id": "4bbe1dc0",
   "metadata": {},
   "outputs": [],
   "source": [
    "# 14\n",
    "# What will be printed\n",
    "\n",
    "my_list = [1,2,3]\n",
    "\n",
    "my_list.insert(-2, 4)\n",
    "\n",
    "print(my_list)"
   ]
  },
  {
   "cell_type": "code",
   "execution_count": null,
   "id": "315d1fb5",
   "metadata": {},
   "outputs": [],
   "source": [
    "# 15\n",
    "# What will be printed\n",
    "\n",
    "my_list = [1,2,3]\n",
    "\n",
    "my_list.insert(1, 4)\n",
    "\n",
    "print(my_list)"
   ]
  },
  {
   "cell_type": "code",
   "execution_count": null,
   "id": "97ad241d",
   "metadata": {},
   "outputs": [],
   "source": [
    "# 16\n",
    "# What will be printed\n",
    "\n",
    "my_list = [1,2,3]\n",
    "\n",
    "my_list.insert(-2, 4)\n",
    "\n",
    "print(my_list)"
   ]
  },
  {
   "cell_type": "code",
   "execution_count": null,
   "id": "ff233990",
   "metadata": {},
   "outputs": [],
   "source": [
    "# 17\n",
    "# What will be printed\n",
    "\n",
    "my_list = [8, 2]\n",
    "\n",
    "for i in range(2):\n",
    "    \n",
    "    my_list.insert(0, i)\n",
    "    \n",
    "print(my_list)"
   ]
  },
  {
   "cell_type": "code",
   "execution_count": null,
   "id": "54602e71",
   "metadata": {},
   "outputs": [],
   "source": [
    "# 18\n",
    "# What will be printed\n",
    "\n",
    "x = 4%2\n",
    "\n",
    "print(x)"
   ]
  },
  {
   "cell_type": "code",
   "execution_count": null,
   "id": "5cbc5d5a",
   "metadata": {},
   "outputs": [],
   "source": [
    "# 19\n",
    "# What will be printed\n",
    "\n",
    "x = 6%2\n",
    "\n",
    "print(x)"
   ]
  },
  {
   "cell_type": "code",
   "execution_count": null,
   "id": "ffc0bf54",
   "metadata": {},
   "outputs": [],
   "source": [
    "# 20\n",
    "# What will be printed\n",
    "\n",
    "x = 6%3\n",
    "\n",
    "print(x)"
   ]
  },
  {
   "cell_type": "code",
   "execution_count": null,
   "id": "94356ee1",
   "metadata": {},
   "outputs": [],
   "source": [
    "# 21\n",
    "# What will be printed\n",
    "\n",
    "x = 8%2\n",
    "\n",
    "print(x)"
   ]
  },
  {
   "cell_type": "code",
   "execution_count": null,
   "id": "9d51b042",
   "metadata": {},
   "outputs": [],
   "source": [
    "# 22\n",
    "# What will be printed\n",
    "\n",
    "x = 10%5\n",
    "\n",
    "print(x)"
   ]
  },
  {
   "cell_type": "code",
   "execution_count": null,
   "id": "1515ded4",
   "metadata": {},
   "outputs": [],
   "source": [
    "# 23\n",
    "# What will be printed\n",
    "\n",
    "x = 2\n",
    "y = 4\n",
    "\n",
    "z = y%x\n",
    "print(z)"
   ]
  },
  {
   "cell_type": "code",
   "execution_count": null,
   "id": "bd195580",
   "metadata": {},
   "outputs": [],
   "source": [
    "# 24\n",
    "# What will be printed\n",
    "\n",
    "x = 5\n",
    "y = 3\n",
    "\n",
    "z = x%y\n",
    "print(z)"
   ]
  },
  {
   "cell_type": "code",
   "execution_count": null,
   "id": "76f1bc92",
   "metadata": {},
   "outputs": [],
   "source": [
    "# 25\n",
    "# What will be printed\n",
    "\n",
    "x = 4%2 == 0\n",
    "\n",
    "print(x)"
   ]
  },
  {
   "cell_type": "code",
   "execution_count": null,
   "id": "46fae5fd",
   "metadata": {},
   "outputs": [],
   "source": [
    "# 26\n",
    "# What will be printed\n",
    "\n",
    "x = 4%3 == 0\n",
    "\n",
    "print(x)"
   ]
  },
  {
   "cell_type": "code",
   "execution_count": null,
   "id": "0c016150",
   "metadata": {},
   "outputs": [],
   "source": [
    "# 27\n",
    "# What will be printed\n",
    "\n",
    "def fun(a=0, b=0):\n",
    "    return a - b\n",
    "\n",
    "print(fun(4, 5))"
   ]
  },
  {
   "cell_type": "code",
   "execution_count": null,
   "id": "f8ee852f",
   "metadata": {},
   "outputs": [],
   "source": [
    "# 28\n",
    "# What will be printed\n",
    "\n",
    "def fun(a=0, b=0):\n",
    "    return a - b\n",
    "\n",
    "print(fun(a=4, b=5))"
   ]
  },
  {
   "cell_type": "code",
   "execution_count": null,
   "id": "b30e635e",
   "metadata": {},
   "outputs": [],
   "source": [
    "# 29\n",
    "# What will be printed\n",
    "\n",
    "def fun(a=0, b=0):\n",
    "    return a - b\n",
    "\n",
    "print(fun(4, b=5))"
   ]
  },
  {
   "cell_type": "code",
   "execution_count": null,
   "id": "e11c1e01",
   "metadata": {},
   "outputs": [],
   "source": [
    "# 30\n",
    "# What will be printed\n",
    "\n",
    "def fun(a=0, b=0):\n",
    "    return a - b\n",
    "\n",
    "print(fun(4))"
   ]
  },
  {
   "cell_type": "code",
   "execution_count": null,
   "id": "5765cd92",
   "metadata": {},
   "outputs": [],
   "source": [
    "# 31\n",
    "# What will be printed\n",
    "\n",
    "def fun(a=0, b=0):\n",
    "    return a - b\n",
    "\n",
    "print(fun())"
   ]
  },
  {
   "cell_type": "code",
   "execution_count": null,
   "id": "b4b1dd61",
   "metadata": {},
   "outputs": [],
   "source": [
    "# 32\n",
    "# What will be printed\n",
    "\n",
    "def fun(a=0, b=0):\n",
    "    return a - b\n",
    "\n",
    "print(fun(0, 0))"
   ]
  },
  {
   "cell_type": "code",
   "execution_count": null,
   "id": "b542508f",
   "metadata": {},
   "outputs": [],
   "source": [
    "# 33\n",
    "# What will be printed\n",
    "\n",
    "def fun(a=0, b=0):\n",
    "    return a - b\n",
    "\n",
    "print(fun(a=1, 0))"
   ]
  },
  {
   "cell_type": "code",
   "execution_count": null,
   "id": "77731afb",
   "metadata": {},
   "outputs": [],
   "source": [
    "# 34\n",
    "# What will be printed\n",
    "\n",
    "def fun(a=0, b=0):\n",
    "    return a - b\n",
    "\n",
    "print(fun(1, b=0))"
   ]
  },
  {
   "cell_type": "code",
   "execution_count": null,
   "id": "de208acd",
   "metadata": {},
   "outputs": [],
   "source": [
    "# 35\n",
    "# What will be printed\n",
    "\n",
    "def fun(a=0, b=0):\n",
    "    return a - b\n",
    "\n",
    "print(fun(b=1, 0))"
   ]
  },
  {
   "cell_type": "code",
   "execution_count": null,
   "id": "12502b0f",
   "metadata": {},
   "outputs": [],
   "source": [
    "# 36\n",
    "# What will be printed\n",
    "\n",
    "def fun(a=0, b=0):\n",
    "    return a - b\n",
    "\n",
    "print(fun(b=1, a=10))"
   ]
  },
  {
   "cell_type": "code",
   "execution_count": null,
   "id": "b05c08f2",
   "metadata": {},
   "outputs": [],
   "source": [
    "# 37\n",
    "# What will be printed\n",
    "\n",
    "i = 0\n",
    "\n",
    "while i < 5:\n",
    "    i += 1\n",
    "    print('*', end=' ')"
   ]
  },
  {
   "cell_type": "code",
   "execution_count": null,
   "id": "6354a2da",
   "metadata": {},
   "outputs": [],
   "source": [
    "# 38\n",
    "# What will be printed\n",
    "\n",
    "i = 0\n",
    "\n",
    "while i < 5:\n",
    "    i += 1\n",
    "    print('*', end=' ')\n",
    "else:\n",
    "    print('?')"
   ]
  },
  {
   "cell_type": "code",
   "execution_count": null,
   "id": "b572d1f1",
   "metadata": {},
   "outputs": [],
   "source": [
    "# 39\n",
    "# What will be printed\n",
    "\n",
    "for i in range(2):\n",
    "    print('*', end=' ')"
   ]
  },
  {
   "cell_type": "code",
   "execution_count": null,
   "id": "032275e7",
   "metadata": {},
   "outputs": [],
   "source": [
    "# 40\n",
    "# What will be printed\n",
    "\n",
    "for i in range(2):\n",
    "    print('*', end=' ')\n",
    "else:\n",
    "    print('?')"
   ]
  },
  {
   "cell_type": "code",
   "execution_count": null,
   "id": "05dfa359",
   "metadata": {},
   "outputs": [],
   "source": [
    "# 41\n",
    "# What will be printed\n",
    "\n",
    "for i in range(5):\n",
    "    print(i, sep='#', end='$')"
   ]
  },
  {
   "cell_type": "code",
   "execution_count": null,
   "id": "838e0cd0",
   "metadata": {},
   "outputs": [],
   "source": [
    "# 42\n",
    "# What will be printed\n",
    "\n",
    "print(0,1,2,3,4, sep='#', end='$')"
   ]
  },
  {
   "cell_type": "code",
   "execution_count": null,
   "id": "924ad980",
   "metadata": {},
   "outputs": [],
   "source": [
    "# 43\n",
    "# What will be printed\n",
    "\n",
    "in = 7\n",
    "\n",
    "print(in)"
   ]
  },
  {
   "cell_type": "code",
   "execution_count": null,
   "id": "9cb9ed17",
   "metadata": {},
   "outputs": [],
   "source": [
    "# 44\n",
    "# What will be printed\n",
    "\n",
    "In = 7\n",
    "\n",
    "print(In)"
   ]
  },
  {
   "cell_type": "code",
   "execution_count": null,
   "id": "d2a8b4e0",
   "metadata": {},
   "outputs": [],
   "source": [
    "# 45\n",
    "# What will be printed\n",
    "\n",
    "x, y = 2, 3\n",
    "\n",
    "print(x, y)"
   ]
  },
  {
   "cell_type": "code",
   "execution_count": null,
   "id": "3656a73c",
   "metadata": {},
   "outputs": [],
   "source": [
    "# 46\n",
    "# What will be printed\n",
    "\n",
    "x, y, x = 2, 3, 5\n",
    "\n",
    "print(x, y)"
   ]
  },
  {
   "cell_type": "code",
   "execution_count": null,
   "id": "6f6e43de",
   "metadata": {},
   "outputs": [],
   "source": [
    "# 47\n",
    "# What will be printed\n",
    "\n",
    "x = 1\n",
    "y = 2\n",
    "x, y, z = x, x, y\n",
    "z, y, z = x, y, z\n",
    "\n",
    "print(x, y, z, sep='#')"
   ]
  },
  {
   "cell_type": "code",
   "execution_count": null,
   "id": "763b89d5",
   "metadata": {},
   "outputs": [],
   "source": [
    "# 48\n",
    "# What will be printed\n",
    "\n",
    "x = (1,2,3)\n",
    "\n",
    "x[0] = x[1] + x[2]\n",
    "\n",
    "print(x)"
   ]
  },
  {
   "cell_type": "code",
   "execution_count": null,
   "id": "9a85c698",
   "metadata": {},
   "outputs": [],
   "source": [
    "# 49\n",
    "# What will be printed\n",
    "\n",
    "x = (1,2,3)\n",
    "\n",
    "y = x[1] + x[2]\n",
    "\n",
    "print(y)"
   ]
  },
  {
   "cell_type": "code",
   "execution_count": null,
   "id": "b79d85f9",
   "metadata": {},
   "outputs": [],
   "source": [
    "# 50\n",
    "# What will be printed\n",
    "\n",
    "x = '1'\n",
    "y = '2'\n",
    "\n",
    "print(x + y)"
   ]
  },
  {
   "cell_type": "code",
   "execution_count": null,
   "id": "ab5b9438",
   "metadata": {},
   "outputs": [],
   "source": [
    "# 51\n",
    "# What will be printed\n",
    "\n",
    "my_list = [x for x in range(3)]\n",
    "\n",
    "del my_list[1]\n",
    "\n",
    "print(my_list)"
   ]
  },
  {
   "cell_type": "code",
   "execution_count": null,
   "id": "cd73425c",
   "metadata": {},
   "outputs": [],
   "source": [
    "# 52\n",
    "# What will be printed\n",
    "\n",
    "my_list = [x*2 for x in range(3)]\n",
    "\n",
    "my_int = my_list[1]\n",
    "\n",
    "del my_list[my_int]\n",
    "\n",
    "print(my_list)"
   ]
  },
  {
   "cell_type": "code",
   "execution_count": null,
   "id": "5caa1bcf",
   "metadata": {},
   "outputs": [],
   "source": [
    "# 53\n",
    "# What will be printed\n",
    "\n",
    "my_list = [x*2 for x in range(3)]\n",
    "\n",
    "a = my_list[1]\n",
    "\n",
    "b = my_list[a]\n",
    "\n",
    "print(b)"
   ]
  },
  {
   "cell_type": "code",
   "execution_count": null,
   "id": "faa6d66b",
   "metadata": {},
   "outputs": [],
   "source": [
    "# 54\n",
    "# What will be printed\n",
    "\n",
    "my_list = [x*2 for x in range(3)]\n",
    "\n",
    "b = my_list[my_list[1]]\n",
    "\n",
    "print(b)"
   ]
  },
  {
   "cell_type": "code",
   "execution_count": null,
   "id": "f625c613",
   "metadata": {},
   "outputs": [],
   "source": [
    "# 55\n",
    "# What will be printed\n",
    "\n",
    "my_dict = {\n",
    "    'a': 1,\n",
    "    'b': 2,\n",
    "    'c': 3,\n",
    "    'd': 4\n",
    "}\n",
    "\n",
    "for k in my_dict.keys():\n",
    "    print(k, end='#')"
   ]
  },
  {
   "cell_type": "code",
   "execution_count": null,
   "id": "1434b4e0",
   "metadata": {},
   "outputs": [],
   "source": [
    "# 56\n",
    "# What will be printed\n",
    "\n",
    "my_dict = {\n",
    "    'a': 1,\n",
    "    'b': 2,\n",
    "    'c': 3,\n",
    "    'd': 4\n",
    "}\n",
    "\n",
    "for k in my_dict.values():\n",
    "    print(k, end='#')"
   ]
  },
  {
   "cell_type": "code",
   "execution_count": null,
   "id": "62d139b5",
   "metadata": {},
   "outputs": [],
   "source": [
    "# 57\n",
    "# What will be printed\n",
    "\n",
    "my_dict = {\n",
    "    'a': {'one': 1, 'two': 2},\n",
    "    'b': {'three': 3, 'four': 4}\n",
    "}\n",
    "\n",
    "print(my_dict['a']['one'])"
   ]
  },
  {
   "cell_type": "code",
   "execution_count": null,
   "id": "c2e1a90b",
   "metadata": {},
   "outputs": [],
   "source": [
    "# 58\n",
    "# What will be printed\n",
    "\n",
    "my_dict = {\n",
    "    'a': {'one': 1, 'two': 2},\n",
    "    'b': {'three': 3, 'four': 4}\n",
    "}\n",
    "\n",
    "print(my_dict['b']['three'])"
   ]
  },
  {
   "cell_type": "code",
   "execution_count": null,
   "id": "573a1d38",
   "metadata": {},
   "outputs": [],
   "source": [
    "# 59\n",
    "# What will be printed\n",
    "\n",
    "my_dict = {\n",
    "    'a': {'one': 1, 'two': 2},\n",
    "    'b': {'three': 3, 'four': 4}\n",
    "}\n",
    "\n",
    "for k in my_dict.keys():\n",
    "    print(k, end='#', sep='*')"
   ]
  },
  {
   "cell_type": "code",
   "execution_count": null,
   "id": "e38fcfa8",
   "metadata": {},
   "outputs": [],
   "source": [
    "# 60\n",
    "# What will be printed\n",
    "\n",
    "my_dict = {\n",
    "    'a': {'one': 1, 'two': 2},\n",
    "    'b': {'three': 3, 'four': 4}\n",
    "}\n",
    "\n",
    "for k in my_dict['a'].keys():\n",
    "    print(k, end='#', sep='*')"
   ]
  },
  {
   "cell_type": "code",
   "execution_count": null,
   "id": "865799f2",
   "metadata": {},
   "outputs": [],
   "source": [
    "# 61\n",
    "# What will be printed\n",
    "\n",
    "my_dict = {\n",
    "    'a': {'one': 1, 'two': 2},\n",
    "    'b': {'three': 3, 'four': 4}\n",
    "}\n",
    "\n",
    "for k in my_dict['b'].values():\n",
    "    print(k, end='#', sep='*')"
   ]
  },
  {
   "cell_type": "code",
   "execution_count": null,
   "id": "17f22335",
   "metadata": {},
   "outputs": [],
   "source": [
    "# 62\n",
    "# What will be printed\n",
    "\n",
    "my_dict = {}\n",
    "\n",
    "my_dict['a'] = {}\n",
    "\n",
    "my_dict['a']['b'] = 1\n",
    "\n",
    "print(my_dict)"
   ]
  },
  {
   "cell_type": "code",
   "execution_count": null,
   "id": "f15036ba",
   "metadata": {},
   "outputs": [],
   "source": [
    "# 63\n",
    "# What will be printed\n",
    "\n",
    "x = 0\n",
    "y = 10\n",
    "\n",
    "z = x > y\n",
    "\n",
    "print(z)"
   ]
  },
  {
   "cell_type": "code",
   "execution_count": null,
   "id": "873b13a6",
   "metadata": {},
   "outputs": [],
   "source": [
    "# 64\n",
    "# What will be printed\n",
    "\n",
    "x = 0\n",
    "y = 10\n",
    "\n",
    "z = x > y and x+y >= y\n",
    "\n",
    "print(z)"
   ]
  },
  {
   "cell_type": "code",
   "execution_count": null,
   "id": "20cf1b92",
   "metadata": {},
   "outputs": [],
   "source": [
    "# 65\n",
    "# What will be printed\n",
    "\n",
    "x = 0\n",
    "y = 10\n",
    "\n",
    "z = x > y or x+y >= y\n",
    "\n",
    "print(z)"
   ]
  }
 ],
 "metadata": {
  "kernelspec": {
   "display_name": "Python 3 (ipykernel)",
   "language": "python",
   "name": "python3"
  },
  "language_info": {
   "codemirror_mode": {
    "name": "ipython",
    "version": 3
   },
   "file_extension": ".py",
   "mimetype": "text/x-python",
   "name": "python",
   "nbconvert_exporter": "python",
   "pygments_lexer": "ipython3",
   "version": "3.11.5"
  }
 },
 "nbformat": 4,
 "nbformat_minor": 5
}
