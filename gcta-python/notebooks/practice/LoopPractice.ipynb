{
 "cells": [
  {
   "cell_type": "markdown",
   "id": "6829558c",
   "metadata": {},
   "source": [
    "# This is a review notebook\n",
    "***In order to do this review, you need to have covered:***\n",
    "* Simple Data Types (literals: int, str, float, bool)\n",
    "* The print() function\n",
    "* The input() function\n",
    "* The type() function\n",
    "* The isinstance() function\n",
    "* Arithmetic operators (+, -, /, //, *, \\**, %)\n",
    "* Comparison operators (==, !=, <, >, <=, >=)\n",
    "* Logical operators (and, or, not)\n",
    "* Identity and Membership operators (is, in)\n",
    "* Conditional expressions (if, elif, else)\n",
    "* Lists\n",
    "* Loops (while, for, else, continue, break)\n",
    "* The range() function\n",
    "\n",
    "***Do not do the optional section unless we've covered them.***\n",
    "* (Optional) Dictionaries\n",
    "* (Optional) List comprehension"
   ]
  },
  {
   "cell_type": "code",
   "execution_count": null,
   "id": "ccb9716d-7f71-471c-9fe6-bba6c3c12539",
   "metadata": {},
   "outputs": [],
   "source": [
    "# example problem\n",
    "\n",
    "my_list = []\n",
    "x = 2\n",
    "while x < 5:\n",
    "    my_list.append(x)\n",
    "    x += 1\n",
    "\n",
    "# Create a variable \"answer\" such that the last expression in this cell prints True\n",
    "answer = [2, 3, 4]\n",
    "\n",
    "print(answer == my_list)"
   ]
  },
  {
   "cell_type": "code",
   "execution_count": null,
   "id": "1c2c586c",
   "metadata": {},
   "outputs": [],
   "source": [
    "my_list = []\n",
    "while True:\n",
    "    my_list.append('a')\n",
    "    break\n",
    "\n",
    "# Create a variable \"answer\" such that the last expression in this cell prints True\n",
    "\n",
    "\n",
    "print(answer == my_list)"
   ]
  },
  {
   "cell_type": "code",
   "execution_count": null,
   "id": "620ba371-4ff0-459e-aa96-e74e5b8bbfb6",
   "metadata": {},
   "outputs": [],
   "source": [
    "my_list = []\n",
    "while True:\n",
    "    my_list.append('a')\n",
    "    break\n",
    "    my_list.append('b')\n",
    "\n",
    "# Create a variable \"answer\" such that the last expression in this cell prints True\n",
    "\n",
    "\n",
    "print(answer == my_list)"
   ]
  },
  {
   "cell_type": "code",
   "execution_count": null,
   "id": "12c02438-830f-40c5-bfc2-27694e54ed65",
   "metadata": {},
   "outputs": [],
   "source": [
    "my_list = []\n",
    "while True:\n",
    "    my_list.append('a')\n",
    "    break\n",
    "    my_list.append('b')\n",
    "my_list.append('c')\n",
    "\n",
    "# Create a variable \"answer\" such that the last expression in this cell prints True\n",
    "\n",
    "\n",
    "print(answer == my_list)"
   ]
  },
  {
   "cell_type": "code",
   "execution_count": null,
   "id": "5c3dd62b-60bd-4df6-af46-aaa4b5f59141",
   "metadata": {},
   "outputs": [],
   "source": [
    "a_list = []\n",
    "x = -1\n",
    "while x < 2:\n",
    "    a_list = a_list + [x]\n",
    "    x += 1\n",
    "\n",
    "# Create a variable \"answer\" such that the last expression in this cell prints True\n",
    "\n",
    "\n",
    "print(answer == a_list)"
   ]
  },
  {
   "cell_type": "code",
   "execution_count": null,
   "id": "bea9c366-6ab4-4040-b89a-797a5aa9b30a",
   "metadata": {},
   "outputs": [],
   "source": [
    "a_list = []\n",
    "x = -1\n",
    "while x < 2:\n",
    "    x += 1\n",
    "    a_list = a_list + [x]\n",
    "\n",
    "# Create a variable \"answer\" such that the last expression in this cell prints True\n",
    "\n",
    "\n",
    "print(answer == a_list)"
   ]
  },
  {
   "cell_type": "code",
   "execution_count": null,
   "id": "0135bd93-fbd6-40ee-b174-ee67fb88dcd0",
   "metadata": {},
   "outputs": [],
   "source": [
    "a_list = []\n",
    "x = -1\n",
    "while x < 4:\n",
    "    if x % 2 == 1:\n",
    "        a_list = a_list + [x]\n",
    "    else:\n",
    "        a_list = a_list + [x, x]\n",
    "    x += 1\n",
    "\n",
    "# Create a variable \"answer\" such that the last expression in this cell prints True\n",
    "\n",
    "\n",
    "print(answer == a_list)"
   ]
  },
  {
   "cell_type": "code",
   "execution_count": null,
   "id": "9acd7a89-ad7d-4d63-9849-85b6486f93fb",
   "metadata": {},
   "outputs": [],
   "source": [
    "counter = 0\n",
    "while True:\n",
    "    print('a')\n",
    "    counter += 1\n",
    "    of counter > 3:\n",
    "        break\n",
    "\n",
    "# Create a variable \"answer\" such that the last expression in this cell prints True\n",
    "\n",
    "\n",
    "print(answer == a_list)"
   ]
  },
  {
   "cell_type": "code",
   "execution_count": null,
   "id": "00de107d",
   "metadata": {},
   "outputs": [],
   "source": [
    "my_list = []\n",
    "while True:\n",
    "    my_list.append('a')\n",
    "    break\n",
    "else:\n",
    "    my_list.append('b')\n",
    "\n",
    "# Create a variable y such that the last expression in this cell prints True\n",
    "\n",
    "\n",
    "print(y == my_list)"
   ]
  },
  {
   "cell_type": "code",
   "execution_count": null,
   "id": "42d0f28f",
   "metadata": {},
   "outputs": [],
   "source": [
    "adder = 0\n",
    "for i in range(10):\n",
    "    if i in [1, 3]:\n",
    "        adder += 1\n",
    "        \n",
    "# Create a variable y such that the last expression in this cell prints True\n",
    "\n",
    "\n",
    "print(adder == y)"
   ]
  },
  {
   "cell_type": "code",
   "execution_count": null,
   "id": "a2aebbab",
   "metadata": {},
   "outputs": [],
   "source": [
    "adder = 0\n",
    "for i in range(10):\n",
    "    if i in [1, 3]:\n",
    "        adder += 1\n",
    "    elif i % 2 == 0:\n",
    "        adder += 2\n",
    "    else:\n",
    "        adder += 0\n",
    "        \n",
    "# Create a variable y such that the last expression in this cell prints True\n",
    "\n",
    "\n",
    "print(adder == y)"
   ]
  },
  {
   "cell_type": "code",
   "execution_count": null,
   "id": "6ab4f5ad",
   "metadata": {},
   "outputs": [],
   "source": [
    "adder = 0\n",
    "for i in range(10):\n",
    "    if i in [1, 3]:\n",
    "        adder += 1\n",
    "    else:\n",
    "        adder += 2\n",
    "        \n",
    "# Create a variable y such that the last expression in this cell prints True\n",
    "\n",
    "\n",
    "print(adder == y)"
   ]
  },
  {
   "cell_type": "code",
   "execution_count": null,
   "id": "baafb2f5",
   "metadata": {},
   "outputs": [],
   "source": [
    "adder = 0\n",
    "for i in range(10):\n",
    "    if i in [1, 3]:\n",
    "        adder += 1\n",
    "else:\n",
    "    adder += 2\n",
    "        \n",
    "# Create a variable y such that the last expression in this cell prints True\n",
    "\n",
    "\n",
    "print(adder == y)"
   ]
  },
  {
   "cell_type": "code",
   "execution_count": null,
   "id": "d2e6918a",
   "metadata": {},
   "outputs": [],
   "source": [
    "condition = True\n",
    "adder = 0\n",
    "\n",
    "while condition:\n",
    "    adder += 1\n",
    "    if adder == 3:\n",
    "        condition = False\n",
    "        \n",
    "# Create a variable y such that the last expression in this cell prints True\n",
    "\n",
    "\n",
    "print(adder == y)"
   ]
  },
  {
   "cell_type": "code",
   "execution_count": null,
   "id": "81c146fb",
   "metadata": {},
   "outputs": [],
   "source": [
    "condition = True\n",
    "adder = 0\n",
    "\n",
    "while condition:\n",
    "    adder += 1\n",
    "    if adder == 3:\n",
    "        condition = False\n",
    "else:\n",
    "    adder += 2\n",
    "        \n",
    "# Create a variable y such that the last expression in this cell prints True\n",
    "\n",
    "\n",
    "print(adder == y)"
   ]
  },
  {
   "cell_type": "code",
   "execution_count": null,
   "id": "bb3cccf2",
   "metadata": {},
   "outputs": [],
   "source": [
    "condition = True\n",
    "adder = 0\n",
    "\n",
    "while condition:\n",
    "    adder += 1\n",
    "    if adder == 3:\n",
    "        break\n",
    "else:\n",
    "    adder += 2\n",
    "        \n",
    "# Create a variable y such that the last expression in this cell prints True\n",
    "\n",
    "\n",
    "print(adder == y)"
   ]
  },
  {
   "cell_type": "code",
   "execution_count": null,
   "id": "6c5cb197",
   "metadata": {},
   "outputs": [],
   "source": [
    "condition = True\n",
    "adder = 0\n",
    "\n",
    "while condition:\n",
    "    adder += 1\n",
    "    if adder > 3 and adder <= 5:\n",
    "        continue\n",
    "    elif adder > 6:\n",
    "        condition = False\n",
    "    else:\n",
    "        adder += 2\n",
    "        \n",
    "# Create a variable y such that the last expression in this cell prints True\n",
    "\n",
    "\n",
    "print(adder == y)"
   ]
  },
  {
   "cell_type": "code",
   "execution_count": null,
   "id": "d51ed95d-08e9-47fe-b23e-3d5996923113",
   "metadata": {},
   "outputs": [],
   "source": [
    "my_string = ''\n",
    "for letter in 'letters':\n",
    "    my_string = letter\n",
    "\n",
    "# Create a variable \"answer\" such that the last expression in this cell prints True\n",
    "\n",
    "\n",
    "print(answer == my_string)"
   ]
  },
  {
   "cell_type": "code",
   "execution_count": null,
   "id": "7e9770a4-c39b-4945-b4f6-db641b8a89a5",
   "metadata": {},
   "outputs": [],
   "source": [
    "my_string = 'foo'\n",
    "for letter in 'dad':\n",
    "    my_string = letter\n",
    "\n",
    "# Create a variable \"answer\" such that the last expression in this cell prints True\n",
    "\n",
    "\n",
    "print(answer == my_string)"
   ]
  },
  {
   "cell_type": "code",
   "execution_count": null,
   "id": "ed8e76a5-44f0-4932-b8bb-bb1149232898",
   "metadata": {},
   "outputs": [],
   "source": [
    "my_var = ''\n",
    "for data in range(3):\n",
    "    my_var = my_var + str(data + 1)\n",
    "\n",
    "# Create a variable \"answer\" such that the last expression in this cell prints True\n",
    "\n",
    "\n",
    "print(answer == my_var)"
   ]
  },
  {
   "cell_type": "code",
   "execution_count": null,
   "id": "620c6e8e-8303-474d-a307-9309d94e79d6",
   "metadata": {},
   "outputs": [],
   "source": [
    "my_var = []\n",
    "for i in range(4):\n",
    "    while i > 0:\n",
    "        i -= 1\n",
    "        my_var.append(i)\n",
    "\n",
    "# Create a variable \"answer\" such that the last expression in this cell prints True\n",
    "\n",
    "\n",
    "print(answer == my_var)"
   ]
  },
  {
   "cell_type": "markdown",
   "id": "ddb2b916-9387-4f7c-8bd9-b342eaf4db5b",
   "metadata": {},
   "source": [
    "# Optional Section\n",
    "***Do not do these unless we've already covered these topics.***"
   ]
  },
  {
   "cell_type": "code",
   "execution_count": null,
   "id": "50241209-5a07-4159-ab40-d68c6cc1fc2c",
   "metadata": {},
   "outputs": [],
   "source": [
    "# optional\n",
    "\n",
    "x = []\n",
    "for i in range(1, 10, 2):\n",
    "    x.append(i)\n",
    "    \n",
    "# create a new variable y using list comprehension \n",
    "# which causes the last expression in this cell to print True\n",
    "\n",
    "\n",
    "print(x == y)"
   ]
  },
  {
   "cell_type": "code",
   "execution_count": null,
   "id": "5d6fdebc-6083-4635-8e99-98f08d632515",
   "metadata": {},
   "outputs": [],
   "source": [
    "# optional\n",
    "\n",
    "x = []\n",
    "for i in range(3):\n",
    "    x.append(i)\n",
    "\n",
    "# create a new variable y using list comprehension \n",
    "# which causes the last expression in this cell to print True\n",
    "\n",
    "\n",
    "print(x == y)"
   ]
  },
  {
   "cell_type": "code",
   "execution_count": null,
   "id": "c12279b9-46b1-439b-bcee-9fa9f5e39a89",
   "metadata": {},
   "outputs": [],
   "source": [
    "# optional\n",
    "x = [i for i in range(5)]\n",
    "\n",
    "# create a new variable y using a for loop and the append method\n",
    "# which causes the last expression in this cell to print True\n",
    "\n",
    "\n",
    "print(x == y)"
   ]
  },
  {
   "cell_type": "code",
   "execution_count": null,
   "id": "2c85fcff-3c20-499d-bb55-efe8fcbd1151",
   "metadata": {},
   "outputs": [],
   "source": [
    "# optional\n",
    "x = [{'day':i, 'weather':'sunny'} for i in range(1, 3)]\n",
    "\n",
    "# create a new variable y which causes the last expression in this cell to print True\n",
    "\n",
    "\n",
    "print(x == y)"
   ]
  },
  {
   "cell_type": "code",
   "execution_count": null,
   "id": "d4dde439-94d5-4875-a482-94301c216815",
   "metadata": {},
   "outputs": [],
   "source": [
    "# optional\n",
    "x = [i for i in range(1, 3)]\n",
    "\n",
    "# create a new variable y which causes the last expression in this cell to print True\n",
    "\n",
    "\n",
    "print(x == y)"
   ]
  },
  {
   "cell_type": "code",
   "execution_count": null,
   "id": "01b00476-4831-4b54-a298-b21e4063614c",
   "metadata": {},
   "outputs": [],
   "source": [
    "# optional\n",
    "# Use list comprehension and the range() function to create: [2, 3, 4] and print it\n",
    "\n",
    "\n",
    "print(x)"
   ]
  },
  {
   "cell_type": "code",
   "execution_count": null,
   "id": "c784abce-4a0e-47e5-8a4e-128bf4604d6d",
   "metadata": {},
   "outputs": [],
   "source": [
    "# optional\n",
    "# Use list comprehension and the range() function to create: [1, 3, 5] and print it\n",
    "\n",
    "\n",
    "print(x)"
   ]
  },
  {
   "cell_type": "code",
   "execution_count": null,
   "id": "0038845c",
   "metadata": {},
   "outputs": [],
   "source": [
    "# optional\n",
    "x = {'a': 1, 'b': 2}\n",
    "adder = 0\n",
    "for i in range(10):\n",
    "    if i in [1, 3]:\n",
    "        adder += x['a']\n",
    "else:\n",
    "    adder += x['b']\n",
    "        \n",
    "# Create a variable y such that the last expression in this cell prints True\n",
    "\n",
    "\n",
    "print(adder == y)"
   ]
  },
  {
   "cell_type": "code",
   "execution_count": null,
   "id": "e54f0196",
   "metadata": {},
   "outputs": [],
   "source": [
    "# optional\n",
    "x = {'a': 1, 'b': 2}\n",
    "adder = 0\n",
    "for i in x.values():\n",
    "    adder += i\n",
    "        \n",
    "# Create a variable y such that the last expression in this cell prints True\n",
    "\n",
    "\n",
    "print(adder == y)"
   ]
  }
 ],
 "metadata": {
  "kernelspec": {
   "display_name": "Python 3 (ipykernel)",
   "language": "python",
   "name": "python3"
  },
  "language_info": {
   "codemirror_mode": {
    "name": "ipython",
    "version": 3
   },
   "file_extension": ".py",
   "mimetype": "text/x-python",
   "name": "python",
   "nbconvert_exporter": "python",
   "pygments_lexer": "ipython3",
   "version": "3.11.5"
  }
 },
 "nbformat": 4,
 "nbformat_minor": 5
}
