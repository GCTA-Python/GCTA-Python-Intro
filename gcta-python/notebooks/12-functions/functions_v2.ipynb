{
 "cells": [
  {
   "cell_type": "code",
   "execution_count": null,
   "id": "e121555f",
   "metadata": {},
   "outputs": [],
   "source": [
    "# what is a function?\n",
    "\n",
    "# functions allow us to write reusable pieces/chunks of code\n",
    "# functions must be “called” (or “invoked”) to be used\n",
    "# characteristics of functions:\n",
    "#   has a name\n",
    "#   has parameters (0 or more)\n",
    "#   has a body\n",
    "#   has a return"
   ]
  },
  {
   "cell_type": "code",
   "execution_count": null,
   "id": "d7d7f714",
   "metadata": {},
   "outputs": [],
   "source": [
    "# example of a function\n",
    "\n",
    "def function_name(i):\n",
    "    i = i + 1\n",
    "    return i\n",
    "\n",
    "# this function takes an argument i, adds 1, then returns i\n",
    "\n",
    "# usage:\n",
    "function_name(2)  # our function -> 3"
   ]
  },
  {
   "cell_type": "code",
   "execution_count": null,
   "id": "452383ae",
   "metadata": {},
   "outputs": [],
   "source": [
    "# example of a multi-parameter function\n",
    "def function_name(a, b):\n",
    "    c = a + b\n",
    "    d = c + 1    \n",
    "    return d\n",
    "\n",
    "# the parameters are a and b\n",
    "# this function performs computations\n",
    "# and returns d\n",
    "\n",
    "# this function takes 2 arguments\n",
    "function_name(7, 3)  # -> 11"
   ]
  },
  {
   "cell_type": "markdown",
   "id": "8348f84f",
   "metadata": {},
   "source": [
    "![alt text](functions.png#left \"Title\")"
   ]
  },
  {
   "cell_type": "markdown",
   "id": "837e0a5f",
   "metadata": {},
   "source": [
    "![alt text](functions_(in_out).png#left \"Title\")"
   ]
  },
  {
   "cell_type": "code",
   "execution_count": null,
   "id": "dd408295",
   "metadata": {},
   "outputs": [],
   "source": [
    "# every function contains a return (whether specified or not)\n",
    "# if the code does not contain an explicit return, the interpreter will appended one\n",
    "# the default retun is always None\n",
    "\n",
    "# a function must contain at least 1 line of code for the interpreter to append a return\n",
    "\n",
    "# is not a valid function definition\n",
    "def function_a():\n",
    "\n",
    "# is a vald function definition (although not useful)\n",
    "def function_b():\n",
    "    y = 1\n",
    "\n",
    "print(function_a())\n",
    "print(function_b())"
   ]
  },
  {
   "cell_type": "code",
   "execution_count": null,
   "id": "b244b71f",
   "metadata": {},
   "outputs": [],
   "source": [
    "# this function returns x\n",
    "def function_1(x):\n",
    "    x = x + 1\n",
    "    return x\n",
    "\n",
    "print(function_1(5))  # returns 6"
   ]
  },
  {
   "cell_type": "code",
   "execution_count": null,
   "id": "dd39af80",
   "metadata": {},
   "outputs": [],
   "source": [
    "# this function returns the string 'foo'\n",
    "def function_2(x):\n",
    "    x = x + 1\n",
    "    return 'foo'\n",
    "\n",
    "print(function_2(0))  # returns the string 'foo'"
   ]
  },
  {
   "cell_type": "code",
   "execution_count": null,
   "id": "79a3342a",
   "metadata": {},
   "outputs": [],
   "source": [
    "# this function returns None\n",
    "def function_3(x):\n",
    "    x = x + 1\n",
    "    return None\n",
    "\n",
    "print(function_3(5))  # returns None"
   ]
  },
  {
   "cell_type": "code",
   "execution_count": null,
   "id": "65a27244",
   "metadata": {},
   "outputs": [],
   "source": [
    "# this function also returns None\n",
    "def function_4(x):\n",
    "    x = x + 1\n",
    "\n",
    "print(function_4(5))  # returns None"
   ]
  },
  {
   "cell_type": "code",
   "execution_count": null,
   "id": "5fcef285",
   "metadata": {},
   "outputs": [],
   "source": [
    "# the object my_function(5) is a function call\n",
    "\n",
    "# define a function that returns None\n",
    "def fn_1(x):\n",
    "    x = x + 2\n",
    "    return None\n",
    "    \n",
    "our_object = fn_1(7)             # assign the object fn() to our_expression\n",
    "object_type = type(our_object)  # gets the type of our expression\n",
    "print(object_type)"
   ]
  },
  {
   "cell_type": "code",
   "execution_count": null,
   "id": "8f001904",
   "metadata": {},
   "outputs": [],
   "source": []
  },
  {
   "cell_type": "code",
   "execution_count": null,
   "id": "ddcf7576",
   "metadata": {},
   "outputs": [],
   "source": [
    "# a function (sort of) becomes its return\n",
    "\n",
    "def fn():\n",
    "    return [33, 5]\n",
    "\n",
    "[33, 5] == fn()"
   ]
  },
  {
   "cell_type": "code",
   "execution_count": null,
   "id": "9358ed86",
   "metadata": {},
   "outputs": [],
   "source": []
  },
  {
   "cell_type": "code",
   "execution_count": null,
   "id": "e417b1a5",
   "metadata": {},
   "outputs": [],
   "source": []
  },
  {
   "cell_type": "code",
   "execution_count": null,
   "id": "d577e6ea",
   "metadata": {},
   "outputs": [],
   "source": []
  },
  {
   "cell_type": "code",
   "execution_count": null,
   "id": "dd6eb40d",
   "metadata": {},
   "outputs": [],
   "source": [
    "# parameters\n",
    "\n",
    "# positional\n",
    "\n",
    "def positional(a, b, c):\n",
    "    print(a, b, c)\n",
    "    \n",
    "positional(1, 2, 3)\n",
    "positional(3, 2, 1)"
   ]
  },
  {
   "cell_type": "code",
   "execution_count": null,
   "id": "be3f946b",
   "metadata": {},
   "outputs": [],
   "source": [
    "# parameters\n",
    "\n",
    "# key word\n",
    "\n",
    "def key_word(a, b, c):\n",
    "    print(a, b, c)\n",
    "\n",
    "key_word(a=1, b=2, c=3)\n",
    "key_word(c=3, b=2, a=1)"
   ]
  },
  {
   "cell_type": "code",
   "execution_count": null,
   "id": "8e8e01c0",
   "metadata": {},
   "outputs": [],
   "source": [
    "# parameters\n",
    "\n",
    "# default argument\n",
    "\n",
    "def default_args(a=0, b=0, c=0):\n",
    "    print(a, b, c)\n",
    "\n",
    "default_args()\n",
    "default_args(a=1, b=2, c=3)\n",
    "default_args(c=3, b=2, a=1)"
   ]
  },
  {
   "cell_type": "code",
   "execution_count": null,
   "id": "d028036e",
   "metadata": {},
   "outputs": [],
   "source": [
    "# paramaters\n",
    "\n",
    "# mixed with default\n",
    "\n",
    "def mixed(pos1, pos2, kw1, print_positional=False):\n",
    "    if print_positional:\n",
    "        print(pos1, pos2)\n",
    "    else:\n",
    "        print(kw1)\n",
    "\n",
    "mixed(1, 2, kw1=4)\n",
    "mixed(1, 2, kw1=4, print_positional=True)"
   ]
  },
  {
   "cell_type": "code",
   "execution_count": null,
   "id": "bf70f667",
   "metadata": {},
   "outputs": [],
   "source": []
  },
  {
   "cell_type": "code",
   "execution_count": null,
   "id": "4f17f72a",
   "metadata": {},
   "outputs": [],
   "source": [
    "def adder(a, b, solve=False):\n",
    "    if solve:\n",
    "        return a+b\n",
    "    else:  # solve = True\n",
    "        return\n",
    "\n",
    "print(adder(1, 2))"
   ]
  },
  {
   "cell_type": "code",
   "execution_count": null,
   "id": "a7427c33",
   "metadata": {},
   "outputs": [],
   "source": [
    "def asdf():\n",
    "    a = 1\n",
    "    \n",
    "print(asdf())"
   ]
  },
  {
   "cell_type": "code",
   "execution_count": null,
   "id": "9aee84a9",
   "metadata": {},
   "outputs": [],
   "source": [
    "def foo(a):\n",
    "    a = a + 1\n",
    "    return {'abc': 33}\n",
    "\n",
    "print(foo(1))"
   ]
  },
  {
   "cell_type": "code",
   "execution_count": null,
   "id": "701d05ad",
   "metadata": {},
   "outputs": [],
   "source": []
  },
  {
   "cell_type": "code",
   "execution_count": null,
   "id": "37c65d75",
   "metadata": {},
   "outputs": [],
   "source": []
  },
  {
   "cell_type": "code",
   "execution_count": null,
   "id": "b398ccb9",
   "metadata": {},
   "outputs": [],
   "source": []
  },
  {
   "cell_type": "code",
   "execution_count": null,
   "id": "095b7cbf",
   "metadata": {},
   "outputs": [],
   "source": [
    "# introduction to recurion\n",
    "# functions can call other functions\n",
    "\n",
    "def my_fn1(param1):\n",
    "    my_fn2(param1 + 1)\n",
    "    \n",
    "def my_fn2(param1):\n",
    "    print(param1 + 1)\n",
    "    \n",
    "my_fn1(0)"
   ]
  },
  {
   "cell_type": "code",
   "execution_count": null,
   "id": "a00085ee",
   "metadata": {},
   "outputs": [],
   "source": [
    "import time  # ignore this line\n",
    "\n",
    "def my_fn1(fn1_param1):\n",
    "    \n",
    "    while fn1_param1 > 0:\n",
    "        print(f'param1 starts as: {fn1_param1}')\n",
    "        time.sleep(3)  # ignore this line\n",
    "        fn1_param1 = my_fn2(fn1_param1)\n",
    "        print(f'param1 ends as: {fn1_param1}')\n",
    "    \n",
    "    return 'foo'\n",
    "    \n",
    "def my_fn2(fn2_param1):\n",
    "    return fn2_param1 - 1\n",
    "\n",
    "\n",
    "print(my_fn1(3))"
   ]
  },
  {
   "cell_type": "code",
   "execution_count": null,
   "id": "9d6ffdf1",
   "metadata": {},
   "outputs": [],
   "source": [
    "# functions can call other functions, or themselves\n",
    "\n",
    "def my_fn(param1):\n",
    "    print(param1)\n",
    "    return my_fn(param1 - 1)\n",
    "\n",
    "my_fn(4)"
   ]
  },
  {
   "cell_type": "code",
   "execution_count": null,
   "id": "9beb5da1",
   "metadata": {},
   "outputs": [],
   "source": []
  },
  {
   "cell_type": "code",
   "execution_count": null,
   "id": "7718b16f",
   "metadata": {},
   "outputs": [],
   "source": [
    "# base case\n",
    "# getting closer to the base case (e.g. reduction in input)\n",
    "\n"
   ]
  },
  {
   "cell_type": "code",
   "execution_count": null,
   "id": "7a33947e",
   "metadata": {},
   "outputs": [],
   "source": [
    "import time\n",
    "\n",
    "def list_destroyer(my_list):\n",
    "    # base case\n",
    "    if len(my_list) < 1:\n",
    "        return None\n",
    "    \n",
    "    item_being_destroyed = my_list[-1]\n",
    "    \n",
    "    # lests destroy some stuff!\n",
    "    my_list = my_list[:-1]\n",
    "    \n",
    "    print(f'we destroyed {item_being_destroyed}!')\n",
    "    print(f'here is our remaining list: {my_list}')\n",
    "    time.sleep(3)\n",
    "    \n",
    "    return list_destroyer(my_list)\n",
    "\n",
    "list_destroyer([4, 3, 2, 1, 0])"
   ]
  },
  {
   "cell_type": "code",
   "execution_count": null,
   "id": "7b2ab90d",
   "metadata": {},
   "outputs": [],
   "source": [
    "# todo: move\n",
    "\n",
    "# recursion\n",
    "# a function that makes a self reference (or, calls itself)\n",
    "\n",
    "# this will run indefinitely (forever)\n",
    "def my_recursive_fn_1(n):\n",
    "    return my_recursive_fn(n - 1)\n"
   ]
  },
  {
   "cell_type": "code",
   "execution_count": null,
   "id": "c7463b83",
   "metadata": {},
   "outputs": [],
   "source": [
    "# to make it not run forever\n",
    "# we need a \"base case\"\n",
    "\n",
    "def my_recursive_fn_2(n):\n",
    "    # base case\n",
    "    if n < 0:\n",
    "        return 'we have reached the base case'\n",
    "    \n",
    "    print('n is equal to: ', n)  # just lets us know what's going on\n",
    "    \n",
    "    return my_recursive_fn_2(n - 1)  # the recursive call\n",
    "\n",
    "my_recursive_fn_2(3)\n"
   ]
  },
  {
   "cell_type": "code",
   "execution_count": null,
   "id": "77abdf50",
   "metadata": {},
   "outputs": [],
   "source": [
    "# recursive functions must all contain:\n",
    "#     a base case\n",
    "#     a reduction in input (some way of getting closer to the base case)\n",
    "\n",
    "def my_recursive_fn_3(n):\n",
    "    # base case\n",
    "    if n == 0:\n",
    "        return 1\n",
    "    return my_recursive_fn_3(n - 1)  # the recursive call\n",
    "\n",
    "\n",
    "my_recursive_fn_3(4)\n",
    "# fn(fn(fn(fn(fn(0)))))\n"
   ]
  },
  {
   "cell_type": "code",
   "execution_count": null,
   "id": "27d4222c",
   "metadata": {},
   "outputs": [],
   "source": []
  },
  {
   "cell_type": "code",
   "execution_count": null,
   "id": "cada99ac",
   "metadata": {},
   "outputs": [],
   "source": [
    "def rec_fn(n):\n",
    "    if n < 1:\n",
    "        return 1\n",
    "    \n",
    "    return rec_fn(n - 1) + 1\n",
    "\n",
    "print(rec_fn(3))"
   ]
  },
  {
   "cell_type": "code",
   "execution_count": null,
   "id": "3659ca37",
   "metadata": {},
   "outputs": [],
   "source": []
  },
  {
   "cell_type": "code",
   "execution_count": null,
   "id": "0dd6792d",
   "metadata": {},
   "outputs": [],
   "source": []
  }
 ],
 "metadata": {
  "kernelspec": {
   "display_name": "Python 3 (ipykernel)",
   "language": "python",
   "name": "python3"
  },
  "language_info": {
   "codemirror_mode": {
    "name": "ipython",
    "version": 3
   },
   "file_extension": ".py",
   "mimetype": "text/x-python",
   "name": "python",
   "nbconvert_exporter": "python",
   "pygments_lexer": "ipython3",
   "version": "3.10.2"
  }
 },
 "nbformat": 4,
 "nbformat_minor": 5
}
