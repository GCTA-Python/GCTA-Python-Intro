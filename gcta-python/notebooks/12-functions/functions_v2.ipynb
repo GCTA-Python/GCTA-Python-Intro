{
 "cells": [
  {
   "cell_type": "code",
   "execution_count": null,
   "id": "e121555f",
   "metadata": {},
   "outputs": [],
   "source": [
    "# what is a function?\n",
    "\n",
    "# functions allow us to write reusable pieces/chunks of code\n",
    "# functions must be “called” (or “invoked”) to be used\n",
    "# characteristics of functions:\n",
    "#   has a name\n",
    "#   has parameters (0 or more)\n",
    "#   has a body\n",
    "#   has a return"
   ]
  },
  {
   "cell_type": "code",
   "execution_count": null,
   "id": "d7d7f714",
   "metadata": {},
   "outputs": [],
   "source": [
    "# example of a function\n",
    "\n",
    "def function_name(i):\n",
    "    i = i + 1\n",
    "    return i\n",
    "\n",
    "# this function takes an argument i, adds 1, then returns i\n",
    "\n",
    "# usage:\n",
    "function_name(2)  # our function -> 3"
   ]
  },
  {
   "cell_type": "code",
   "execution_count": null,
   "id": "452383ae",
   "metadata": {},
   "outputs": [],
   "source": [
    "# example of a multi-parameter function\n",
    "def function_name(a, b):\n",
    "    c = a + b\n",
    "    d = c + 1    \n",
    "    return d\n",
    "\n",
    "# the parameters are a and b\n",
    "# this function performs computations\n",
    "# and returns d\n",
    "\n",
    "# this function takes 2 arguments\n",
    "function_name(7, 3)  # -> 11"
   ]
  },
  {
   "cell_type": "markdown",
   "id": "8348f84f",
   "metadata": {},
   "source": [
    "![alt text](functions.png#left \"Title\")"
   ]
  },
  {
   "cell_type": "markdown",
   "id": "837e0a5f",
   "metadata": {},
   "source": [
    "![alt text](functions_(in_out).png#left \"Title\")"
   ]
  },
  {
   "cell_type": "code",
   "execution_count": null,
   "id": "dd408295",
   "metadata": {},
   "outputs": [],
   "source": [
    "# every function contains a return (whether specified or not)\n",
    "# if the code does not contain an explicit return, the interpreter will appended one\n",
    "# the default retun is always None\n",
    "\n",
    "# a function must contain at least 1 line of code for the interpreter to append a return\n",
    "\n",
    "# is not a valid function definition\n",
    "def function_a():\n",
    "\n",
    "# is a vald function definition (although not useful)\n",
    "def function_b():\n",
    "    y = 1\n",
    "\n",
    "print(function_a())\n",
    "print(function_b())"
   ]
  },
  {
   "cell_type": "code",
   "execution_count": null,
   "id": "b244b71f",
   "metadata": {},
   "outputs": [],
   "source": [
    "# this function returns x\n",
    "def function_1(x):\n",
    "    x = x + 1\n",
    "    return x\n",
    "\n",
    "print(function_1(5))  # returns 6"
   ]
  },
  {
   "cell_type": "code",
   "execution_count": null,
   "id": "dd39af80",
   "metadata": {},
   "outputs": [],
   "source": [
    "# this function returns the string 'foo'\n",
    "def function_2(x):\n",
    "    x = x + 1\n",
    "    return 'foo'\n",
    "\n",
    "print(function_2(0))  # returns the string 'foo'"
   ]
  },
  {
   "cell_type": "code",
   "execution_count": null,
   "id": "79a3342a",
   "metadata": {},
   "outputs": [],
   "source": [
    "# this function returns None\n",
    "def function_3(x):\n",
    "    x = x + 1\n",
    "    return None\n",
    "\n",
    "print(function_3(5))  # returns None"
   ]
  },
  {
   "cell_type": "code",
   "execution_count": null,
   "id": "65a27244",
   "metadata": {},
   "outputs": [],
   "source": [
    "# this function also returns None\n",
    "def function_4(x):\n",
    "    x = x + 1\n",
    "\n",
    "print(function_4(5))  # returns None"
   ]
  },
  {
   "cell_type": "code",
   "execution_count": null,
   "id": "5fcef285",
   "metadata": {},
   "outputs": [],
   "source": [
    "# the object my_function(5) is a function call\n",
    "\n",
    "# define a function that returns None\n",
    "def fn_1(x):\n",
    "    x = x + 2\n",
    "    return None\n",
    "    \n",
    "our_object = fn_1(7)             # assign the object fn() to our_expression\n",
    "object_type = type(our_object)  # gets the type of our expression\n",
    "print(object_type)"
   ]
  },
  {
   "cell_type": "code",
   "execution_count": null,
   "id": "8f001904",
   "metadata": {},
   "outputs": [],
   "source": []
  },
  {
   "cell_type": "code",
   "execution_count": null,
   "id": "ddcf7576",
   "metadata": {},
   "outputs": [],
   "source": [
    "# a function (sort of) becomes its return\n",
    "\n",
    "def fn():\n",
    "    return [33, 5]\n",
    "\n",
    "[33, 5] == fn()"
   ]
  },
  {
   "cell_type": "code",
   "execution_count": null,
   "id": "9358ed86",
   "metadata": {},
   "outputs": [],
   "source": []
  },
  {
   "cell_type": "code",
   "execution_count": null,
   "id": "7b2ab90d",
   "metadata": {},
   "outputs": [],
   "source": [
    "# todo: move\n",
    "\n",
    "# recursion\n",
    "# a function that makes a self reference (or, calls itself)\n",
    "\n",
    "# this will run indefinitely (forever)\n",
    "def my_recursive_fn_1(n):\n",
    "    return my_recursive_fn(n - 1)\n"
   ]
  },
  {
   "cell_type": "code",
   "execution_count": null,
   "id": "c7463b83",
   "metadata": {},
   "outputs": [],
   "source": [
    "# to make it not run forever\n",
    "# we need a \"base case\"\n",
    "\n",
    "def my_recursive_fn_2(n):\n",
    "    # base case\n",
    "    if n < 0:\n",
    "        return 'we have reached the base case'\n",
    "    \n",
    "    print('n is equal to: ', n)  # just lets us know what's going on\n",
    "    \n",
    "    return my_recursive_fn_2(n - 1)  # the recursive call\n",
    "\n",
    "my_recursive_fn_2(3)\n"
   ]
  },
  {
   "cell_type": "code",
   "execution_count": null,
   "id": "77abdf50",
   "metadata": {},
   "outputs": [],
   "source": [
    "# recursive functions must all contain:\n",
    "#     a base case\n",
    "#     a reduction in input (some way of getting closer to the base case)\n",
    "\n",
    "def my_recursive_fn_3(n):\n",
    "    # base case\n",
    "    if n == 0:\n",
    "        return 1\n",
    "    return my_recursive_fn_3(n - 1)  # the recursive call\n",
    "\n",
    "\n",
    "my_recursive_fn_3(4)\n",
    "# fn(fn(fn(fn(fn(1)))))\n"
   ]
  },
  {
   "cell_type": "code",
   "execution_count": null,
   "id": "0dd6792d",
   "metadata": {},
   "outputs": [],
   "source": []
  }
 ],
 "metadata": {
  "kernelspec": {
   "display_name": "Python 3 (ipykernel)",
   "language": "python",
   "name": "python3"
  },
  "language_info": {
   "codemirror_mode": {
    "name": "ipython",
    "version": 3
   },
   "file_extension": ".py",
   "mimetype": "text/x-python",
   "name": "python",
   "nbconvert_exporter": "python",
   "pygments_lexer": "ipython3",
   "version": "3.10.2"
  }
 },
 "nbformat": 4,
 "nbformat_minor": 5
}
