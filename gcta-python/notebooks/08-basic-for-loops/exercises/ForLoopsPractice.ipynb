{
 "cells": [
  {
   "cell_type": "code",
   "execution_count": null,
   "id": "a95cc029",
   "metadata": {},
   "outputs": [],
   "source": [
    "# These are practice problems for, for loops.\n",
    "# Please work out all problems in the provided space below the problem. \n",
    "# You can use Jupyter notebook to check your answers.\n",
    "\n",
    "\"\"\" example of a multi-line comment \"\"\""
   ]
  },
  {
   "cell_type": "code",
   "execution_count": null,
   "id": "f8554bcd",
   "metadata": {},
   "outputs": [],
   "source": [
    "\"\"\"\n",
    "Below is a template that should be followed for solving for loops.\n",
    "\n",
    "* Replace the variable names and modify the number of iterations as needed.\n",
    "* Write out the entire template for each iteration and all variable names before filling in any values.\n",
    "\"\"\"\n",
    "\n",
    "\"\"\"\n",
    "Q: How many iterations will there be?\n",
    "\n",
    "Q: What are the objects assigned variable names?\n",
    "\n",
    "Q: What variables (or objects) are changing within the loop?\n",
    "\n",
    "Q: What variables (or objects) are not changing within the loop?\n",
    "\n",
    "Q: In natural langauge, what does this code do?\n",
    "\n",
    "ITERATION 1:\n",
    "    Variables:\n",
    "        foo: fill_me_in\n",
    "        bar: fill_me_in\n",
    "        baz: fill_me_in\n",
    "    Operations During Loop:\n",
    "        Write out any operations executed within the loop.\n",
    "\n",
    "ITERATION 2:\n",
    "    Variables:\n",
    "        foo: fill_me_in\n",
    "        bar: fill_me_in\n",
    "        baz: fill_me_in\n",
    "    Operations During Loop:\n",
    "        Write out any operations executed within the loop.\n",
    "\n",
    "ITERATION N:\n",
    "    Variables:\n",
    "        foo: fill_me_in\n",
    "        bar: fill_me_in\n",
    "        baz: fill_me_in\n",
    "    Operations During Loop:\n",
    "        Write out any operations executed within the loop.\n",
    "\n",
    "Operations After Loop Finishes:\n",
    "    Write out any operations executed after the loop finishes.\n",
    "\n",
    "\"\"\""
   ]
  },
  {
   "cell_type": "code",
   "execution_count": null,
   "id": "a4382c64",
   "metadata": {},
   "outputs": [],
   "source": [
    "# example problem\n",
    "my_list = [1,2,3]\n",
    "\n",
    "my_new_list = []\n",
    "\n",
    "for num in my_list:\n",
    "    \n",
    "    num_sqd = num**2\n",
    "    \n",
    "    my_new_list.append(num_sqd)\n",
    "    \n",
    "print(my_new_list)"
   ]
  },
  {
   "cell_type": "code",
   "execution_count": null,
   "id": "717d5e76",
   "metadata": {},
   "outputs": [],
   "source": [
    "# example answer\n",
    "\"\"\"\n",
    "Q: How many iterations will there be?\n",
    "    3\n",
    "\n",
    "Q: What are the objects assigned variable names?\n",
    "    my_list\n",
    "    my_new_list\n",
    "    num\n",
    "    num_sqd\n",
    "\n",
    "Q: What variables (or objects) are changing within the loop?\n",
    "    my_new_list\n",
    "    num\n",
    "    num_sqd\n",
    "\n",
    "Q: What variables (or objects) are not changing within the loop?\n",
    "    my_list\n",
    "\n",
    "Q: In natural langauge, what does this code do?\n",
    "    This code creates a new collection of objects (a list), \n",
    "    with the cooresponding values of the initial collection, \n",
    "    except each value is squared.\n",
    "\n",
    "ITERATION 1:\n",
    "    Variables:\n",
    "        my_list: [1,2,3]\n",
    "        num: 1\n",
    "        num_sqd: 1\n",
    "        my_new_list: starts as an empty list, becomes, [1]\n",
    "    Operations During Loop:\n",
    "        my_new_list is appending num_sqd\n",
    "\n",
    "ITERATION 2:\n",
    "    Variables:\n",
    "        my_list: [1,2,3]\n",
    "        num: 2\n",
    "        num_sqd: 4\n",
    "        my_new_list: [1] -> [1, 4]\n",
    "    Operations During Loop:\n",
    "        my_new_list is appending num_sqd\n",
    "\n",
    "ITERATION 3:\n",
    "    Variables:\n",
    "        my_list: [1,2,3]\n",
    "        num: 3\n",
    "        num_sqd: 9\n",
    "        my_new_list: [1, 4] -> [1, 4, 9]\n",
    "    Operations During Loop:\n",
    "        my_new_list is appending num_sqd\n",
    "\n",
    "Operations After Loop Finishes:\n",
    "    The newly crated list is finally printed.\n",
    "\"\"\""
   ]
  },
  {
   "cell_type": "code",
   "execution_count": null,
   "id": "b2d3f4f2-8575-4e6e-8753-68eb5e787a30",
   "metadata": {},
   "outputs": [],
   "source": [
    "# problem 1\n",
    "\n",
    "my_list = [2,3,4,5]\n",
    "\n",
    "my_new_list = []\n",
    "\n",
    "for num in my_list:\n",
    "    \n",
    "    num_floor_div = num//2\n",
    "    \n",
    "    my_new_list.append(num_floor_div)\n",
    "    \n",
    "print(my_new_list)"
   ]
  },
  {
   "cell_type": "code",
   "execution_count": null,
   "id": "7e689846-8d40-4e40-b738-912f2da6f4ad",
   "metadata": {},
   "outputs": [],
   "source": [
    "# answer 1\n",
    "\n",
    "\"\"\"\n",
    "Type Answer Here\n",
    "\"\"\""
   ]
  },
  {
   "cell_type": "code",
   "execution_count": null,
   "id": "dee693fb",
   "metadata": {},
   "outputs": [],
   "source": [
    "# problem 2\n",
    "\n",
    "my_list = ['hank', 'sally', 'phil']\n",
    "\n",
    "my_new_list = []\n",
    "\n",
    "for name in my_list:\n",
    "    \n",
    "    my_letter = name[0]\n",
    "    \n",
    "    my_new_list.append(my_letter)\n",
    "    \n",
    "print(my_new_list)"
   ]
  },
  {
   "cell_type": "code",
   "execution_count": null,
   "id": "67b5bb66",
   "metadata": {},
   "outputs": [],
   "source": [
    "# answer 2\n",
    "\n",
    "\"\"\"\n",
    "Type Answer Here\n",
    "\"\"\""
   ]
  },
  {
   "cell_type": "code",
   "execution_count": null,
   "id": "decc3535",
   "metadata": {},
   "outputs": [],
   "source": [
    "# problem 3\n",
    "\n",
    "my_list = ['hank', 'sally', 'phil']\n",
    "\n",
    "my_new_list = []\n",
    "\n",
    "i = 0\n",
    "\n",
    "for name in my_list:\n",
    "    \n",
    "    my_letter = name[i]\n",
    "    \n",
    "    my_new_list.append(my_letter)\n",
    "    \n",
    "    i += 1\n",
    "    # i = i + 1\n",
    "    \n",
    "print(my_new_list)"
   ]
  },
  {
   "cell_type": "code",
   "execution_count": null,
   "id": "351d6555",
   "metadata": {},
   "outputs": [],
   "source": [
    "# answer 3\n",
    "\n",
    "\"\"\"\n",
    "Type Answer Here\n",
    "\"\"\""
   ]
  },
  {
   "cell_type": "code",
   "execution_count": null,
   "id": "21f19b43",
   "metadata": {},
   "outputs": [],
   "source": [
    "# problem 4\n",
    "\n",
    "my_list = [5,10,15]\n",
    "\n",
    "for val in my_list:\n",
    "    \n",
    "    print(val)"
   ]
  },
  {
   "cell_type": "code",
   "execution_count": null,
   "id": "2afaa3a5",
   "metadata": {},
   "outputs": [],
   "source": [
    "# answer 4\n",
    "\n",
    "\"\"\"\n",
    "Type Answer Here\n",
    "\"\"\""
   ]
  },
  {
   "cell_type": "code",
   "execution_count": null,
   "id": "86e9f2fa",
   "metadata": {},
   "outputs": [],
   "source": [
    "# problem 5\n",
    "\n",
    "my_list = [5,10,15]\n",
    "\n",
    "for val in my_list:\n",
    "    \n",
    "    print(val*2)"
   ]
  },
  {
   "cell_type": "code",
   "execution_count": null,
   "id": "f32b8a8b",
   "metadata": {},
   "outputs": [],
   "source": [
    "# problem 5\n",
    "\n",
    "\"\"\"\n",
    "Type Answer Here\n",
    "\"\"\""
   ]
  },
  {
   "cell_type": "code",
   "execution_count": null,
   "id": "8a2dba42",
   "metadata": {},
   "outputs": [],
   "source": [
    "# problem 6\n",
    "\n",
    "my_list = [5,10,15]\n",
    "my_other_list = ['a', 'b', 'c']\n",
    "\n",
    "my_dictionary = {}\n",
    "\n",
    "iter_count = len(my_list)\n",
    "\n",
    "for i in range(iter_count):\n",
    "    \n",
    "    my_dictionary[my_other_list[i]] = my_list[i]\n",
    "    \n",
    "print(my_dictionary)"
   ]
  },
  {
   "cell_type": "code",
   "execution_count": null,
   "id": "d3fc9623",
   "metadata": {},
   "outputs": [],
   "source": [
    "# answer 6\n",
    "\n",
    "\"\"\"\n",
    "Type Answer Here\n",
    "\"\"\""
   ]
  }
 ],
 "metadata": {
  "kernelspec": {
   "display_name": "Python 3 (ipykernel)",
   "language": "python",
   "name": "python3"
  },
  "language_info": {
   "codemirror_mode": {
    "name": "ipython",
    "version": 3
   },
   "file_extension": ".py",
   "mimetype": "text/x-python",
   "name": "python",
   "nbconvert_exporter": "python",
   "pygments_lexer": "ipython3",
   "version": "3.11.5"
  }
 },
 "nbformat": 4,
 "nbformat_minor": 5
}
