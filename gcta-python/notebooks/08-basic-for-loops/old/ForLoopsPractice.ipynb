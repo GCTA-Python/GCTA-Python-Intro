{
 "cells": [
  {
   "cell_type": "code",
   "execution_count": null,
   "id": "a95cc029",
   "metadata": {},
   "outputs": [],
   "source": [
    "# These are practice problems for, for loops.\n",
    "# Please work out all problems in the provided space below the problem. \n",
    "# You can use Jupyter notebook to check your answers.\n",
    "\n",
    "\"\"\" example of a multi-line comment \"\"\""
   ]
  },
  {
   "cell_type": "code",
   "execution_count": null,
   "id": "f8554bcd",
   "metadata": {},
   "outputs": [],
   "source": [
    "\"\"\"\n",
    "Below is a template that should be followed for solving for loops.\n",
    "\n",
    "* Replace the variable names and modify the number of iterations as needed.\n",
    "\n",
    "* Write out the entire template for each iteration and all variable name before filling in any values.\n",
    "\"\"\"\n",
    "\n",
    "\"\"\"\n",
    "Q: How many iterations will there be?\n",
    "\n",
    "Q: What variables do I need to track as I iterate?\n",
    "\n",
    "Q: What variables are changing within the loop?\n",
    "\n",
    "ITERATION 1:\n",
    "    Variables:\n",
    "        \n",
    "        foo: fill_me_in\n",
    "        \n",
    "        bar: fill_me_in\n",
    "        \n",
    "        baz: fill_me_in\n",
    "        \n",
    "        ...\n",
    "        \n",
    "ITERATION 2:\n",
    "    Variables:\n",
    "        \n",
    "        foo: fill_me_in\n",
    "        \n",
    "        bar: fill_me_in\n",
    "        \n",
    "        baz: fill_me_in\n",
    "        \n",
    "        ...\n",
    "        \n",
    "ITERATION 3:\n",
    "    Variables:\n",
    "        \n",
    "        foo: fill_me_in\n",
    "        \n",
    "        bar: fill_me_in\n",
    "        \n",
    "        baz: fill_me_in\n",
    "        \n",
    "        ...\n",
    "        \n",
    "ITERATION 4:\n",
    "    ...\n",
    "    \n",
    "ITERATION N:...\n",
    "\n",
    "...\n",
    "...\n",
    "\n",
    "---------------------------\n",
    "\n",
    "* Write out any logic executed after the loop.\n",
    "\n",
    "\"\"\""
   ]
  },
  {
   "cell_type": "code",
   "execution_count": null,
   "id": "a4382c64",
   "metadata": {},
   "outputs": [],
   "source": [
    "my_list = [1,2,3]\n",
    "\n",
    "my_new_list = []\n",
    "\n",
    "for num in my_list:\n",
    "    \n",
    "    num_sqd = num**2\n",
    "    \n",
    "    my_new_list.append(num_sqd)\n",
    "    \n",
    "print(my_new_list)"
   ]
  },
  {
   "cell_type": "code",
   "execution_count": null,
   "id": "717d5e76",
   "metadata": {},
   "outputs": [],
   "source": [
    "\"\"\"\n",
    "Type Answer Here\n",
    "\"\"\""
   ]
  },
  {
   "cell_type": "code",
   "execution_count": null,
   "id": "dee693fb",
   "metadata": {},
   "outputs": [],
   "source": [
    "my_list = ['hank', 'sally', 'phil']\n",
    "\n",
    "my_new_list = []\n",
    "\n",
    "for name in my_list:\n",
    "    \n",
    "    my_letter = name[0]\n",
    "    \n",
    "    my_new_list.append(my_letter)\n",
    "    \n",
    "print(my_new_list)"
   ]
  },
  {
   "cell_type": "code",
   "execution_count": null,
   "id": "67b5bb66",
   "metadata": {},
   "outputs": [],
   "source": [
    "\"\"\"\n",
    "Type Answer Here\n",
    "\"\"\""
   ]
  },
  {
   "cell_type": "code",
   "execution_count": null,
   "id": "decc3535",
   "metadata": {},
   "outputs": [],
   "source": [
    "my_list = ['hank', 'sally', 'phil']\n",
    "my_new_list = []\n",
    "i = 0\n",
    "\n",
    "for name in my_list:\n",
    "    my_letter = 'hank'[0]\n",
    "    my_new_list.append(my_letter)\n",
    "    i += 1\n",
    "print(my_new_list)"
   ]
  },
  {
   "cell_type": "code",
   "execution_count": null,
   "id": "351d6555",
   "metadata": {},
   "outputs": [],
   "source": [
    "\"\"\"\n",
    "Q: How many iterations will there be?\n",
    "    3\n",
    "Q: What variables do I need to track as I iterate?\n",
    "    i, name, my_letter, my_new_list, my_list\n",
    "Q: What variables are changing within the loop?\n",
    "    i, name, my_letter, my_new_list\n",
    "\n",
    "ITERATION 1:\n",
    "    Variables:\n",
    "        i: starts 0, goes to 1\n",
    "        name: 'hank'\n",
    "        my_letter: 'hank'[0] becomes 'h'\n",
    "        my_new_list: starts as [], becomes ['h']\n",
    "\n",
    "    \n",
    "        \n",
    "\"\"\""
   ]
  },
  {
   "cell_type": "code",
   "execution_count": null,
   "id": "21f19b43",
   "metadata": {},
   "outputs": [],
   "source": [
    "my_list = [5,10,15]\n",
    "\n",
    "for val in my_list:\n",
    "    \n",
    "    print(val)"
   ]
  },
  {
   "cell_type": "code",
   "execution_count": null,
   "id": "2afaa3a5",
   "metadata": {},
   "outputs": [],
   "source": [
    "\"\"\"\n",
    "Type Answer Here\n",
    "\n",
    "\n",
    "\"\"\""
   ]
  },
  {
   "cell_type": "code",
   "execution_count": null,
   "id": "86e9f2fa",
   "metadata": {},
   "outputs": [],
   "source": [
    "my_list = [5, 10, 15]\n",
    "\n",
    "for val in my_list:\n",
    "    print(val*2)\n",
    "\n",
    "\n",
    "# a list of 3 objects, 5, 10, 15, is multipled by 2 and printed"
   ]
  },
  {
   "cell_type": "code",
   "execution_count": null,
   "id": "f32b8a8b",
   "metadata": {},
   "outputs": [],
   "source": [
    "\"\"\"\n",
    "Type Answer Here\n",
    "\n",
    "\n",
    "\"\"\""
   ]
  },
  {
   "cell_type": "code",
   "execution_count": 11,
   "id": "2b86c035-7e1c-4a02-ad47-a5dbb094e3a6",
   "metadata": {},
   "outputs": [
    {
     "name": "stdout",
     "output_type": "stream",
     "text": [
      "{'a': 1, 'b': 2, 'c': 3}\n",
      "{'a': 1, 'b': 99, 'c': 3}\n",
      "{'a': 1, 'b': 99, 'c': 3, 'd': 77}\n"
     ]
    }
   ],
   "source": [
    "# {key: value}\n",
    "{'a': 1, 'b': 2, 'c', 3}\n",
    "\n",
    "# {key: value}\n",
    "foo = { 'a': 1   ,  'b': 2   ,  'c': 3   }\n",
    "# print('keys:', foo.keys())\n",
    "# print('values:', foo.values())\n",
    "\n",
    "\n",
    "print(foo)\n",
    "foo['b'] = 99\n",
    "print(foo)\n",
    "\n",
    "foo['d'] = 77\n",
    "print(foo)"
   ]
  },
  {
   "cell_type": "code",
   "execution_count": null,
   "id": "8a2dba42",
   "metadata": {},
   "outputs": [],
   "source": [
    "my_list =       [5,     10,      15]\n",
    "\n",
    "my_other_list = ['a',   'b',    'c']\n",
    "\n",
    "my_dictionary = {}\n",
    "\n",
    "iter_count = len(my_list)  # 3\n",
    "\n",
    "for i in range(iter_count):  # [0, 1, 2]\n",
    "    key = my_other_list[i]\n",
    "    value = my_list[i]\n",
    "    my_dictionary[key] = value\n",
    "    \n",
    "print(my_dictionary)"
   ]
  },
  {
   "cell_type": "code",
   "execution_count": null,
   "id": "d3fc9623",
   "metadata": {},
   "outputs": [],
   "source": [
    "\"\"\"\n",
    "Q: How many iterations will there be?\n",
    "    3\n",
    "Q: What variables do I need to track as I iterate?\n",
    "    i, my_dictionary, my_other_list, my_list\n",
    "Q: What variables are changing within the loop?\n",
    "    i, my_dictionary\n",
    "\n",
    "\n",
    "ITERATION 1:\n",
    "    Variables:\n",
    "        i = 0\n",
    "        key = 'a'\n",
    "        value = 5\n",
    "        my_dictionary = {'a': 5}\n",
    "ITERATION 2:\n",
    "    Variables:\n",
    "        i = 1\n",
    "        key = 'b'\n",
    "        value = 10\n",
    "        my_dictionary = {'a': 5, 'b': 10}\n",
    "\n",
    "\n",
    "\"\"\""
   ]
  }
 ],
 "metadata": {
  "kernelspec": {
   "display_name": "Python 3 (ipykernel)",
   "language": "python",
   "name": "python3"
  },
  "language_info": {
   "codemirror_mode": {
    "name": "ipython",
    "version": 3
   },
   "file_extension": ".py",
   "mimetype": "text/x-python",
   "name": "python",
   "nbconvert_exporter": "python",
   "pygments_lexer": "ipython3",
   "version": "3.10.2"
  }
 },
 "nbformat": 4,
 "nbformat_minor": 5
}
