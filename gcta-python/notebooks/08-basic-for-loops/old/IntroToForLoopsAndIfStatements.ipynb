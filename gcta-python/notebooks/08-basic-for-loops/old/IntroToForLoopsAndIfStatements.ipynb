{
 "cells": [
  {
   "cell_type": "markdown",
   "id": "369d18ae",
   "metadata": {},
   "source": [
    "# For Loops\n",
    "\n",
    "A for loop is used for iterating over a sequence (that is either a list, a tuple, a dictionary, a set, or a string).\n",
    "\n",
    "With the for loop we can execute a set of statements, once for each item in a list, tuple, set etc.\n",
    "\n",
    "A for loop will always follow this format:\n",
    "\n",
    "`for item in iterable:\n",
    "    do_something()`\n"
   ]
  },
  {
   "cell_type": "code",
   "execution_count": null,
   "id": "7aafa771",
   "metadata": {},
   "outputs": [],
   "source": [
    "# Here is an example of a simple for loop\n",
    "\n",
    "my_list = ['dog', 'cat', 'bird']\n",
    "\n",
    "for i in my_list:\n",
    "    print(i)"
   ]
  },
  {
   "cell_type": "code",
   "execution_count": null,
   "id": "7f723f86",
   "metadata": {},
   "outputs": [],
   "source": [
    "# create a list with values 2,4,6,8 and loop over it printing each item multiplied by 2\n"
   ]
  },
  {
   "cell_type": "code",
   "execution_count": null,
   "id": "a2778169",
   "metadata": {},
   "outputs": [],
   "source": [
    "# Strings are also iterable objects just like lists. \n",
    "# Create a string \"this is a string\" and loop over it, printing every character\n"
   ]
  },
  {
   "cell_type": "code",
   "execution_count": null,
   "id": "2cf82a7a",
   "metadata": {},
   "outputs": [],
   "source": []
  },
  {
   "cell_type": "code",
   "execution_count": null,
   "id": "3f432f7b",
   "metadata": {},
   "outputs": [],
   "source": []
  },
  {
   "cell_type": "code",
   "execution_count": null,
   "id": "2140a9ac",
   "metadata": {},
   "outputs": [],
   "source": [
    "# while loops\n",
    "# while condition:\n",
    "#    # code here\n",
    "\n",
    "# for loops\n",
    "# for iter_var in iterator:\n",
    "#    # code here\n",
    "\n",
    "# break\n",
    "# continue\n",
    "\n",
    "# dangling else statement:\n",
    "# if a for loop completes (i.e. is NOT BROKEN with a break), execute the dangling else block\n",
    "\n",
    "# range()\n",
    "# range(start:stop:step)\n",
    "# recall: start is inclusive; while stop is exclusive (\"up to but not including\")\n",
    "# range creates an iterable object\n",
    "# when we only specify 1 number (argument), that is used as the stop\n",
    "#  eg range(3) <-> range(0, 3, 1); range(10) <-> range(0, 10, 1)\n",
    "\n",
    "# len()\n",
    "# length (size) of iterable object\n",
    "\n",
    "# if statements\n",
    "    # executes when if condition is True\n",
    "# elif (else-if) statements\n",
    "    # ONLY executes if the prior statements have NOT executed, AND when this if condition is True\n",
    "# else statements\n",
    "    # the else block executes when no prior statements have executed"
   ]
  },
  {
   "cell_type": "code",
   "execution_count": null,
   "id": "7b714a54",
   "metadata": {},
   "outputs": [],
   "source": []
  },
  {
   "cell_type": "code",
   "execution_count": 14,
   "id": "f6d27b36",
   "metadata": {},
   "outputs": [
    {
     "name": "stdout",
     "output_type": "stream",
     "text": [
      "before loop\n",
      "after loop\n"
     ]
    }
   ],
   "source": [
    "print(\"before loop\")\n",
    "\n",
    "for i in range(3, -1, 1):\n",
    "    print(i)\n",
    "\n",
    "print(\"after loop\")"
   ]
  },
  {
   "cell_type": "code",
   "execution_count": null,
   "id": "51cdd282",
   "metadata": {},
   "outputs": [],
   "source": []
  },
  {
   "cell_type": "code",
   "execution_count": 23,
   "id": "fd85a247",
   "metadata": {},
   "outputs": [
    {
     "data": {
      "text/plain": [
       "78"
      ]
     },
     "execution_count": 23,
     "metadata": {},
     "output_type": "execute_result"
    }
   ],
   "source": [
    "len('foo sefions ms3fns3ionfsm snfiosm3f nsio3fms3of nsio3fjs o3 fmsio3fnsoi3nfs3io')"
   ]
  },
  {
   "cell_type": "code",
   "execution_count": null,
   "id": "37162885",
   "metadata": {},
   "outputs": [],
   "source": []
  },
  {
   "cell_type": "code",
   "execution_count": null,
   "id": "6c5ace7c",
   "metadata": {},
   "outputs": [],
   "source": []
  },
  {
   "cell_type": "code",
   "execution_count": 21,
   "id": "2d500ea0",
   "metadata": {},
   "outputs": [
    {
     "name": "stdout",
     "output_type": "stream",
     "text": [
      "4\n",
      "2\n",
      "6\n",
      "12\n",
      "7\n",
      "8\n",
      "34\n",
      "4.2\n"
     ]
    }
   ],
   "source": [
    "collection_of_objects = [4, 2, 6, 12, 7, 8, 34, 4.2]\n",
    "\n",
    "length_of_collection = len(collection_of_objects)\n",
    "\n",
    "my_list = [4, 65, 2, 6]\n",
    "\n",
    "for i in range(len(my_list)):  # [0, 1, 2, 3, 4, 5, 6, 7, 8]\n",
    "    print(collection_of_objects[i])\n",
    "\n"
   ]
  },
  {
   "cell_type": "code",
   "execution_count": null,
   "id": "99a5c52b",
   "metadata": {},
   "outputs": [],
   "source": []
  },
  {
   "cell_type": "markdown",
   "id": "b50c6fa1",
   "metadata": {},
   "source": [
    "# If statements\n",
    "\n",
    "An \"if statement\" is written by using the if keyword.\n"
   ]
  },
  {
   "cell_type": "code",
   "execution_count": 25,
   "id": "a867302b",
   "metadata": {},
   "outputs": [
    {
     "name": "stdout",
     "output_type": "stream",
     "text": [
      "foo\n"
     ]
    }
   ],
   "source": [
    "# here is an example of an If statement\n",
    "\n",
    "a = 33\n",
    "b = 200\n",
    "if b < a:\n",
    "    print(\"b is greater than a\")\n",
    "    print(\"b is greater than a\")\n",
    "    print(\"b is greater than a\")\n",
    "    \n",
    "    print(\"foo\")\n",
    "    \n",
    "    "
   ]
  },
  {
   "cell_type": "code",
   "execution_count": null,
   "id": "b42457fc",
   "metadata": {},
   "outputs": [],
   "source": []
  },
  {
   "cell_type": "code",
   "execution_count": 33,
   "id": "05a8521e",
   "metadata": {},
   "outputs": [
    {
     "name": "stdout",
     "output_type": "stream",
     "text": [
      "drive forward\n"
     ]
    }
   ],
   "source": [
    "# car driving example\n",
    "\n",
    "green_light = True\n",
    "yellow_light = False\n",
    "red_light = False\n",
    "\n",
    "if green_light:  # if\n",
    "    print('drive forward')  # then\n",
    "elif green_light:\n",
    "    print('exercise caution')\n",
    "else:  # must be red_light = True\n",
    "    print('do NOT drive forward')  # otherwise\n"
   ]
  },
  {
   "cell_type": "code",
   "execution_count": null,
   "id": "112b2f18",
   "metadata": {},
   "outputs": [],
   "source": []
  },
  {
   "cell_type": "code",
   "execution_count": 38,
   "id": "7d2b01eb",
   "metadata": {},
   "outputs": [
    {
     "name": "stdout",
     "output_type": "stream",
     "text": [
      "b\n"
     ]
    }
   ],
   "source": [
    "x = 3\n",
    "if x < 2:\n",
    "    print('a')\n",
    "\n"
   ]
  },
  {
   "cell_type": "code",
   "execution_count": null,
   "id": "9d72d669",
   "metadata": {},
   "outputs": [],
   "source": []
  },
  {
   "cell_type": "markdown",
   "id": "cca09667",
   "metadata": {},
   "source": [
    "If statements support three key words:\n",
    "\n",
    "* if\n",
    "* elif\n",
    "* else"
   ]
  },
  {
   "cell_type": "code",
   "execution_count": 39,
   "id": "19766cff",
   "metadata": {},
   "outputs": [
    {
     "name": "stdout",
     "output_type": "stream",
     "text": [
      "a is greater than b\n"
     ]
    }
   ],
   "source": [
    "# here is an example of an If statement which contains elif and else\n",
    "\n",
    "a = 200\n",
    "b = 33\n",
    "if b > a:  # False\n",
    "  print(\"b is greater than a\")\n",
    "elif a == b:  # False\n",
    "  print(\"a and b are equal\")\n",
    "else:  # any other case\n",
    "  print(\"a is greater than b\")"
   ]
  },
  {
   "cell_type": "code",
   "execution_count": 40,
   "id": "ca1aef96",
   "metadata": {},
   "outputs": [
    {
     "name": "stdout",
     "output_type": "stream",
     "text": [
      "Above ten,\n",
      "and also above 20!\n"
     ]
    }
   ],
   "source": [
    "# If statements can be nested inside one another\n",
    "\n",
    "x = 41\n",
    "\n",
    "if x > 10:\n",
    "    print(\"Above ten,\")\n",
    "    \n",
    "    if x > 20:\n",
    "        print(\"and also above 20!\")\n",
    "    else:\n",
    "        print(\"but not above 20.\")"
   ]
  },
  {
   "cell_type": "code",
   "execution_count": 44,
   "id": "cd312f25",
   "metadata": {},
   "outputs": [],
   "source": [
    "# Create a string and write an If statement which prints how long it is if it is greater than 10 characters\n",
    "\n",
    "# when encountering complexity: break the problem apart into more managable pieces\n",
    "\n",
    "\n",
    "# write an If statement \n",
    "# this if statment does something if our sting is > 10\n",
    "# prints how long it is\n",
    "\n",
    "some_string = \"012345678912\"\n",
    "\n",
    "if len(some_string) > 10:\n",
    "    our_str_len = len(some_string)\n",
    "    print(our_str_len)"
   ]
  },
  {
   "cell_type": "code",
   "execution_count": 53,
   "id": "b72d5d1f",
   "metadata": {},
   "outputs": [
    {
     "name": "stdout",
     "output_type": "stream",
     "text": [
      "4\n",
      "10\n",
      "14\n"
     ]
    }
   ],
   "source": [
    "# Create a list with values 1,4,5,7,10,11,14 iterate over them using a for loop and print the number if it is even\n",
    "\n",
    "# create a list with values 1,4,5,7,10,11,14 \n",
    "# iterate over the list using a for loop\n",
    "# print each number, if that number is even\n",
    "\n",
    "our_list = [1, 4, 5, 7, 10, 11, 14]\n",
    "\n",
    "for each_item in our_list:\n",
    "    if each_item % 2 == 0:  # is even\n",
    "        print(each_item)\n",
    "\n"
   ]
  },
  {
   "cell_type": "code",
   "execution_count": null,
   "id": "61c762d9",
   "metadata": {},
   "outputs": [],
   "source": []
  },
  {
   "cell_type": "code",
   "execution_count": 52,
   "id": "60a0d97b",
   "metadata": {},
   "outputs": [
    {
     "name": "stdout",
     "output_type": "stream",
     "text": [
      "0\n",
      "2\n",
      "4\n",
      "6\n",
      "8\n",
      "10\n"
     ]
    }
   ],
   "source": [
    "for i in range(11):\n",
    "    if i % 2 == 0:\n",
    "        print(i)"
   ]
  },
  {
   "cell_type": "code",
   "execution_count": null,
   "id": "c367b134",
   "metadata": {},
   "outputs": [],
   "source": []
  },
  {
   "cell_type": "markdown",
   "id": "14e35275",
   "metadata": {},
   "source": [
    "The \"break\" keyword can be used to terminate a loop early"
   ]
  },
  {
   "cell_type": "code",
   "execution_count": 57,
   "id": "fd3f24fa",
   "metadata": {},
   "outputs": [
    {
     "name": "stdout",
     "output_type": "stream",
     "text": [
      "4\n",
      "12\n",
      "10\n",
      "14\n"
     ]
    }
   ],
   "source": [
    "# Create a list with values 4,12,5,7,10,11,14 iterate over them using a for loop and if you hit an odd number\n",
    "# break the for loop, else print the value\n",
    "\n",
    "my_list = [4,12,10,14]\n",
    "\n",
    "for i in my_list:\n",
    "    if i % 2 == 1:\n",
    "        break\n",
    "    else:\n",
    "        print(i)\n"
   ]
  },
  {
   "cell_type": "markdown",
   "id": "dff2a870",
   "metadata": {},
   "source": [
    "The \"continue\" keyword can be used to end the current iteration and move onto the next"
   ]
  },
  {
   "cell_type": "code",
   "execution_count": 64,
   "id": "8d9db047",
   "metadata": {},
   "outputs": [
    {
     "name": "stdout",
     "output_type": "stream",
     "text": [
      "foo\n",
      "dog\n",
      "foo\n",
      "foo\n"
     ]
    }
   ],
   "source": [
    "# Create a list with values \"cat\", \"dog\", \"bird\" iterate over them using a for loop and\n",
    "# if you encounter \"dog\", print it \n",
    "# else use the continue keyword to proceed with the loop\n",
    "\n",
    "my_list_of_animals = [\"cat\", \"dog\", \"bird\"]\n",
    "\n",
    "for each_animal in my_list_of_animals:\n",
    "    if each_animal == \"dog\":\n",
    "        print(each_animal)\n",
    "\n",
    "\n",
    "    print('foo')\n",
    "    continue\n",
    "    "
   ]
  },
  {
   "cell_type": "markdown",
   "id": "bd8fbe54",
   "metadata": {},
   "source": [
    "The range() function can be used to generate a range of integers"
   ]
  },
  {
   "cell_type": "code",
   "execution_count": null,
   "id": "84e15927",
   "metadata": {},
   "outputs": [],
   "source": [
    "# Here is an example of using the range() function\n",
    "\n",
    "for i in range(10):\n",
    "    print(i)"
   ]
  },
  {
   "cell_type": "code",
   "execution_count": 65,
   "id": "dd40e48a",
   "metadata": {
    "scrolled": true
   },
   "outputs": [
    {
     "name": "stdout",
     "output_type": "stream",
     "text": [
      "Help on class range in module builtins:\n",
      "\n",
      "class range(object)\n",
      " |  range(stop) -> range object\n",
      " |  range(start, stop[, step]) -> range object\n",
      " |  \n",
      " |  Return an object that produces a sequence of integers from start (inclusive)\n",
      " |  to stop (exclusive) by step.  range(i, j) produces i, i+1, i+2, ..., j-1.\n",
      " |  start defaults to 0, and stop is omitted!  range(4) produces 0, 1, 2, 3.\n",
      " |  These are exactly the valid indices for a list of 4 elements.\n",
      " |  When step is given, it specifies the increment (or decrement).\n",
      " |  \n",
      " |  Methods defined here:\n",
      " |  \n",
      " |  __bool__(self, /)\n",
      " |      self != 0\n",
      " |  \n",
      " |  __contains__(self, key, /)\n",
      " |      Return key in self.\n",
      " |  \n",
      " |  __eq__(self, value, /)\n",
      " |      Return self==value.\n",
      " |  \n",
      " |  __ge__(self, value, /)\n",
      " |      Return self>=value.\n",
      " |  \n",
      " |  __getattribute__(self, name, /)\n",
      " |      Return getattr(self, name).\n",
      " |  \n",
      " |  __getitem__(self, key, /)\n",
      " |      Return self[key].\n",
      " |  \n",
      " |  __gt__(self, value, /)\n",
      " |      Return self>value.\n",
      " |  \n",
      " |  __hash__(self, /)\n",
      " |      Return hash(self).\n",
      " |  \n",
      " |  __iter__(self, /)\n",
      " |      Implement iter(self).\n",
      " |  \n",
      " |  __le__(self, value, /)\n",
      " |      Return self<=value.\n",
      " |  \n",
      " |  __len__(self, /)\n",
      " |      Return len(self).\n",
      " |  \n",
      " |  __lt__(self, value, /)\n",
      " |      Return self<value.\n",
      " |  \n",
      " |  __ne__(self, value, /)\n",
      " |      Return self!=value.\n",
      " |  \n",
      " |  __reduce__(...)\n",
      " |      Helper for pickle.\n",
      " |  \n",
      " |  __repr__(self, /)\n",
      " |      Return repr(self).\n",
      " |  \n",
      " |  __reversed__(...)\n",
      " |      Return a reverse iterator.\n",
      " |  \n",
      " |  count(...)\n",
      " |      rangeobject.count(value) -> integer -- return number of occurrences of value\n",
      " |  \n",
      " |  index(...)\n",
      " |      rangeobject.index(value) -> integer -- return index of value.\n",
      " |      Raise ValueError if the value is not present.\n",
      " |  \n",
      " |  ----------------------------------------------------------------------\n",
      " |  Static methods defined here:\n",
      " |  \n",
      " |  __new__(*args, **kwargs) from builtins.type\n",
      " |      Create and return a new object.  See help(type) for accurate signature.\n",
      " |  \n",
      " |  ----------------------------------------------------------------------\n",
      " |  Data descriptors defined here:\n",
      " |  \n",
      " |  start\n",
      " |  \n",
      " |  step\n",
      " |  \n",
      " |  stop\n",
      "\n"
     ]
    }
   ],
   "source": [
    "# Use the help() function to see the parameters taken in by the range function\n",
    "\n",
    "help(range)"
   ]
  },
  {
   "cell_type": "code",
   "execution_count": 66,
   "id": "a9d50ed7",
   "metadata": {},
   "outputs": [
    {
     "name": "stdout",
     "output_type": "stream",
     "text": [
      "0\n",
      "1\n",
      "2\n",
      "3\n",
      "4\n",
      "5\n",
      "6\n",
      "7\n",
      "8\n",
      "9\n",
      "10\n"
     ]
    }
   ],
   "source": [
    "# print the numbers 0 through 10 using the range function\n",
    "\n",
    "for i in range(11):\n",
    "    print(i)"
   ]
  },
  {
   "cell_type": "code",
   "execution_count": 67,
   "id": "1e152db9",
   "metadata": {},
   "outputs": [
    {
     "name": "stdout",
     "output_type": "stream",
     "text": [
      "0\n",
      "2\n",
      "4\n",
      "6\n",
      "8\n",
      "10\n"
     ]
    }
   ],
   "source": [
    "# print the even numbers between 0 and 10 using the range function and an if statement\n",
    "\n",
    "for i in range(11):\n",
    "    if i % 2 == 0:\n",
    "        print(i)"
   ]
  },
  {
   "cell_type": "code",
   "execution_count": 68,
   "id": "447c9372",
   "metadata": {},
   "outputs": [
    {
     "name": "stdout",
     "output_type": "stream",
     "text": [
      "0\n",
      "1\n",
      "2\n",
      "3\n",
      "4\n",
      "5\n",
      "6\n",
      "7\n",
      "8\n",
      "9\n",
      "10\n"
     ]
    }
   ],
   "source": [
    "# print the even numbers between 0 and 10 using the range function and by specifying the start and step\n",
    "\n",
    "# start (includes); stop (does not include)\n",
    "\n",
    "for i in range(0, 11):\n",
    "    print(i)"
   ]
  },
  {
   "cell_type": "markdown",
   "id": "62865e29",
   "metadata": {},
   "source": [
    "The else keyword in a for loop specifies a block of code to be executed when the loop is finished:"
   ]
  },
  {
   "cell_type": "code",
   "execution_count": 73,
   "id": "485f61e7",
   "metadata": {},
   "outputs": [
    {
     "name": "stdout",
     "output_type": "stream",
     "text": [
      "finished1\n",
      "finished2\n"
     ]
    }
   ],
   "source": [
    "# here is an example of using the else keyword in a loop\n",
    "\n",
    "for i in range(3):\n",
    "    continue\n",
    "    print(i)\n",
    "else:\n",
    "    print(\"finished1\")\n",
    "print('finished2')"
   ]
  },
  {
   "cell_type": "code",
   "execution_count": null,
   "id": "b180d492",
   "metadata": {},
   "outputs": [],
   "source": [
    "# write a for loop that prints the square of 0 through 10 and prints \"finished\" when it is complete\n",
    "\n",
    "for i in range(11):\n",
    "    print(i**2)\n",
    "else:\n",
    "    print(\"finished\")"
   ]
  },
  {
   "cell_type": "markdown",
   "id": "dc1cc2d6",
   "metadata": {},
   "source": [
    "# List Comprehension\n",
    "\n",
    "List comprehension is using a for loop to create a list inside the square brackets of the list definition"
   ]
  },
  {
   "cell_type": "raw",
   "id": "430ad162",
   "metadata": {},
   "source": [
    "[<expression> <for> <variable> <in> <iterator>]"
   ]
  },
  {
   "cell_type": "code",
   "execution_count": null,
   "id": "f942178a",
   "metadata": {},
   "outputs": [],
   "source": []
  },
  {
   "cell_type": "code",
   "execution_count": 75,
   "id": "a82dafae",
   "metadata": {},
   "outputs": [
    {
     "name": "stdout",
     "output_type": "stream",
     "text": [
      "[0, 1, 2, 3, 4]\n"
     ]
    }
   ],
   "source": [
    "my_list = []\n",
    "\n",
    "# 0 1 2 3 4 -> [0, 1, 2, 3, 4]\n",
    "\n",
    "for i in range(5):\n",
    "    my_list.append(i)\n",
    "\n",
    "print(my_list)"
   ]
  },
  {
   "cell_type": "code",
   "execution_count": null,
   "id": "19a373b0",
   "metadata": {},
   "outputs": [],
   "source": []
  },
  {
   "cell_type": "code",
   "execution_count": 91,
   "id": "509d6dd3",
   "metadata": {},
   "outputs": [
    {
     "data": {
      "text/plain": [
       "[6, 10, 4]"
      ]
     },
     "execution_count": 91,
     "metadata": {},
     "output_type": "execute_result"
    }
   ],
   "source": [
    "my_list = [3, 5, 2]\n",
    "[i * 2 for i in my_list]"
   ]
  },
  {
   "cell_type": "code",
   "execution_count": null,
   "id": "846dc368",
   "metadata": {},
   "outputs": [],
   "source": []
  },
  {
   "cell_type": "code",
   "execution_count": 96,
   "id": "b73231e5",
   "metadata": {},
   "outputs": [
    {
     "data": {
      "text/plain": [
       "[0, 1, 2, 3, 4]"
      ]
     },
     "execution_count": 96,
     "metadata": {},
     "output_type": "execute_result"
    }
   ],
   "source": [
    "[i for i in range(5)]"
   ]
  },
  {
   "cell_type": "code",
   "execution_count": 99,
   "id": "ad81ae0b",
   "metadata": {},
   "outputs": [
    {
     "name": "stdout",
     "output_type": "stream",
     "text": [
      "3\n"
     ]
    }
   ],
   "source": [
    "i = 3\n",
    "\n",
    "print(i)"
   ]
  },
  {
   "cell_type": "code",
   "execution_count": null,
   "id": "1b8bfa45",
   "metadata": {},
   "outputs": [],
   "source": []
  },
  {
   "cell_type": "code",
   "execution_count": 101,
   "id": "301c6a51",
   "metadata": {},
   "outputs": [
    {
     "data": {
      "text/plain": [
       "99"
      ]
     },
     "execution_count": 101,
     "metadata": {},
     "output_type": "execute_result"
    }
   ],
   "source": [
    "i = 3\n",
    "\n",
    "print(i) if i > 4 else 99"
   ]
  },
  {
   "cell_type": "code",
   "execution_count": null,
   "id": "8f76035d",
   "metadata": {},
   "outputs": [],
   "source": [
    "# x is either None or an int\n",
    "# bunch of nasty code\n",
    "# bunch of nasty code\n",
    "# bunch of nasty code\n",
    "# bunch of nasty code\n"
   ]
  },
  {
   "cell_type": "code",
   "execution_count": null,
   "id": "402acebe",
   "metadata": {},
   "outputs": [],
   "source": []
  },
  {
   "cell_type": "code",
   "execution_count": null,
   "id": "c9ce46f1",
   "metadata": {},
   "outputs": [],
   "source": []
  },
  {
   "cell_type": "code",
   "execution_count": 2,
   "id": "33b3898c",
   "metadata": {},
   "outputs": [
    {
     "name": "stdout",
     "output_type": "stream",
     "text": [
      "[0, 1, 2]\n"
     ]
    }
   ],
   "source": [
    "my_list = []\n",
    "\n",
    "for i in range(3):\n",
    "    my_list.append(i)\n",
    "    \n",
    "print(my_list)"
   ]
  },
  {
   "cell_type": "code",
   "execution_count": 3,
   "id": "220e8249",
   "metadata": {},
   "outputs": [
    {
     "name": "stdout",
     "output_type": "stream",
     "text": [
      "[0, 1, 2]\n"
     ]
    }
   ],
   "source": [
    "my_list = [i for i in range(3)]\n",
    "print(my_list)"
   ]
  },
  {
   "cell_type": "code",
   "execution_count": 13,
   "id": "d00cc052",
   "metadata": {},
   "outputs": [
    {
     "name": "stdout",
     "output_type": "stream",
     "text": [
      "[99.00000000000001, 77.0, 44.0]\n"
     ]
    }
   ],
   "source": [
    "# [0, 2, 4]\n",
    "\n",
    "my_list = [i*1.1 for i in [90, 70, 40]]\n",
    "print(my_list)"
   ]
  },
  {
   "cell_type": "code",
   "execution_count": null,
   "id": "bfdeead5",
   "metadata": {},
   "outputs": [],
   "source": [
    "# here is an example of list comprehension\n",
    "\n",
    "my_list = [i for i in range(20)]\n",
    "\n",
    "print(my_list)"
   ]
  },
  {
   "cell_type": "code",
   "execution_count": null,
   "id": "fa937504",
   "metadata": {},
   "outputs": [],
   "source": [
    "# Create a list containing the even numbers between 0 and 20 using list comprehension\n"
   ]
  },
  {
   "cell_type": "markdown",
   "id": "e435f78a",
   "metadata": {},
   "source": [
    "# Nested lists\n",
    "\n",
    "Lists can be sequences of any object .. including other lists"
   ]
  },
  {
   "cell_type": "code",
   "execution_count": null,
   "id": "a512d26b",
   "metadata": {},
   "outputs": [],
   "source": [
    "# here is an example of a nested list\n",
    "\n",
    "my_list = [[1,2,3], [1,2,3], [1,2,3]]\n",
    "\n",
    "print(my_list)"
   ]
  },
  {
   "cell_type": "code",
   "execution_count": null,
   "id": "ee6dd60b",
   "metadata": {},
   "outputs": [],
   "source": [
    "# use the range function to create a list which contains item [1,2,3] repeated 100 times\n"
   ]
  },
  {
   "cell_type": "code",
   "execution_count": null,
   "id": "bd9e08df",
   "metadata": {},
   "outputs": [],
   "source": [
    "# weather apps\n",
    "# the sims - text based\n",
    "# stocks\n",
    "# block-chain\n",
    "\n",
    "# games whatever\n",
    "\n",
    "\n",
    "\n",
    "# module three\n",
    "#    word problems\n",
    "#    complexity\n",
    "\n",
    "# overview of material covered with references in notebooks\n",
    "# \n",
    "\n",
    "# practice if else\n",
    "# bitwise ?\n",
    "# \n",
    "\n",
    "\n",
    "# \n",
    "# functions next class\n",
    "\n",
    "\n",
    "# "
   ]
  }
 ],
 "metadata": {
  "kernelspec": {
   "display_name": "Python 3 (ipykernel)",
   "language": "python",
   "name": "python3"
  },
  "language_info": {
   "codemirror_mode": {
    "name": "ipython",
    "version": 3
   },
   "file_extension": ".py",
   "mimetype": "text/x-python",
   "name": "python",
   "nbconvert_exporter": "python",
   "pygments_lexer": "ipython3",
   "version": "3.11.5"
  }
 },
 "nbformat": 4,
 "nbformat_minor": 5
}
