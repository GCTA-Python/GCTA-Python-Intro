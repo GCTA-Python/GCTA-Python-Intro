{
 "cells": [
  {
   "cell_type": "code",
   "execution_count": 1,
   "id": "adde0a0a",
   "metadata": {},
   "outputs": [],
   "source": [
    "def get_clean_class_name(id_this: any) -> str:\n",
    "    \"\"\"\n",
    "    \n",
    "    :param id_this: \n",
    "    :return: \n",
    "    \"\"\"\n",
    "    exclusion_set = (' ', '\\'', '\\\"', '\\\"\\\"\\\"', '<', '>')\n",
    "    return ''.join([i for i in list(str(type(id_this)).lstrip('<class ')) if i not in exclusion_set])\n",
    "\n",
    "print(\"Hello, World!\")"
   ]
  },
  {
   "cell_type": "code",
   "execution_count": null,
   "id": "416504cc",
   "metadata": {},
   "outputs": [],
   "source": []
  }
 ],
 "metadata": {
  "kernelspec": {
   "display_name": "Python 3 (ipykernel)",
   "language": "python",
   "name": "python3"
  },
  "language_info": {
   "codemirror_mode": {
    "name": "ipython",
    "version": 3
   },
   "file_extension": ".py",
   "mimetype": "text/x-python",
   "name": "python",
   "nbconvert_exporter": "python",
   "pygments_lexer": "ipython3",
   "version": "3.10.2"
  }
 },
 "nbformat": 4,
 "nbformat_minor": 5
}
