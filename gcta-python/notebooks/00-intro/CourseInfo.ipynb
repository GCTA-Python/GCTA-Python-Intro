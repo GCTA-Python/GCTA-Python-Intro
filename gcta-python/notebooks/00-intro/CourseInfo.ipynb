{
 "cells": [
  {
   "cell_type": "markdown",
   "id": "b614b0f5",
   "metadata": {},
   "source": [
    "<span style=\"font-size: 16px; font-family: Geneva, Tahoma, Verdana, sans-serif;\">\n",
    "    \n",
    "<h1>Course Objectives</h1>\n",
    "\n",
    "This course serves dual purposes: Foremost, (1) to develop entry level proficiency with the Python programing language, through individualized tutoring and heavily augmenting the Python Institute's Certified Entry-Level Python Programmer curriculum; and secondarily (an optional addition to the 10-week curriculum) (2), realize your maximum coding potential beyond the standard 10-week curriculum, which varies from student to student, but may include personal projects, portfolios, etc.. It is important to understand that there is absolutely nothing wrong with being interested in only obtaining the certification, and for those students, we will be working on that for the entire 10 weeks.\n",
    "\n",
    "<h3>Course Objectives (specific)</h3>\n",
    "<ul>\n",
    "  <li>Basic Data Types (e.g. strings, integers)</li>\n",
    "  <li>Operators (e.g. +, and, or, ==, !=, >=, in)</li>\n",
    "  <li>Control Flow (e.g. loops, if, else)</li>\n",
    "  <li>Data Structures (e.g. lists, dictionaries)</li>\n",
    "  <li>Functions Basics</li>\n",
    "</ul>\n",
    "\n",
    "<h4>Optional Topics Include:</h4>\n",
    "<ul>\n",
    "  <li>Expanded Object Oriented Programing (OOP)</li>\n",
    "  <li>Classes; Advanced Functions (e.g. Lambdas)</li>\n",
    "  <li>Algorithms (e.g. sorting, graph traversal)</li>\n",
    "  <li>Additional Data Structures (e.g. sets, graphs, BST, Trie)</li>\n",
    "  <li>Various Recursive Techniques</li>\n",
    "  <li>Misc. Self-Directed Topics</li>\n",
    "</ul>\n",
    "\n",
    "\n",
    "\n",
    "\n",
    "\n",
    "\n",
    "\n",
    "\n",
    "\n"
   ]
  },
  {
   "cell_type": "markdown",
   "id": "2048020b",
   "metadata": {},
   "source": [
    "<hr>"
   ]
  },
  {
   "cell_type": "markdown",
   "id": "9a66a6cc",
   "metadata": {},
   "source": [
    "<span style=\"font-size: 16px; font-family: Geneva, Tahoma, Verdana, sans-serif;\">\n",
    "<h1>Course Overview</h1>\n",
    "    \n",
    "The course curriculum can be found in the resources directory at .../gcta-python/resources/curriculum.txt.\n",
    "    \n",
    "Links:\n",
    "    \n",
    "&nbsp;&nbsp;&nbsp;&nbsp; https://github.com/GCTA-Python/GCTA-Python-Intro/blob/master/gcta-python/resources/curriculum.txt\n",
    "    \n",
    "&nbsp;&nbsp;&nbsp;&nbsp; http://localhost:8888/edit/gcta-python/resources/curriculum.txt\n",
    "\n",
    "<b>Important</b>: Notice the differences between these two links. They both link to \"curriculum.txt\", but the second link is only accessible via a \"local\" (the computer you are using) instance of Jupyter Notebook. If Jupyter Notebook is not currently deployed and running on your local machine, \"localhost\" links will not work."
   ]
  },
  {
   "cell_type": "code",
   "execution_count": null,
   "id": "e60bfddf",
   "metadata": {},
   "outputs": [],
   "source": []
  }
 ],
 "metadata": {
  "kernelspec": {
   "display_name": "Python 3 (ipykernel)",
   "language": "python",
   "name": "python3"
  },
  "language_info": {
   "codemirror_mode": {
    "name": "ipython",
    "version": 3
   },
   "file_extension": ".py",
   "mimetype": "text/x-python",
   "name": "python",
   "nbconvert_exporter": "python",
   "pygments_lexer": "ipython3",
   "version": "3.10.2"
  }
 },
 "nbformat": 4,
 "nbformat_minor": 5
}
