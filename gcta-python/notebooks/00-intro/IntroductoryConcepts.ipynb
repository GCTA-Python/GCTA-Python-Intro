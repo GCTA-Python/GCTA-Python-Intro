{
 "cells": [
  {
   "cell_type": "markdown",
   "id": "b614b0f5",
   "metadata": {},
   "source": [
    "<span style=\"font-size: 16px; font-family: Geneva, Tahoma, Verdana, sans-serif;\">\n",
    "    \n",
    "<h1>Course Objectives</h1>\n",
    "\n",
    "This course serves dual purposes: Foremost, (1) to develop entry level proficiency with the Python programing language, through individualized tutoring and heavily augmenting the Python Institute's Certified Entry-Level Python Programmer curriculum; and secondarily (an optional addition to the 10-week curriculum) (2), realize your maximum coding potential beyond the standard 10-week curriculum, which varies from student to student, but may include personal projects, portfolios, etc.. It is important to understand that there is absolutely nothing wrong with being interested in only obtaining the certification, and for those students, we will be working on that for the entire 10 weeks.\n",
    "\n",
    "<h3>Course Objectives (specific)</h3>\n",
    "<ul>\n",
    "  <li>Basic Data Types (e.g. strings, integers)</li>\n",
    "  <li>Operators (e.g. +, and, or, ==, !=, >=, in)</li>\n",
    "  <li>Control Flow (e.g. loops, if, else)</li>\n",
    "  <li>Data Structures (e.g. lists, dictionaries)</li>\n",
    "  <li>Functions Basics</li>\n",
    "</ul>\n",
    "\n",
    "<h4>Optional Topics Include:</h4>\n",
    "<ul>\n",
    "  <li>Expanded Object Oriented Programing (OOP)</li>\n",
    "  <li>Classes; Advanced Functions (e.g. Lambdas)</li>\n",
    "  <li>Algorithms (e.g. sorting, graph traversal)</li>\n",
    "  <li>Additional Data Structures (e.g. sets, graphs, BST, Trie)</li>\n",
    "  <li>Various Recursive Techniques</li>\n",
    "  <li>Misc. Self-Directed Topics</li>\n",
    "</ul>\n",
    "\n",
    "\n",
    "\n",
    "\n",
    "\n",
    "\n",
    "\n",
    "\n",
    "\n"
   ]
  },
  {
   "cell_type": "markdown",
   "id": "2048020b",
   "metadata": {},
   "source": [
    "<hr>"
   ]
  },
  {
   "cell_type": "markdown",
   "id": "9a66a6cc",
   "metadata": {},
   "source": [
    "<span style=\"font-size: 16px; font-family: Geneva, Tahoma, Verdana, sans-serif;\">\n",
    "<h1>Course Overview</h1>\n",
    "    \n",
    "The course curriculum can be found in the root directory (the topmost, or starting directory) under curriculum.txt.\n",
    "    \n",
    "Links:\n",
    "    \n",
    "&nbsp;&nbsp;&nbsp;&nbsp; https://github.com/GCTA-Python/GCTA-Python-Intro/blob/master/curriculum.txt\n",
    "    \n",
    "&nbsp;&nbsp;&nbsp;&nbsp; http://localhost:8888/edit/curriculum.txt\n",
    "\n",
    "<b>Important</b>: Notice the differences between these two links. They both link to \"curriculum.txt\", but the second link is only accessible via a \"local\" (the computer you are using) instance of Jupyter Notebook. If Jupyter Notebook is not currently deployed and running on your local machine, \"localhost\" links will not work."
   ]
  },
  {
   "cell_type": "markdown",
   "id": "9e39541b",
   "metadata": {},
   "source": [
    " <hr>"
   ]
  },
  {
   "cell_type": "markdown",
   "id": "2ffad66b",
   "metadata": {},
   "source": [
    "<span style=\"font-size: 16px; font-family: Geneva, Tahoma, Verdana, sans-serif;\">\n",
    "<h2>Coding Fundamentals:</h2>\n",
    "\n",
    "<h4>Solving Problems</h4>\n",
    "\n",
    "When solving a problem, you should first solve for correctness. Something such as optimization, is usually best done after a correct solution is obtained.\n",
    "\n",
    "<h4>Pseudo Code</h4>\n",
    "    \n",
    "Pseudo code is a plain language description of the steps you take to solve a problem, typically a description of an algorithm. Pseudo code can help you better plan, then execute (code), your solution to some problem.\n",
    "\n",
    "<h4>Dealing with Complexity:</h4>\n",
    "\n",
    "When a problem is overwhelmingly difficult to deal with, try to ignore irrelevant details and focus on only the parts that you understand, and recognize as relevant. <i>Try to break apart complex problems into more manageable parts you can understand or solve more easily.</i>"
   ]
  },
  {
   "cell_type": "markdown",
   "id": "922b635c",
   "metadata": {},
   "source": [
    "<hr>"
   ]
  },
  {
   "cell_type": "markdown",
   "id": "d2ea050e",
   "metadata": {},
   "source": [
    "<span style=\"font-size: 16px; font-family: Geneva, Tahoma, Verdana, sans-serif;\">\n",
    "\n",
    "<h2>Python Fundamentals</h2>\n",
    "\n",
    "Python is a dynamically (and implicitly) typed, interpreted language, where (nearly) everything is an object.\n",
    "    \n",
    "Python has special words, called \"keywords\", which are not objects, and are reserved for specific purposes.\n",
    "    \n",
    "Python includes many \"built-in\" features (such as built-in functions), which means they come included with the Python source code.\n",
    "\n",
    "Examples of:\n",
    "<ul>\n",
    "  <li>static vs dynamic typing</li>\n",
    "  <li>explicit vs implicit typing</li>\n",
    "  <li>compiled vs interpreted vs language</li>\n",
    "</ul>\n",
    "    \n",
    "    "
   ]
  },
  {
   "cell_type": "markdown",
   "id": "05c9c15b",
   "metadata": {},
   "source": [
    "<hr>"
   ]
  },
  {
   "cell_type": "markdown",
   "id": "669728cf",
   "metadata": {},
   "source": [
    "<span style=\"font-size: 16px; font-family: Geneva, Tahoma, Verdana, sans-serif;\">\n",
    "\n",
    "<h2>Naming Conventions</h2>\n",
    "\n",
    "The most common naming conventions are the following:\n",
    "<ul>\n",
    "  <li>Camel Case: someVariable</li>\n",
    "  <li>Snake Case: some_variable</li>\n",
    "  <li>Pascal Case: SomeVariable</li>\n",
    "</ul>\n",
    "\n",
    "\n",
    "\n",
    "\n",
    "<b>Camel Case</b> always starts out lowercase with each word delimited by a capital letter (like personOne, textUtil, thingsToDo).\n",
    "    \n",
    "<b>Pascal Case</b> is similar to camel case, but the first letter is always capitalized (like PersonOne, TextUtil, ThingsToDo).\n",
    "    \n",
    "<b>Snake Case</b> means that we delimit words with an underscore (like person_one, text_util, things_to_do).\n",
    "\n",
    "The naming convention you use will often be predetermined for you by, for example, an existing code base you are working on. Concsistency is often more important than whatever convention is adopted.\n",
    "\n",
    "<b>Important</b>: In this course we will always use snake_case."
   ]
  }
 ],
 "metadata": {
  "kernelspec": {
   "display_name": "Python 3 (ipykernel)",
   "language": "python",
   "name": "python3"
  },
  "language_info": {
   "codemirror_mode": {
    "name": "ipython",
    "version": 3
   },
   "file_extension": ".py",
   "mimetype": "text/x-python",
   "name": "python",
   "nbconvert_exporter": "python",
   "pygments_lexer": "ipython3",
   "version": "3.10.2"
  }
 },
 "nbformat": 4,
 "nbformat_minor": 5
}
