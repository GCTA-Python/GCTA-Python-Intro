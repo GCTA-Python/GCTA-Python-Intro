{
 "cells": [
  {
   "cell_type": "markdown",
   "id": "b7affaca",
   "metadata": {},
   "source": [
    "<span style=\"font-size: 16px; font-family: Geneva, Tahoma, Verdana, sans-serif;\">\n",
    "\n",
    "<h1>Objectives and Outcome</h1>\n",
    "<div style=\"margin-left: 2em;\">\n",
    "<br>\n",
    "By the end of this lesson, you should:\n",
    "\n",
    "- Know how to use Jupyter Notebook to execute Python code.\n",
    "\n",
    "- And have good understanding of Jupyter Notebook's basic execution and display behavior.\n",
    "</div>\n",
    "    \n",
    "<h1>Topics Covered</h1>\n",
    "\n",
    "<ol style=\"padding-left: 3em\">\n",
    "<li>Jupyter Notebook Usage</li>\n",
    "<li>Jupyter Notebook Execution Details</li>\n",
    "<li>Jupyter Notebook's Display Behavior</li>\n",
    "</ol>"
   ]
  },
  {
   "cell_type": "markdown",
   "id": "42a128ae",
   "metadata": {},
   "source": [
    "<span style=\"font-size: 16px; font-family: Geneva, Tahoma, Verdana, sans-serif;\">\n",
    "\n",
    "<h2>1. Jupyter Notebook Usage</h2>\n",
    "<ul style=\"list-style: square; padding-left: 3em;\">\n",
    "<li>Jupyter Notebooks contain cells which themselves may contain code, text, etc.</li>\n",
    "<li>Press the keys <kbd>Shift+L</kbd> to toggle line numbers. <b>Turn them on.</b>\n",
    "<li>To run a cell, <i>first select the cell if it is not already selected</i>, then:\n",
    "    <div style=\"margin-left: 2em; margin-top: -1em\">\n",
    "    <br>(1) press the keys <kbd>Shift+Enter</kbd> or\n",
    "    <br>(2) click the [▶ Run] button above, or\n",
    "    <br>(3) use the dropdown menu: <code>Cell -> Run Cells</code>.\n",
    "    </div></li>\n",
    "<li>To add a cell, first select the cell you are inserting relative to</i>, then:\n",
    "<div style=\"margin-left: 2em; margin-top: -1em\">\n",
    "    <br>press key <kbd>A</kbd> to insert above, <kbd>B</kbd> to insert below or\n",
    "    <br>dropdown menu: <code>Insert -> Insert Cell Above/Below</code>\n",
    "    <br>cells are inserted relative to the currently selected cell\n",
    "</div>\n",
    "<li>Jupyter Notebook will often display the contents of the last line of a cell for you.\n",
    "</ul>\n",
    "\n",
    "</span>"
   ]
  },
  {
   "cell_type": "markdown",
   "id": "70afa82a",
   "metadata": {},
   "source": [
    "<span style=\"font-size: 16px; font-family: Geneva, Tahoma, Verdana, sans-serif;\">\n",
    "\n",
    "<h2>2. Jupyter Notebook Execution Details</h2>\n",
    "<div style=\"margin-left: 2em;\">\n",
    "<br>\n",
    "Observe the cell below:\n",
    "\n",
    "</div>"
   ]
  },
  {
   "cell_type": "code",
   "execution_count": null,
   "id": "0908a2b5",
   "metadata": {},
   "outputs": [],
   "source": []
  },
  {
   "cell_type": "markdown",
   "id": "1e6fc481",
   "metadata": {},
   "source": [
    "<span style=\"font-size: 16px; font-family: Geneva, Tahoma, Verdana, sans-serif;\">\n",
    "<div style=\"margin-left: 2em;\">\n",
    "We can execute the code within this cell, as if it were a separate Python file.\n",
    "<br><br>\n",
    "Prior to running the cell, you'll notice\n",
    "\n",
    "In [  ]:\n",
    "    \n",
    "to the left of the cell.\n",
    "\n",
    "This is the count of the number of executions within the Notebook.\n",
    "\n",
    "The above cell does not increase in value when we run it because it's empty.\n",
    "    \n",
    "Run the cell below a few times and observe the behavior of In [ ].\n",
    "\n",
    "</div>"
   ]
  },
  {
   "cell_type": "code",
   "execution_count": null,
   "id": "ee5632c5",
   "metadata": {},
   "outputs": [],
   "source": [
    "# comments contain no instructions to execute"
   ]
  },
  {
   "cell_type": "markdown",
   "id": "d7d0dc77",
   "metadata": {},
   "source": [
    "<span style=\"font-size: 16px; font-family: Geneva, Tahoma, Verdana, sans-serif;\">\n",
    "\n",
    "<div style=\"margin-left: 2em;\">\n",
    "One final thing to notice about Jupyter Notebook cell execution is that if you see an asterisk within the brackets, <code>In [*]</code>, this indicates the kernel is busy or has crashed, and needs to be either interrupted or restarted.\n",
    "\n",
    "<code>Kernel -> Interrupt</code>\n",
    "\n",
    "<code>Kernel -> Restart</code>\n",
    "\n",
    "Let's produce one such cell by running the following cell, then immediately trying to run the cell below it.\n",
    "    \n",
    "</div>"
   ]
  },
  {
   "cell_type": "code",
   "execution_count": null,
   "id": "773b877b",
   "metadata": {},
   "outputs": [],
   "source": [
    "# ignore this code for now and\n",
    "# run the cell\n",
    "input()"
   ]
  },
  {
   "cell_type": "code",
   "execution_count": null,
   "id": "f74973fb",
   "metadata": {},
   "outputs": [],
   "source": [
    "# then try to immediately run this cell\n",
    "print('Hello, World!')"
   ]
  },
  {
   "cell_type": "markdown",
   "id": "193e5014",
   "metadata": {},
   "source": [
    "<span style=\"font-size: 16px; font-family: Geneva, Tahoma, Verdana, sans-serif;\">\n",
    "\n",
    "<div style=\"margin-left: 2em;\">\n",
    "\n",
    "You'll notice other cells cannot run until the <code>[*]</code> cell has completed its execution.\n",
    "\n",
    "Interrupt or restart the kernel, then verify the Notebook is again functional by running another cell.\n",
    "    \n",
    "</div>"
   ]
  },
  {
   "cell_type": "code",
   "execution_count": null,
   "id": "c8b2923b",
   "metadata": {},
   "outputs": [],
   "source": [
    "print(\"cell with known behavior\")"
   ]
  },
  {
   "cell_type": "markdown",
   "id": "9ea1865b",
   "metadata": {},
   "source": [
    "<span style=\"font-size: 16px; font-family: Geneva, Tahoma, Verdana, sans-serif;\">\n",
    "\n",
    "<h2>3. Jupyter Notebook's Display Behavior</h2>\n",
    "<div style=\"margin-left: 2em;\">\n",
    "<br>\n",
    "Run the following cell to see what happens.\n",
    "\n",
    "</div>"
   ]
  },
  {
   "cell_type": "code",
   "execution_count": null,
   "id": "f9ecfdd8",
   "metadata": {},
   "outputs": [],
   "source": [
    "# run this cell\n",
    "\"Hello, World!\""
   ]
  },
  {
   "cell_type": "code",
   "execution_count": null,
   "id": "49620ede",
   "metadata": {},
   "outputs": [],
   "source": [
    "# compare to\n",
    "print(\"Hello, World!\")"
   ]
  },
  {
   "cell_type": "markdown",
   "id": "487765f7",
   "metadata": {},
   "source": [
    "<span style=\"font-size: 16px; font-family: Geneva, Tahoma, Verdana, sans-serif;\">\n",
    "\n",
    "<div style=\"margin-left: 2em;\">\n",
    "\n",
    "Notice that even though we did not use the <code>print()</code> function, Jupyter Notebook displayed the last line of code for us as if we had written <code>print(\"Hello, World!\")</code>. Jupyter Notebook usually, but not always, does this.\n",
    "\n",
    "Students should not rely upon Jupyter Notebook to display information.\n",
    "\n",
    "To see what type of data we're working with (here, the text <code>\"Hello, World!\"</code>), we can use the <code>type()</code> function:\n",
    "```python\n",
    "type(\"Hello, World!\")\n",
    "```\n",
    "   \n",
    "Let's try that below:\n",
    "    \n",
    "</div>"
   ]
  },
  {
   "cell_type": "code",
   "execution_count": null,
   "id": "6e98d102",
   "metadata": {},
   "outputs": [],
   "source": [
    "# run this cell\n",
    "type(\"Hello, World!\")"
   ]
  },
  {
   "cell_type": "markdown",
   "id": "513c195d",
   "metadata": {},
   "source": [
    "<span style=\"font-size: 16px; font-family: Geneva, Tahoma, Verdana, sans-serif;\">\n",
    "\n",
    "<div style=\"margin-left: 2em;\">\n",
    "    \n",
    "Our text, <code>\"Hello, World!\"</code>, is of the data type we call a <b>string</b>. In Python, we represent strings by enclosing them in a pair of quotation marks.\n"
   ]
  }
 ],
 "metadata": {
  "kernelspec": {
   "display_name": "Python 3 (ipykernel)",
   "language": "python",
   "name": "python3"
  },
  "language_info": {
   "codemirror_mode": {
    "name": "ipython",
    "version": 3
   },
   "file_extension": ".py",
   "mimetype": "text/x-python",
   "name": "python",
   "nbconvert_exporter": "python",
   "pygments_lexer": "ipython3",
   "version": "3.10.2"
  }
 },
 "nbformat": 4,
 "nbformat_minor": 5
}
