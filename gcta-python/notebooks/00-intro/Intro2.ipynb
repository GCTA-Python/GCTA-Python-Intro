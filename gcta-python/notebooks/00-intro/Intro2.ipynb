{
 "cells": [
  {
   "cell_type": "markdown",
   "id": "b7affaca",
   "metadata": {},
   "source": [
    "<span style=\"font-size: 16px; font-family: Geneva, Tahoma, Verdana, sans-serif;\">\n",
    "\n",
    "<h1>Objective:</h1>\n",
    "<div style=\"margin-left: 2em;\">\n",
    "<br>\n",
    "Acquire the tools (knowledge) necessary for providing a more engaging learning experience.\n",
    "</div>\n",
    "    \n",
    "<h1>Motivation:</h1>\n",
    "<div style=\"margin-left: 2em;\">\n",
    "<br>\n",
    "The alternative is to rote memorize a massive amount of information without much context. Gross!\n",
    "</div>\n",
    "\n",
    "<h1>Outcome:</h1>\n",
    "<div style=\"margin-left: 2em;\">\n",
    "<br>\n",
    "By the end of this lesson, you should:\n",
    "    \n",
    "- Have at least an elementary understanding of what functions are.\n",
    "    \n",
    "- Have a basic idea of what keywords are.\n",
    "    \n",
    "- Know how to use Jupyter Notebook to execute Python code.\n",
    "\n",
    "- And have good understanding of Jupyter Notebook basic execution and display behavior.\n",
    "    \n",
    "- How to call the the built-in print function and display the string, \"Hello, World!\".\n",
    "</div>\n",
    "    \n",
    "<h1>Topics Covered:</h1>\n",
    "\n",
    "<ol style=\"padding-left: 3em\">\n",
    "<li>Jupyter Notebook Usage</li>\n",
    "<li>Introduction to Functions</li>\n",
    "<li>Python's Built-in Functions</li>\n",
    "<li>Python Keywords</li>\n",
    "<li>Jupyter Notebook's Display Behavior</li>\n",
    "<li>Jupyter Notebook Execution Details</li>\n",
    "</ol>"
   ]
  },
  {
   "cell_type": "markdown",
   "id": "42a128ae",
   "metadata": {},
   "source": [
    "<span style=\"font-size: 16px; font-family: Geneva, Tahoma, Verdana, sans-serif;\">\n",
    "\n",
    "<h2>1. Jupyter Notebook Usage:</h2>\n",
    "<ul style=\"list-style: square; padding-left: 3em;\">\n",
    "<li>Jupyter Notebooks contain cells which themselves may contain code, text, etc.</li>\n",
    "<li>Press the keys <kbd>Shift+L</kbd> to toggle line numbers. <b>Turn them on.</b>\n",
    "<li>To run a cell, <i>first select the cell if it is not already selected</i>, then:\n",
    "    <div style=\"margin-left: 2em; margin-top: -1em\">\n",
    "    <br>(1) press the keys <kbd>Shift+Enter</kbd> or\n",
    "    <br>(2) click the [▶ Run] button above, or\n",
    "    <br>(3) use the dropdown menu: <code>Cell -> Run Cells</code>.\n",
    "    </div></li>\n",
    "<li>To add a cell, first select the cell you are inserting relative to</i>, then:\n",
    "<div style=\"margin-left: 2em; margin-top: -1em\">\n",
    "    <br>press key <kbd>A</kbd> to insert above, <kbd>B</kbd> to insert below or\n",
    "    <br>dropdown menu: <code>Insert -> Insert Cell Above/Below</code>\n",
    "    <br>cells are inserted relative to the currently selected cell\n",
    "</div>\n",
    "<li>Jupyter Notebook will often display the contents of the last line of a cell for you.\n",
    "</ul>\n",
    "\n",
    "</span>"
   ]
  },
  {
   "cell_type": "markdown",
   "id": "fba77fd3",
   "metadata": {},
   "source": [
    "<span style=\"font-size: 16px; font-family: Geneva, Tahoma, Verdana, sans-serif;\">\n",
    "\n",
    "<h2>2. Introduction to Functions</h2>\n",
    "\n",
    "<div style=\"margin-left: 2em;\">\n",
    "    \n",
    "<h4>What are functions?</h4>\n",
    "\n",
    "Functions are reusable bits of code we can <b>call</b> (or execute) by typing the function name, followed by parenthesis.\n",
    "\n",
    "For example:\n",
    "\n",
    "```python\n",
    "print()\n",
    "```\n",
    "\n",
    "This <b>function call</b> looks up the <code>print</code> function where it then executes multiple lines of code (stored in the files of Python) that have been written for the purpose of displaying the contents of the function onto the screen. Because we've not yet supplied the function with anything (i.e. data) to display, it merely displays a blank line. For further reading (optional): [stdout](https://cs.stanford.edu/people/nick/py/python-print.html#:~:text=The%20Python%20print()%20function,the%20end%20of%20each%20line.).\n",
    "<br>\n",
    "   \n",
    "\n",
    "</div>"
   ]
  },
  {
   "cell_type": "markdown",
   "id": "edeb09e6",
   "metadata": {},
   "source": [
    "<span style=\"font-size: 16px; font-family: Geneva, Tahoma, Verdana, sans-serif;\">\n",
    "<div style=\"margin-left: 2em;\">\n",
    "<h4>Using the print() function</h4>\n",
    "\n",
    "If we wish to display specific data on our screen, we would supply this function with the data we wish to display.\n",
    "\n",
    "For example, if we want to display <code>\"Hello, World!\"</code> to the screen, we would code:\n",
    "\n",
    "```python\n",
    "print(\"Hello, World!\")\n",
    "```\n",
    "and when we run (or execute) our code, we see\n",
    "    \n",
    "```python\n",
    "\"Hello, World!\"\n",
    "```\n",
    "    \n",
    "displayed on the screen (it may be formatted differently, without quotation marks).\n",
    "\n",
    "<br>\n",
    "</div>"
   ]
  },
  {
   "cell_type": "code",
   "execution_count": null,
   "id": "7eea49c2",
   "metadata": {},
   "outputs": [],
   "source": [
    "# run this cell to observe\n",
    "# this process in action!\n",
    "print(\"Hello, World!\")"
   ]
  },
  {
   "cell_type": "code",
   "execution_count": null,
   "id": "62b352a1",
   "metadata": {},
   "outputs": [],
   "source": [
    "# modify this cell and \n",
    "# print your name\n",
    "print(\"Python\")"
   ]
  },
  {
   "cell_type": "markdown",
   "id": "2eeab305",
   "metadata": {},
   "source": [
    "<span style=\"font-size: 16px; font-family: Geneva, Tahoma, Verdana, sans-serif;\">\n",
    "<div style=\"margin-left: 2em;\">\n",
    "\n",
    "<h4>Things Functions Do</h4>\n",
    "\n",
    "We can think of there as being two broad categories of functions: (a) functions that <i>output something</i> we're interested in (specifically, <code>return</code> something we're interested in), and (b) functions that <i>do something</i> we're interested in.\n",
    "    \n",
    "To be precise, functions <i>always</i> <code>return</code> something (even if that something is a value that represents nothing), but with some functions, namely the <code>print()</code> function, we're not interested in what it returns, we're interested in what it does (i.e. displays information to the screen).\n",
    "    \n",
    "In this course, you'll nearly always be interested in a function's <code>return</code>, unlike <code>print()</code>.\n",
    "\n",
    "<code>return</code> is the first Python <b>keyword</b> we've encountered - more on keywords later.\n",
    "\n",
    "<br>\n",
    "</div>"
   ]
  },
  {
   "cell_type": "markdown",
   "id": "1551b683",
   "metadata": {},
   "source": [
    "<span style=\"font-size: 16px; font-family: Geneva, Tahoma, Verdana, sans-serif;\">\n",
    "\n",
    "<h2>3. Python's Built-in Functions</h2>\n",
    "\n",
    "<div style=\"margin-left: 2em;\">\n",
    "<br>\n",
    "<code>print()</code> is a so-called <b>built-in</b> function - meaning it comes with the Python source code (installation files) and can be used without being \"imported\" (we'll get to imports later).\n",
    "<br>\n",
    "    \n",
    "The following are the built-in functions we will be using for this course, but at this point you only need to know what the <code>print()</code> function does.\n",
    "    \n",
    "<h4>built-in functions to know</h4>\n",
    "<div style=\"margin-left: -2em;\">\n",
    "\n",
    "```python\n",
    "print()         # displays information\n",
    "\n",
    "input()         # requests user input; returns user input as a string\n",
    "type()          # returns the data type of the object\n",
    "isinstance()    # returns True iff two arguments are of the same data type\n",
    "len()           # returns the length of the object\n",
    "\n",
    "```\n",
    "</div>\n",
    "\n",
    "</div>"
   ]
  },
  {
   "cell_type": "markdown",
   "id": "ab826d22",
   "metadata": {},
   "source": [
    "<span style=\"font-size: 16px; font-family: Geneva, Tahoma, Verdana, sans-serif;\">\n",
    "\n",
    "<h2>4. Python Keywords</h2>\n",
    "<div style=\"margin-left: 2em;\">\n",
    "<br>\n",
    "Keywords, or reserved words, must be spelled exactly as written below, and cannot be used as variable names.\n",
    "</div>\n",
    " \n",
    "<div style=\"margin-left: 2em; margin-top: -1em;\">\n",
    "\n",
    "```python\n",
    "\n",
    "False      await      else       import     pass\n",
    "None       break      except     in         raise\n",
    "True       class      finally    is         return\n",
    "and        continue   for        lambda     try\n",
    "as         def        from       nonlocal   while\n",
    "assert     del        global     not        with\n",
    "async      elif       if         or         yield\n",
    "\n",
    "```\n",
    "    \n",
    "Don't worry too much about memorizing these. We recommend learning through doing. If you need additional practice, we recommend you write scripts to solve problems that interests you (hopefully after you've already finished the homework).\n",
    "\n",
    "The Certified Entry-Level Python Programmer (PCEP) certification certification will cover:\n",
    "    \n",
    "```python\n",
    "False      break      else       import     pass\n",
    "None       continue   except     in         return\n",
    "True       def        for        is         try\n",
    "and        del        global     not        while\n",
    "           elif       if         or                                                                             \n",
    "```\n",
    "\n",
    "For students continuing beyond the certification, we may additionally cover:\n",
    "    \n",
    "```python\n",
    "as         class      finally    lambda     raise\n",
    "assert                from                  with\n",
    "    \n",
    "``` \n",
    "</div>"
   ]
  },
  {
   "cell_type": "markdown",
   "id": "70afa82a",
   "metadata": {},
   "source": [
    "<span style=\"font-size: 16px; font-family: Geneva, Tahoma, Verdana, sans-serif;\">\n",
    "\n",
    "<h2>5. Jupyter Notebook Execution Details</h2>\n",
    "<div style=\"margin-left: 2em;\">\n",
    "<br>\n",
    "Observe the cell below:\n",
    "\n",
    "</div>"
   ]
  },
  {
   "cell_type": "code",
   "execution_count": null,
   "id": "0908a2b5",
   "metadata": {},
   "outputs": [],
   "source": []
  },
  {
   "cell_type": "markdown",
   "id": "1e6fc481",
   "metadata": {},
   "source": [
    "<span style=\"font-size: 16px; font-family: Geneva, Tahoma, Verdana, sans-serif;\">\n",
    "<div style=\"margin-left: 2em;\">\n",
    "We can execute the code within this cell, as if it were a separate Python file.\n",
    "<br><br>\n",
    "Prior to running the cell, you'll notice\n",
    "\n",
    "In [  ]:\n",
    "    \n",
    "to the left of the cell.\n",
    "\n",
    "This is the count of the number of executions within the Notebook.\n",
    "\n",
    "The above cell does not increase in value when we run it because it's empty.\n",
    "    \n",
    "Run the cell below a few times and observe the behavior of In [ ].\n",
    "\n",
    "</div>"
   ]
  },
  {
   "cell_type": "code",
   "execution_count": null,
   "id": "ee5632c5",
   "metadata": {},
   "outputs": [],
   "source": [
    "# comments contain no instructions to execute"
   ]
  },
  {
   "cell_type": "markdown",
   "id": "d7d0dc77",
   "metadata": {},
   "source": [
    "<span style=\"font-size: 16px; font-family: Geneva, Tahoma, Verdana, sans-serif;\">\n",
    "\n",
    "<div style=\"margin-left: 2em;\">\n",
    "One final thing to notice about Jupyter Notebook cell execution is that if you see an asterisk within the brackets, <code>In [*]</code>, this indicates the kernel is busy or has crashed, and needs to be either interrupted or restarted.\n",
    "\n",
    "<code>Kernel -> Interrupt</code>\n",
    "\n",
    "<code>Kernel -> Restart</code>\n",
    "\n",
    "Let's produce one such cell by running the following cell, then immediately trying to run the cell below it.\n",
    "    \n",
    "</div>"
   ]
  },
  {
   "cell_type": "code",
   "execution_count": null,
   "id": "773b877b",
   "metadata": {},
   "outputs": [],
   "source": [
    "# ignore this code for now and\n",
    "# run the cell\n",
    "input()"
   ]
  },
  {
   "cell_type": "code",
   "execution_count": null,
   "id": "f74973fb",
   "metadata": {},
   "outputs": [],
   "source": [
    "# then try to immediately run this cell\n",
    "print('Hello, World!')"
   ]
  },
  {
   "cell_type": "markdown",
   "id": "193e5014",
   "metadata": {},
   "source": [
    "<span style=\"font-size: 16px; font-family: Geneva, Tahoma, Verdana, sans-serif;\">\n",
    "\n",
    "<div style=\"margin-left: 2em;\">\n",
    "\n",
    "You'll notice other cells cannot run until the <code>[*]</code> cell has completed its execution.\n",
    "\n",
    "Interrupt or restart the kernel, then verify the Notebook is again functional by running another cell.\n",
    "    \n",
    "</div>"
   ]
  },
  {
   "cell_type": "code",
   "execution_count": null,
   "id": "c8b2923b",
   "metadata": {},
   "outputs": [],
   "source": [
    "print(\"cell with known behavior\")"
   ]
  },
  {
   "cell_type": "markdown",
   "id": "9ea1865b",
   "metadata": {},
   "source": [
    "<span style=\"font-size: 16px; font-family: Geneva, Tahoma, Verdana, sans-serif;\">\n",
    "\n",
    "<h2>5. Jupyter Notebook's Display Behavior</h2>\n",
    "<div style=\"margin-left: 2em;\">\n",
    "<br>\n",
    "Run the following cell to see what happens.\n",
    "\n",
    "</div>"
   ]
  },
  {
   "cell_type": "code",
   "execution_count": null,
   "id": "f9ecfdd8",
   "metadata": {},
   "outputs": [],
   "source": [
    "# run this cell\n",
    "\"Hello, World!\""
   ]
  },
  {
   "cell_type": "code",
   "execution_count": null,
   "id": "49620ede",
   "metadata": {},
   "outputs": [],
   "source": [
    "# compare to\n",
    "print(\"Hello, World!\")"
   ]
  },
  {
   "cell_type": "markdown",
   "id": "487765f7",
   "metadata": {},
   "source": [
    "<span style=\"font-size: 16px; font-family: Geneva, Tahoma, Verdana, sans-serif;\">\n",
    "\n",
    "<div style=\"margin-left: 2em;\">\n",
    "\n",
    "Notice that even though we did not use the <code>print()</code> function, Jupyter Notebook displayed the last line of code for us as if we had written <code>print(\"Hello, World!\")</code>. Jupyter Notebook usually, but not always, does this.\n",
    "\n",
    "Students should not rely upon Jupyter Notebook to display information.\n",
    "\n",
    "To see what type of data we're working with (here, the text <code>\"Hello, World!\"</code>), we can use the <code>type()</code> function:\n",
    "```python\n",
    "type(\"Hello, World!\")\n",
    "```\n",
    "   \n",
    "Let's try that below:\n",
    "    \n",
    "</div>"
   ]
  },
  {
   "cell_type": "code",
   "execution_count": null,
   "id": "6e98d102",
   "metadata": {},
   "outputs": [],
   "source": [
    "# run this cell\n",
    "type(\"Hello, World!\")"
   ]
  },
  {
   "cell_type": "markdown",
   "id": "513c195d",
   "metadata": {},
   "source": [
    "<span style=\"font-size: 16px; font-family: Geneva, Tahoma, Verdana, sans-serif;\">\n",
    "\n",
    "<div style=\"margin-left: 2em;\">\n",
    "    \n",
    "Our text, <code>\"Hello, World!\"</code>, is of the data type we call a <b>string</b>. In Python, we represent strings by enclosing them in a pair of quotation marks.\n"
   ]
  }
 ],
 "metadata": {
  "kernelspec": {
   "display_name": "Python 3 (ipykernel)",
   "language": "python",
   "name": "python3"
  },
  "language_info": {
   "codemirror_mode": {
    "name": "ipython",
    "version": 3
   },
   "file_extension": ".py",
   "mimetype": "text/x-python",
   "name": "python",
   "nbconvert_exporter": "python",
   "pygments_lexer": "ipython3",
   "version": "3.10.2"
  }
 },
 "nbformat": 4,
 "nbformat_minor": 5
}
