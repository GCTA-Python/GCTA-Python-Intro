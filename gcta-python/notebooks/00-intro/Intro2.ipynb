{
 "cells": [
  {
   "cell_type": "markdown",
   "id": "3fcc2b97",
   "metadata": {},
   "source": [
    "<span style=\"font-size: 16px; font-family: Geneva, Tahoma, Verdana, sans-serif;\">\n",
    "\n",
    "<h1>Objective:</h1>\n",
    "<div style=\"margin-left: 2em;\">\n",
    "<br>\n",
    "Acquire the tools (knowledge) necessary for providing a more engaging learning experience.\n",
    "</div>\n",
    "    \n",
    "<h1>Motivation:</h1>\n",
    "<div style=\"margin-left: 2em;\">\n",
    "<br>\n",
    "The alternative is to rote memorize a massive amount of information without much context. Gross!\n",
    "</div>\n",
    "\n",
    "<h1>Outcome:</h1>\n",
    "<div style=\"margin-left: 2em;\">\n",
    "<br>\n",
    "By the end of this lesson, you should understand (inclusive):\n",
    "    \n",
    "How to call the the built-in print function and display the string, \"Hello, World!\".\n",
    "</div>\n",
    "    \n",
    "<h1>Topics Covered:</h1>\n",
    "\n",
    "<ol style=\"padding-left: 3em\">\n",
    "<li>Introduction to Functions</li>\n",
    "<li>Python's Built-in Functions</li>\n",
    "<li>Jupyter Notebook's Display Behavior</li>\n",
    "<li>Jupyter Notebook Execution Details</li>\n",
    "<li>Keywords</li>\n",
    "</ol>"
   ]
  },
  {
   "cell_type": "markdown",
   "id": "7777f8eb",
   "metadata": {},
   "source": [
    "<span style=\"font-size: 16px; font-family: Geneva, Tahoma, Verdana, sans-serif;\">\n",
    "\n",
    "<h2>1. Introduction to Functions</h2>\n",
    "\n",
    "<div style=\"margin-left: 2em;\">\n",
    "    \n",
    "<h4>What are functions?</h4>\n",
    "\n",
    "Functions are reusable bits of code we can <b>call</b> (or execute) by typing the function name, followed by parenthesis.\n",
    "\n",
    "For example:\n",
    "\n",
    "```python\n",
    "print()\n",
    "```\n",
    "\n",
    "This <b>function call</b> looks up the <code>print</code> function where it then executes multiple lines of code (stored in the files of Python) that have been written for the purpose of displaying the contents of the function onto the screen. Because we've not yet supplied the function with anything (i.e. data) to display, it merely displays a blank line. For further reading (optional): [stdout](https://cs.stanford.edu/people/nick/py/python-print.html#:~:text=The%20Python%20print()%20function,the%20end%20of%20each%20line.).\n",
    "<br>\n",
    "   \n",
    "\n",
    "</div>"
   ]
  },
  {
   "cell_type": "markdown",
   "id": "4f92bddb",
   "metadata": {},
   "source": [
    "<span style=\"font-size: 16px; font-family: Geneva, Tahoma, Verdana, sans-serif;\">\n",
    "<div style=\"margin-left: 2em;\">\n",
    "<h4>Using the print() function</h4>\n",
    "\n",
    "However, we may wish to pass data to the screen. In that case, we would supply the function we're calling with that data.\n",
    "\n",
    "For example, if we want to display <code>\"Hello, World!\"</code> to the screen, we would code:\n",
    "\n",
    "```python\n",
    "print(\"Hello, World!\")\n",
    "```\n",
    "and when we run (or execute) our code, we see\n",
    "    \n",
    "```python\n",
    "\"Hello, World!\"\n",
    "```\n",
    "    \n",
    "displayed on the screen (it may be formatted differently, without quotation marks).\n",
    "\n",
    "<br>\n",
    "</div>"
   ]
  },
  {
   "cell_type": "code",
   "execution_count": null,
   "id": "fd9af947",
   "metadata": {},
   "outputs": [],
   "source": [
    "# run this cell to observe\n",
    "# this process in action!\n",
    "print(\"Hello, World!\")"
   ]
  },
  {
   "cell_type": "code",
   "execution_count": null,
   "id": "6813157a",
   "metadata": {},
   "outputs": [],
   "source": [
    "# modify this cell and \n",
    "# print your name\n",
    "print(\"Python\")"
   ]
  },
  {
   "cell_type": "markdown",
   "id": "f66fe91a",
   "metadata": {},
   "source": [
    "<span style=\"font-size: 16px; font-family: Geneva, Tahoma, Verdana, sans-serif;\">\n",
    "<div style=\"margin-left: 2em;\">\n",
    "\n",
    "<h4>Things Functions Do</h4>\n",
    "\n",
    "We can think of there as being two broad categories of functions: (a) functions that <i>produce something</i> we're interested in (specifically, <code>return</code> something we're interested in), and (b) functions that <i>do something</i> we're interested in.\n",
    "    \n",
    "To be exact, functions always <code>return</code> something, but with some functions, namely the <code>print()</code> function, we're not interested in what it returns, and instead, we're interested in what it does (i.e. displays information to the screen).\n",
    "    \n",
    "In this course, you'll nearly always be interested in a function's <code>return</code>, unlike <code>print()</code>.\n",
    "\n",
    "<code>return</code> is the first Python <b>keyword</b> we've encountered - more on this specific keyword when we cover functions more thoroughly.\n",
    "    \n",
    "<br>\n",
    "</div>"
   ]
  },
  {
   "cell_type": "markdown",
   "id": "59874f09",
   "metadata": {},
   "source": [
    "<span style=\"font-size: 16px; font-family: Geneva, Tahoma, Verdana, sans-serif;\">\n",
    "\n",
    "<h2>2. Python's Built-in Functions</h2>\n",
    "\n",
    "<div style=\"margin-left: 2em;\">\n",
    "<br>\n",
    "<code>print()</code> is a so-called <b>built-in</b> function - meaning it comes with the Python source code (installation files) and can be used without being \"imported\" (we'll get to imports later).\n",
    "<br>\n",
    "    \n",
    "The following are the built-in functions we will be using for this course, but at this point you only need to know what the <code>print()</code> function does.\n",
    "    \n",
    "<h4>built-in functions to know</h4>\n",
    "<div style=\"margin-left: -2em;\">\n",
    "\n",
    "```python\n",
    "print()         # displays information\n",
    "\n",
    "input()         # requests user input; returns user input as a string\n",
    "type()          # returns the data type of the object\n",
    "isinstance()    # returns True iff two arguments are of the same data type\n",
    "len()           # returns the length of the object\n",
    "\n",
    "```\n",
    "</div>\n",
    "\n",
    "</div>"
   ]
  },
  {
   "cell_type": "markdown",
   "id": "f1062794",
   "metadata": {},
   "source": [
    "<span style=\"font-size: 16px; font-family: Geneva, Tahoma, Verdana, sans-serif;\">\n",
    "\n",
    "<h2>4. Jupyter Notebook Execution Details</h2>\n",
    "<div style=\"margin-left: 2em;\">\n",
    "<br>\n",
    "Observe the cell below:\n",
    "\n",
    "</div>"
   ]
  },
  {
   "cell_type": "code",
   "execution_count": null,
   "id": "03363aa9",
   "metadata": {},
   "outputs": [],
   "source": []
  },
  {
   "cell_type": "markdown",
   "id": "4eb9dfd7",
   "metadata": {},
   "source": [
    "<span style=\"font-size: 16px; font-family: Geneva, Tahoma, Verdana, sans-serif;\">\n",
    "\n",
    "<div style=\"margin-left: 2em;\">\n",
    "We can execute the code within this cell, as if it were a distinct Python file.\n",
    "\n",
    "Prior to running the cell, you'll notice\n",
    "\n",
    "In [  ]:\n",
    "    \n",
    "to the left of the cell.\n",
    "\n",
    "This is the count of the number of executions within the Notebook.\n",
    "\n",
    "The above cell does not increase in value when we run it because it's empty.\n",
    "    \n",
    "Run the cell below a few times and observe the behavior of In [ ].\n",
    "\n",
    "</div>"
   ]
  },
  {
   "cell_type": "code",
   "execution_count": null,
   "id": "d533c505",
   "metadata": {},
   "outputs": [],
   "source": [
    "# comments contain no instructions to execute"
   ]
  },
  {
   "cell_type": "markdown",
   "id": "8597d5d7",
   "metadata": {},
   "source": [
    "<span style=\"font-size: 16px; font-family: Geneva, Tahoma, Verdana, sans-serif;\">\n",
    "\n",
    "<div style=\"margin-left: 2em;\">\n",
    "One final thing to notice about Jupyter Notebook cell execution is that if you see an asterisk within the brackets, <code>In [*]</code>, this indicates the kernel is busy or has crashed, and needs to be either interrupted or restarted.\n",
    "\n",
    "<code>Kernel -> Interrupt</code>\n",
    "\n",
    "<code>Kernel -> Restart</code>\n",
    "\n",
    "Let's produce one such cell by running the following cell.\n",
    "    \n",
    "</div>"
   ]
  },
  {
   "cell_type": "code",
   "execution_count": null,
   "id": "81787b15",
   "metadata": {},
   "outputs": [],
   "source": [
    "# ignore this code for nowand\n",
    "# run the cell\n",
    "input()"
   ]
  },
  {
   "cell_type": "code",
   "execution_count": 57,
   "id": "a3e5a36f",
   "metadata": {},
   "outputs": [
    {
     "name": "stdout",
     "output_type": "stream",
     "text": [
      "Hello, World!\n"
     ]
    }
   ],
   "source": [
    "# then try to immediately run this cell\n",
    "print('Hello, World!')"
   ]
  },
  {
   "cell_type": "markdown",
   "id": "549b15d2",
   "metadata": {},
   "source": [
    "<span style=\"font-size: 16px; font-family: Geneva, Tahoma, Verdana, sans-serif;\">\n",
    "\n",
    "<div style=\"margin-left: 2em;\">\n",
    "\n",
    "You'll notice no other cells can be ran until the <code>[*]</code> cell has completed its execution.\n",
    "\n",
    "Interrupt or restart the kernel, then verify the Notebook is again functional by running another cell.\n",
    "    \n",
    "</div>"
   ]
  },
  {
   "cell_type": "code",
   "execution_count": 54,
   "id": "0d8de7e9",
   "metadata": {},
   "outputs": [
    {
     "name": "stdout",
     "output_type": "stream",
     "text": [
      "cell with known behavior\n"
     ]
    }
   ],
   "source": [
    "print(\"cell with known behavior\")"
   ]
  },
  {
   "cell_type": "markdown",
   "id": "3341b5d4",
   "metadata": {},
   "source": [
    "<span style=\"font-size: 16px; font-family: Geneva, Tahoma, Verdana, sans-serif;\">\n",
    "\n",
    "<h2>3. Jupyter Notebook's Display Behavior</h2>\n",
    "<div style=\"margin-left: 2em;\">\n",
    "<br>\n",
    "Run the following cell to see what happens.\n",
    "\n",
    "</div>"
   ]
  },
  {
   "cell_type": "code",
   "execution_count": null,
   "id": "5113e7e7",
   "metadata": {},
   "outputs": [],
   "source": [
    "# run this cell\n",
    "\"Hello, World!\""
   ]
  },
  {
   "cell_type": "code",
   "execution_count": null,
   "id": "b59bccf2",
   "metadata": {},
   "outputs": [],
   "source": [
    "# compare to\n",
    "print(\"Hello, World!\")"
   ]
  },
  {
   "cell_type": "markdown",
   "id": "fefee396",
   "metadata": {},
   "source": [
    "<span style=\"font-size: 16px; font-family: Geneva, Tahoma, Verdana, sans-serif;\">\n",
    "\n",
    "<div style=\"margin-left: 2em;\">\n",
    "\n",
    "Notice that even though we did not use the <code>print()</code> function, Jupyter Notebook displayed the last line of code for us as if we had written <code>print(\"Hello, World!\")</code>. Jupyter Notebook usually, but not always, does this.\n",
    "\n",
    "Students should not rely upon Jupyter Notebook to display information.\n",
    "\n",
    "To see what type of data we're working with (here, the text <code>\"Hello, World!\"</code>), we can use the <code>type()</code> function:\n",
    "```python\n",
    "type(\"Hello, World!\")\n",
    "```\n",
    "   \n",
    "Let's try that below:\n",
    "    \n",
    "</div>"
   ]
  },
  {
   "cell_type": "code",
   "execution_count": null,
   "id": "c6fec000",
   "metadata": {},
   "outputs": [],
   "source": [
    "# run this cell\n",
    "type(\"Hello, World!\")"
   ]
  },
  {
   "cell_type": "markdown",
   "id": "97965dc4",
   "metadata": {},
   "source": [
    "<span style=\"font-size: 16px; font-family: Geneva, Tahoma, Verdana, sans-serif;\">\n",
    "\n",
    "<div style=\"margin-left: 2em;\">\n",
    "    \n",
    "Our text, <code>\"Hello, World!\"</code>, is of the data type we call a <b>string</b>. In Python, we represent strings by enclosing them in a pair of quotation marks.\n"
   ]
  },
  {
   "cell_type": "code",
   "execution_count": null,
   "id": "3c8046fe",
   "metadata": {},
   "outputs": [],
   "source": []
  },
  {
   "cell_type": "markdown",
   "id": "05e4bcd1",
   "metadata": {},
   "source": [
    "<h1>Objective:</h1>\n",
    "\n",
    "Write your first script in Python!\n",
    "\n",
    "<h2>Instructions:</h2>\n",
    "\n",
    "<div style=\"margin-left: 1em;\">\n",
    "insert a new cell below this cell</li>\n",
    "<li></li>\n",
    "Type\n",
    "```python\n",
    "print()\n",
    "```\n",
    "\n",
    "```python\n",
    "# example of single line comment\n",
    "```\n",
    "</div>"
   ]
  },
  {
   "cell_type": "code",
   "execution_count": null,
   "id": "a9fffe1f",
   "metadata": {},
   "outputs": [],
   "source": []
  },
  {
   "cell_type": "code",
   "execution_count": null,
   "id": "889c7288",
   "metadata": {},
   "outputs": [],
   "source": []
  }
 ],
 "metadata": {
  "kernelspec": {
   "display_name": "Python 3 (ipykernel)",
   "language": "python",
   "name": "python3"
  },
  "language_info": {
   "codemirror_mode": {
    "name": "ipython",
    "version": 3
   },
   "file_extension": ".py",
   "mimetype": "text/x-python",
   "name": "python",
   "nbconvert_exporter": "python",
   "pygments_lexer": "ipython3",
   "version": "3.10.2"
  }
 },
 "nbformat": 4,
 "nbformat_minor": 5
}
