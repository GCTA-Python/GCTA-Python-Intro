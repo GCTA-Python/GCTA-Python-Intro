{
 "cells": [
  {
   "cell_type": "markdown",
   "id": "212d273d",
   "metadata": {},
   "source": [
    "<span style=\"font-size: 16px; font-family: Geneva, Tahoma, Verdana, sans-serif;\">\n",
    "\n",
    "<h1>Topics Covered:</h1>\n",
    "\n",
    "<ol style=\"padding-left: 2em\">\n",
    "<li>Jupyter Notebook Usage</li>\n",
    "<li>Coding Fundamentals</li>\n",
    "<li>Python Fundamentals</li>\n",
    "<li>Naming Conventions</li>\n",
    "<li>Comments in Python</li>\n",
    "</ol>"
   ]
  },
  {
   "cell_type": "markdown",
   "id": "b5881091",
   "metadata": {},
   "source": [
    "<span style=\"font-size: 16px; font-family: Geneva, Tahoma, Verdana, sans-serif;\">\n",
    "\n",
    "<h2>1. Jupyter Notebook Usage:</h2>\n",
    "<ul style=\"list-style: square;\">\n",
    "<li>Each block of code or text will be referred to as a cell</li>\n",
    "<li>To run a cell: (1) press <kbd>Shift+Enter</kbd> or (2) click the [▶ Run] button above</li>\n",
    "<li>To add a cell: Using the buttons above: insert -> insert cell above/below</li>\n",
    "</ul>\n",
    "</span>"
   ]
  },
  {
   "cell_type": "markdown",
   "id": "053fa443",
   "metadata": {},
   "source": [
    "<span style=\"font-size: 16px; font-family: Geneva, Tahoma, Verdana, sans-serif;\">\n",
    "<h2>2. Coding Fundamentals:</h2>\n",
    "\n",
    "<div style=\"margin-left: 1em;\">\n",
    "<h4>Solving Problems</h4>\n",
    "\n",
    "When solving a problem, you should first solve for correctness. Something such as optimization, is usually best done after a correct solution is obtained.\n",
    "\n",
    "<h4>Pseudo Code</h4>\n",
    "    \n",
    "Pseudo code is a plain language description of the steps you take to solve a problem, typically a description of an algorithm. Pseudo code can help you better plan, then execute (code), your solution to some problem.\n",
    "\n",
    "<h4>Dealing with Complexity:</h4>\n",
    "\n",
    "When a problem is overwhelmingly difficult to deal with, try to ignore irrelevant details and focus on only the parts that you understand, and recognize as relevant. <i>Try to break apart complex problems into more manageable parts you can understand or solve more easily.</i>\n",
    "    \n",
    "</div>"
   ]
  },
  {
   "cell_type": "markdown",
   "id": "21b58513",
   "metadata": {},
   "source": [
    "<span style=\"font-size: 16px; font-family: Geneva, Tahoma, Verdana, sans-serif;\">\n",
    "\n",
    "<h2>3. Python Fundamentals</h2>\n",
    "\n",
    "<div style=\"margin-left: 1em;\">\n",
    "<br>\n",
    "Python is a dynamically (and implicitly) typed, interpreted language, where (nearly) everything is an <b>object</b>.\n",
    "    \n",
    "Python has special words, called <b>keywords</b>, which are not objects, and are reserved for specific purposes.\n",
    "    \n",
    "Python includes many <b>built-in</b> features (such as built-in functions), which means they come included with the Python source code.\n",
    "\n",
    "Python is an <b>interpreted language</b> that interfaces with another program, an \"interpreter\", which then translates Python code to the target machine (i.e. into machine code) for execution.\n",
    "\n",
    "<b>Compiled languages</b> must first be translated into machine code to be executed. This sort of precomputation reduces overhead, generally resulting in better performance. C++ is an example of a compiled language.<br>\n",
    "\n",
    "\n",
    "</div>"
   ]
  },
  {
   "cell_type": "markdown",
   "id": "11cb3069",
   "metadata": {},
   "source": [
    "<span style=\"font-size: 16px; font-family: Geneva, Tahoma, Verdana, sans-serif;\">\n",
    "\n",
    "<h2>4. Naming Conventions</h2>\n",
    "\n",
    "<div style=\"margin-left: 1em;\">\n",
    "<br>\n",
    "The most common naming conventions are the following:\n",
    "<ul>\n",
    "  <li>Camel Case: someVariable</li>\n",
    "  <li>Snake Case: some_variable</li>\n",
    "  <li>Pascal Case: SomeVariable</li>\n",
    "</ul>\n",
    "\n",
    "\n",
    "\n",
    "\n",
    "<b>Camel Case</b> always starts out lowercase with each word delimited by a capital letter (like personOne, textUtil, thingsToDo).\n",
    "    \n",
    "<b>Pascal Case</b> is similar to camel case, but the first letter is always capitalized (like PersonOne, TextUtil, ThingsToDo).\n",
    "    \n",
    "<b>Snake Case</b> means that we delimit words with an underscore (like person_one, text_util, things_to_do).\n",
    "\n",
    "The naming convention you use will often be predetermined for you by, for example, an existing code base you are working on. Concsistency is often more important than whatever convention is adopted.\n",
    "\n",
    "<b>Important</b>: In this course we will always use snake_case.\n",
    "    \n",
    "</div>"
   ]
  },
  {
   "cell_type": "markdown",
   "id": "74e3e1d5",
   "metadata": {},
   "source": [
    "<span style=\"font-size: 16px; font-family: Geneva, Tahoma, Verdana, sans-serif;\">\n",
    "\n",
    "<h2>5. Comments in Python</h2>\n",
    "\n",
    "<div style=\"margin-left: 1em;\">\n",
    "\n",
    "```python\n",
    "# example of single line comment\n",
    "```\n",
    "    \n",
    "```python\n",
    "'''\n",
    "example of\n",
    "multi-line\n",
    "comment\n",
    "'''\n",
    "```\n",
    "\n",
    "\n",
    "Comments exist in virtually every programming language, and while the syntax to write a comment may differ among various languages, the contents should not. Comments are written for humans to read, not machines.\n",
    "\n",
    "Comments should improve the readability of your code by providing relevant information to the reader. And in the context of this class, you will often read comments that intend to provide important or otherwise clarifying information to you.\n",
    "</div>"
   ]
  }
 ],
 "metadata": {
  "kernelspec": {
   "display_name": "Python 3 (ipykernel)",
   "language": "python",
   "name": "python3"
  },
  "language_info": {
   "codemirror_mode": {
    "name": "ipython",
    "version": 3
   },
   "file_extension": ".py",
   "mimetype": "text/x-python",
   "name": "python",
   "nbconvert_exporter": "python",
   "pygments_lexer": "ipython3",
   "version": "3.10.2"
  }
 },
 "nbformat": 4,
 "nbformat_minor": 5
}
