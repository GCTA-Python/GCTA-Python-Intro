{
 "cells": [
  {
   "cell_type": "markdown",
   "id": "189b784c",
   "metadata": {},
   "source": [
    "<h1 class=\"title\">Cheat Sheet v0.1</h1>\n",
    "<span class=\"center\">press <kbd>alt+f4</kbd> (win) or <kbd>cmd+w</kbd> (osx) to anonymously support cheating</span>\n",
    "<br>"
   ]
  },
  {
   "cell_type": "markdown",
   "id": "4ac4212a",
   "metadata": {},
   "source": [
    "<h1>\n",
    "    Basic Data Types<br>\n",
    "    <code class=\"subhead\"> str  int  float  bool  None </code>\n",
    "</h1>\n",
    "<table class=\"default_table\">\n",
    "    <tr class=\"header\">\n",
    "        <th style=\"text-align: left;\"> Name </th>\n",
    "        <th style=\"text-align: left;\"> Keyword </th>\n",
    "        <th style=\"text-align: center;\"> Examples </th>\n",
    "        <th style=\"text-align: center;\"> Full Name </th>\n",
    "    </tr>\n",
    "    <tr>\n",
    "        <td style=\"text-align: left;\"> string </td>\n",
    "        <td style=\"text-align: center;\"> <b>str</b> </td>\n",
    "        <td style=\"text-align: center;\"> \"z\", \"foo\", \"Hello, World!\", \"3.0\", \"int\" </td>\n",
    "        <td style=\"text-align: center;\"> - </td>\n",
    "    </tr>\n",
    "    <tr>\n",
    "        <td style=\"text-align: left;\"> integer </td>\n",
    "        <td style=\"text-align: center;\"> <b>int</b> </td>\n",
    "        <td style=\"text-align: center;\"> -11, -2, 0, 3, 101 </td>\n",
    "        <td style=\"text-align: center;\"> - </td>\n",
    "    </tr>\n",
    "    <tr>\n",
    "        <td style=\"text-align: left;\"> float </td>\n",
    "        <td style=\"text-align: center;\"> <b>float</b> </td>\n",
    "        <td style=\"text-align: center;\"> -96.4, -2.0, 0.0, 0.8, 3.0, 101.1  </td>\n",
    "        <td style=\"text-align: center;\"> floating-point </td>\n",
    "    </tr>\n",
    "    <tr>\n",
    "        <td style=\"text-align: left;\"> bool </td>\n",
    "        <td style=\"text-align: center;\"> <b>bool</b> </td>\n",
    "        <td style=\"text-align: center;\"> True, False </td>\n",
    "        <td style=\"text-align: center;\"> boolean </td>\n",
    "    </tr>\n",
    "    <tr>\n",
    "        <td style=\"text-align: left;\"> none </td>\n",
    "        <td style=\"text-align: center;\"> <b>None</b> </td>\n",
    "        <td style=\"text-align: center;\"> None </td>\n",
    "        <td style=\"text-align: center;\"> none type </td>\n",
    "    </tr>\n",
    "<table>"
   ]
  },
  {
   "cell_type": "markdown",
   "id": "bf0f8029",
   "metadata": {},
   "source": [
    "<h1>\n",
    "    Comparison Operators<br>\n",
    "    <code class=\"subhead\"> ==   !=   &gt   &lt   &gt=   &lt= </code>\n",
    "</h1>\n",
    "\n",
    "<table class=\"default_table\">\n",
    "    <tr class=\"header\">\n",
    "        <th style=\"text-align: center;\"> Operator </th>\n",
    "        <th style=\"text-align: center;\"> Operation Description </th>\n",
    "        <th style=\"text-align: center;\"> Example Usage </th>\n",
    "    </tr>\n",
    "    <tr>\n",
    "        <td style=\"text-align: center;\"> <b>==</b> </td>\n",
    "        <td style=\"text-align: center;\"> equal (value equality) </td>\n",
    "        <td style=\"text-align: left;\"><code> 1 == 1  # evaluates to True </code><br>\n",
    "                                      <code> 1 == 2  # evaluates to False</code></td>\n",
    "    </tr>\n",
    "    <tr>\n",
    "        <td style=\"text-align: center;\"> <b>!=</b> </td>\n",
    "        <td style=\"text-align: center;\"> not equal (value inequality) </td>\n",
    "        <td style=\"text-align: left;\"><code> 1 != 2  # evaluates to True </code><br>\n",
    "                                      <code> 1 != 1  # evaluates to False </code></td>\n",
    "    </tr>\n",
    "    <tr>\n",
    "        <td style=\"text-align: center;\"> <b>&gt</b> </td>\n",
    "        <td style=\"text-align: center;\"> greater than </td>\n",
    "        <td style=\"text-align: left;\"><code> 2 &gt 1  # evaluates to True </code><br>\n",
    "                                      <code> 2 &gt 2  # evaluates to False </code><br>\n",
    "                                      <code> 1 &gt 2  # evaluates to False </code></td>\n",
    "    </tr>\n",
    "    <tr>\n",
    "        <td style=\"text-align: center;\"> <b>&lt</b> </td>\n",
    "        <td style=\"text-align: center;\"> less than </td>\n",
    "        <td style=\"text-align: left;\"><code> 1 &lt 2  # evaluates to True </code><br>\n",
    "                                      <code> 2 &lt 2  # evaluates to False </code><br>\n",
    "                                      <code> 2 &lt 1  # evaluates to False </code></td>\n",
    "    </tr>\n",
    "    <tr>\n",
    "        <td style=\"text-align: center;\"> <b>&gt=</b> </td>\n",
    "        <td style=\"text-align: center;\"> greater than or equal </td>\n",
    "        <td style=\"text-align: left;\"><code> 2 &gt= 1  # evaluates to True </code><br>\n",
    "                                      <code> 1 &gt= 1  # evaluates to True </code><br>\n",
    "                                      <code> 0 &gt= 1  # evaluates to False </code></td>\n",
    "    </tr>\n",
    "    <tr>\n",
    "        <td style=\"text-align: center;\"> <b>&lt=</b> </td>\n",
    "        <td style=\"text-align: center;\"> less than or equal </td>\n",
    "        <td style=\"text-align: left;\"><code> 0 &lt= 1  # evaluates to True </code><br>\n",
    "                                      <code> 1 &lt= 1  # evaluates to True </code><br>\n",
    "                                      <code> 2 &lt= 1  # evaluates to False </code></td>\n",
    "    </tr>\n",
    "<table>"
   ]
  },
  {
   "cell_type": "markdown",
   "id": "e4c51fcd",
   "metadata": {},
   "source": [
    "<h1>\n",
    "    Logical Operators<br>\n",
    "    <code class=\"subhead\"> and  or  not </code>\n",
    "</h1>\n",
    "\n",
    "<table class=\"default_table\">\n",
    "    <tr class=\"header\">\n",
    "        <th style=\"text-align: center;\"> Operator </th>\n",
    "        <th style=\"text-align: center;\"> Operation Description </th>\n",
    "        <th style=\"text-align: center;\"> Example Usage </th>\n",
    "    </tr>\n",
    "    <tr>\n",
    "        <td style=\"text-align: center;\"> <b>and</b> </td>\n",
    "        <td style=\"text-align: center;\"> both are True </td>\n",
    "        <td style=\"text-align: left;\"><code> True and True # evaluates to True </code><br>\n",
    "                                        <code> True and False # evaluates to False</code><br>\n",
    "                                        <code> False and True # evaluates to False</code><br>\n",
    "                                        <code> False and False # evaluates to False</code></td>\n",
    "    </tr>\n",
    "    <tr>\n",
    "        <td style=\"text-align: center;\"> <b>or</b> </td>\n",
    "        <td style=\"text-align: center;\"> at least one is True </td>\n",
    "        <td style=\"text-align: left;\"><code> True or True # evaluates to True </code><br>\n",
    "                                        <code> True or False # evaluates to True</code><br>\n",
    "                                        <code> False or True # evaluates to True</code><br>\n",
    "                                        <code> False or False # evaluates to False</code></td>\n",
    "    </tr>\n",
    "    <tr>\n",
    "        <td style=\"text-align: center;\"> <b>not</b> </td>\n",
    "        <td style=\"text-align: center;\"> inverse (opposite) </td>\n",
    "        <td style=\"text-align: left;\"><code> not False # evaluates to True </code><br>\n",
    "                                      <code> not True # evaluates to False</code><br>\n",
    "    </tr>\n",
    "<table>"
   ]
  },
  {
   "cell_type": "markdown",
   "id": "2a4ef99b",
   "metadata": {},
   "source": [
    "<h1>\n",
    "    Special Operators<br>\n",
    "    <code class=\"subhead\"> is  in </code>\n",
    "</h1>\n",
    "\n",
    "<table class=\"default_table\">\n",
    "    <tr class=\"header\">\n",
    "        <th style=\"text-align: center;\"> Operator </th>\n",
    "        <th style=\"text-align: center;\"> Name </th>\n",
    "        <th style=\"text-align: center;\"> Operation Description </th>\n",
    "        <th style=\"text-align: center;\"> Example Usage </th>\n",
    "    </tr>\n",
    "    <tr>\n",
    "        <td style=\"text-align: center;\"> <b>is</b> </td>\n",
    "        <td style=\"text-align: center;\"> identity <br>operator </td>\n",
    "        <td style=\"text-align: center;\"> checks for <br><b>reference</b> equality <br></td>\n",
    "        <td style=\"text-align: left;\"><code> x = None<br> x is None  # evaluates to True </code><br>\n",
    "                                      <code> </code><br>\n",
    "                                      <code> <b>note</b>: do <b>not</b> use with numbers</code><br></td>\n",
    "        now works with numbers...\n",
    "    </tr>\n",
    "    <tr>\n",
    "        <td style=\"text-align: center;\"> <b>in</b> </td>\n",
    "        <td style=\"text-align: center;\"> membership <br>operator </td>\n",
    "        <td style=\"text-align: center;\"> checks for <br>membership </td>\n",
    "        <td style=\"text-align: left;\"><code> # examples that evaluate to True:</code><br>\n",
    "                                      <code> 1 in [\"dog\", 1, 2.3] </code><br>\n",
    "                                      <code> \"foo\" in [True, 3.2, \"foo\"] </code><br>\n",
    "                                      <code> -1.0 in [-1, 0, 2] </code><br>\n",
    "                                      <code> </code><br>\n",
    "                                      <code> # examples that evaluate to False:</code><br>\n",
    "                                      <code> 1.9 in [-1, 0, 2] </code><br></td>\n",
    "    </tr>\n",
    "<table>"
   ]
  },
  {
   "cell_type": "markdown",
   "id": "152b800b",
   "metadata": {},
   "source": [
    "<p>\n",
    "    test\n",
    "</p>"
   ]
  },
  {
   "cell_type": "code",
   "execution_count": 1,
   "id": "da0303af",
   "metadata": {},
   "outputs": [
    {
     "data": {
      "text/plain": [
       "True"
      ]
     },
     "execution_count": 1,
     "metadata": {},
     "output_type": "execute_result"
    }
   ],
   "source": [
    "-1.0 in [1.0, -1.1, -1]"
   ]
  },
  {
   "cell_type": "code",
   "execution_count": 2,
   "id": "305b9f69",
   "metadata": {},
   "outputs": [
    {
     "data": {
      "text/plain": [
       "True"
      ]
     },
     "execution_count": 2,
     "metadata": {},
     "output_type": "execute_result"
    }
   ],
   "source": [
    "11000000000000000000 == 11000000000000000000"
   ]
  },
  {
   "cell_type": "markdown",
   "id": "aebef3b1",
   "metadata": {},
   "source": [
    "<h1>\n",
    "    Assignment Operator &nbsp;\n",
    "    <code style=\"font-size: 22px;\">=</code>\n",
    "</h1>\n",
    "\n",
    "<br>\n",
    "<span style=\"font-size: 18px;\">\n",
    "variale_name <span style=\"color:red\">=</span> object_being_assigned\n",
    "</span>\n",
    "    \n",
    "<span style=\"font-size: 18px;\"><b>Usage Examples:</b></span>\n",
    "    \n",
    "<code>x = 1</code><br>\n",
    "<code>variable = \"foo\"</code><br>\n",
    "<code>name_three = 2.1</code><br>\n",
    "\n",
    "<h1>\n",
    "    Assignment Statements\n",
    "</h1>\n",
    "    if <code>x = 0</code><br>\n",
    "    increase the value of x by n:<br>\n",
    "    <code>x += n</code><br>\n",
    "    decrease the value of x by n:<br>\n",
    "    <code>x -= n</code><br>\n"
   ]
  },
  {
   "cell_type": "markdown",
   "id": "cb577d54",
   "metadata": {},
   "source": []
  },
  {
   "cell_type": "code",
   "execution_count": 3,
   "id": "c504d349",
   "metadata": {},
   "outputs": [
    {
     "data": {
      "text/html": [
       "<style>/* body {\n",
       "    \n",
       "} */\n",
       "\n",
       "\n",
       ".title {\n",
       "    font-size: 4em !important;\n",
       "    text-align: left !important;\n",
       "    /* font-weight: bold !important; */\n",
       "}\n",
       "\n",
       ".center {\n",
       "    text-align: center !important;\n",
       "}\n",
       "\n",
       "\n",
       "/* override cell formatting*/\n",
       "div.text_cell_render {\n",
       "    /* background-color:Tomato !important; */\n",
       "    font-family: Geneva, Tahoma, Verdana, sans-serif !important;\n",
       "    font-size: 16px !important;\n",
       "}\n",
       "\n",
       "/* code summary under headers */\n",
       "code.subhead {\n",
       "    font-size: 18px !important;\n",
       "}\n",
       "\n",
       "table.default_table {\n",
       "    font-family: Consolas, monaco, monospace !important;\n",
       "    font-size: 18px !important;\n",
       "    margin-left: 0 !important;\n",
       "    \n",
       "}\n",
       "\n",
       "/* header color */\n",
       "tr.header {\n",
       "    background: #e6e6e6 !important;\n",
       "}\n",
       "\n",
       "\n",
       "\n",
       "/* striped table */\n",
       "tr:nth-child(odd):not(:nth-child(0)) {\n",
       "    background-color: #f2f2f2;\n",
       "}\n",
       "\n",
       "/* match code blocks */\n",
       "tr:nth-child(even):not(:nth-child(0)) code {\n",
       "    background-color: inherit !important\n",
       "}\n",
       "\n",
       "/* match code blocks */\n",
       "tr:nth-child(odd) code {\n",
       "    background-color: inherit !important\n",
       "}\n",
       "\n",
       "/* match code hover color */\n",
       "table tr:hover code {\n",
       "    /* background-color: inherit !important /* background-color: rgba(66, 165, 245, 0.2) !important;  /* hardcoded default */ \n",
       "}\n",
       "\n",
       "/* default override to fix hover coloring issue */\n",
       "code {\n",
       "    padding: 0px;\n",
       "}\n",
       "\n",
       "\n",
       "</style>"
      ],
      "text/plain": [
       "<IPython.core.display.HTML object>"
      ]
     },
     "execution_count": 3,
     "metadata": {},
     "output_type": "execute_result"
    }
   ],
   "source": [
    "from IPython.core.display import HTML\n",
    "with open(\"./css/custom.css\", \"r\") as styles:\n",
    "    style = styles.read()\n",
    "HTML(f'<style>{style}</style>')"
   ]
  }
 ],
 "metadata": {
  "kernelspec": {
   "display_name": "Python 3 (ipykernel)",
   "language": "python",
   "name": "python3"
  },
  "language_info": {
   "codemirror_mode": {
    "name": "ipython",
    "version": 3
   },
   "file_extension": ".py",
   "mimetype": "text/x-python",
   "name": "python",
   "nbconvert_exporter": "python",
   "pygments_lexer": "ipython3",
   "version": "3.10.2"
  }
 },
 "nbformat": 4,
 "nbformat_minor": 5
}
