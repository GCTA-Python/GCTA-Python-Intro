{
 "cells": [
  {
   "cell_type": "markdown",
   "id": "a19b7d3f",
   "metadata": {},
   "source": [
    "<span style=\"font-size: 16px; font-family: Geneva, Tahoma, Verdana, sans-serif;\">\n",
    "\n",
    "<h1>Objectives and Outcome</h1>\n",
    "<div style=\"margin-left: 2em;\">\n",
    "<br>\n",
    "By the end of this lesson, you should:\n",
    "    \n",
    "- Know how to use the seven arithmetic operators covered in this section.\n",
    "    \n",
    "- Understand that the order in which specific operators within expression is evaluated, depends on precedence.\n",
    "    \n",
    "- Know how to use augmented assignment operators.\n",
    "\n",
    "</div>\n",
    "</span>"
   ]
  },
  {
   "cell_type": "markdown",
   "id": "e0e43c52",
   "metadata": {},
   "source": [
    "<span style=\"font-size: 16px; font-family: Geneva, Tahoma, Verdana, sans-serif;\">\n",
    " \n",
    "<h1>Motivation</h1>\n",
    "<div style=\"margin-left: 2em;\">\n",
    "<br>\n",
    "Arithmetic operators are a fundamental part of computational solutions.\n",
    "<br>\n",
    "\n",
    "</div>\n",
    "</span>"
   ]
  },
  {
   "cell_type": "markdown",
   "id": "4eb4daa0",
   "metadata": {},
   "source": [
    "<span style=\"font-size: 16px; font-family: Geneva, Tahoma, Verdana, sans-serif;\">\n",
    "\n",
    "<h1>Topics Covered</h1>\n",
    "\n",
    "<ol style=\"padding-left: 3.2em\">\n",
    "    <li>Arithmetic Operators</li>\n",
    "    <li>Unary vs Binary Operators</li>\n",
    "    <li>Operator Precedence</li>\n",
    "    <li>Augmented Assignments</li>\n",
    "</ol>\n",
    "    \n",
    "</span>\n"
   ]
  },
  {
   "cell_type": "markdown",
   "id": "0797e50d",
   "metadata": {},
   "source": [
    "<span style=\"font-size: 16px; font-family: Geneva, Tahoma, Verdana, sans-serif;\">\n",
    "\n",
    "<h1>1. Arithmetic Operators</h1>\n",
    "\n",
    "<div style=\"margin-left: 2em;\">\n",
    "<br>\n",
    "Arithmetic operators are symbols we use to represent arithmetic operations, some of which you've probably seen before.\n",
    "<br><br>    \n",
    "</div>\n",
    "    \n",
    "<ul style=\"list-style: none; margin-top: 0;\">\n",
    "    <li><code>+ </code>&emsp;addition</li>\n",
    "    <li><code>- </code>&emsp;subtraction</li>\n",
    "    <li><code>* </code>&emsp;multiplication</li>\n",
    "    <li><code>/ </code>&emsp;division</li>\n",
    "    <li><code>**</code>&emsp;exponentiation</li>\n",
    "    <li><code>//</code>&emsp;floor division</li>\n",
    "    <li><code>% </code>&emsp;remainder (modulo)</li>\n",
    "</ul>\n",
    "\n",
    "<div style=\"margin-left: 2em;\">\n",
    "<br>\n",
    "Examples:\n",
    "    \n",
    "```python\n",
    "4 + 1  # this expression evaluates to 5\n",
    "2 - 3  # this expression evaluates to -1\n",
    "5 * 5  # this expression evaluates to 25\n",
    "```\n",
    "    \n",
    "When an arithmetic data type is assigned (or bound) to a variable name, we can use its name in place of the number.\n",
    "    \n",
    "```python\n",
    "num1 = 2\n",
    "num2 = 5\n",
    "sum_of_nums = num1 * numm2\n",
    "```\n",
    "\n",
    "And after the code above is ran, exactly when the interpreter is on the very next line after the expression, the expression <code>sum_of_nums = num1 * numm2</code> has been evaluated, and <code>sum_of_nums</code> will thereafter represent the integer <code>10</code>. Effectively as if we had just written <code>sum_of_nums = 10</code>.\n",
    "\n",
    "</div>\n",
    "</span>"
   ]
  },
  {
   "cell_type": "markdown",
   "id": "d12bb573",
   "metadata": {},
   "source": [
    "<span style=\"font-size: 16px; font-family: Geneva, Tahoma, Verdana, sans-serif;\">\n",
    "\n",
    "<h1>Code Examples:</h1>\n",
    "\n",
    "<div style=\"margin-left: 2em;\">\n",
    "\n",
    "<br>\n",
    "Run the cells below, paying close attention to their outputs. Modify the code to test your knowledge and try any ideas you have about how they work.\n",
    "</div>"
   ]
  },
  {
   "cell_type": "code",
   "execution_count": null,
   "id": "c0979138",
   "metadata": {},
   "outputs": [],
   "source": [
    "# addition operator\n",
    "print(1 + 2)"
   ]
  },
  {
   "cell_type": "code",
   "execution_count": null,
   "id": "67bcdea2",
   "metadata": {},
   "outputs": [],
   "source": [
    "# subtraction operator\n",
    "print(4 - 2)"
   ]
  },
  {
   "cell_type": "code",
   "execution_count": null,
   "id": "49b99923",
   "metadata": {
    "scrolled": true
   },
   "outputs": [],
   "source": [
    "# multiplication operator\n",
    "print(2 * 3)"
   ]
  },
  {
   "cell_type": "code",
   "execution_count": null,
   "id": "bd666fbb",
   "metadata": {},
   "outputs": [],
   "source": [
    "# division operator\n",
    "print(5 / 2)"
   ]
  },
  {
   "cell_type": "code",
   "execution_count": null,
   "id": "fe8eb645",
   "metadata": {},
   "outputs": [],
   "source": [
    "# exponentiation operator\n",
    "print(3**2)"
   ]
  },
  {
   "cell_type": "code",
   "execution_count": null,
   "id": "d55f45e9",
   "metadata": {},
   "outputs": [],
   "source": [
    "# floor division operator\n",
    "print(6 // 4)"
   ]
  },
  {
   "cell_type": "code",
   "execution_count": null,
   "id": "dea0e12d",
   "metadata": {},
   "outputs": [],
   "source": [
    "# remainder operator (modulo)\n",
    "print(5 % 2)"
   ]
  },
  {
   "cell_type": "code",
   "execution_count": null,
   "id": "e9f421c1",
   "metadata": {},
   "outputs": [],
   "source": [
    "# a variable name that represents a numeric data type\n",
    "# can be used as if it were the number itself\n",
    "number1 = 3\n",
    "number2 = 4\n",
    "number_sum = number1 + number2\n",
    "print(number_sum)"
   ]
  },
  {
   "cell_type": "code",
   "execution_count": null,
   "id": "b12dffef",
   "metadata": {},
   "outputs": [],
   "source": [
    "# variable names can of course be mixed with numbers\n",
    "number = 5\n",
    "difference = number - 3\n",
    "print(difference)"
   ]
  },
  {
   "cell_type": "markdown",
   "id": "edb8e656",
   "metadata": {},
   "source": [
    "<span style=\"font-size: 16px; font-family: Geneva, Tahoma, Verdana, sans-serif;\">\n",
    "\n",
    "<h1>2. Unary vs Binary Operators</h1>\n",
    "    \n",
    "<div style=\"margin-left: 2em;\">\n",
    "<br>\n",
    "While a given workload can make the <b>unary</b> vs. <b>binary</b> operator distinction seem irrelevant, it is critically important to understand this distinction for the cases in which it presents itself (such as in debugging an erroneous exponentiation expression).\n",
    "    \n",
    "Operators with one operand are called <b>unary</b> operators (think <b>uni</b>cycle), and operators with two operands are called <b>binary</b> operators (think <b>bi</b>cycle).\n",
    "    \n",
    "Example of a unary operator:\n",
    "    \n",
    "```python\n",
    "-1\n",
    "```\n",
    "    \n",
    "Example of a binary operator:\n",
    "    \n",
    "```python\n",
    "1 + 1\n",
    "```\n",
    "    \n",
    "Illustration of importance:\n",
    "    \n",
    "```python\n",
    "-3 ** 2  # evaluates to -9\n",
    "```\n",
    "    \n",
    "What?! If you're familiar with the mathematical conventions of exponentiation, squaring a negative number results in a positive number (i.e. under traditional mathematical convention, <code>-3&nbsp;\\** 2</code> is equal to <code>9</code>). This is because the operation you're performing implicitly adopts the traditional mathematical convention to multiply the number <code>-3</code> by itself (<code>-3&nbsp;\\*&nbsp;-3</code> equals <code>9</code>).\n",
    "\n",
    "In Python, the negative sign is read as a uniary operator of lower <b>precedence</b> than the arithmetic operator. The proper representation in Python would therefore be <code>(-3) ** 2</code>, which forces the negative operator to bind to the <code>3</code>, and evaluates to <code>9</code>.\n",
    "    \n",
    "When you write <code>-3 ** 2</code>, the interpreter follows <b>operator precedence</b> and reads <code>3 ** 2</code>, then applies the negative symbol as a unary operator, similar to if we were to write <code>-(3 ** 2)</code>. Run the code cells below, pay close attention to their outputs, and modify them to test your knowledge of unary operators.\n",
    "</div>\n",
    "</span>"
   ]
  },
  {
   "cell_type": "code",
   "execution_count": null,
   "id": "8e7ca19f",
   "metadata": {},
   "outputs": [],
   "source": [
    "-3 ** 2"
   ]
  },
  {
   "cell_type": "code",
   "execution_count": null,
   "id": "7bb24bd4",
   "metadata": {},
   "outputs": [],
   "source": [
    "-(3 ** 2)"
   ]
  },
  {
   "cell_type": "code",
   "execution_count": null,
   "id": "8c6795fe",
   "metadata": {},
   "outputs": [],
   "source": [
    "(-3) ** 2"
   ]
  },
  {
   "cell_type": "code",
   "execution_count": null,
   "id": "2dca980d",
   "metadata": {},
   "outputs": [],
   "source": [
    "-5 ** 2"
   ]
  },
  {
   "cell_type": "code",
   "execution_count": null,
   "id": "6e32f697",
   "metadata": {},
   "outputs": [],
   "source": [
    "(-5) ** 2"
   ]
  },
  {
   "cell_type": "markdown",
   "id": "51e6c1a3",
   "metadata": {},
   "source": [
    "<span style=\"font-size: 16px; font-family: Geneva, Tahoma, Verdana, sans-serif;\">\n",
    "\n",
    "<h1>3. Operator Precedence</h1>\n",
    "    \n",
    "<div style=\"margin-left: 2em;\">\n",
    "<br>\n",
    "If you tried <code>-4 - 2</code> and applied the observed behavior of exponentiation, you may have concluded that the expression would evaluate as <code>-(4 - 2)</code>. Not so. Operators in Python strictly adhere to a defined <b>precedence</b> that determines the order in which they are evaluated.\n",
    "\n",
    "Python operator precedence follows a mnemonic you may have been previously exposed to:<br>\n",
    "<b>P</b>. <b>E</b>. <b>M</b>. <b>D</b>., <b>A</b>., <b>S</b>., or<br>\n",
    "<b>P</b>lease <b>E</b>xcuse <b>M</b>y <b>D</b>ear <b>A</b>unt <b>S</b>ally, which represents<br>\n",
    "<b>P</b>arenthesis, <b>E</b>xponent, <b>M</b>ultiplication, <b>D</b>ivision, <b>A</b>ddition, <b>S</b>ubtraction.<br>\n",
    "    \n",
    "Within operator precedence tables, execution order goes from the topmost line to bottommost line, and within each line, execution is ordered from left to right. If an operator is above an operator on a lower line, the topmost operator takes precedence. If two operators are on the same line, the leftmost operator takes precedence.\n",
    "\n",
    "<br>\n",
    "      \n",
    "```python\n",
    "( )            # parenthesis\n",
    "\n",
    "**             # exponentiation\n",
    "\n",
    "+ -            # positive number, negative number\n",
    "\n",
    "*  /  //  %    # multiplication, division, floor division, remainder (modulo)\n",
    "\n",
    "+  -           # addition and subtraction\n",
    "```\n",
    "<br>\n",
    "    \n",
    "The full table of operator precedence can be found [here](https://docs.python.org/3/reference/expressions.html#operator-precedence).\n",
    "<br>\n",
    "</div>\n",
    "</span>"
   ]
  },
  {
   "cell_type": "markdown",
   "id": "69405f6b",
   "metadata": {},
   "source": [
    "<span style=\"font-size: 16px; font-family: Geneva, Tahoma, Verdana, sans-serif;\">\n",
    "\n",
    "<h1>4. Augmented Assignments</h1>\n",
    "\n",
    "<div style=\"margin-left: 2em;\">\n",
    "<br>\n",
    "Augmented assignments are a shorthand for when we have a variable name that represents some value (e.g. <code>x = 1</code>), we want to perform an arithmetic operation on that variable (e.g., we want to add <code>3</code>) and reassign the result of the arithmetic operation to the same variable name (e.g. <code>x += 3</code>).\n",
    "    \n",
    "For example:\n",
    "    \n",
    "```python\n",
    "var = 2\n",
    "var = var + 3\n",
    "```\n",
    "Can be written using an augmented assignment statement:\n",
    "    \n",
    "```python\n",
    "var = 2\n",
    "var += 3\n",
    "```\n",
    "\n",
    "Given the expression: <code>left_operand += right_operand</code>, this expression takes the <code>right_operand</code> (a number) and adds it to the existing value of the <code>left_operand</code> (a named variable), then reassigns the result to that same <code>left_operand</code> variable name.\n",
    "    \n",
    "    \n",
    "Although any given Python script can technically be written without the use of augmented assignment operators, they are frequently used because they allow us to write cleaner (more readable) code. Augmented assignments are most commonly used to <b>increment</b> values (to add 1 to some value) and <b>decrement</b> values (to subtract 1 from some value) from an existing value.\n",
    "<br><br>    \n",
    "</div>\n",
    "    \n",
    "<ul style=\"list-style: none; margin-top: 0;\">\n",
    "    <li><code>+= </code>&emsp;addition</li>\n",
    "    <li><code>-= </code>&emsp;subtraction</li>\n",
    "    <li><code>*= </code>&emsp;multiplication</li>\n",
    "    <li><code>/= </code>&emsp;division</li>\n",
    "    <li><code>**=</code>&emsp;exponentiation</li>\n",
    "    <li><code>//=</code>&emsp;floor division</li>\n",
    "    <li><code>%= </code>&emsp;remainder (modulo)</li>\n",
    "</ul>\n",
    "\n",
    "<div style=\"margin-left: 2em;\">\n",
    "<br>\n",
    "You'll notice every one of these \"augments\" (the arithmetic operators we've just learned) take the form of a single arithmetic operator (e.g.&nbsp;<code>+</code>) immediately followed, without a space, by the assignment operator <code>=</code>.\n",
    "<br>\n",
    "\n",
    "<b>Examples:</b>\n",
    "    \n",
    "```python\n",
    "x = 3\n",
    "x += 1\n",
    "print(x)  # this will output 4\n",
    "    \n",
    "obnoxiously_long_and_probably_bad_name = 44\n",
    "obnoxiously_long_and_probably_bad_name = obnoxiously_long_and_probably_bad_name + 1\n",
    "print(obnoxiously_long_and_probably_bad_variable_name)  # this will output 45\n",
    " \n",
    "enrolled_students = 0\n",
    "enrolled_students += 1\n",
    "print(enrolled_students)  # this will output 1\n",
    "\n",
    "pizza_slices = 6\n",
    "pizza_slices -= 1\n",
    "print(pizza_slices)  # this will output 5\n",
    "```\n",
    "\n",
    "</div>\n",
    "</span>"
   ]
  },
  {
   "cell_type": "code",
   "execution_count": null,
   "id": "69c459e8",
   "metadata": {},
   "outputs": [],
   "source": [
    "x = 3\n",
    "x += 1\n",
    "print(x)  # this will output 4"
   ]
  },
  {
   "cell_type": "code",
   "execution_count": null,
   "id": "1a2b66df",
   "metadata": {},
   "outputs": [],
   "source": [
    "obnoxiously_long_and_probably_bad_name = 44\n",
    "obnoxiously_long_and_probably_bad_name = obnoxiously_long_and_probably_bad_name + 1\n",
    "print(obnoxiously_long_and_probably_bad_variable_name)  # this will output 45"
   ]
  },
  {
   "cell_type": "code",
   "execution_count": null,
   "id": "b3d6015f",
   "metadata": {},
   "outputs": [],
   "source": [
    "enrolled_students = 0\n",
    "enrolled_students += 1\n",
    "print(enrolled_students)  # this will output 1"
   ]
  },
  {
   "cell_type": "code",
   "execution_count": null,
   "id": "afd51956",
   "metadata": {},
   "outputs": [],
   "source": [
    "pizza_slices = 6\n",
    "pizza_slices -= 1\n",
    "print(pizza_slices)  # this will output 5"
   ]
  },
  {
   "cell_type": "code",
   "execution_count": null,
   "id": "1c48b99d",
   "metadata": {},
   "outputs": [],
   "source": [
    "y = 2\n",
    "y *= 3"
   ]
  }
 ],
 "metadata": {
  "kernelspec": {
   "display_name": "Python 3 (ipykernel)",
   "language": "python",
   "name": "python3"
  },
  "language_info": {
   "codemirror_mode": {
    "name": "ipython",
    "version": 3
   },
   "file_extension": ".py",
   "mimetype": "text/x-python",
   "name": "python",
   "nbconvert_exporter": "python",
   "pygments_lexer": "ipython3",
   "version": "3.10.2"
  }
 },
 "nbformat": 4,
 "nbformat_minor": 5
}
