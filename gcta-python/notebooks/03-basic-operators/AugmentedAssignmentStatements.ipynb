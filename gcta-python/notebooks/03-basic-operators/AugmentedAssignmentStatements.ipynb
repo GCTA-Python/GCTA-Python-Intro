{
 "cells": [
  {
   "cell_type": "code",
   "execution_count": 36,
   "id": "3b97af1a",
   "metadata": {},
   "outputs": [
    {
     "name": "stdout",
     "output_type": "stream",
     "text": [
      "Helper functions successfully loaded!\n"
     ]
    }
   ],
   "source": [
    "%run ./{load}.ipynb"
   ]
  },
  {
   "cell_type": "markdown",
   "id": "489fa593",
   "metadata": {},
   "source": [
    "<h1>Augmented Assignment Operators</h1> <br>\n",
    "<b>AKA</b>: \"compound assignment operators\" (Python Institute)... are members of augumented/compound <i>assignment statements</i>.\n",
    "\n",
    "[https://docs.python.org/3/reference/simple_stmts.html#assignment-statements](https://docs.python.org/3/reference/simple_stmts.html#assignment-statements)\n",
    "\n"
   ]
  },
  {
   "cell_type": "markdown",
   "id": "12df2320",
   "metadata": {},
   "source": [
    "<h1>\n",
    "    Basic Data Types<br>\n",
    "    <code class=\"subhead\"> str  int  float  bool  None </code>\n",
    "</h1>\n",
    "<table class=\"default_table\">\n",
    "    <tr class=\"header\">\n",
    "        <th style=\"text-align: left;\"> Code Name </th>\n",
    "        <th style=\"text-align: center;\"> Examples </th>\n",
    "        <th style=\"text-align: center;\"> Full Name </th>\n",
    "    </tr>\n",
    "    <tr>\n",
    "        <td style=\"text-align: center;\"> <b>str</b> </td>\n",
    "        <td style=\"text-align: center;\"> \"z\", \"foo\", \"Hello, World!\", \"3.0\", \"int\" </td>\n",
    "        <td style=\"text-align: center;\"> string </td>\n",
    "    </tr>\n",
    "    <tr>\n",
    "        <td style=\"text-align: center;\"> <b>int</b> </td>\n",
    "        <td style=\"text-align: center;\"> -11, -2, 0, 3, 101 </td>\n",
    "        <td style=\"text-align: center;\"> integer </td>\n",
    "    </tr>\n",
    "    <tr>\n",
    "        <td style=\"text-align: center;\"> <b>float</b> </td>\n",
    "        <td style=\"text-align: center;\"> -96.4, -2.0, 0.0, 0.8, 3.0, 101.1  </td>\n",
    "        <td style=\"text-align: center;\"> floating-point </td>\n",
    "    </tr>\n",
    "    <tr>\n",
    "        <td style=\"text-align: center;\"> <b>bool</b> </td>\n",
    "        <td style=\"text-align: center;\"> True, False </td>\n",
    "        <td style=\"text-align: center;\"> boolean </td>\n",
    "    </tr>\n",
    "    <tr>\n",
    "        <td style=\"text-align: center;\"> <b>NoneType</b> </td>\n",
    "        <td style=\"text-align: center;\"> None </td>\n",
    "        <td style=\"text-align: center;\"> none type </td>\n",
    "    </tr>\n",
    "<table>"
   ]
  },
  {
   "cell_type": "code",
   "execution_count": 2,
   "id": "cd0b31a4",
   "metadata": {},
   "outputs": [],
   "source": [
    "# Comment the seven types of assignment statements we have covered in class.\n",
    "# Hint: there are assignment statements associated with each arethmetic operation.\n",
    "\n"
   ]
  },
  {
   "cell_type": "code",
   "execution_count": 13,
   "id": "094bf57b",
   "metadata": {},
   "outputs": [
    {
     "data": {
      "text/plain": [
       "'c:\\\\Users\\\\Computer\\\\github\\\\GCTA-Python-Intro\\\\gcta-python\\\\notebooks\\\\03-basic-operators'"
      ]
     },
     "execution_count": 13,
     "metadata": {},
     "output_type": "execute_result"
    }
   ],
   "source": []
  },
  {
   "cell_type": "code",
   "execution_count": 27,
   "id": "310586c7",
   "metadata": {},
   "outputs": [
    {
     "name": "stdout",
     "output_type": "stream",
     "text": [
      "25\n",
      "gcta-python\\notebooks\\03-basic-operators\n",
      "GCTA-Python-Intro\\gcta-python\\notebooks\\03-basic-operators\n"
     ]
    }
   ],
   "source": []
  },
  {
   "cell_type": "code",
   "execution_count": 3,
   "id": "18cdfb44",
   "metadata": {},
   "outputs": [],
   "source": [
    "# Use assignment statements to shorten the statements:\n",
    "# x = x - 2\n",
    "# x = x + 4\n",
    "\n"
   ]
  },
  {
   "cell_type": "code",
   "execution_count": 4,
   "id": "52ea1caf",
   "metadata": {},
   "outputs": [],
   "source": [
    "# Use assignment statements to shorten the statements:\n",
    "# calculate = calculate / 7\n",
    "# calculate = calculate // 3\n",
    "\n"
   ]
  },
  {
   "cell_type": "code",
   "execution_count": 5,
   "id": "64db6b84",
   "metadata": {},
   "outputs": [],
   "source": [
    "# Use assignment statements to shorten the statements:\n",
    "# oh = oh * 7\n",
    "# my = my ** 3\n",
    "# z = z % 12\n",
    "\n"
   ]
  },
  {
   "cell_type": "code",
   "execution_count": 6,
   "id": "c3b63291",
   "metadata": {},
   "outputs": [],
   "source": [
    "# Comment the seven types of assignment statements we have covered in class.\n",
    "\n"
   ]
  }
 ],
 "metadata": {
  "kernelspec": {
   "display_name": "Python 3 (ipykernel)",
   "language": "python",
   "name": "python3"
  },
  "language_info": {
   "codemirror_mode": {
    "name": "ipython",
    "version": 3
   },
   "file_extension": ".py",
   "mimetype": "text/x-python",
   "name": "python",
   "nbconvert_exporter": "python",
   "pygments_lexer": "ipython3",
   "version": "3.10.2"
  }
 },
 "nbformat": 4,
 "nbformat_minor": 5
}
