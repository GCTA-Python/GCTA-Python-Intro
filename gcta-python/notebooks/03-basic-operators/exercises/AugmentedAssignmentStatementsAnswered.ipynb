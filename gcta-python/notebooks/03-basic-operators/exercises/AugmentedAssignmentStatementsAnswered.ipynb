{
 "cells": [
  {
   "cell_type": "code",
   "execution_count": 1,
   "id": "65fe4f83",
   "metadata": {},
   "outputs": [],
   "source": [
    "# ! important !\n",
    "# run this cell to load helper functions\n",
    "# ignore the code below\n",
    "\n",
    "# 100% final class grade if you can figure this out by next class, serious ;-)\n",
    "def check(ans: str, halp: bool = False) -> bool:\n",
    "    oof = ' '.join([''.join([chr(m) for m in k]) for k in [[43, 61], [45, 61], [42, 61], [47, 61], \\\n",
    "          [42, 42, 61], [47, 47, 61], [37, 61]] if k not in [[ord(j) for j in i] for i in answer.split()]])\n",
    "    return ('' == oof) if not halp else oof"
   ]
  },
  {
   "cell_type": "markdown",
   "id": "489fa593",
   "metadata": {},
   "source": [
    "<span style=\"font-size: 16px; font-family: Geneva, Tahoma, Verdana, sans-serif;\">\n",
    "\n",
    "<h1>Augmented Assignment Operators</h1>\n",
    "    \n",
    "<div style=\"margin-left: 2em;\">\n",
    "<br>\n",
    "Compound assignment operators are members of augmented assignment statements.\n",
    "\n",
    "[https://docs.python.org/3/reference/simple_stmts.html#assignment-statements](https://docs.python.org/3/reference/simple_stmts.html#assignment-statements)\n",
    "\n",
    "</div>\n",
    "</span>"
   ]
  },
  {
   "cell_type": "code",
   "execution_count": 2,
   "id": "cd0b31a4",
   "metadata": {},
   "outputs": [
    {
     "data": {
      "text/plain": [
       "True"
      ]
     },
     "execution_count": 2,
     "metadata": {},
     "output_type": "execute_result"
    }
   ],
   "source": [
    "# problem 1\n",
    "\n",
    "# create a string of the seven types of augmented assignment operators we have covered in class\n",
    "# seperate each augmented assignment operator by a space\n",
    "# assign your your created string to the variable named \"answer\"\n",
    "# then run the cell to check your answer\n",
    "# True/False means your answer is correct/incorrect.\n",
    "# hint: each assignment statement is an augment of each arethmetic operation we've covered.\n",
    "\n",
    "answer = \"+= -= *= /= //= **= %=\"  # change this string to your answer\n",
    "check(answer)"
   ]
  },
  {
   "cell_type": "code",
   "execution_count": 3,
   "id": "14319e33",
   "metadata": {},
   "outputs": [
    {
     "name": "stdout",
     "output_type": "stream",
     "text": [
      "You are missing: None\n"
     ]
    }
   ],
   "source": [
    "# problem 1\n",
    "# run this cell if you can't figure out what you missed\n",
    "print(\"You are missing: \" + str([check(answer, True) if check(answer, True) != '' else None][0]))"
   ]
  },
  {
   "cell_type": "code",
   "execution_count": 4,
   "id": "18cdfb44",
   "metadata": {},
   "outputs": [],
   "source": [
    "# problem 2\n",
    "# Use assignment statements to shorten the statements:\n",
    "# x = x - 2\n",
    "# x = x + 4\n",
    "\n",
    "x -= 2\n",
    "x += 4"
   ]
  },
  {
   "cell_type": "code",
   "execution_count": 5,
   "id": "52ea1caf",
   "metadata": {},
   "outputs": [],
   "source": [
    "# problem 3\n",
    "# Use assignment statements to shorten the statements:\n",
    "# calculate = calculate / 7\n",
    "# calculate = calculate // 3\n",
    "\n",
    "calculate /= 7\n",
    "calculate //= 3"
   ]
  },
  {
   "cell_type": "code",
   "execution_count": 6,
   "id": "64db6b84",
   "metadata": {},
   "outputs": [],
   "source": [
    "# problem 4\n",
    "# Use assignment statements to shorten the statements:\n",
    "# oh = oh * 7\n",
    "# my = my ** 3\n",
    "# z = z % 12\n",
    "\n",
    "oh *= 7\n",
    "my **= 3\n",
    "z %= 12"
   ]
  },
  {
   "cell_type": "code",
   "execution_count": 7,
   "id": "6a02a6db",
   "metadata": {},
   "outputs": [],
   "source": [
    "# Comment the seven types of assignment statements we have covered in class.\n",
    "\n",
    "# += -= *= /= //= **= %="
   ]
  }
 ],
 "metadata": {
  "kernelspec": {
   "display_name": "Python 3 (ipykernel)",
   "language": "python",
   "name": "python3"
  },
  "language_info": {
   "codemirror_mode": {
    "name": "ipython",
    "version": 3
   },
   "file_extension": ".py",
   "mimetype": "text/x-python",
   "name": "python",
   "nbconvert_exporter": "python",
   "pygments_lexer": "ipython3",
   "version": "3.10.2"
  }
 },
 "nbformat": 4,
 "nbformat_minor": 5
}
