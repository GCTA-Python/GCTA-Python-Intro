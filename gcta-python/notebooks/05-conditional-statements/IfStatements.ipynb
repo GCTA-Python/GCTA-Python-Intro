{
 "cells": [
  {
   "cell_type": "markdown",
   "id": "2fd449ed-37c7-492e-a23c-b34e3b547b38",
   "metadata": {},
   "source": [
    "<span style=\"font-size: 16px; font-family: Geneva, Tahoma, Verdana, sans-serif;\">\n",
    "\n",
    "<h1>Objectives and Outcome</h1>\n",
    "<div style=\"margin-left: 2em;\">\n",
    "By the end of this lesson, you should:\n",
    "    \n",
    "- Be able to read an if-block, and determine its path of execution.\n",
    "\n",
    "- Know that if statements always start with <code>if</code>, can include <code>elif</code> or <code>else</code>, and what each statement does.\n",
    "  \n",
    "- Know that <code>if</code> and <code>elif</code> statements always require an expression (or object) that evaluates to (or is already) a boolean.\n",
    "\n",
    "- Be able to write basic conditional statements that accurately represent real-world phenomena.\n",
    "</div>\n",
    "</span>"
   ]
  },
  {
   "cell_type": "markdown",
   "id": "64fcdd3e-ab49-45ee-93d9-55778ce021ef",
   "metadata": {},
   "source": [
    "<span style=\"font-size: 16px; font-family: Geneva, Tahoma, Verdana, sans-serif;\">\n",
    " \n",
    "<h1>Motivation</h1>\n",
    "<div style=\"margin-left: 2em;\">\n",
    "If statements (lowercase in Python code: <code>if</code>) are an integral component of what is referred to as <b>control flow</b>. And as the name implies, <code>if</code> statements allow us to control the execution (or flow) of our code. Adding conditional statements dramatically enhances our ability to write readable, efficient code.\n",
    "</div>\n",
    "</span>"
   ]
  },
  {
   "cell_type": "markdown",
   "id": "e1cabd1e-d5f5-4432-b55b-14c627aecfb0",
   "metadata": {},
   "source": [
    "<span style=\"font-size: 16px; font-family: Geneva, Tahoma, Verdana, sans-serif;\">\n",
    "\n",
    "<h1>Topics Covered</h1>\n",
    "\n",
    "<ol style=\"padding-left: 3.2em\">\n",
    "    <li><code>if</code> Statements</li>\n",
    "    <li><code>elif</code> Statements</li>\n",
    "    <li><code>else</code> Statements</li>\n",
    "</ol>\n",
    "    \n",
    "</span>"
   ]
  },
  {
   "cell_type": "markdown",
   "id": "64974ca6-5840-4de5-837a-5e3835f4057e",
   "metadata": {},
   "source": [
    "<span style=\"font-size: 16px; font-family: Geneva, Tahoma, Verdana, sans-serif;\">\n",
    " \n",
    "<h1>1. <code>if</code> Statements</h1>\n",
    "<div style=\"margin-left: 2em;\">\n",
    "\n",
    "If statements begin a block of code we'll refer to as an <b>if-block</b>. In Python, <code>if</code> statements start with the <code>if</code> keyword (all lowercase), and are always followed by an object of boolean type, or, an expression that evaluates to a boolean type (e.g. <code>2 < 3</code>). Lastly, after the boolean, you end the <code>if</code> statement with a colon.\n",
    "\n",
    "Code that is conditionally executed by an if-statement is always indented by a tab (or 4 spaces). This indentation indicates to the interpreter that the indented code \"belongs\" to the if-statement, and will only be executed when the conditional expression evaluates to <code>True</code>.\n",
    "\n",
    "An if-block can only ever take one path of execution - this becomes relevant in the sections below.\n",
    "\n",
    "```python\n",
    "# example:\n",
    "if True:\n",
    "    print('always prints')\n",
    "```\n",
    "\n",
    "<br>\n",
    "You may have already noticed that writing an <code>if True:</code> statement is not very useful, as it will always take that code path, and is equivalent to writing the code without the if-block.\n",
    "<br><br>\n",
    "\n",
    "```python\n",
    "if True:\n",
    "    print('always prints')\n",
    "\n",
    "# is equivalent to writing:\n",
    "print('always prints')\n",
    "\n",
    "```\n",
    "\n",
    "<br>\n",
    "However, we can instead use an expression (or object) that evaluates to (or is already) a boolean.\n",
    "<br><br>\n",
    "\n",
    "```python\n",
    "# example of:\n",
    "# a variable (i.e. object name) \n",
    "# directly assigned boolean\n",
    "some_condition = True\n",
    "if some_condition:\n",
    "    print('prints when some_condition == True')\n",
    "\n",
    "# example of:\n",
    "# an expression that \n",
    "# evaluates to a boolean\n",
    "x = 3\n",
    "y = 9\n",
    "if y >= x:\n",
    "    print('executes when y is greater than or equal to x')\n",
    "```\n",
    "\n",
    "<br>\n",
    "The following code translates number grades to letter grades (e.g. 88 -> \"B\"), and will illustrate a limitation of if-statements:\n",
    "<br><br>\n",
    "\n",
    "```python\n",
    "grade = 73\n",
    "if grade >= 90:\n",
    "    print(\"A\")\n",
    "if grade >= 80:\n",
    "    print(\"B\")\n",
    "if grade >= 70:\n",
    "    print(\"C\")\n",
    "\n",
    "# outputs\n",
    "\"A\"\n",
    "\"B\"\n",
    "\"C\"\n",
    "```\n",
    "\n",
    "<br>\n",
    "If we wish to only choose one of those code paths (as a student cannot, by definition, have multiple letter grades simultaneously), we must exploit the fact that if-blocks can only ever take one code path, and introduce additional conditional statements within a single if-block.\n",
    "<br>\n",
    "</div>\n",
    "</span>"
   ]
  },
  {
   "cell_type": "markdown",
   "id": "ef370aa1-362e-4839-bba8-81cab557ba73",
   "metadata": {},
   "source": [
    "<span style=\"font-size: 16px; font-family: Geneva, Tahoma, Verdana, sans-serif;\">\n",
    " \n",
    "<h1>2. <code>elif</code> Statements</h1>\n",
    "<div style=\"margin-left: 2em;\">\n",
    "\n",
    "Only <code>if</code> statements can start an if-block, however, using the <code>elif</code> keyword, we can write an <code>elif</code> statement that provides us additional conditional execution of code within that same if-block. In other words, <code>elif</code> is Python's way of saying, \"if the previous conditions were not true, then try this condition\".\n",
    "\n",
    "Continuing the grading example above:\n",
    "\n",
    "```python\n",
    "grade = 73\n",
    "if grade >= 90:\n",
    "    print(\"A\")\n",
    "elif grade >= 80:\n",
    "    print(\"B\")\n",
    "elif grade >= 70:\n",
    "    print(\"C\")\n",
    "\n",
    "# outputs\n",
    "\"C\"\n",
    "```\n",
    "\n",
    "<br>\n",
    "The introduction of <code>elif</code> statements allowed our code to execute correctly! However, what if we had a grade lower than 70? We must still assign a grade letter to those grades.\n",
    "<br><br>\n",
    "\n",
    "```python\n",
    "grade = 66\n",
    "if grade >= 90:\n",
    "    print(\"A\")\n",
    "elif grade >= 80:\n",
    "    print(\"B\")\n",
    "elif grade >= 70:\n",
    "    print(\"C\")\n",
    "elif grade < 70:\n",
    "    print(\"F\")\n",
    "\n",
    "# outputs\n",
    "\"F\"\n",
    "```\n",
    "\n",
    "<br>\n",
    "You may have noticed that when we get to the <code>elif grade < 70:</code> line of code, any remaining grade, that did not already satisfy one of the above conditions, should always execute the last code path.\n",
    "<br><br>\n",
    "\n",
    "\n",
    "```python\n",
    "grade = 66\n",
    "if grade >= 90:\n",
    "    print(\"A\")\n",
    "elif grade >= 80:\n",
    "    print(\"B\")\n",
    "elif grade >= 70:\n",
    "    print(\"C\")\n",
    "elif True:\n",
    "    print(\"F\")\n",
    "\n",
    "# outputs\n",
    "\"F\"  # for any grade not at least 70.\n",
    "```\n",
    "<br>\n",
    "\n",
    "To simplify our code, we introduce the statement covered in the next section, the <code>else</code> statement.\n",
    "    \n",
    "</div>\n",
    "</span>"
   ]
  },
  {
   "cell_type": "markdown",
   "id": "0416c0a0-bfe4-41a7-a9e2-00478847e390",
   "metadata": {},
   "source": [
    "<span style=\"font-size: 16px; font-family: Geneva, Tahoma, Verdana, sans-serif;\">\n",
    " \n",
    "<h1>3. <code>else</code> Statements</h1>\n",
    "<div style=\"margin-left: 2em;\">\n",
    "\n",
    "Within an if-block, an <code>else</code> statement <i>will always</i> execute its code path, given no other code path was taken. In other words, <code>else</code> is Python's way of saying, \"if none of the previous conditions were true, then do this\".\n",
    "\n",
    "While we should be careful to not prematurely optimize our code (always first solve for correctness), omitting this additional conditional statement saves us computation (in this example, we're doing 25% fewer comparisons!), and is arguably easier to read.\n",
    "\n",
    "Continuing the grading example above:\n",
    "\n",
    "```python\n",
    "grade = 42\n",
    "if grade >= 90:\n",
    "    print(\"A\")\n",
    "elif grade >= 80:\n",
    "    print(\"B\")\n",
    "elif grade >= 70:\n",
    "    print(\"C\")\n",
    "else:  # grade < 70\n",
    "    print(\"F\")\n",
    "\n",
    "# outputs\n",
    "\"F\"  # for any grade not at least 70.\n",
    "```\n",
    "\n",
    "<br>\n",
    "Adding a comment after the else is a convention (i.e. not syntactically required) and a good practice to adopt. The comment should indicate the condition under which the <code>else</code> code block executes.\n",
    "<br>\n",
    "    \n",
    "</div>\n",
    "</span>"
   ]
  },
  {
   "cell_type": "markdown",
   "id": "61476d47-7668-487a-bb03-a4090d12c2dc",
   "metadata": {},
   "source": [
    "<span style=\"font-size: 16px; font-family: Geneva, Tahoma, Verdana, sans-serif;\">\n",
    "<div style=\"margin-left: 2em;\">\n",
    "<h2>Code Examples:</h2>\n",
    "    \n",
    "Run the cells below and observe their outputs. Modify the code to test your knowledge and try any ideas you have about how they work.\n",
    "</div>"
   ]
  },
  {
   "cell_type": "markdown",
   "id": "f131a3a9-db7f-4830-a836-620e513b19ce",
   "metadata": {},
   "source": [
    "# END HERE - DISREGARD BELOW"
   ]
  },
  {
   "cell_type": "code",
   "execution_count": null,
   "id": "ebe8aba5-993b-4bfc-babc-d13b35ef0132",
   "metadata": {},
   "outputs": [],
   "source": [
    "# Create a string and write an if-statement which prints how long it is if it is greater than 10 characters\n"
   ]
  },
  {
   "cell_type": "code",
   "execution_count": null,
   "id": "9b1ca256-9789-4116-aea6-76cfad623950",
   "metadata": {},
   "outputs": [],
   "source": []
  },
  {
   "cell_type": "code",
   "execution_count": null,
   "id": "33fd1f6f-37b3-40d6-b773-54508a825ec9",
   "metadata": {},
   "outputs": [],
   "source": []
  },
  {
   "cell_type": "code",
   "execution_count": null,
   "id": "90214fc5-7ed0-48d1-83c7-215fd704308a",
   "metadata": {},
   "outputs": [],
   "source": []
  },
  {
   "cell_type": "code",
   "execution_count": null,
   "id": "772eaf50-670a-4e12-88f3-b6b21b5fe1c5",
   "metadata": {},
   "outputs": [],
   "source": []
  },
  {
   "cell_type": "code",
   "execution_count": 1,
   "id": "a867302b",
   "metadata": {},
   "outputs": [
    {
     "name": "stdout",
     "output_type": "stream",
     "text": [
      "b is greater than a\n"
     ]
    }
   ],
   "source": [
    "# here is an example of an if statement\n",
    "\n",
    "a = 33\n",
    "b = 200\n",
    "if b > a:\n",
    "    print(\"b is greater than a\")\n"
   ]
  },
  {
   "cell_type": "code",
   "execution_count": 3,
   "id": "0233a225-ae75-4d1f-81cf-b7b373ec47b4",
   "metadata": {},
   "outputs": [
    {
     "name": "stdout",
     "output_type": "stream",
     "text": [
      "the previous code path was not take\n"
     ]
    }
   ],
   "source": [
    "a = 33\n",
    "b = 200\n",
    "if b < a:\n",
    "    print(\"b is greater than a\")\n",
    "else:\n",
    "    print('the previous code path was not take')"
   ]
  },
  {
   "cell_type": "markdown",
   "id": "cca09667",
   "metadata": {},
   "source": [
    "If statements support three key words:\n",
    "\n",
    "* if\n",
    "* elif\n",
    "* else"
   ]
  },
  {
   "cell_type": "code",
   "execution_count": 5,
   "id": "ad992454-c9c6-4586-b4f7-a66f88c01464",
   "metadata": {},
   "outputs": [
    {
     "name": "stdout",
     "output_type": "stream",
     "text": [
      "a\n",
      "b\n"
     ]
    }
   ],
   "source": [
    "# if starts every if-block\n",
    "# any time there is another if, it starts a new if-block\n",
    "\n",
    "if True:\n",
    "    print('a')\n",
    "if True:\n",
    "    print('b')\n"
   ]
  },
  {
   "cell_type": "code",
   "execution_count": 7,
   "id": "1d1525c9-b7b5-4933-9bc0-14ae6f43332e",
   "metadata": {},
   "outputs": [
    {
     "name": "stdout",
     "output_type": "stream",
     "text": [
      "b\n"
     ]
    }
   ],
   "source": [
    "# following an if statement, we can have an elif (else-if) or an else\n",
    "\n",
    "# elif statements are conditional statements, that are executed \n",
    "# iff (if and only if) no previous code paths have been taken,\n",
    "# and its associated condition evaluates to true\n",
    "\n",
    "# while else statements are executed iff no previous code paths\n",
    "# have been taken, and they are not conditional (they will always\n",
    "# execute in such circumsances).\n",
    "\n",
    "# we can only ever take one code-path in an if-block"
   ]
  },
  {
   "cell_type": "code",
   "execution_count": null,
   "id": "86c778ea-1f48-4586-9c4e-86addd287f53",
   "metadata": {},
   "outputs": [],
   "source": [
    "if True:\n",
    "    print('a')\n",
    "else:\n",
    "    print('b')"
   ]
  },
  {
   "cell_type": "code",
   "execution_count": 8,
   "id": "f49c8b54-2343-466c-8902-f973ebb3f42e",
   "metadata": {},
   "outputs": [
    {
     "name": "stdout",
     "output_type": "stream",
     "text": [
      "a\n"
     ]
    }
   ],
   "source": [
    "if True:\n",
    "    print('a')\n",
    "elif True:\n",
    "    print('b')\n",
    "else:\n",
    "    print('c')"
   ]
  },
  {
   "cell_type": "code",
   "execution_count": 10,
   "id": "0bd3deed-1754-4bd3-8e1f-ca298868ade6",
   "metadata": {},
   "outputs": [
    {
     "name": "stdout",
     "output_type": "stream",
     "text": [
      "b\n"
     ]
    }
   ],
   "source": [
    "if False:\n",
    "    print('a')\n",
    "elif True:  # elif is a conditional else, or a if that belongs to the same if-block\n",
    "    print('b')\n",
    "else:\n",
    "    print('c')"
   ]
  },
  {
   "cell_type": "code",
   "execution_count": 11,
   "id": "90ae5ca4-4252-4ed1-ae28-ca0edc46bf3f",
   "metadata": {},
   "outputs": [
    {
     "name": "stdout",
     "output_type": "stream",
     "text": [
      "c\n"
     ]
    }
   ],
   "source": [
    "if False:\n",
    "    print('a')\n",
    "elif False:\n",
    "    print('b')\n",
    "else:\n",
    "    print('c')"
   ]
  },
  {
   "cell_type": "code",
   "execution_count": 12,
   "id": "431f798e-165a-4280-a014-955d81c3e246",
   "metadata": {},
   "outputs": [
    {
     "name": "stdout",
     "output_type": "stream",
     "text": [
      "a\n",
      "b\n",
      "1\n"
     ]
    }
   ],
   "source": [
    "\n",
    "if True:\n",
    "    print('a')\n",
    "if True:\n",
    "    print('b')\n",
    "\n",
    "if True:\n",
    "    print('1')\n",
    "elif True:\n",
    "    print('2')"
   ]
  },
  {
   "cell_type": "code",
   "execution_count": null,
   "id": "8fb41fdd-ed47-4597-8b87-0fc8ab33f4d9",
   "metadata": {},
   "outputs": [],
   "source": [
    "# a stoplight\n",
    "# if green, go\n",
    "# elif yello, slow\n",
    "# else, stop\n",
    "\n",
    "# a stoplight\n",
    "# if green, go\n",
    "# elif yello, slow\n",
    "# elif, red, stop"
   ]
  },
  {
   "cell_type": "code",
   "execution_count": 19,
   "id": "ada0813f-3ea7-45c8-a34a-052853609866",
   "metadata": {},
   "outputs": [
    {
     "name": "stdout",
     "output_type": "stream",
     "text": [
      "the sensor sees: red\n",
      "stop\n"
     ]
    }
   ],
   "source": [
    "import random\n",
    "data = ['red', 'yellow', 'green']\n",
    "data = random.choice(data)\n",
    "\n",
    "print('the sensor sees:', data)\n",
    "if data == 'green':\n",
    "    print('go')\n",
    "elif data == 'yellow':\n",
    "    print('slow')\n",
    "else:  # data == 'red'\n",
    "    print('stop')\n"
   ]
  },
  {
   "cell_type": "code",
   "execution_count": 3,
   "id": "3bfe8632-3df8-4dd9-b79b-3d3efc7fafc8",
   "metadata": {},
   "outputs": [
    {
     "name": "stdin",
     "output_type": "stream",
     "text": [
      "provide a number:  1\n"
     ]
    },
    {
     "name": "stdout",
     "output_type": "stream",
     "text": [
      "great number!\n"
     ]
    }
   ],
   "source": [
    "# give me a small number\n",
    "x = input('provide a number: ')\n",
    "x = int(x)\n",
    "\n",
    "# the closer it gets to zero, the better!\n",
    "if x < 3:\n",
    "    print('great number!')\n",
    "elif x < 10:\n",
    "    print('decent number!')\n",
    "elif x >= 10:\n",
    "    print('number too large!')\n"
   ]
  },
  {
   "cell_type": "code",
   "execution_count": null,
   "id": "75e5c014-e546-4c3e-9b1c-5a6e782a76ee",
   "metadata": {},
   "outputs": [],
   "source": []
  },
  {
   "cell_type": "code",
   "execution_count": 4,
   "id": "19766cff",
   "metadata": {},
   "outputs": [
    {
     "name": "stdout",
     "output_type": "stream",
     "text": [
      "a is greater than b\n"
     ]
    }
   ],
   "source": [
    "# here is an example of an If statement which contains elif and else\n",
    "\n",
    "a = 200\n",
    "b = 33\n",
    "if b > a:\n",
    "  print(\"b is greater than a\")\n",
    "elif a == b:\n",
    "  print(\"a and b are equal\")\n",
    "else:\n",
    "  print(\"a is greater than b\")"
   ]
  },
  {
   "cell_type": "code",
   "execution_count": 6,
   "id": "ca1aef96",
   "metadata": {},
   "outputs": [],
   "source": [
    "# If statements can be nested inside one another\n",
    "\n",
    "x = 41\n",
    "\n",
    "if x < 10:\n",
    "  print(\"Above ten,\")\n",
    "  if x < 50:\n",
    "    print(\"and also above 20!\")\n",
    "  else:\n",
    "    print(\"but not above 20.\")"
   ]
  },
  {
   "cell_type": "code",
   "execution_count": 8,
   "id": "64e08ca2-fc27-4de7-bc8c-2954840af324",
   "metadata": {},
   "outputs": [],
   "source": [
    "if True:\n",
    "    if False:\n",
    "        if True:\n",
    "            if True:\n",
    "                print('4 levels deep')"
   ]
  },
  {
   "cell_type": "code",
   "execution_count": null,
   "id": "d59d3906-b035-440d-a7c9-cbf4209847f4",
   "metadata": {},
   "outputs": [],
   "source": [
    "if right_arm_moves:\n",
    "    print('right arm moving')\n",
    "    if jumping:\n",
    "        print('jumping and right arm moving')\n",
    "        if blinking:\n",
    "            print('now we are moving our right arm, jumping, AND blinking')\n",
    "            give_achievement = True\n",
    "\n",
    "\n",
    "\n",
    "if right_arm_moves and jumping and blinking:\n",
    "    print('now we are moving our right arm, jumping, AND blinking')\n",
    "    give_achievement = True\n",
    "\n",
    "if right_arm_moves and jumping:\n",
    "    print('jumping and right arm moving')\n",
    "\n",
    "if right_arm_moves:\n",
    "    print('right arm moving')\n"
   ]
  },
  {
   "cell_type": "code",
   "execution_count": null,
   "id": "dec8f1af-14a0-499f-8348-6725e2006086",
   "metadata": {},
   "outputs": [],
   "source": [
    "if condition_1:\n",
    "    if condition_2:\n",
    "        if condition_3:\n",
    "            print('conditions 1 2 and 3')\n",
    "\n",
    "if condition_1:\n",
    "    print('conditions 1')\n",
    "if condition_1 and if condition_2:\n",
    "    print('conditions 1 2')\n",
    "if condition_1 and condition_2 and condition_3:\n",
    "    print('conditions 1 2 and 3')"
   ]
  },
  {
   "cell_type": "code",
   "execution_count": null,
   "id": "6ff3894b-bdbc-4af2-ab5d-0ae30a3cb398",
   "metadata": {},
   "outputs": [],
   "source": []
  },
  {
   "cell_type": "code",
   "execution_count": null,
   "id": "cd312f25",
   "metadata": {},
   "outputs": [],
   "source": []
  }
 ],
 "metadata": {
  "kernelspec": {
   "display_name": "Python 3 (ipykernel)",
   "language": "python",
   "name": "python3"
  },
  "language_info": {
   "codemirror_mode": {
    "name": "ipython",
    "version": 3
   },
   "file_extension": ".py",
   "mimetype": "text/x-python",
   "name": "python",
   "nbconvert_exporter": "python",
   "pygments_lexer": "ipython3",
   "version": "3.11.5"
  }
 },
 "nbformat": 4,
 "nbformat_minor": 5
}
