{
 "cells": [
  {
   "cell_type": "code",
   "execution_count": null,
   "id": "395a3a73-7752-4b27-bdbf-ea4745231d9d",
   "metadata": {},
   "outputs": [],
   "source": [
    "# requires method knowledge\n"
   ]
  },
  {
   "cell_type": "code",
   "execution_count": null,
   "id": "2d5f5453",
   "metadata": {},
   "outputs": [],
   "source": [
    "# Use a function to find the length of this list.\n",
    "the_list = [2,3,4,2,3,4,5]\n",
    "\n"
   ]
  },
  {
   "cell_type": "code",
   "execution_count": null,
   "id": "46de0c80",
   "metadata": {},
   "outputs": [],
   "source": [
    "# Use the sum function to sum all the items in a list.\n",
    "the_list = [2,3,4,2,3,4,5]\n",
    "\n"
   ]
  },
  {
   "cell_type": "code",
   "execution_count": null,
   "id": "a0d6a756",
   "metadata": {},
   "outputs": [],
   "source": [
    "# Sum all the items in a list WITHOUT using the sum function.\n",
    "the_list = [2,3,4,2,3,4,5]\n",
    "\n"
   ]
  },
  {
   "cell_type": "code",
   "execution_count": null,
   "id": "d9588e97",
   "metadata": {},
   "outputs": [],
   "source": [
    "# Multiply all the items in a list.\n",
    "the_list = [2,3,4,2,3,4,5]\n",
    "\n"
   ]
  },
  {
   "cell_type": "code",
   "execution_count": null,
   "id": "e9eb8729",
   "metadata": {},
   "outputs": [],
   "source": [
    "# Multiply all the items in a list by using the prod function from the math package.\n",
    "import math\n",
    "\n",
    "the_list = [2,3,4,2,3,4,5]\n",
    "\n"
   ]
  },
  {
   "cell_type": "code",
   "execution_count": null,
   "id": "98c619cc",
   "metadata": {},
   "outputs": [],
   "source": [
    "# Append the number 14 to the end of a list by modifying the existing list 'in-place'.\n",
    "the_list = [2,3,4,2,3,4,5]\n",
    "\n"
   ]
  },
  {
   "cell_type": "code",
   "execution_count": null,
   "id": "48e4e353",
   "metadata": {},
   "outputs": [],
   "source": [
    "# Create a copy of the_list, then then append the number 14 to the end of the copy.\n",
    "the_list = [2,3,4,2,3,4,5]\n",
    "\n"
   ]
  },
  {
   "cell_type": "code",
   "execution_count": null,
   "id": "a8109bdf",
   "metadata": {},
   "outputs": [],
   "source": [
    "# Find the index of the value 'e' in the list below.\n",
    "the_list = ['a', 'e', 'i', 'o', 'u']\n",
    "\n"
   ]
  },
  {
   "cell_type": "code",
   "execution_count": null,
   "id": "ae3aed1b",
   "metadata": {},
   "outputs": [],
   "source": [
    "# Create a copy of the_list, then insert 'e' into the copy with correct order (a,e,i,o,u).\n",
    "the_list = ['a', 'i', 'o', 'u']\n",
    "\n"
   ]
  },
  {
   "cell_type": "code",
   "execution_count": null,
   "id": "8d6d6059",
   "metadata": {},
   "outputs": [],
   "source": [
    "# Create a copy of the_list, then remove the last item from the copy.\n",
    "the_list = ['a', 'i', 'o', 'u']\n",
    "\n"
   ]
  },
  {
   "cell_type": "code",
   "execution_count": null,
   "id": "eb0d3e69",
   "metadata": {},
   "outputs": [],
   "source": [
    "# Create a copy of the_list, then pop the last item from the copy.\n",
    "the_list = ['a', 'i', 'o', 'u']\n",
    "\n"
   ]
  },
  {
   "cell_type": "code",
   "execution_count": null,
   "id": "28f30c9b",
   "metadata": {},
   "outputs": [],
   "source": [
    "# Create a copy of the_list, then sort the copied list in ascending order.\n",
    "the_list = [2,3,4,2,3,4,5]\n",
    "\n"
   ]
  },
  {
   "cell_type": "code",
   "execution_count": null,
   "id": "ab62a85c",
   "metadata": {},
   "outputs": [],
   "source": [
    "# Print a list of words that are longer than 3 letters.\n",
    "the_list = ['you', 'make', 'soccer', 'one', 'do']\n",
    "\n"
   ]
  },
  {
   "cell_type": "code",
   "execution_count": null,
   "id": "349c3158",
   "metadata": {},
   "outputs": [],
   "source": [
    "# Print a list of words that are longer than 3 letters.\n",
    "the_list = [\n",
    "    ['you', 'make', 'soccer', 'one', 'do'],\n",
    "    ['can', 'while', 'your', 'I', 'say'],\n",
    "    ['why', 'he', 'you', 'some', 'fine']\n",
    "]\n",
    "\n"
   ]
  }
 ],
 "metadata": {
  "kernelspec": {
   "display_name": "Python 3 (ipykernel)",
   "language": "python",
   "name": "python3"
  },
  "language_info": {
   "codemirror_mode": {
    "name": "ipython",
    "version": 3
   },
   "file_extension": ".py",
   "mimetype": "text/x-python",
   "name": "python",
   "nbconvert_exporter": "python",
   "pygments_lexer": "ipython3",
   "version": "3.11.5"
  }
 },
 "nbformat": 4,
 "nbformat_minor": 5
}
