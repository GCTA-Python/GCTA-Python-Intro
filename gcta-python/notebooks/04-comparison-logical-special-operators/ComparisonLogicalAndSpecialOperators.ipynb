{
 "cells": [
  {
   "cell_type": "markdown",
   "id": "396fd01d",
   "metadata": {},
   "source": [
    "<span style=\"font-size: 16px; font-family: Geneva, Tahoma, Verdana, sans-serif;\">\n",
    "\n",
    "<h1>Objectives and Outcome</h1>\n",
    "<div style=\"margin-left: 2em;\">\n",
    "By the end of this lesson, you should:\n",
    "    \n",
    "- Know how to use every comparison and logical operator covered in this section.\n",
    "\n",
    "- Have a basic understanding of the special operators.\n",
    "\n",
    "- Be able to identify operators and their operands.\n",
    "</div>\n",
    "</span>"
   ]
  },
  {
   "cell_type": "markdown",
   "id": "4ae9089a-61c0-49ec-9c05-a4c4a4414e21",
   "metadata": {},
   "source": [
    "<span style=\"font-size: 16px; font-family: Geneva, Tahoma, Verdana, sans-serif;\">\n",
    " \n",
    "<h1>Motivation</h1>\n",
    "<div style=\"margin-left: 2em;\">\n",
    "These operators will allow us to better control the flow of our code (\"control flow\") - with control flow being an integral component of any programming skill set.\n",
    "</div>\n",
    "</span>"
   ]
  },
  {
   "cell_type": "markdown",
   "id": "efad04b9-5dc0-425d-81dd-71d27abf3575",
   "metadata": {},
   "source": [
    "<span style=\"font-size: 16px; font-family: Geneva, Tahoma, Verdana, sans-serif;\">\n",
    "\n",
    "<h1>Topics Covered</h1>\n",
    "\n",
    "<ol style=\"padding-left: 3.2em\">\n",
    "    <li>Comparison Operators</li>\n",
    "    <li>Logical Operators</li>\n",
    "    <li>Special Operators</li>\n",
    "</ol>\n",
    "    \n",
    "</span>"
   ]
  },
  {
   "cell_type": "markdown",
   "id": "43a50857",
   "metadata": {},
   "source": [
    "<span style=\"font-size: 16px; font-family: Geneva, Tahoma, Verdana, sans-serif;\">\n",
    " \n",
    "<h1>1. Comparison Operators</h1>\n",
    "<div style=\"margin-left: 2em;\">\n",
    "<h2>Equality Operator</h2>\n",
    "The equality operator <code>==</code> compares operands to the left and right of the operator, and evaluates to the boolean <code>True</code> if the left and right operands are equivalent (but not necessarily the same object), and <code>False</code> if they are not.\n",
    "\n",
    "For example:\n",
    "\n",
    "```python\n",
    "# the following expression evaluates to False \n",
    "# because 'a' and 'b' are not equivalent\n",
    "'a' == 'b'  # -> False\n",
    "```\n",
    "<br>\n",
    "\n",
    "```python\n",
    "# the expression below will print True, as the \n",
    "# left and right operands are equivalent\n",
    "print('abc' == 'abc')  # -> print(True)\n",
    "```\n",
    "<br>\n",
    "\n",
    "It is important to distinguish between the assignment operator <code>=</code> and the equality operator <code>==</code>.\n",
    "\n",
    "```python\n",
    "a = b     # this expression assigns b to a\n",
    "a == b    # while this expressions compares the values of a and b\n",
    "```\n",
    "<br>\n",
    "Note: All of the operators in this section, except <code>not</code> are binary operators (requiring two operands) with left-sided binding.\n",
    "\n",
    "</div>\n",
    "</span>"
   ]
  },
  {
   "cell_type": "markdown",
   "id": "157b0eee-d29a-43f2-a3d0-5ac57dcea306",
   "metadata": {},
   "source": [
    "<span style=\"font-size: 16px; font-family: Geneva, Tahoma, Verdana, sans-serif;\">\n",
    "<div style=\"margin-left: 2em;\">\n",
    "<h2>Code Examples:</h2>\n",
    "    \n",
    "Run the cells below and observe their outputs. Modify the code to test your knowledge and try any ideas you have about how they work.\n",
    "</div>"
   ]
  },
  {
   "cell_type": "code",
   "execution_count": null,
   "id": "bb04dd29",
   "metadata": {},
   "outputs": [],
   "source": [
    "print(1 == 2)"
   ]
  },
  {
   "cell_type": "code",
   "execution_count": null,
   "id": "da45c996",
   "metadata": {},
   "outputs": [],
   "source": [
    "print(1 == 1)"
   ]
  },
  {
   "cell_type": "code",
   "execution_count": null,
   "id": "7791fb9a-4fab-4ec3-8d75-201a2e32e4d9",
   "metadata": {},
   "outputs": [],
   "source": [
    "[1, 2] == [1, 2]"
   ]
  },
  {
   "cell_type": "code",
   "execution_count": null,
   "id": "e3773f88-8e1b-4575-b472-019c3c98aae7",
   "metadata": {},
   "outputs": [],
   "source": [
    "'dog' == 'cat'"
   ]
  },
  {
   "cell_type": "code",
   "execution_count": null,
   "id": "ba9d3b33-a388-4e6e-86c1-68956103085a",
   "metadata": {},
   "outputs": [],
   "source": [
    "True == False"
   ]
  },
  {
   "cell_type": "code",
   "execution_count": null,
   "id": "2ec20170",
   "metadata": {},
   "outputs": [],
   "source": [
    "x = 1\n",
    "print(x == 1)"
   ]
  },
  {
   "cell_type": "code",
   "execution_count": null,
   "id": "18cd29da-d350-4750-b471-af3c573ed452",
   "metadata": {},
   "outputs": [],
   "source": [
    "x = 3\n",
    "y = 2\n",
    "x == y"
   ]
  },
  {
   "cell_type": "code",
   "execution_count": null,
   "id": "a15e8e1e-5c59-40ed-99f9-42a1cc2a825a",
   "metadata": {},
   "outputs": [],
   "source": [
    "x = 3\n",
    "y = 2\n",
    "z = x == y\n",
    "print(z)"
   ]
  },
  {
   "cell_type": "code",
   "execution_count": null,
   "id": "981f606a",
   "metadata": {},
   "outputs": [],
   "source": [
    "x = 2\n",
    "print(x == 1)"
   ]
  },
  {
   "cell_type": "code",
   "execution_count": null,
   "id": "8ccaa2a8-1bba-4bad-8f5f-f91130d0747d",
   "metadata": {},
   "outputs": [],
   "source": [
    "# an example we'll expand upon in\n",
    "# subsequent sections\n",
    "var = None\n",
    "if var == None:\n",
    "    print('var is None!')"
   ]
  },
  {
   "cell_type": "markdown",
   "id": "f549cd7f",
   "metadata": {},
   "source": [
    "<span style=\"font-size: 16px; font-family: Geneva, Tahoma, Verdana, sans-serif;\">\n",
    "\n",
    "<div style=\"margin-left: 2em;\">\n",
    "<h2>Inequality Operator</h2>\n",
    "While the equality operator <code>==</code> evaluates to <code>True</code> when both operands are <i>the same</i>, the inequality operator <code>!=</code> evaluates to <code>True</code> when the operands are <i>different</i>. The inequality operator is the inverse, or opposite, of the equality operator.\n",
    "\n",
    "</div>\n",
    "</span>"
   ]
  },
  {
   "cell_type": "markdown",
   "id": "81c782f3-7422-4e5a-b9d5-0a373a765adf",
   "metadata": {},
   "source": [
    "<span style=\"font-size: 16px; font-family: Geneva, Tahoma, Verdana, sans-serif;\">\n",
    "<div style=\"margin-left: 2em;\">\n",
    "    \n",
    "<h2>Code Examples:</h2>\n",
    "\n",
    "Run the cells below and observe their outputs. Modify the code to test your knowledge and try any ideas you have about how they work.\n",
    "</div>"
   ]
  },
  {
   "cell_type": "code",
   "execution_count": null,
   "id": "5954c4a0",
   "metadata": {},
   "outputs": [],
   "source": [
    "print(1 != 2)"
   ]
  },
  {
   "cell_type": "code",
   "execution_count": null,
   "id": "751fa973",
   "metadata": {},
   "outputs": [],
   "source": [
    "print(1 != 1)"
   ]
  },
  {
   "cell_type": "code",
   "execution_count": null,
   "id": "3755157b-262b-43ef-a171-44beac7fc142",
   "metadata": {},
   "outputs": [],
   "source": [
    "[1, 2] == [1, 2]"
   ]
  },
  {
   "cell_type": "code",
   "execution_count": null,
   "id": "dc44be65-67b1-419f-891f-6553613d1198",
   "metadata": {},
   "outputs": [],
   "source": [
    "'dog' == 'cat'"
   ]
  },
  {
   "cell_type": "code",
   "execution_count": null,
   "id": "704d675b-21dc-4bfd-8fc6-b05443c894ff",
   "metadata": {},
   "outputs": [],
   "source": [
    "True == False"
   ]
  },
  {
   "cell_type": "code",
   "execution_count": null,
   "id": "511720b9",
   "metadata": {},
   "outputs": [],
   "source": [
    "x = 1\n",
    "print(x != 1)"
   ]
  },
  {
   "cell_type": "code",
   "execution_count": null,
   "id": "3b2bb485",
   "metadata": {},
   "outputs": [],
   "source": [
    "x = 1\n",
    "print(x != 2)"
   ]
  },
  {
   "cell_type": "code",
   "execution_count": null,
   "id": "fdf8386f-5602-4be6-a9ac-f7775f47ccb8",
   "metadata": {},
   "outputs": [],
   "source": [
    "x = 3\n",
    "y = 2\n",
    "x == y"
   ]
  },
  {
   "cell_type": "code",
   "execution_count": null,
   "id": "af5d9bc9-fce3-4708-a05d-9630d3bba1a4",
   "metadata": {},
   "outputs": [],
   "source": [
    "x = 3\n",
    "y = 2\n",
    "z = x == y\n",
    "print(z)"
   ]
  },
  {
   "cell_type": "markdown",
   "id": "c52bdf39",
   "metadata": {},
   "source": [
    "<span style=\"font-size: 16px; font-family: Geneva, Tahoma, Verdana, sans-serif;\">\n",
    "\n",
    "<div style=\"margin-left: 2em;\">\n",
    "<h2>Greater Than, Less Than, Greater Than or Equal To, Less Than or Equal To</h2>\n",
    "\n",
    "The greater than operator <code>></code> evaluates to the boolean <code>True</code> when the left operand is larger than the right operand, otherwise <code>False</code>. The less than operator <code><</code> evaluates to the boolean <code>True</code> when the left operand is smaller than the right operand, otherwise <code>False</code>. The greater than or equal to operator <code>>=</code> evaluates to the boolean <code>True</code> when the left operand is larger than, or equal to, the right operand, otherwise <code>False</code>. The less than or equal to operator <code><=</code> evaluates to the boolean <code>True</code> when the left operand is smaller than, or equal to, the right operand, otherwise <code>False</code>.\n",
    "\n",
    "\n",
    "```python\n",
    "# greater than: >\n",
    "left_operand > right_operand\n",
    "# for example:\n",
    "    3 > 2  # True\n",
    "    2 > 5  # False\n",
    "    4 > 4  # False\n",
    "\n",
    "# less than: <\n",
    "left_operand < right_operand\n",
    "# for example:\n",
    "    2 < 5  # True\n",
    "    3 < 2  # False\n",
    "    7 < 7  # False\n",
    "\n",
    "# greater than or equal to: >=\n",
    "left_operand >= right_operand\n",
    "# for example:\n",
    "    3 >= 2  # True\n",
    "    3 >= 3  # True\n",
    "    3 >= 4  # False\n",
    "\n",
    "# less than or equal to: <=\n",
    "left_operand <= right_operand\n",
    "# for example:\n",
    "    5 <= 6  # True\n",
    "    5 <= 5  # True\n",
    "    5 <= 4  # False\n",
    "```\n",
    "\n",
    "</div>\n",
    "</span>"
   ]
  },
  {
   "cell_type": "markdown",
   "id": "b9a8f593-cd51-4243-9a74-6dd8c53aebe6",
   "metadata": {},
   "source": [
    "<span style=\"font-size: 16px; font-family: Geneva, Tahoma, Verdana, sans-serif;\">\n",
    "<div style=\"margin-left: 2em;\">\n",
    "    \n",
    "<h2>Code Examples:</h2>\n",
    "\n",
    "Run the cells below and observe their outputs. Modify the code to test your knowledge and try any ideas you have about how they work.\n",
    "</div>"
   ]
  },
  {
   "cell_type": "code",
   "execution_count": null,
   "id": "814d16ed-a962-467b-bd09-910b7bb077e6",
   "metadata": {},
   "outputs": [],
   "source": [
    "print(3 > 2)"
   ]
  },
  {
   "cell_type": "code",
   "execution_count": null,
   "id": "7534658b-e93f-4d08-aea8-cc98da3d5f43",
   "metadata": {},
   "outputs": [],
   "source": [
    "print(3 < 2)"
   ]
  },
  {
   "cell_type": "code",
   "execution_count": null,
   "id": "5fc4783a-51d3-49f2-95d1-1f60852a7404",
   "metadata": {},
   "outputs": [],
   "source": [
    "print(1 > 2)"
   ]
  },
  {
   "cell_type": "code",
   "execution_count": null,
   "id": "61ae0c48-d2a4-4345-8f14-d1547fbb263c",
   "metadata": {},
   "outputs": [],
   "source": [
    "1 > 2"
   ]
  },
  {
   "cell_type": "code",
   "execution_count": null,
   "id": "c5919b6c-50c2-4c3d-a158-5ff7f853a00a",
   "metadata": {},
   "outputs": [],
   "source": [
    "print(1 < 2)"
   ]
  },
  {
   "cell_type": "code",
   "execution_count": null,
   "id": "e403c552",
   "metadata": {},
   "outputs": [],
   "source": [
    "print(2 <= 3)"
   ]
  },
  {
   "cell_type": "code",
   "execution_count": null,
   "id": "2c0dc4cf-8ee2-4721-9610-83b6c061a627",
   "metadata": {},
   "outputs": [],
   "source": [
    "print(2 <= 3)"
   ]
  },
  {
   "cell_type": "code",
   "execution_count": null,
   "id": "101bc844-f61c-4d86-8ff2-5b0e9fdba665",
   "metadata": {},
   "outputs": [],
   "source": [
    "2 <= 4"
   ]
  },
  {
   "cell_type": "code",
   "execution_count": null,
   "id": "36988ed7-c087-4aa0-ab53-b366575408e2",
   "metadata": {},
   "outputs": [],
   "source": [
    "4 <= 3"
   ]
  },
  {
   "cell_type": "code",
   "execution_count": null,
   "id": "d2b6abbb",
   "metadata": {},
   "outputs": [],
   "source": [
    "print(2 <= 2)"
   ]
  },
  {
   "cell_type": "code",
   "execution_count": null,
   "id": "b833b8bd",
   "metadata": {},
   "outputs": [],
   "source": [
    "print(3 >= 1)"
   ]
  },
  {
   "cell_type": "code",
   "execution_count": null,
   "id": "3989f63d",
   "metadata": {},
   "outputs": [],
   "source": [
    "print(3 >= 3)"
   ]
  },
  {
   "cell_type": "code",
   "execution_count": null,
   "id": "e44e9515",
   "metadata": {},
   "outputs": [],
   "source": [
    "print(3 >= 4)"
   ]
  },
  {
   "cell_type": "code",
   "execution_count": null,
   "id": "01dfbaf6-ea76-45f2-89ad-f84c4dd6c536",
   "metadata": {},
   "outputs": [],
   "source": [
    "x = 1\n",
    "print(x <= 2)"
   ]
  },
  {
   "cell_type": "code",
   "execution_count": null,
   "id": "aa8a11e4-669f-4ab0-b2c0-89ecb85d9b05",
   "metadata": {},
   "outputs": [],
   "source": [
    "x = 2\n",
    "print(x <= 2)"
   ]
  },
  {
   "cell_type": "code",
   "execution_count": null,
   "id": "8644d40d-82fb-4d64-b57c-c26c7c5a0c5a",
   "metadata": {},
   "outputs": [],
   "source": [
    "x = 3\n",
    "print(x <= 2)"
   ]
  },
  {
   "cell_type": "code",
   "execution_count": null,
   "id": "71ce2822-1acd-4d2d-87c1-8c1b355d31ae",
   "metadata": {},
   "outputs": [],
   "source": [
    "x = 3\n",
    "y = 2\n",
    "x <= y"
   ]
  },
  {
   "cell_type": "code",
   "execution_count": null,
   "id": "9098bf43-5224-4d09-9cde-2530797a820b",
   "metadata": {},
   "outputs": [],
   "source": [
    "x = 3\n",
    "y = 2\n",
    "z = 3\n",
    "a = x >= z\n",
    "b = x >= y\n",
    "c = x <= y\n",
    "d = z > y\n",
    "e = x < y\n",
    "print(a, b, c, d, e)"
   ]
  },
  {
   "cell_type": "code",
   "execution_count": null,
   "id": "cb099ce2",
   "metadata": {},
   "outputs": [],
   "source": [
    "# BONUS:\n",
    "# Make this code cell take in an input, assign the value to the variable x,\n",
    "# and print True if x is greater than 10, and False if x is less than or equal to 10.\n",
    "\n",
    "# hints: break the problem apart into smaller subproblems;\n",
    "# write pseudo code, then try to code a solution by following\n",
    "# the pseudo code solution you've written."
   ]
  },
  {
   "cell_type": "markdown",
   "id": "d065d90a",
   "metadata": {},
   "source": [
    "<span style=\"font-size: 16px; font-family: Geneva, Tahoma, Verdana, sans-serif;\">\n",
    "\n",
    "<h1>2. Logical Operators</h1>\n",
    "<div style=\"margin-left: 2em;\">\n",
    "<h2>And, Or (inclusive or), and Not</h2>\n",
    "    \n",
    "An expression with the logical operator <code>and</code> evaluates to the boolean <code>True</code> when both the left and right operands are <code>True</code>, otherwise the expression evaluates to <code>False</code>.\n",
    "\n",
    "An expression with the logical operator <code>or</code> (inclusive) evaluates to the boolean <code>True</code> when at least one (or both) operands are <code>True</code>, otherwise the expression evaluates to <code>False</code>.\n",
    "\n",
    "The logical operator <code>not</code> negates (inverts, flips, or complements) a boolean value. A <code>True</code> value becomes <code>False</code>, and a <code>False</code> value becomes <code>True</code>.\n",
    "\n",
    "\n",
    "```python\n",
    "# and\n",
    "left_operand and right_operand\n",
    "# for example:\n",
    "    True and True    # True\n",
    "    True and False   # False\n",
    "    False and True   # False\n",
    "    False and False  # False\n",
    "\n",
    "# or\n",
    "left_operand or right_operand\n",
    "# for example:\n",
    "    True or True    # True\n",
    "    True or False   # True\n",
    "    False or True   # True\n",
    "    False or False  # False\n",
    "\n",
    "# not\n",
    "operand not\n",
    "# for example:\n",
    "    not True   # False\n",
    "    not False  # True\n",
    "```\n",
    "\n",
    "</div>\n",
    "</span>"
   ]
  },
  {
   "cell_type": "markdown",
   "id": "023edca1-b64f-4b49-98fe-cfb8d90fd37a",
   "metadata": {},
   "source": [
    "<span style=\"font-size: 16px; font-family: Geneva, Tahoma, Verdana, sans-serif;\">\n",
    "<div style=\"margin-left: 2em;\">\n",
    "    \n",
    "<h2>Code Examples:</h2>\n",
    "\n",
    "Run the cells below and observe their outputs. Modify the code to test your knowledge and try any ideas you have about how they work.\n",
    "</div>"
   ]
  },
  {
   "cell_type": "code",
   "execution_count": null,
   "id": "331ebfba",
   "metadata": {},
   "outputs": [],
   "source": [
    "print(True and True)"
   ]
  },
  {
   "cell_type": "code",
   "execution_count": null,
   "id": "08e3741c",
   "metadata": {},
   "outputs": [],
   "source": [
    "print(True and False)"
   ]
  },
  {
   "cell_type": "code",
   "execution_count": null,
   "id": "51fd2ed8",
   "metadata": {},
   "outputs": [],
   "source": [
    "False and False"
   ]
  },
  {
   "cell_type": "code",
   "execution_count": null,
   "id": "7a72ee89",
   "metadata": {},
   "outputs": [],
   "source": [
    "print(True or True)"
   ]
  },
  {
   "cell_type": "code",
   "execution_count": null,
   "id": "d265e98d",
   "metadata": {},
   "outputs": [],
   "source": [
    "print(True or False)"
   ]
  },
  {
   "cell_type": "code",
   "execution_count": null,
   "id": "7c2b13b6",
   "metadata": {},
   "outputs": [],
   "source": [
    "False or False"
   ]
  },
  {
   "cell_type": "code",
   "execution_count": null,
   "id": "acad5110",
   "metadata": {},
   "outputs": [],
   "source": [
    "not True"
   ]
  },
  {
   "cell_type": "code",
   "execution_count": null,
   "id": "5ec511b5",
   "metadata": {},
   "outputs": [],
   "source": [
    "print(not False)"
   ]
  },
  {
   "cell_type": "code",
   "execution_count": null,
   "id": "41294f03-d330-4d72-aa52-61d9c420a9a2",
   "metadata": {},
   "outputs": [],
   "source": [
    "not not False"
   ]
  },
  {
   "cell_type": "code",
   "execution_count": null,
   "id": "8e9c0bb9-6093-4eea-99ea-166bde3e6aa8",
   "metadata": {},
   "outputs": [],
   "source": [
    "print(not not not not not False)"
   ]
  },
  {
   "cell_type": "code",
   "execution_count": null,
   "id": "7485be71",
   "metadata": {},
   "outputs": [],
   "source": [
    "# Determine the output before running\n",
    "x = 1\n",
    "y = 2\n",
    "check_equal = (x == y)    # note boolean here\n",
    "check_inequal = (x != y)  # note boolean here\n",
    "print(check_equal and check_inequal)"
   ]
  },
  {
   "cell_type": "code",
   "execution_count": null,
   "id": "a3eb3510",
   "metadata": {},
   "outputs": [],
   "source": [
    "# Determine the output before running\n",
    "x = 1\n",
    "y = 2\n",
    "check_equal = (x == y)    #\n",
    "check_inequal = (x != y)  #\n",
    "print(check_equal or check_inequal)"
   ]
  },
  {
   "cell_type": "code",
   "execution_count": null,
   "id": "fff69425",
   "metadata": {},
   "outputs": [],
   "source": [
    "# Determine the output before running\n",
    "x = 1\n",
    "y = 1\n",
    "check_equal = (x == y)    #\n",
    "check_inequal = (x != y)  #\n",
    "print(check_equal and check_inequal)"
   ]
  },
  {
   "cell_type": "code",
   "execution_count": null,
   "id": "aa13fd31",
   "metadata": {},
   "outputs": [],
   "source": [
    "# Determine the output before running\n",
    "x = 1\n",
    "y = 1\n",
    "check_equal = (x == y)    #\n",
    "check_inequal = (x != y)  #\n",
    "print(check_equal or check_inequal)"
   ]
  },
  {
   "cell_type": "code",
   "execution_count": null,
   "id": "a527a61c",
   "metadata": {},
   "outputs": [],
   "source": [
    "# Determine the output before running\n",
    "x = 1\n",
    "y = 1\n",
    "check_equal = (x == y)    #\n",
    "check_inequal = (x != y)  #\n",
    "print(not check_equal or check_inequal)"
   ]
  },
  {
   "cell_type": "code",
   "execution_count": null,
   "id": "057dbc3e-7def-464b-88e7-aa0951c554db",
   "metadata": {},
   "outputs": [],
   "source": [
    "# Determine the output before running\n",
    "x = 3\n",
    "y = 3\n",
    "check_equal = (x >= y)    #\n",
    "check_inequal = (x <= y)  #\n",
    "print(not check_equal and not not check_inequal)"
   ]
  },
  {
   "cell_type": "code",
   "execution_count": null,
   "id": "3353191b-2cc3-4dea-ac71-ddaf68d162d8",
   "metadata": {},
   "outputs": [],
   "source": [
    "# Determine the output before running\n",
    "x = 7\n",
    "y = 3\n",
    "check_equal = (x >= y)    #\n",
    "check_inequal = (x <= y)  #\n",
    "print(not not check_equal or not check_inequal)"
   ]
  },
  {
   "cell_type": "code",
   "execution_count": null,
   "id": "dd70853d-f777-4b49-a2be-e74fcabe601f",
   "metadata": {},
   "outputs": [],
   "source": [
    "# Determine the output before running\n",
    "x = 2\n",
    "y = 6\n",
    "check_equal = (x <= y)    #\n",
    "check_inequal = (x >= y)  #\n",
    "print(not check_equal and not check_inequal)"
   ]
  },
  {
   "cell_type": "markdown",
   "id": "54ba0835",
   "metadata": {},
   "source": [
    "<span style=\"font-size: 16px; font-family: Geneva, Tahoma, Verdana, sans-serif;\">\n",
    "\n",
    "<h1>3. Special Operators</h1>\n",
    "<div style=\"margin-left: 2em;\">\n",
    "<h2>Identity Operator</h2>\n",
    "    \n",
    "The identity operator <code>is</code> evaluates to the boolean <code>True</code> when both the left and right operands (objects, or object references) are the same object (or referencing the same object), otherwise the expression evaluates to <code>False</code>.\n",
    "\n",
    "```python\n",
    "# is\n",
    "left_operand is right_operand\n",
    "\n",
    "# for example:\n",
    "a = 3\n",
    "b = a\n",
    "a is b  # True\n",
    "\n",
    "a = [1, 2]\n",
    "b = [1, 2]\n",
    "a is b  # evaluates to False\n",
    "\n",
    "# we can look at the assigned IDs of these objects\n",
    "print(id(a), id(b))  # -> 2663879953984 2663879954112\n",
    "\n",
    "```\n",
    "<br>\n",
    "Note: Convention disfavors using the identity operator for value comparison.\n",
    "\n",
    "```python\n",
    "# favored\n",
    "var = 2\n",
    "var == 3\n",
    "\n",
    "# disfavored\n",
    "var = 2\n",
    "var is 2\n",
    "\n",
    "```\n",
    "\n",
    "<h2>Membership Operator</h2>\n",
    "The membership operator <code>is</code> evaluates to the boolean <code>True</code> when the left object can be found in the right object (which must be a collection of objects), otherwise the expression evaluates to <code>False</code>.\n",
    "<br><br>\n",
    "\n",
    "```python\n",
    "# in\n",
    "left_object in right_collection\n",
    "\n",
    "# for example:\n",
    "a = 1\n",
    "b = [-1, 0, 1, 2, 3]\n",
    "a in b  # evaluates to True\n",
    "\n",
    "obj1 = 'c'\n",
    "obj2 = 'z\n",
    "collect = 'abracadabra'\n",
    "obj1 in collect  # evaluates to True\n",
    "obj2 in collect  # evaluates to False\n",
    "\n",
    "```\n",
    "\n",
    "\n",
    "</div>\n",
    "</span>"
   ]
  },
  {
   "cell_type": "markdown",
   "id": "b5c48d7f-0172-417d-8592-a760090e601e",
   "metadata": {},
   "source": [
    "<span style=\"font-size: 16px; font-family: Geneva, Tahoma, Verdana, sans-serif;\">\n",
    "<div style=\"margin-left: 2em;\">\n",
    "    \n",
    "<h2>Code Examples:</h2>\n",
    "\n",
    "Run the cells below and observe their outputs. Modify the code to test your knowledge and try any ideas you have about how they work.\n",
    "</div>"
   ]
  },
  {
   "cell_type": "code",
   "execution_count": null,
   "id": "39af5442-965a-4ca9-8e1b-74ede1011030",
   "metadata": {},
   "outputs": [],
   "source": [
    "# identity operator section"
   ]
  },
  {
   "cell_type": "code",
   "execution_count": null,
   "id": "baf80d65",
   "metadata": {},
   "outputs": [],
   "source": [
    "x = None\n",
    "print(x is None)"
   ]
  },
  {
   "cell_type": "code",
   "execution_count": null,
   "id": "5da24e6e",
   "metadata": {},
   "outputs": [],
   "source": [
    "x = 1\n",
    "print(x is None)"
   ]
  },
  {
   "cell_type": "code",
   "execution_count": null,
   "id": "61ffd85f-ee5d-4f73-bd93-d604ebd36f17",
   "metadata": {},
   "outputs": [],
   "source": [
    "a = 3\n",
    "b = a\n",
    "a is b"
   ]
  },
  {
   "cell_type": "code",
   "execution_count": null,
   "id": "811b57ed-3ca9-4a41-beee-d7d2dac82e2a",
   "metadata": {},
   "outputs": [],
   "source": [
    "a = [1, 2]\n",
    "b = [1, 2]\n",
    "print(a is b)"
   ]
  },
  {
   "cell_type": "code",
   "execution_count": null,
   "id": "1a638974-f2c8-4355-b4f1-34b30134e7fa",
   "metadata": {},
   "outputs": [],
   "source": [
    "unknown_data = '453.11'\n",
    "if type(unknown_data) is str:\n",
    "    print('unknown data is a string!')"
   ]
  },
  {
   "cell_type": "code",
   "execution_count": null,
   "id": "4cdf77a5-b74e-448e-b337-0fd1abe41c98",
   "metadata": {},
   "outputs": [],
   "source": [
    "unkn_data = '453.11'\n",
    "if type(unkn_data) is not float:\n",
    "    unkn_data = float(unkn_data) + .11\n",
    "    print('converted data and added!', unkn_data)"
   ]
  },
  {
   "cell_type": "code",
   "execution_count": null,
   "id": "49b20ed8-1f50-4c35-aecc-db80cdc2f50c",
   "metadata": {},
   "outputs": [],
   "source": [
    "# membership operator section"
   ]
  },
  {
   "cell_type": "code",
   "execution_count": null,
   "id": "fa7f371c",
   "metadata": {},
   "outputs": [],
   "source": [
    "x = [1,2,3]\n",
    "print(1 in x)"
   ]
  },
  {
   "cell_type": "code",
   "execution_count": null,
   "id": "6495b63f",
   "metadata": {},
   "outputs": [],
   "source": [
    "x = [1,2,3]\n",
    "print(4 in x)"
   ]
  },
  {
   "cell_type": "code",
   "execution_count": null,
   "id": "885e434c",
   "metadata": {},
   "outputs": [],
   "source": [
    "x = [1,2,3]\n",
    "print(4 not in x)"
   ]
  },
  {
   "cell_type": "code",
   "execution_count": null,
   "id": "fabafc6e-5257-4350-b7f4-1a00a4fa3786",
   "metadata": {},
   "outputs": [],
   "source": [
    "'z' in 'abc'"
   ]
  },
  {
   "cell_type": "code",
   "execution_count": null,
   "id": "a5bad21f-86d6-453b-a362-0774858e284f",
   "metadata": {},
   "outputs": [],
   "source": [
    "'z' in 'azbc'"
   ]
  },
  {
   "cell_type": "code",
   "execution_count": null,
   "id": "27a397ad-1051-4769-914f-25ba52eaa6a1",
   "metadata": {},
   "outputs": [],
   "source": [
    "'bz' in 'azbc'"
   ]
  },
  {
   "cell_type": "code",
   "execution_count": null,
   "id": "3cf1b064-2cb0-4ab6-b06b-162b1776c08e",
   "metadata": {},
   "outputs": [],
   "source": [
    "'az' in 'azbc'"
   ]
  },
  {
   "cell_type": "code",
   "execution_count": null,
   "id": "9a837cf8",
   "metadata": {},
   "outputs": [],
   "source": [
    "x = ['a', 'b', 'c']\n",
    "print('a' in x)"
   ]
  },
  {
   "cell_type": "code",
   "execution_count": null,
   "id": "7373b7cb-1b21-4a6b-b172-8df282f869e8",
   "metadata": {},
   "outputs": [],
   "source": [
    "x = 'abc'\n",
    "print('a' in x)"
   ]
  },
  {
   "cell_type": "code",
   "execution_count": null,
   "id": "043ad267",
   "metadata": {},
   "outputs": [],
   "source": [
    "x = ['a', 'b', 'c']\n",
    "print('a' not in x)"
   ]
  }
 ],
 "metadata": {
  "kernelspec": {
   "display_name": "Python 3 (ipykernel)",
   "language": "python",
   "name": "python3"
  },
  "language_info": {
   "codemirror_mode": {
    "name": "ipython",
    "version": 3
   },
   "file_extension": ".py",
   "mimetype": "text/x-python",
   "name": "python",
   "nbconvert_exporter": "python",
   "pygments_lexer": "ipython3",
   "version": "3.11.5"
  }
 },
 "nbformat": 4,
 "nbformat_minor": 5
}
