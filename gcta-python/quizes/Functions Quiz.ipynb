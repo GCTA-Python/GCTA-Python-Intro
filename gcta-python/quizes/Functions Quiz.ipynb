{
 "cells": [
  {
   "cell_type": "code",
   "execution_count": null,
   "id": "8dde8b41",
   "metadata": {},
   "outputs": [],
   "source": [
    "# functions quiz"
   ]
  },
  {
   "cell_type": "code",
   "execution_count": null,
   "id": "2a016abf",
   "metadata": {},
   "outputs": [],
   "source": [
    "# problem 1\n",
    "# write a function:\n",
    "# with no parameters, that returns None\n",
    "\n"
   ]
  },
  {
   "cell_type": "code",
   "execution_count": null,
   "id": "71e667d6",
   "metadata": {},
   "outputs": [],
   "source": [
    "# problem 2\n",
    "# write a function:\n",
    "# with 1 parameter, that returns the square of the argument provided\n",
    "\n"
   ]
  },
  {
   "cell_type": "code",
   "execution_count": null,
   "id": "6a28e5d1",
   "metadata": {},
   "outputs": [],
   "source": [
    "# problem 3\n",
    "# write a function:\n",
    "# with 2 parameters, that returns the sum of the parameters\n",
    "\n"
   ]
  },
  {
   "cell_type": "code",
   "execution_count": null,
   "id": "28c04536",
   "metadata": {},
   "outputs": [],
   "source": [
    "# problem 4\n",
    "# write a function:\n",
    "# with 3 parameters, that returns the sum of the parameters\n",
    "\n"
   ]
  },
  {
   "cell_type": "code",
   "execution_count": null,
   "id": "753ffa68",
   "metadata": {},
   "outputs": [],
   "source": [
    "# problem 5\n",
    "# write a function:\n",
    "# with 2 parameters, then supply a positional and keyword string arguments, \n",
    "# and return those strings concatenated (pos first)\n",
    "\n"
   ]
  },
  {
   "cell_type": "code",
   "execution_count": null,
   "id": "4e5ab71c",
   "metadata": {},
   "outputs": [],
   "source": [
    "# problem 6\n",
    "# write a function:\n",
    "# with no parameters, that returns 3.14 as a float\n",
    "\n"
   ]
  },
  {
   "cell_type": "code",
   "execution_count": null,
   "id": "e70f3eac",
   "metadata": {},
   "outputs": [],
   "source": [
    "# problem 7\n",
    "# write a function:\n",
    "# with no parameters, that returns 3.14 as a string\n",
    "\n"
   ]
  },
  {
   "cell_type": "code",
   "execution_count": null,
   "id": "a11be20e",
   "metadata": {},
   "outputs": [],
   "source": [
    "# problem 8\n",
    "# write a function:\n",
    "# with 4 parameters, that returns a tuple of the parameters in the order they were defined\n"
   ]
  },
  {
   "cell_type": "code",
   "execution_count": null,
   "id": "2ddf4bed",
   "metadata": {},
   "outputs": [],
   "source": [
    "# problem 9\n",
    "# write a function:\n",
    "# with 3 parameters, then call the function with 3 keyword arguments, \n",
    "# in a different order than they were defined, \n",
    "# and return a tuple of the parameters in the order they were defined\n",
    "\n"
   ]
  },
  {
   "cell_type": "code",
   "execution_count": null,
   "id": "aed2cd76",
   "metadata": {},
   "outputs": [],
   "source": [
    "# problem 10\n",
    "# write a function:\n",
    "# with 2 parameters, that returns a tuple of size 2. then, using tuple unpacking, \n",
    "# assign two variables from the output/return of that function, on a single line\n",
    "\n"
   ]
  },
  {
   "cell_type": "code",
   "execution_count": null,
   "id": "04960800",
   "metadata": {},
   "outputs": [],
   "source": [
    "# problem 11\n",
    "# write a function:\n",
    "# with 1 parameter, which contains the default argument of None, and returns the parameter\n",
    "\n"
   ]
  },
  {
   "cell_type": "code",
   "execution_count": null,
   "id": "a745f6d7",
   "metadata": {},
   "outputs": [],
   "source": [
    "# problem 12\n",
    "# write a function:\n",
    "# with 2 parameters, which contains 1 default argument of 8, and 1 parameter of any sort, \n",
    "# and returns a tuple of the parameters in any order\n",
    "\n"
   ]
  },
  {
   "cell_type": "code",
   "execution_count": null,
   "id": "6966407f",
   "metadata": {},
   "outputs": [],
   "source": [
    "# problem 13\n",
    "# write a function:\n",
    "# with 1 parameter, that takes a list, and modifies the last element of the list in any way, and has no return\n",
    "\n"
   ]
  },
  {
   "cell_type": "code",
   "execution_count": null,
   "id": "03fc2e3a",
   "metadata": {},
   "outputs": [],
   "source": [
    "# problem 14\n",
    "# write a function:\n",
    "# with 1 parameter, that takes a list, and modifies the first element of the list in any way, and returns the list\n",
    "\n"
   ]
  },
  {
   "cell_type": "code",
   "execution_count": null,
   "id": "b845ac47",
   "metadata": {},
   "outputs": [],
   "source": [
    "# problem 15\n",
    "# write a function:\n",
    "# with 2 parameters, that returns a list of those two parameters in any order\n",
    "\n"
   ]
  },
  {
   "cell_type": "code",
   "execution_count": null,
   "id": "31396715",
   "metadata": {},
   "outputs": [],
   "source": [
    "# problem 16\n",
    "# write a function:\n",
    "# with no parameters, that returns a list from 0 to 9\n",
    "\n"
   ]
  }
 ],
 "metadata": {
  "kernelspec": {
   "display_name": "Python 3 (ipykernel)",
   "language": "python",
   "name": "python3"
  },
  "language_info": {
   "codemirror_mode": {
    "name": "ipython",
    "version": 3
   },
   "file_extension": ".py",
   "mimetype": "text/x-python",
   "name": "python",
   "nbconvert_exporter": "python",
   "pygments_lexer": "ipython3",
   "version": "3.10.2"
  }
 },
 "nbformat": 4,
 "nbformat_minor": 5
}
