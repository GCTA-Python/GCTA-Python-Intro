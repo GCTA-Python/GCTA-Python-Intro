{
 "cells": [
  {
   "cell_type": "code",
   "execution_count": null,
   "id": "8f6ecca4",
   "metadata": {},
   "outputs": [],
   "source": [
    "'''\n",
    "Section A\n",
    "answer this section in a new cell\n",
    "1. assign the value 33 to a variable named var1\n",
    "2. in a new cell, assign the value 33 to a variable named var2 and cast the variable var2 to a float\n",
    "3. on a new line, use the variable var2, and a comparison operator, to test whether var is greater than 22\n",
    "4. in a new cell, assign the value 33 to a variable named var3. on a new line, get user input, and tell the user \n",
    "   to provide a integer\n",
    "5. on a new line, compare user input to var3, and test whether the user has entered a number that is less than or \n",
    "   equal to var3\n",
    "'''\n",
    "\n"
   ]
  },
  {
   "cell_type": "code",
   "execution_count": null,
   "id": "03527a36",
   "metadata": {},
   "outputs": [],
   "source": [
    "'''\n",
    "Section B\n",
    "answer this section in a new cell\n",
    "1. on two new lines, create val1 and val2, and assign them the values True and False, respectively\n",
    "2. on a new line, test whether val1 and val2 are True\n",
    "3. on a new line, test if at least one value, either val1 or val2, is True\n",
    "'''\n",
    "\n"
   ]
  },
  {
   "cell_type": "code",
   "execution_count": null,
   "id": "4907b04c",
   "metadata": {},
   "outputs": [],
   "source": [
    "'''\n",
    "Section C\n",
    "answer this section in a new cell\n",
    "1. in a new cell, print a blank line\n",
    "2. in a new cell, print the phrase Hello, World! as a single string\n",
    "3. in a new cell, print the phrase Hello, World! as two object arguments\n",
    "4. in a new cell, print the phrase Hello,_World_! as three object arguments and a modified sep argument\n",
    "5. in a new cell, using on one or more new lines, print AB by modifying one or both of the function calls \n",
    "   print(\"A\"), and print(\"B\")\n",
    "'''\n",
    "\n"
   ]
  },
  {
   "cell_type": "code",
   "execution_count": null,
   "id": "3372acfe",
   "metadata": {},
   "outputs": [],
   "source": [
    "'''\n",
    "Section D\n",
    "1. in a comment, tell me what the % operator is called, and what it does. give an example with explanation\n",
    "2. in a comment, tell me what the // operator is called, and what it does. give an example with explanation\n",
    "3. in a comment, tell me which pair of numbers we evaluate first, in the following expression, and what that first \n",
    "   operation would evaluate to: 2 ** 3 ** 4 ** 2\n",
    "'''\n",
    "\n"
   ]
  },
  {
   "cell_type": "code",
   "execution_count": null,
   "id": "69d5dcaa",
   "metadata": {},
   "outputs": [],
   "source": [
    "'''\n",
    "Section E\n",
    "1. list the 5 the data type names we focused on, and their Python representations\n",
    "2. list every arithmetic operator we've covered\n",
    "3. list every comparison operator we've covered\n",
    "4. list every logical operator we've covered\n",
    "5. list every special operator we've covered\n",
    "'''\n",
    "\n"
   ]
  },
  {
   "cell_type": "code",
   "execution_count": null,
   "id": "3c0aec2f",
   "metadata": {},
   "outputs": [],
   "source": [
    "'''\n",
    "Section F\n",
    "1. list the rules of naming in Python (i.e. what can and cannot be included in a valid Python name)\n",
    "'''\n",
    "\n"
   ]
  },
  {
   "cell_type": "code",
   "execution_count": null,
   "id": "8fdd7e7d-6d2a-4167-9b42-836c7a4426a1",
   "metadata": {},
   "outputs": [],
   "source": [
    "'''\n",
    "difficulty:\n",
    "\n",
    "time studying per week:\n",
    "\n",
    "''"
   ]
  }
 ],
 "metadata": {
  "kernelspec": {
   "display_name": "Python 3 (ipykernel)",
   "language": "python",
   "name": "python3"
  },
  "language_info": {
   "codemirror_mode": {
    "name": "ipython",
    "version": 3
   },
   "file_extension": ".py",
   "mimetype": "text/x-python",
   "name": "python",
   "nbconvert_exporter": "python",
   "pygments_lexer": "ipython3",
   "version": "3.10.2"
  }
 },
 "nbformat": 4,
 "nbformat_minor": 5
}
