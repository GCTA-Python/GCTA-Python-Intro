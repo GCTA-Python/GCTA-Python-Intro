{
 "cells": [
  {
   "cell_type": "markdown",
   "id": "18f043ca-83b9-4dc4-9dd0-1517034a7e33",
   "metadata": {},
   "source": [
    "Day 1 Quiz"
   ]
  },
  {
   "cell_type": "raw",
   "id": "dcc186f0-697d-4787-994b-eff5ff245197",
   "metadata": {},
   "source": [
    "1. When solving a computational problem, such as writing an algorithm, what should we solve for first?\n"
   ]
  },
  {
   "cell_type": "raw",
   "id": "27e9da88-3ba5-435e-92e1-0ef871ad562e",
   "metadata": {},
   "source": [
    "2. When should we perform optimization?\n"
   ]
  },
  {
   "cell_type": "raw",
   "id": "5e9108c2-2e6f-4433-92d9-23c92885b7a5",
   "metadata": {},
   "source": [
    "3. What is pseudocode?\n"
   ]
  },
  {
   "cell_type": "raw",
   "id": "73ed7972-ff77-4f5c-8c7b-e35c5952e391",
   "metadata": {},
   "source": [
    "4. What is an effective way to manage (or deal with) complexity?\n"
   ]
  },
  {
   "cell_type": "raw",
   "id": "94735e1d-f96f-47e0-a337-d7487c9d1559",
   "metadata": {},
   "source": [
    "5. Write a Python comment:\n"
   ]
  },
  {
   "cell_type": "raw",
   "id": "904d9ead-414f-4f61-baa2-2cd5f7ea2086",
   "metadata": {},
   "source": [
    "6. Why do we write comments in our code (multiple correct answers)?\n"
   ]
  },
  {
   "cell_type": "raw",
   "id": "9a728c85-a4fd-4bc7-9841-396945d69cd5",
   "metadata": {},
   "source": [
    "7. Is Python an interpreted or compiled language?\n"
   ]
  },
  {
   "cell_type": "raw",
   "id": "a2d40701-e620-4465-8c8e-ad543e8cf00f",
   "metadata": {},
   "source": [
    "8. Briefly explain the difference between interpretation and compilation:\n"
   ]
  },
  {
   "cell_type": "raw",
   "id": "4872f1bb-6adb-4d6c-ba21-7fde9d5b1cd8",
   "metadata": {},
   "source": [
    "9. What is a function (multiple answers will be considered correct here)?\n"
   ]
  },
  {
   "cell_type": "raw",
   "id": "2298f775-ab56-417d-9799-9f92f7379ee3",
   "metadata": {},
   "source": [
    "10. How do you \"call\" a function?\n"
   ]
  },
  {
   "cell_type": "raw",
   "id": "da7c6115-e0c7-4693-8873-9b935731c1c3",
   "metadata": {},
   "source": [
    "11. What are the two broad categories of functions we've covered?\n"
   ]
  },
  {
   "cell_type": "raw",
   "id": "ed324e03-9f48-4fee-b98d-f4ba482d3e05",
   "metadata": {},
   "source": [
    "12. How often do functions contain a return?\n"
   ]
  },
  {
   "cell_type": "raw",
   "id": "f7e4e917-31d0-45fa-859a-dfc4478ae7a8",
   "metadata": {},
   "source": [
    "13. Name one or more built-in functions we've covered:\n"
   ]
  },
  {
   "cell_type": "raw",
   "id": "caa265af-7961-4dee-b919-e209d50265c7",
   "metadata": {},
   "source": [
    "14. Provide a brief description of a Python keyword:\n"
   ]
  },
  {
   "cell_type": "raw",
   "id": "6e8d1a9b-57eb-46d3-9395-36e9b54e8db5",
   "metadata": {},
   "source": [
    "15. Name 2 or 3 (i.e. at least two) Python variable naming rules:\n"
   ]
  },
  {
   "cell_type": "raw",
   "id": "04c2638a-495b-4169-8084-75e3157d74ea",
   "metadata": {},
   "source": [
    "16. What is the name of the naming convention used by Python (not including classes)?\n"
   ]
  },
  {
   "cell_type": "raw",
   "id": "d69b5702-4720-4719-a2c5-0a7df31a16cf",
   "metadata": {},
   "source": [
    "Quiz difficulty:\n",
    "\n",
    "Time spent studying per week:\n",
    "\n"
   ]
  }
 ],
 "metadata": {
  "kernelspec": {
   "display_name": "Python 3 (ipykernel)",
   "language": "python",
   "name": "python3"
  },
  "language_info": {
   "codemirror_mode": {
    "name": "ipython",
    "version": 3
   },
   "file_extension": ".py",
   "mimetype": "text/x-python",
   "name": "python",
   "nbconvert_exporter": "python",
   "pygments_lexer": "ipython3",
   "version": "3.11.5"
  }
 },
 "nbformat": 4,
 "nbformat_minor": 5
}
