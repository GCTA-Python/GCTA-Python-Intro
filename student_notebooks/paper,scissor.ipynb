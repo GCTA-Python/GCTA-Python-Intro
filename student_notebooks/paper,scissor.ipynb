{
 "cells": [
  {
   "cell_type": "code",
   "execution_count": null,
   "id": "3b5d14a9",
   "metadata": {},
   "outputs": [],
   "source": []
  },
  {
   "cell_type": "code",
   "execution_count": null,
   "id": "621d22a4",
   "metadata": {},
   "outputs": [],
   "source": [
    "for ch in \"abc\":\n",
    "    print(chr(ord(ch) + 1), end='')"
   ]
  },
  {
   "cell_type": "code",
   "execution_count": 2,
   "id": "78035705",
   "metadata": {},
   "outputs": [
    {
     "name": "stdout",
     "output_type": "stream",
     "text": [
      "Enter your option:rock\n",
      "paper\n",
      "Enter your option:rock\n",
      "rock\n",
      "Enter your option:rock\n",
      "paper\n",
      "Enter your option:rock\n",
      "paper\n",
      "Enter your option:rock\n",
      "rock\n",
      "Enter your option:rock\n",
      "paper\n"
     ]
    }
   ],
   "source": [
    "# do until winner\n",
    "    # get user input\n",
    "    # get computer play\n",
    "    # compare\n",
    "    # record\n",
    "\n",
    "import random\n",
    "from random import choice\n",
    "\n",
    "games = 0\n",
    "score = 0\n",
    "winner = False\n",
    "# do until winner\n",
    "while not winner:\n",
    "    # get user input\n",
    "    user_input = input(\"Enter your option:\")\n",
    "    # get computer play\n",
    "    computer = random.choice(['paper','rock','scissors'])\n",
    "    print(computer)\n",
    "    \n",
    "    # compare win conditions\n",
    "\n",
    "    # when user has paper  and computer has rock\n",
    "    if user_input == 'paper'  and computer == \"rock\":\n",
    "        score += 1\n",
    "    # when user has scissors and computer has paper\n",
    "    elif user_input == 'scissors'   and computer == 'paper:':\n",
    "        score += 1\n",
    "    # when user has rock and computer has scissors\n",
    "    elif user_input == 'rock' and computer == 'scissors':\n",
    "        score += 1\n",
    "        \n",
    "    # record\n",
    "    games += 1\n",
    "    # winner check\n",
    "    # when score  >2 or games > 2\n",
    "    if score == 2 :\n",
    "        # or  games >= 2:\n",
    "        #winner = True\n",
    "        print('You win')\n",
    "        break\n",
    "    elif games == 6:\n",
    "        break\n",
    "    "
   ]
  },
  {
   "cell_type": "raw",
   "id": "6ff2a80f",
   "metadata": {},
   "source": []
  },
  {
   "cell_type": "code",
   "execution_count": 3,
   "id": "c1e70bc4",
   "metadata": {},
   "outputs": [
    {
     "name": "stdout",
     "output_type": "stream",
     "text": [
      "ABC123xyx"
     ]
    }
   ],
   "source": [
    "for ch in \"abc123XYX\":\n",
    "    if ch.isupper():\n",
    "        print(ch.lower(), end='')\n",
    "    elif ch.islower():\n",
    "        print(ch.upper(), end='')\n",
    "    else:\n",
    "        print(ch, end='')"
   ]
  },
  {
   "cell_type": "code",
   "execution_count": null,
   "id": "cd2b85f6",
   "metadata": {},
   "outputs": [],
   "source": []
  },
  {
   "cell_type": "code",
   "execution_count": null,
   "id": "db8a936d",
   "metadata": {},
   "outputs": [],
   "source": [
    "'''\n",
    "\n",
    "specifications:\n",
    "- each game consists of 3 rounds of each player choosing: rock, paper, or scissors\n",
    "example:\n",
    "    rock v paper - p2 scores 1 point\n",
    "    scissors v scissors - tie\n",
    "    scissors v rock - p2 scores 1 point\n",
    "    p2 (computer) wins with 2 points to 0 points (human)\n",
    "x games must request user input\n",
    "x the user is competing against the computer\n",
    "x user input must specify the user's choice for each round\n",
    "bonus:\n",
    "    after each game the application should ask the user if they want to exit or continue\n",
    "    user input must specify the number of games to play\n",
    "    implement multi-game play\n",
    "tutorial https://realpython.com/python-rock-paper-scissors/\n",
    "it is import to try to first do something yourself, and if you get stuck for a few minutes of no progress whatsoever,* or feel completely lost, reference external material, but only to the extent that you know the next step to take\n",
    "*this depends on the context. in some contexts you should seek help after only a few minutes, in others, help may be inaccessible, and you may need to try to work through a problem for hours, days, even weeks or months.\n",
    "\n",
    "'''"
   ]
  },
  {
   "cell_type": "code",
   "execution_count": null,
   "id": "f771ed00",
   "metadata": {},
   "outputs": [],
   "source": []
  }
 ],
 "metadata": {
  "kernelspec": {
   "display_name": "Python 3 (ipykernel)",
   "language": "python",
   "name": "python3"
  },
  "language_info": {
   "codemirror_mode": {
    "name": "ipython",
    "version": 3
   },
   "file_extension": ".py",
   "mimetype": "text/x-python",
   "name": "python",
   "nbconvert_exporter": "python",
   "pygments_lexer": "ipython3",
   "version": "3.10.2"
  }
 },
 "nbformat": 4,
 "nbformat_minor": 5
}
