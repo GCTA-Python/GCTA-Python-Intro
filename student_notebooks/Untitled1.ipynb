{
 "cells": [
  {
   "cell_type": "code",
   "execution_count": 1,
   "id": "bf451362",
   "metadata": {},
   "outputs": [
    {
     "name": "stdout",
     "output_type": "stream",
     "text": [
      "4\n"
     ]
    }
   ],
   "source": [
    "print(4)"
   ]
  },
  {
   "cell_type": "code",
   "execution_count": 6,
   "id": "0a4f28c6",
   "metadata": {},
   "outputs": [
    {
     "name": "stdout",
     "output_type": "stream",
     "text": [
      "error\n"
     ]
    }
   ],
   "source": [
    "# add try and except\n",
    "nums = [5,6,'4',8,'2']\n",
    "plus_four = []\n",
    "\n",
    "try:\n",
    "    for num in nums:   \n",
    "        plus_four.append(num+4)\n",
    "        \n",
    "except:\n",
    "    print(\"error\")"
   ]
  },
  {
   "cell_type": "code",
   "execution_count": 10,
   "id": "c9bd3360",
   "metadata": {},
   "outputs": [
    {
     "name": "stdout",
     "output_type": "stream",
     "text": [
      "24\n"
     ]
    }
   ],
   "source": [
    "# 1 if n == 0 or n == 1;\n",
    "\n",
    "# f(n) = n * f(n-1) if n > 1;\n",
    "\n",
    "\n",
    "def fn(n):\n",
    "    if n == 0 or n == 1:\n",
    "        return 1\n",
    "    \n",
    "    if n > 1:\n",
    "        return n *  fn(n-1)\n",
    "    \n",
    "print(fn(4))\n",
    "\n",
    "\n",
    "\n",
    "\n",
    "\n",
    "\n",
    "\n",
    "\n",
    "\n",
    "\n",
    "\n",
    "\n",
    "\n",
    "\n",
    "\n",
    "\n"
   ]
  },
  {
   "cell_type": "code",
   "execution_count": 11,
   "id": "185aa4bb",
   "metadata": {},
   "outputs": [
    {
     "name": "stdout",
     "output_type": "stream",
     "text": [
      "9\n"
     ]
    }
   ],
   "source": [
    "def fun(inp = 2, out=3):\n",
    "    return inp * out\n",
    "print(fun(3))"
   ]
  },
  {
   "cell_type": "code",
   "execution_count": 12,
   "id": "c210119b",
   "metadata": {},
   "outputs": [
    {
     "name": "stdout",
     "output_type": "stream",
     "text": [
      "4\n"
     ]
    }
   ],
   "source": [
    "def fun(x):\n",
    "    global y\n",
    "    y = x* x\n",
    "    return y\n",
    "\n",
    "fun(2)\n",
    "print(y)"
   ]
  },
  {
   "cell_type": "code",
   "execution_count": 14,
   "id": "485a8960",
   "metadata": {},
   "outputs": [
    {
     "ename": "SyntaxError",
     "evalue": "invalid syntax (2923582309.py, line 2)",
     "output_type": "error",
     "traceback": [
      "\u001b[1;36m  Cell \u001b[1;32mIn[14], line 2\u001b[1;36m\u001b[0m\n\u001b[1;33m    x === 3\u001b[0m\n\u001b[1;37m        ^\u001b[0m\n\u001b[1;31mSyntaxError\u001b[0m\u001b[1;31m:\u001b[0m invalid syntax\n"
     ]
    }
   ],
   "source": [
    "try:\n",
    "    x === 3\n",
    "    \n",
    "except:\n",
    "    print(x)"
   ]
  },
  {
   "cell_type": "code",
   "execution_count": 15,
   "id": "b4e60005",
   "metadata": {},
   "outputs": [
    {
     "ename": "TypeError",
     "evalue": "unsupported operand type(s) for +: 'NoneType' and 'int'",
     "output_type": "error",
     "traceback": [
      "\u001b[1;31m---------------------------------------------------------------------------\u001b[0m",
      "\u001b[1;31mTypeError\u001b[0m                                 Traceback (most recent call last)",
      "Cell \u001b[1;32mIn[15], line 1\u001b[0m\n\u001b[1;32m----> 1\u001b[0m \u001b[38;5;28mprint\u001b[39m(\u001b[38;5;28;43;01mNone\u001b[39;49;00m\u001b[43m \u001b[49m\u001b[38;5;241;43m+\u001b[39;49m\u001b[38;5;241;43m1\u001b[39;49m)\n",
      "\u001b[1;31mTypeError\u001b[0m: unsupported operand type(s) for +: 'NoneType' and 'int'"
     ]
    }
   ],
   "source": [
    "print(None +1)"
   ]
  },
  {
   "cell_type": "code",
   "execution_count": 27,
   "id": "4df8ef9b",
   "metadata": {},
   "outputs": [
    {
     "name": "stdout",
     "output_type": "stream",
     "text": [
      "6\n"
     ]
    }
   ],
   "source": [
    "print(int(6.8))"
   ]
  },
  {
   "cell_type": "code",
   "execution_count": 25,
   "id": "d23302a8",
   "metadata": {
    "scrolled": true
   },
   "outputs": [
    {
     "name": "stdout",
     "output_type": "stream",
     "text": [
      "apple\n",
      "pear\n"
     ]
    }
   ],
   "source": [
    "ml = {'apple':10, 'pear':20}\n",
    "#print(ml[1:] ==ml[1:len(ml)-1])\n",
    "#print(ml[1:len(ml)])\n",
    "for i in ml:\n",
    "    print(i)"
   ]
  },
  {
   "cell_type": "code",
   "execution_count": 30,
   "id": "020d7d64",
   "metadata": {},
   "outputs": [
    {
     "name": "stdout",
     "output_type": "stream",
     "text": [
      "[1, 2, 8, 6]\n"
     ]
    }
   ],
   "source": [
    "x = [1,2,4,5,6]\n",
    "del x [2]\n",
    "x [2] = 8\n",
    "print(x)"
   ]
  },
  {
   "cell_type": "code",
   "execution_count": 7,
   "id": "b7802e42",
   "metadata": {},
   "outputs": [
    {
     "name": "stdout",
     "output_type": "stream",
     "text": [
      "[1, 2, 4, 8]\n"
     ]
    }
   ],
   "source": [
    "x = [1,2,4,5,6]\n",
    "\n",
    "def fun(x):\n",
    "    del x[3]\n",
    "    x[3] = 8\n",
    "    \n",
    "print(fun(x))"
   ]
  },
  {
   "cell_type": "code",
   "execution_count": 5,
   "id": "6623ef2a",
   "metadata": {},
   "outputs": [
    {
     "data": {
      "text/plain": [
       "int"
      ]
     },
     "execution_count": 5,
     "metadata": {},
     "output_type": "execute_result"
    }
   ],
   "source": [
    "def fn():\n",
    "    # a lot of code up here\n",
    "    return 'foo'\n",
    "\n",
    "type(fn())"
   ]
  },
  {
   "cell_type": "code",
   "execution_count": null,
   "id": "40a62b5e",
   "metadata": {},
   "outputs": [],
   "source": []
  },
  {
   "cell_type": "code",
   "execution_count": 21,
   "id": "9da7e7db",
   "metadata": {},
   "outputs": [
    {
     "name": "stdout",
     "output_type": "stream",
     "text": [
      "2\n"
     ]
    }
   ],
   "source": [
    "a = 7\n",
    "def setA(value):\n",
    "    global a   # declare a to be a global\n",
    "    a = value  # this sets the global value of a\n",
    "\n",
    "setA(2)\n",
    "print(a)"
   ]
  },
  {
   "cell_type": "code",
   "execution_count": null,
   "id": "2a7d00e1",
   "metadata": {},
   "outputs": [],
   "source": []
  },
  {
   "cell_type": "code",
   "execution_count": 11,
   "id": "38b1b120",
   "metadata": {},
   "outputs": [
    {
     "name": "stdout",
     "output_type": "stream",
     "text": [
      "[1]\n"
     ]
    }
   ],
   "source": [
    "def fun(x):\n",
    "    x = [2]\n",
    "    \n",
    "my_list = [1]\n",
    "fun(my_list)\n",
    "print(my_list)"
   ]
  },
  {
   "cell_type": "code",
   "execution_count": 24,
   "id": "219cba19",
   "metadata": {},
   "outputs": [
    {
     "name": "stdout",
     "output_type": "stream",
     "text": [
      "None\n"
     ]
    }
   ],
   "source": [
    "my_list = [1]\n",
    "\n",
    "def fun(x):\n",
    "    global my_list\n",
    "    x = [3]\n",
    "    my_list = x\n",
    "    \n",
    "# fun(my_list)\n",
    "# print(my_list)\n",
    "print(fun(my_list))"
   ]
  },
  {
   "cell_type": "code",
   "execution_count": 25,
   "id": "8d7584dd",
   "metadata": {},
   "outputs": [
    {
     "name": "stdout",
     "output_type": "stream",
     "text": [
      "[1]\n"
     ]
    }
   ],
   "source": [
    "def fun(x):\n",
    "    x = 2        # this is creating a temp varible, NOT affecting my_list\n",
    "                    # you cannot reassign a global\n",
    "    \n",
    "    x[0] = 2     # this is accessing the data directly, and modifying it\n",
    "    x.append(2)  # this will also access the data, and modify it\n",
    "    \n",
    "my_list = [1]\n",
    "fun(my_list)\n",
    "print(my_list)"
   ]
  },
  {
   "cell_type": "code",
   "execution_count": null,
   "id": "07d7a3a2",
   "metadata": {},
   "outputs": [],
   "source": [
    "# when we have a function that is assigning data to a variable\n",
    "# we are creating a new variable, even if that variable is from outer scope\n",
    "\n",
    "# however, we can modify a outer-scope variable within a function, using, for example\n",
    "# a method of that data, indexing, etc. BUT not reassignment"
   ]
  },
  {
   "cell_type": "code",
   "execution_count": null,
   "id": "a2d6697c",
   "metadata": {},
   "outputs": [],
   "source": []
  },
  {
   "cell_type": "code",
   "execution_count": null,
   "id": "cb8551b0",
   "metadata": {},
   "outputs": [],
   "source": [
    "# scope\n",
    "\n",
    "# classes\n",
    "\n",
    "# in python scope is:\n",
    "# module, class, function\n",
    "\n",
    "\n",
    "# scope is limited to a function\n",
    "\n",
    "x = 1\n",
    "\n",
    "def fn():\n",
    "    y = x + 1\n",
    "    return y\n",
    "\n",
    "print(y)"
   ]
  },
  {
   "cell_type": "code",
   "execution_count": null,
   "id": "1b34395a",
   "metadata": {},
   "outputs": [],
   "source": []
  },
  {
   "cell_type": "code",
   "execution_count": null,
   "id": "6e1dee43",
   "metadata": {},
   "outputs": [],
   "source": []
  },
  {
   "cell_type": "code",
   "execution_count": 29,
   "id": "153b7e95",
   "metadata": {},
   "outputs": [
    {
     "name": "stdout",
     "output_type": "stream",
     "text": [
      "44\n"
     ]
    },
    {
     "data": {
      "text/plain": [
       "66"
      ]
     },
     "execution_count": 29,
     "metadata": {},
     "output_type": "execute_result"
    }
   ],
   "source": [
    "class MyClass:\n",
    "    def __init__(self):\n",
    "        pass\n",
    "    \n",
    "    def my_method(self, a):\n",
    "        print(a)\n",
    "        return 66\n",
    "\n",
    "my_class = MyClass()\n",
    "my_class.my_method(44)"
   ]
  },
  {
   "cell_type": "code",
   "execution_count": null,
   "id": "63668efa",
   "metadata": {},
   "outputs": [],
   "source": [
    "# methods are class function"
   ]
  },
  {
   "cell_type": "code",
   "execution_count": 32,
   "id": "8c69bd89",
   "metadata": {},
   "outputs": [
    {
     "name": "stdout",
     "output_type": "stream",
     "text": [
      "<class 'list'>\n",
      "[1, 2, 3, 6]\n"
     ]
    }
   ],
   "source": [
    "my_list = [1, 2, 3]\n",
    "print(type(my_list))\n",
    "my_list.append(6)\n",
    "print(my_list)"
   ]
  },
  {
   "cell_type": "code",
   "execution_count": 52,
   "id": "fe1f9d4c",
   "metadata": {},
   "outputs": [
    {
     "name": "stdout",
     "output_type": "stream",
     "text": [
      "[]\n",
      "[1, 2, 7]\n",
      "['foo']\n",
      "4\n"
     ]
    }
   ],
   "source": [
    "# modules\n",
    "\n",
    "foo = 'foo'\n",
    "\n",
    "class CustomList:\n",
    "    # class variables\n",
    "    z = 99\n",
    "    \n",
    "    def __init__(self, my_list = []):\n",
    "        # instance variables\n",
    "        self.my_list = my_list\n",
    "    \n",
    "    def my_append(self, val):\n",
    "        # function variables\n",
    "        self.my_list = self.my_list + [val]\n",
    "        \n",
    "    def make_foo(self):\n",
    "        global y\n",
    "        y = 4\n",
    "        self.my_list = [foo]\n",
    "        \n",
    "    def __repr__(self):\n",
    "        return str(self.my_list)\n",
    "    \n",
    "my_list = CustomList()\n",
    "print(my_list)\n",
    "my_list.my_append(1)\n",
    "my_list.my_append(2)\n",
    "my_list.my_append(7)  # [].append()\n",
    "print(my_list)\n",
    "my_list.make_foo()\n",
    "print(my_list)\n",
    "\n",
    "print(y)\n",
    "# print(z)"
   ]
  },
  {
   "cell_type": "code",
   "execution_count": null,
   "id": "5ac060dc",
   "metadata": {},
   "outputs": [],
   "source": []
  },
  {
   "cell_type": "code",
   "execution_count": 56,
   "id": "f5df9f05",
   "metadata": {},
   "outputs": [
    {
     "name": "stdout",
     "output_type": "stream",
     "text": [
      "7\n"
     ]
    }
   ],
   "source": [
    "def fn_1(a, b, c):\n",
    "    return fn_2(a) + 3\n",
    "\n",
    "def fn_2(b, c = 3):\n",
    "    return b + c\n",
    "\n",
    "print(fn_1(1, 2, 3))  # -> 7"
   ]
  },
  {
   "cell_type": "code",
   "execution_count": null,
   "id": "78d60ec2",
   "metadata": {},
   "outputs": [],
   "source": [
    "# recursion"
   ]
  },
  {
   "cell_type": "code",
   "execution_count": 57,
   "id": "8e19647b",
   "metadata": {},
   "outputs": [
    {
     "data": {
      "text/plain": [
       "24"
      ]
     },
     "execution_count": 57,
     "metadata": {},
     "output_type": "execute_result"
    }
   ],
   "source": [
    "def double_two_ints(num1: int, num2: int) -> list[str]:\n",
    "    return ['foo', 'foo']\n",
    "\n",
    "double_two_ints(4, 8)"
   ]
  },
  {
   "cell_type": "code",
   "execution_count": null,
   "id": "f7d4ee75",
   "metadata": {},
   "outputs": [],
   "source": []
  },
  {
   "cell_type": "code",
   "execution_count": null,
   "id": "71e58ef5",
   "metadata": {},
   "outputs": [],
   "source": []
  }
 ],
 "metadata": {
  "kernelspec": {
   "display_name": "Python 3 (ipykernel)",
   "language": "python",
   "name": "python3"
  },
  "language_info": {
   "codemirror_mode": {
    "name": "ipython",
    "version": 3
   },
   "file_extension": ".py",
   "mimetype": "text/x-python",
   "name": "python",
   "nbconvert_exporter": "python",
   "pygments_lexer": "ipython3",
   "version": "3.10.2"
  }
 },
 "nbformat": 4,
 "nbformat_minor": 5
}
